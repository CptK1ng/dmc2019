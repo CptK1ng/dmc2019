{
  "nbformat": 4,
  "nbformat_minor": 0,
  "metadata": {
    "colab": {
      "name": "LightGBM.ipynb",
      "version": "0.3.2",
      "provenance": [],
      "collapsed_sections": [],
      "include_colab_link": true
    },
    "kernelspec": {
      "name": "python3",
      "display_name": "Python 3"
    },
    "accelerator": "GPU"
  },
  "cells": [
    {
      "cell_type": "markdown",
      "metadata": {
        "id": "view-in-github",
        "colab_type": "text"
      },
      "source": [
        "<a href=\"https://colab.research.google.com/github/CptK1ng/dmc2019/blob/alexander_dev/LightGBM.ipynb\" target=\"_parent\"><img src=\"https://colab.research.google.com/assets/colab-badge.svg\" alt=\"Open In Colab\"/></a>"
      ]
    },
    {
      "cell_type": "markdown",
      "metadata": {
        "id": "XM2wPFvS_kZL",
        "colab_type": "text"
      },
      "source": [
        "# LightGBM\n",
        "\n",
        "In this notebook i will test the LightGBM classificator on our data.\n",
        "\n",
        "## Installation:\n",
        "\n",
        "\n",
        "1.   `pip install setuptools wheel numpy scipy scikit-learn -U`\n",
        "\n",
        "2.   One of the following\n",
        "\n",
        "  a. `pip install lightgbm`\n",
        "  \n",
        "  b.  `pip install lightgbm --install-option=--gpu`\n",
        "\n",
        "\n",
        "More details [here](https://github.com/Microsoft/LightGBM/tree/master/python-package)"
      ]
    },
    {
      "cell_type": "code",
      "metadata": {
        "id": "ncYAHYMX_eVe",
        "colab_type": "code",
        "colab": {}
      },
      "source": [
        "import numpy as np\n",
        "import pandas as pd\n",
        "import lightgbm as lgb\n",
        "from sklearn import metrics"
      ],
      "execution_count": 0,
      "outputs": []
    },
    {
      "cell_type": "markdown",
      "metadata": {
        "id": "IROwAsVRBAKB",
        "colab_type": "text"
      },
      "source": [
        "## Data Import & Preprocessing\n",
        "Download our custom Dataset splits and the unlabeled Test Set:"
      ]
    },
    {
      "cell_type": "code",
      "metadata": {
        "id": "dP3VNoATBAPr",
        "colab_type": "code",
        "colab": {}
      },
      "source": [
        "!wget -nc -q --show-progress https://www.dropbox.com/s/6m8iq9ogpzmu7vx/train_new.csv?dl=1 -O train_new.csv\n",
        "!wget -nc -q --show-progress https://www.dropbox.com/s/tjpkc45oqn3uv8s/val_new.csv?dl=1 -O val_new.csv"
      ],
      "execution_count": 0,
      "outputs": []
    },
    {
      "cell_type": "markdown",
      "metadata": {
        "id": "Se3jClaABXXu",
        "colab_type": "text"
      },
      "source": [
        "Import data:"
      ]
    },
    {
      "cell_type": "code",
      "metadata": {
        "id": "L-Xj2lR1BXeV",
        "colab_type": "code",
        "colab": {
          "base_uri": "https://localhost:8080/",
          "height": 110
        },
        "outputId": "1964c411-d9a7-4229-942e-2ac82016821e"
      },
      "source": [
        "\n",
        "df_train_original = pd.read_csv(\"train_new.csv\", sep=\"|\")\n",
        "df_val_original = pd.read_csv(\"val_new.csv\", sep=\"|\")\n",
        "df_train_original.head(2)"
      ],
      "execution_count": 17,
      "outputs": [
        {
          "output_type": "execute_result",
          "data": {
            "text/html": [
              "<div>\n",
              "<style scoped>\n",
              "    .dataframe tbody tr th:only-of-type {\n",
              "        vertical-align: middle;\n",
              "    }\n",
              "\n",
              "    .dataframe tbody tr th {\n",
              "        vertical-align: top;\n",
              "    }\n",
              "\n",
              "    .dataframe thead th {\n",
              "        text-align: right;\n",
              "    }\n",
              "</style>\n",
              "<table border=\"1\" class=\"dataframe\">\n",
              "  <thead>\n",
              "    <tr style=\"text-align: right;\">\n",
              "      <th></th>\n",
              "      <th>trustLevel</th>\n",
              "      <th>totalScanTimeInSeconds</th>\n",
              "      <th>grandTotal</th>\n",
              "      <th>lineItemVoids</th>\n",
              "      <th>scansWithoutRegistration</th>\n",
              "      <th>quantityModifications</th>\n",
              "      <th>scannedLineItemsPerSecond</th>\n",
              "      <th>valuePerSecond</th>\n",
              "      <th>lineItemVoidsPerPosition</th>\n",
              "      <th>fraud</th>\n",
              "    </tr>\n",
              "  </thead>\n",
              "  <tbody>\n",
              "    <tr>\n",
              "      <th>0</th>\n",
              "      <td>4</td>\n",
              "      <td>828</td>\n",
              "      <td>66.56</td>\n",
              "      <td>7</td>\n",
              "      <td>4</td>\n",
              "      <td>3</td>\n",
              "      <td>0.007246</td>\n",
              "      <td>0.080386</td>\n",
              "      <td>1.166667</td>\n",
              "      <td>0</td>\n",
              "    </tr>\n",
              "    <tr>\n",
              "      <th>1</th>\n",
              "      <td>1</td>\n",
              "      <td>1612</td>\n",
              "      <td>31.34</td>\n",
              "      <td>2</td>\n",
              "      <td>4</td>\n",
              "      <td>3</td>\n",
              "      <td>0.008685</td>\n",
              "      <td>0.019442</td>\n",
              "      <td>0.142857</td>\n",
              "      <td>0</td>\n",
              "    </tr>\n",
              "  </tbody>\n",
              "</table>\n",
              "</div>"
            ],
            "text/plain": [
              "   trustLevel  totalScanTimeInSeconds  grandTotal  lineItemVoids  \\\n",
              "0           4                     828       66.56              7   \n",
              "1           1                    1612       31.34              2   \n",
              "\n",
              "   scansWithoutRegistration  quantityModifications  scannedLineItemsPerSecond  \\\n",
              "0                         4                      3                   0.007246   \n",
              "1                         4                      3                   0.008685   \n",
              "\n",
              "   valuePerSecond  lineItemVoidsPerPosition  fraud  \n",
              "0        0.080386                  1.166667      0  \n",
              "1        0.019442                  0.142857      0  "
            ]
          },
          "metadata": {
            "tags": []
          },
          "execution_count": 17
        }
      ]
    },
    {
      "cell_type": "markdown",
      "metadata": {
        "id": "ibTa2NwwBdGo",
        "colab_type": "text"
      },
      "source": [
        "Feature Engineering:"
      ]
    },
    {
      "cell_type": "code",
      "metadata": {
        "id": "QmL4TlW3Bkwt",
        "colab_type": "code",
        "colab": {
          "base_uri": "https://localhost:8080/",
          "height": 203
        },
        "outputId": "3d2ba6d2-13fa-4f25-c0fb-ceba75c65236"
      },
      "source": [
        "def prepareData(df):\n",
        "  df = df.copy()\n",
        "  df['totalLineItems'] = (df['scannedLineItemsPerSecond'] * df['totalScanTimeInSeconds']).astype(np.int) # number of scanned products\n",
        "  df['trustLevel'] = df.trustLevel.astype('category') # needed for automatic detection of categorical features later\n",
        "  df['fraud'] = df.fraud.astype('category') # needed for automatic detection of categorical features later\n",
        "\n",
        "  return df\n",
        "\n",
        "df_train = prepareData(df_train_original)\n",
        "df_val = prepareData(df_val_original)\n",
        "\n",
        "df_train.head()"
      ],
      "execution_count": 18,
      "outputs": [
        {
          "output_type": "execute_result",
          "data": {
            "text/html": [
              "<div>\n",
              "<style scoped>\n",
              "    .dataframe tbody tr th:only-of-type {\n",
              "        vertical-align: middle;\n",
              "    }\n",
              "\n",
              "    .dataframe tbody tr th {\n",
              "        vertical-align: top;\n",
              "    }\n",
              "\n",
              "    .dataframe thead th {\n",
              "        text-align: right;\n",
              "    }\n",
              "</style>\n",
              "<table border=\"1\" class=\"dataframe\">\n",
              "  <thead>\n",
              "    <tr style=\"text-align: right;\">\n",
              "      <th></th>\n",
              "      <th>trustLevel</th>\n",
              "      <th>totalScanTimeInSeconds</th>\n",
              "      <th>grandTotal</th>\n",
              "      <th>lineItemVoids</th>\n",
              "      <th>scansWithoutRegistration</th>\n",
              "      <th>quantityModifications</th>\n",
              "      <th>scannedLineItemsPerSecond</th>\n",
              "      <th>valuePerSecond</th>\n",
              "      <th>lineItemVoidsPerPosition</th>\n",
              "      <th>fraud</th>\n",
              "      <th>totalLineItems</th>\n",
              "    </tr>\n",
              "  </thead>\n",
              "  <tbody>\n",
              "    <tr>\n",
              "      <th>0</th>\n",
              "      <td>4</td>\n",
              "      <td>828</td>\n",
              "      <td>66.56</td>\n",
              "      <td>7</td>\n",
              "      <td>4</td>\n",
              "      <td>3</td>\n",
              "      <td>0.007246</td>\n",
              "      <td>0.080386</td>\n",
              "      <td>1.166667</td>\n",
              "      <td>0</td>\n",
              "      <td>5</td>\n",
              "    </tr>\n",
              "    <tr>\n",
              "      <th>1</th>\n",
              "      <td>1</td>\n",
              "      <td>1612</td>\n",
              "      <td>31.34</td>\n",
              "      <td>2</td>\n",
              "      <td>4</td>\n",
              "      <td>3</td>\n",
              "      <td>0.008685</td>\n",
              "      <td>0.019442</td>\n",
              "      <td>0.142857</td>\n",
              "      <td>0</td>\n",
              "      <td>13</td>\n",
              "    </tr>\n",
              "    <tr>\n",
              "      <th>2</th>\n",
              "      <td>3</td>\n",
              "      <td>848</td>\n",
              "      <td>52.37</td>\n",
              "      <td>2</td>\n",
              "      <td>4</td>\n",
              "      <td>0</td>\n",
              "      <td>0.022406</td>\n",
              "      <td>0.061757</td>\n",
              "      <td>0.105263</td>\n",
              "      <td>0</td>\n",
              "      <td>19</td>\n",
              "    </tr>\n",
              "    <tr>\n",
              "      <th>3</th>\n",
              "      <td>1</td>\n",
              "      <td>321</td>\n",
              "      <td>76.03</td>\n",
              "      <td>8</td>\n",
              "      <td>7</td>\n",
              "      <td>2</td>\n",
              "      <td>0.071651</td>\n",
              "      <td>0.236854</td>\n",
              "      <td>0.347826</td>\n",
              "      <td>0</td>\n",
              "      <td>22</td>\n",
              "    </tr>\n",
              "    <tr>\n",
              "      <th>4</th>\n",
              "      <td>1</td>\n",
              "      <td>660</td>\n",
              "      <td>6.06</td>\n",
              "      <td>3</td>\n",
              "      <td>7</td>\n",
              "      <td>1</td>\n",
              "      <td>0.027273</td>\n",
              "      <td>0.009182</td>\n",
              "      <td>0.166667</td>\n",
              "      <td>0</td>\n",
              "      <td>18</td>\n",
              "    </tr>\n",
              "  </tbody>\n",
              "</table>\n",
              "</div>"
            ],
            "text/plain": [
              "  trustLevel  totalScanTimeInSeconds  grandTotal  lineItemVoids  \\\n",
              "0          4                     828       66.56              7   \n",
              "1          1                    1612       31.34              2   \n",
              "2          3                     848       52.37              2   \n",
              "3          1                     321       76.03              8   \n",
              "4          1                     660        6.06              3   \n",
              "\n",
              "   scansWithoutRegistration  quantityModifications  scannedLineItemsPerSecond  \\\n",
              "0                         4                      3                   0.007246   \n",
              "1                         4                      3                   0.008685   \n",
              "2                         4                      0                   0.022406   \n",
              "3                         7                      2                   0.071651   \n",
              "4                         7                      1                   0.027273   \n",
              "\n",
              "   valuePerSecond  lineItemVoidsPerPosition fraud  totalLineItems  \n",
              "0        0.080386                  1.166667     0               5  \n",
              "1        0.019442                  0.142857     0              13  \n",
              "2        0.061757                  0.105263     0              19  \n",
              "3        0.236854                  0.347826     0              22  \n",
              "4        0.009182                  0.166667     0              18  "
            ]
          },
          "metadata": {
            "tags": []
          },
          "execution_count": 18
        }
      ]
    },
    {
      "cell_type": "markdown",
      "metadata": {
        "id": "wwyoAgglB4uU",
        "colab_type": "text"
      },
      "source": [
        "## Using LightGBM\n",
        "[Documentation](https://lightgbm.readthedocs.io/en/latest/Python-Intro.html)\n",
        "\n",
        "\n",
        "### Read Data\n",
        "[Data Structure API](https://lightgbm.readthedocs.io/en/latest/Python-API.html#data-structure-api)\n"
      ]
    },
    {
      "cell_type": "code",
      "metadata": {
        "id": "67LiqvcrB9Vp",
        "colab_type": "code",
        "colab": {
          "base_uri": "https://localhost:8080/",
          "height": 34
        },
        "outputId": "c1a9b2e6-22c3-458a-8402-f5cc6cbf6aca"
      },
      "source": [
        "train_data = lgb.Dataset(df_train.drop('fraud', axis=1), label=df_train['fraud'], )\n",
        "validation_data = train_data.create_valid(df_val.drop('fraud', axis=1), label=df_val['fraud'])\n",
        "train_data.save_binary('lgb_train_data.bin')"
      ],
      "execution_count": 19,
      "outputs": [
        {
          "output_type": "execute_result",
          "data": {
            "text/plain": [
              "<lightgbm.basic.Dataset at 0x7f5c2fc22748>"
            ]
          },
          "metadata": {
            "tags": []
          },
          "execution_count": 19
        }
      ]
    },
    {
      "cell_type": "markdown",
      "metadata": {
        "id": "43YIgKFqHawG",
        "colab_type": "text"
      },
      "source": [
        "### Train\n",
        "[Parameters](https://lightgbm.readthedocs.io/en/latest/Parameters.html), e.g. [metric](https://lightgbm.readthedocs.io/en/latest/Parameters.html#metric) "
      ]
    },
    {
      "cell_type": "code",
      "metadata": {
        "id": "qOKiLWE-HbF0",
        "colab_type": "code",
        "colab": {
          "base_uri": "https://localhost:8080/",
          "height": 1406
        },
        "outputId": "5f7ffd6c-3dea-4e23-b478-411569e5c8cb"
      },
      "source": [
        "lgb_params = {\n",
        "    'objective': 'binary', #goal of train is binary classification\n",
        "#    'device_type': 'gpu', #uncomment to enable gpu version (if using gpu import/build gpu version of lgb)\n",
        "    'metric': '' #=use default, we get pred_proba so we can use custom threshold.\n",
        "}\n",
        "\n",
        "#train 10 rounds with early stopping enabled\n",
        "num_round = 1000\n",
        "bst = lgb.train(lgb_params, train_data, num_round, valid_sets=[validation_data], early_stopping_rounds=20)\n",
        "\n",
        "# Alternative: Training with 5-fold CV: bst = lgb.cv(lgb_params, train_data, num_round, nfold=5)\n",
        "\n",
        "bst.save_model('lgb_model.txt', num_iteration=bst.best_iteration) #later bst = lgb.Booster(model_file='lgb_model.txt')  #init model"
      ],
      "execution_count": 32,
      "outputs": [
        {
          "output_type": "stream",
          "text": [
            "[1]\tvalid_0's binary_logloss: 0.174881\n",
            "Training until validation scores don't improve for 20 rounds.\n",
            "[2]\tvalid_0's binary_logloss: 0.15116\n",
            "[3]\tvalid_0's binary_logloss: 0.13541\n",
            "[4]\tvalid_0's binary_logloss: 0.124077\n",
            "[5]\tvalid_0's binary_logloss: 0.115448\n",
            "[6]\tvalid_0's binary_logloss: 0.108517\n",
            "[7]\tvalid_0's binary_logloss: 0.103347\n",
            "[8]\tvalid_0's binary_logloss: 0.099095\n",
            "[9]\tvalid_0's binary_logloss: 0.0953967\n",
            "[10]\tvalid_0's binary_logloss: 0.0918439\n",
            "[11]\tvalid_0's binary_logloss: 0.0893213\n",
            "[12]\tvalid_0's binary_logloss: 0.0866027\n",
            "[13]\tvalid_0's binary_logloss: 0.0827592\n",
            "[14]\tvalid_0's binary_logloss: 0.0802988\n",
            "[15]\tvalid_0's binary_logloss: 0.0782259\n",
            "[16]\tvalid_0's binary_logloss: 0.0757554\n",
            "[17]\tvalid_0's binary_logloss: 0.0743443\n",
            "[18]\tvalid_0's binary_logloss: 0.0715176\n",
            "[19]\tvalid_0's binary_logloss: 0.0695524\n",
            "[20]\tvalid_0's binary_logloss: 0.0674357\n",
            "[21]\tvalid_0's binary_logloss: 0.0653719\n",
            "[22]\tvalid_0's binary_logloss: 0.0638559\n",
            "[23]\tvalid_0's binary_logloss: 0.0619014\n",
            "[24]\tvalid_0's binary_logloss: 0.0605877\n",
            "[25]\tvalid_0's binary_logloss: 0.0581496\n",
            "[26]\tvalid_0's binary_logloss: 0.0566769\n",
            "[27]\tvalid_0's binary_logloss: 0.0550426\n",
            "[28]\tvalid_0's binary_logloss: 0.0539354\n",
            "[29]\tvalid_0's binary_logloss: 0.0520506\n",
            "[30]\tvalid_0's binary_logloss: 0.0523979\n",
            "[31]\tvalid_0's binary_logloss: 0.0509485\n",
            "[32]\tvalid_0's binary_logloss: 0.0503855\n",
            "[33]\tvalid_0's binary_logloss: 0.0500986\n",
            "[34]\tvalid_0's binary_logloss: 0.049188\n",
            "[35]\tvalid_0's binary_logloss: 0.0479276\n",
            "[36]\tvalid_0's binary_logloss: 0.047889\n",
            "[37]\tvalid_0's binary_logloss: 0.0486086\n",
            "[38]\tvalid_0's binary_logloss: 0.0492498\n",
            "[39]\tvalid_0's binary_logloss: 0.0491755\n",
            "[40]\tvalid_0's binary_logloss: 0.049255\n",
            "[41]\tvalid_0's binary_logloss: 0.0494812\n",
            "[42]\tvalid_0's binary_logloss: 0.0496614\n",
            "[43]\tvalid_0's binary_logloss: 0.0491755\n",
            "[44]\tvalid_0's binary_logloss: 0.0485186\n",
            "[45]\tvalid_0's binary_logloss: 0.0481481\n",
            "[46]\tvalid_0's binary_logloss: 0.04725\n",
            "[47]\tvalid_0's binary_logloss: 0.0474072\n",
            "[48]\tvalid_0's binary_logloss: 0.0485966\n",
            "[49]\tvalid_0's binary_logloss: 0.048071\n",
            "[50]\tvalid_0's binary_logloss: 0.0490644\n",
            "[51]\tvalid_0's binary_logloss: 0.048347\n",
            "[52]\tvalid_0's binary_logloss: 0.0478485\n",
            "[53]\tvalid_0's binary_logloss: 0.0471983\n",
            "[54]\tvalid_0's binary_logloss: 0.0471917\n",
            "[55]\tvalid_0's binary_logloss: 0.0466764\n",
            "[56]\tvalid_0's binary_logloss: 0.0465057\n",
            "[57]\tvalid_0's binary_logloss: 0.0464388\n",
            "[58]\tvalid_0's binary_logloss: 0.0470328\n",
            "[59]\tvalid_0's binary_logloss: 0.0473402\n",
            "[60]\tvalid_0's binary_logloss: 0.0474333\n",
            "[61]\tvalid_0's binary_logloss: 0.0471058\n",
            "[62]\tvalid_0's binary_logloss: 0.0472628\n",
            "[63]\tvalid_0's binary_logloss: 0.0474484\n",
            "[64]\tvalid_0's binary_logloss: 0.0480233\n",
            "[65]\tvalid_0's binary_logloss: 0.0479812\n",
            "[66]\tvalid_0's binary_logloss: 0.0487159\n",
            "[67]\tvalid_0's binary_logloss: 0.0496864\n",
            "[68]\tvalid_0's binary_logloss: 0.0501541\n",
            "[69]\tvalid_0's binary_logloss: 0.0506492\n",
            "[70]\tvalid_0's binary_logloss: 0.0519775\n",
            "[71]\tvalid_0's binary_logloss: 0.0525202\n",
            "[72]\tvalid_0's binary_logloss: 0.0528359\n",
            "[73]\tvalid_0's binary_logloss: 0.0532358\n",
            "[74]\tvalid_0's binary_logloss: 0.0540205\n",
            "[75]\tvalid_0's binary_logloss: 0.0554366\n",
            "[76]\tvalid_0's binary_logloss: 0.0557862\n",
            "[77]\tvalid_0's binary_logloss: 0.055824\n",
            "Early stopping, best iteration is:\n",
            "[57]\tvalid_0's binary_logloss: 0.0464388\n"
          ],
          "name": "stdout"
        },
        {
          "output_type": "execute_result",
          "data": {
            "text/plain": [
              "<lightgbm.basic.Booster at 0x7f5c3c2761d0>"
            ]
          },
          "metadata": {
            "tags": []
          },
          "execution_count": 32
        }
      ]
    },
    {
      "cell_type": "markdown",
      "metadata": {
        "id": "jqCo0XXhHprr",
        "colab_type": "text"
      },
      "source": [
        "### Test"
      ]
    },
    {
      "cell_type": "code",
      "metadata": {
        "id": "URkMl6wIHofZ",
        "colab_type": "code",
        "colab": {
          "base_uri": "https://localhost:8080/",
          "height": 34
        },
        "outputId": "5482c04e-6415-497f-a612-7c9e02aa8458"
      },
      "source": [
        "# test prediction\n",
        "ypred = bst.predict(df_val.drop('fraud', axis=1), num_iteration=bst.best_iteration)\n",
        "print(ypred[0:5])"
      ],
      "execution_count": 33,
      "outputs": [
        {
          "output_type": "stream",
          "text": [
            "[0.00963915 0.00027916 0.00017954 0.00026539 0.00072681]\n"
          ],
          "name": "stdout"
        }
      ]
    },
    {
      "cell_type": "markdown",
      "metadata": {
        "id": "-y3gdvLCImLk",
        "colab_type": "text"
      },
      "source": [
        "## Evaluation\n",
        "### Convert class propabilites to binary classes\n",
        "see [issue](https://github.com/CptK1ng/dmc2019/issues/9#issuecomment-485343221) for calculating threshold."
      ]
    },
    {
      "cell_type": "code",
      "metadata": {
        "id": "uyqifvwhKyvp",
        "colab_type": "code",
        "colab": {
          "base_uri": "https://localhost:8080/",
          "height": 34
        },
        "outputId": "b5b4941e-65b4-447d-fac8-d16c3c0c68dd"
      },
      "source": [
        "classification_treshold = 25/35\n",
        "\n",
        "ypred = np.where(ypred <= classification_treshold, 0, 1)\n",
        "\n",
        "print(ypred[0:5])"
      ],
      "execution_count": 34,
      "outputs": [
        {
          "output_type": "stream",
          "text": [
            "[0 0 0 0 0]\n"
          ],
          "name": "stdout"
        }
      ]
    },
    {
      "cell_type": "markdown",
      "metadata": {
        "id": "p-fUtHNzKyzs",
        "colab_type": "text"
      },
      "source": [
        "### Calc DMC score"
      ]
    },
    {
      "cell_type": "code",
      "metadata": {
        "id": "fAUoCmGlIhrn",
        "colab_type": "code",
        "colab": {
          "base_uri": "https://localhost:8080/",
          "height": 34
        },
        "outputId": "dada8624-d84b-4c8e-a5f0-931e104ebffe"
      },
      "source": [
        "def score_function(y_true, y_pred):\n",
        "  dmc = np.sum(metrics.confusion_matrix(y_true, y_pred)*np.array([[0, -25],[ -5, 5]])) #sklearn gives [[tn,fp],[fn,tp]]\n",
        "  return (#0 if all(y_pred == 0) else metrics.fbeta_score(y_true, y_pred, beta=2),\n",
        "          dmc, \n",
        "          dmc/len(y_pred), #comparable relative score, the higher the better.\n",
        "          metrics.confusion_matrix(y_true, y_pred).tolist(),\n",
        "          0 if all(y_pred == 0) else metrics.fbeta_score(y_true, y_pred, beta=0.5172))\n",
        "\n",
        "score_function(df_val['fraud'].values, ypred)"
      ],
      "execution_count": 31,
      "outputs": [
        {
          "output_type": "execute_result",
          "data": {
            "text/plain": [
              "(35, 0.09308510638297872, [[353, 0], [8, 15]], 0.8988310412553612)"
            ]
          },
          "metadata": {
            "tags": []
          },
          "execution_count": 31
        }
      ]
    },
    {
      "cell_type": "markdown",
      "metadata": {
        "id": "WbbNORoVLxaR",
        "colab_type": "text"
      },
      "source": [
        "As we can see we can reach a DMC score of *35* which is okay, but not outstanding.\n",
        "\n",
        "This score might be improvable by tuning the [hyperparameters](https://lightgbm.readthedocs.io/en/latest/Parameters.html) of the model."
      ]
    }
  ]
}