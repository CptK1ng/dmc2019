{
  "nbformat": 4,
  "nbformat_minor": 0,
  "metadata": {
    "colab": {
      "name": "EDA.ipynb",
      "version": "0.3.2",
      "provenance": [],
      "toc_visible": true,
      "include_colab_link": true
    },
    "language_info": {
      "codemirror_mode": {
        "name": "ipython",
        "version": 3
      },
      "file_extension": ".py",
      "mimetype": "text/x-python",
      "name": "python",
      "nbconvert_exporter": "python",
      "pygments_lexer": "ipython3",
      "version": "3.7.3"
    },
    "kernelspec": {
      "display_name": "Python 3",
      "language": "python",
      "name": "python3"
    },
    "accelerator": "GPU"
  },
  "cells": [
    {
      "cell_type": "markdown",
      "metadata": {
        "id": "view-in-github",
        "colab_type": "text"
      },
      "source": [
        "<a href=\"https://colab.research.google.com/github/CptK1ng/dmc2019/blob/alexander_dev/notebooks/semisupervised_learning_pseudo_labeling.ipynb\" target=\"_parent\"><img src=\"https://colab.research.google.com/assets/colab-badge.svg\" alt=\"Open In Colab\"/></a>"
      ]
    },
    {
      "metadata": {
        "colab_type": "text",
        "id": "hZdo8Tl0fXb2"
      },
      "cell_type": "markdown",
      "source": [
        "# Semi Supervised Learning using Pseudo Labeling\n",
        "by Alexander\n",
        "\n",
        "inspired by [this blog post](https://towardsdatascience.com/simple-explanation-of-semi-supervised-learning-and-pseudo-labeling-c2218e8c769b).\n",
        "\n",
        "in this version of the notebook (see commit history for older ones) we only use high-propability-predictions to extend our training set."
      ]
    },
    {
      "metadata": {
        "colab_type": "code",
        "id": "BwIvIe_ffXEE",
        "colab": {}
      },
      "cell_type": "code",
      "source": [
        "import pandas as pd\n",
        "import numpy as np\n",
        "from sklearn import metrics\n",
        "from sklearn.ensemble import AdaBoostClassifier\n",
        "from sklearn.tree import DecisionTreeClassifier\n",
        "from xgboost import XGBClassifier\n",
        "import matplotlib.pyplot as plt\n",
        "import time as time\n",
        "%matplotlib inline"
      ],
      "execution_count": 0,
      "outputs": []
    },
    {
      "metadata": {
        "colab_type": "text",
        "id": "8ZkZjgCzjjiZ"
      },
      "cell_type": "markdown",
      "source": [
        "Download our custom Dataset splits and the unlabeled Test Set:"
      ]
    },
    {
      "metadata": {
        "colab_type": "code",
        "id": "8RCQLJMdgWbO",
        "colab": {}
      },
      "cell_type": "code",
      "source": [
        "!wget -nc -q --show-progress https://www.dropbox.com/s/6m8iq9ogpzmu7vx/train_new.csv?dl=1 -O train_new.csv\n",
        "!wget -nc -q --show-progress https://www.dropbox.com/s/tjpkc45oqn3uv8s/val_new.csv?dl=1 -O val_new.csv\n",
        "!wget -nc -q --show-progress https://www.dropbox.com/s/hbd6nzgwlnevu4x/test.csv?dl=1 -O test.csv"
      ],
      "execution_count": 0,
      "outputs": []
    },
    {
      "metadata": {
        "colab_type": "text",
        "id": "cAb2HKAIgU61"
      },
      "cell_type": "markdown",
      "source": [
        "Import Data:"
      ]
    },
    {
      "metadata": {
        "colab_type": "code",
        "id": "J1FZN5BKjfSU",
        "outputId": "4b0f8401-fffd-4894-b2bd-53b93720a081",
        "colab": {
          "base_uri": "https://localhost:8080/",
          "height": 130
        }
      },
      "cell_type": "code",
      "source": [
        "df_train_original = pd.read_csv(\"train_new.csv\", sep=\"|\")\n",
        "df_val_original = pd.read_csv(\"val_new.csv\", sep=\"|\")\n",
        "df_test_original = pd.read_csv(\"test.csv\", sep=\"|\")\n",
        "df_train_original.head(2)"
      ],
      "execution_count": 13,
      "outputs": [
        {
          "output_type": "execute_result",
          "data": {
            "text/html": [
              "<div>\n",
              "<style scoped>\n",
              "    .dataframe tbody tr th:only-of-type {\n",
              "        vertical-align: middle;\n",
              "    }\n",
              "\n",
              "    .dataframe tbody tr th {\n",
              "        vertical-align: top;\n",
              "    }\n",
              "\n",
              "    .dataframe thead th {\n",
              "        text-align: right;\n",
              "    }\n",
              "</style>\n",
              "<table border=\"1\" class=\"dataframe\">\n",
              "  <thead>\n",
              "    <tr style=\"text-align: right;\">\n",
              "      <th></th>\n",
              "      <th>trustLevel</th>\n",
              "      <th>totalScanTimeInSeconds</th>\n",
              "      <th>grandTotal</th>\n",
              "      <th>lineItemVoids</th>\n",
              "      <th>scansWithoutRegistration</th>\n",
              "      <th>quantityModifications</th>\n",
              "      <th>scannedLineItemsPerSecond</th>\n",
              "      <th>valuePerSecond</th>\n",
              "      <th>lineItemVoidsPerPosition</th>\n",
              "      <th>fraud</th>\n",
              "    </tr>\n",
              "  </thead>\n",
              "  <tbody>\n",
              "    <tr>\n",
              "      <th>0</th>\n",
              "      <td>4</td>\n",
              "      <td>828</td>\n",
              "      <td>66.56</td>\n",
              "      <td>7</td>\n",
              "      <td>4</td>\n",
              "      <td>3</td>\n",
              "      <td>0.007246</td>\n",
              "      <td>0.080386</td>\n",
              "      <td>1.166667</td>\n",
              "      <td>0</td>\n",
              "    </tr>\n",
              "    <tr>\n",
              "      <th>1</th>\n",
              "      <td>1</td>\n",
              "      <td>1612</td>\n",
              "      <td>31.34</td>\n",
              "      <td>2</td>\n",
              "      <td>4</td>\n",
              "      <td>3</td>\n",
              "      <td>0.008685</td>\n",
              "      <td>0.019442</td>\n",
              "      <td>0.142857</td>\n",
              "      <td>0</td>\n",
              "    </tr>\n",
              "  </tbody>\n",
              "</table>\n",
              "</div>"
            ],
            "text/plain": [
              "   trustLevel  totalScanTimeInSeconds  grandTotal  lineItemVoids  \\\n",
              "0           4                     828       66.56              7   \n",
              "1           1                    1612       31.34              2   \n",
              "\n",
              "   scansWithoutRegistration  quantityModifications  scannedLineItemsPerSecond  \\\n",
              "0                         4                      3                   0.007246   \n",
              "1                         4                      3                   0.008685   \n",
              "\n",
              "   valuePerSecond  lineItemVoidsPerPosition  fraud  \n",
              "0        0.080386                  1.166667      0  \n",
              "1        0.019442                  0.142857      0  "
            ]
          },
          "metadata": {
            "tags": []
          },
          "execution_count": 13
        }
      ]
    },
    {
      "metadata": {
        "colab_type": "text",
        "id": "Zg4C1iL9QCQE"
      },
      "cell_type": "markdown",
      "source": [
        "## Feature Engineering"
      ]
    },
    {
      "metadata": {
        "colab_type": "code",
        "id": "IxXhVitoQFTe",
        "outputId": "5f191d13-a8c9-4e04-9b6d-99b9a2e3bfa3",
        "colab": {
          "base_uri": "https://localhost:8080/",
          "height": 222
        }
      },
      "cell_type": "code",
      "source": [
        "def prepareData(df):\n",
        "  df = df.copy()\n",
        "  df['totalLineItems'] = df['scannedLineItemsPerSecond'] * df['totalScanTimeInSeconds'] #nur of scanned products\n",
        "  return df\n",
        "\n",
        "df_train = prepareData(df_train_original)\n",
        "df_val = prepareData(df_val_original)\n",
        "df_test = prepareData(df_test_original)\n",
        "\n",
        "df_train.head()"
      ],
      "execution_count": 14,
      "outputs": [
        {
          "output_type": "execute_result",
          "data": {
            "text/html": [
              "<div>\n",
              "<style scoped>\n",
              "    .dataframe tbody tr th:only-of-type {\n",
              "        vertical-align: middle;\n",
              "    }\n",
              "\n",
              "    .dataframe tbody tr th {\n",
              "        vertical-align: top;\n",
              "    }\n",
              "\n",
              "    .dataframe thead th {\n",
              "        text-align: right;\n",
              "    }\n",
              "</style>\n",
              "<table border=\"1\" class=\"dataframe\">\n",
              "  <thead>\n",
              "    <tr style=\"text-align: right;\">\n",
              "      <th></th>\n",
              "      <th>trustLevel</th>\n",
              "      <th>totalScanTimeInSeconds</th>\n",
              "      <th>grandTotal</th>\n",
              "      <th>lineItemVoids</th>\n",
              "      <th>scansWithoutRegistration</th>\n",
              "      <th>quantityModifications</th>\n",
              "      <th>scannedLineItemsPerSecond</th>\n",
              "      <th>valuePerSecond</th>\n",
              "      <th>lineItemVoidsPerPosition</th>\n",
              "      <th>fraud</th>\n",
              "      <th>totalLineItems</th>\n",
              "    </tr>\n",
              "  </thead>\n",
              "  <tbody>\n",
              "    <tr>\n",
              "      <th>0</th>\n",
              "      <td>4</td>\n",
              "      <td>828</td>\n",
              "      <td>66.56</td>\n",
              "      <td>7</td>\n",
              "      <td>4</td>\n",
              "      <td>3</td>\n",
              "      <td>0.007246</td>\n",
              "      <td>0.080386</td>\n",
              "      <td>1.166667</td>\n",
              "      <td>0</td>\n",
              "      <td>6.0</td>\n",
              "    </tr>\n",
              "    <tr>\n",
              "      <th>1</th>\n",
              "      <td>1</td>\n",
              "      <td>1612</td>\n",
              "      <td>31.34</td>\n",
              "      <td>2</td>\n",
              "      <td>4</td>\n",
              "      <td>3</td>\n",
              "      <td>0.008685</td>\n",
              "      <td>0.019442</td>\n",
              "      <td>0.142857</td>\n",
              "      <td>0</td>\n",
              "      <td>14.0</td>\n",
              "    </tr>\n",
              "    <tr>\n",
              "      <th>2</th>\n",
              "      <td>3</td>\n",
              "      <td>848</td>\n",
              "      <td>52.37</td>\n",
              "      <td>2</td>\n",
              "      <td>4</td>\n",
              "      <td>0</td>\n",
              "      <td>0.022406</td>\n",
              "      <td>0.061757</td>\n",
              "      <td>0.105263</td>\n",
              "      <td>0</td>\n",
              "      <td>19.0</td>\n",
              "    </tr>\n",
              "    <tr>\n",
              "      <th>3</th>\n",
              "      <td>1</td>\n",
              "      <td>321</td>\n",
              "      <td>76.03</td>\n",
              "      <td>8</td>\n",
              "      <td>7</td>\n",
              "      <td>2</td>\n",
              "      <td>0.071651</td>\n",
              "      <td>0.236854</td>\n",
              "      <td>0.347826</td>\n",
              "      <td>0</td>\n",
              "      <td>23.0</td>\n",
              "    </tr>\n",
              "    <tr>\n",
              "      <th>4</th>\n",
              "      <td>1</td>\n",
              "      <td>660</td>\n",
              "      <td>6.06</td>\n",
              "      <td>3</td>\n",
              "      <td>7</td>\n",
              "      <td>1</td>\n",
              "      <td>0.027273</td>\n",
              "      <td>0.009182</td>\n",
              "      <td>0.166667</td>\n",
              "      <td>0</td>\n",
              "      <td>18.0</td>\n",
              "    </tr>\n",
              "  </tbody>\n",
              "</table>\n",
              "</div>"
            ],
            "text/plain": [
              "   trustLevel  totalScanTimeInSeconds  grandTotal  lineItemVoids  \\\n",
              "0           4                     828       66.56              7   \n",
              "1           1                    1612       31.34              2   \n",
              "2           3                     848       52.37              2   \n",
              "3           1                     321       76.03              8   \n",
              "4           1                     660        6.06              3   \n",
              "\n",
              "   scansWithoutRegistration  quantityModifications  scannedLineItemsPerSecond  \\\n",
              "0                         4                      3                   0.007246   \n",
              "1                         4                      3                   0.008685   \n",
              "2                         4                      0                   0.022406   \n",
              "3                         7                      2                   0.071651   \n",
              "4                         7                      1                   0.027273   \n",
              "\n",
              "   valuePerSecond  lineItemVoidsPerPosition  fraud  totalLineItems  \n",
              "0        0.080386                  1.166667      0             6.0  \n",
              "1        0.019442                  0.142857      0            14.0  \n",
              "2        0.061757                  0.105263      0            19.0  \n",
              "3        0.236854                  0.347826      0            23.0  \n",
              "4        0.009182                  0.166667      0            18.0  "
            ]
          },
          "metadata": {
            "tags": []
          },
          "execution_count": 14
        }
      ]
    },
    {
      "metadata": {
        "colab_type": "text",
        "id": "kJ3RS4y8P69r"
      },
      "cell_type": "markdown",
      "source": [
        "## Split X and Y"
      ]
    },
    {
      "metadata": {
        "colab_type": "code",
        "id": "W8Zx4xDCpn9n",
        "outputId": "f0ad6c57-3ba8-4439-c36f-ee650c907250",
        "colab": {
          "base_uri": "https://localhost:8080/",
          "height": 35
        }
      },
      "cell_type": "code",
      "source": [
        "# Splitting the final dataset into internal training and testing datasets\n",
        "df_train_X = df_train.drop('fraud', axis=1)\n",
        "df_train_y = df_train['fraud']\n",
        "df_val_X = df_val.drop('fraud', axis=1)\n",
        "df_val_y = df_val['fraud']\n",
        "df_test_X = df_test.copy()\n",
        "# df_test_y will be predicted by classificator\n",
        "\n",
        "X_train, X_val, X_test, y_train, y_val = df_train_X.values, df_val_X.values, df_test_X, df_train_y.values, df_val_y.values\n",
        "print(\"Shapes\",X_train.shape, X_val.shape, X_test.shape, y_train.shape, y_val.shape)"
      ],
      "execution_count": 22,
      "outputs": [
        {
          "output_type": "stream",
          "text": [
            "Shapes (1503, 10) (376, 10) (498121, 10) (1503,) (376,)\n"
          ],
          "name": "stdout"
        }
      ]
    },
    {
      "metadata": {
        "colab_type": "text",
        "id": "g_24sukxplja"
      },
      "cell_type": "markdown",
      "source": [
        "## Simple Classificator\n"
      ]
    },
    {
      "metadata": {
        "colab_type": "code",
        "id": "VxK__sj3p7MS",
        "colab": {}
      },
      "cell_type": "code",
      "source": [
        "def score_function(y_true, y_pred):\n",
        "  dmc = np.sum(metrics.confusion_matrix(y_true, y_pred)*np.array([[0, -25],[ -5, 5]])) #sklearn gives [[tn,fp],[fn,tp]]\n",
        "  return (0 if all(y_pred == 0) else metrics.fbeta_score(y_true, y_pred, beta=2),\n",
        "          dmc, \n",
        "          dmc/len(y_pred), #comparable relative score, the higher the better.\n",
        "          metrics.confusion_matrix(y_true, y_pred).tolist())"
      ],
      "execution_count": 0,
      "outputs": []
    },
    {
      "metadata": {
        "colab_type": "text",
        "id": "eKG66tvLPzhh"
      },
      "cell_type": "markdown",
      "source": [
        "##  Classify labels for validation set on training set"
      ]
    },
    {
      "metadata": {
        "colab_type": "code",
        "id": "z68iBle7P2q5",
        "colab": {}
      },
      "cell_type": "code",
      "source": [
        "\n",
        "\n",
        "classifier_adb = XGBClassifier(base_score=0.5, booster='gbtree', colsample_bylevel=1,\n",
        "       colsample_bytree=1, disable_default_eval_metric=1,\n",
        "       eta=0.1769182150877735, eval_metric='aucpr',\n",
        "       gamma=1.8285912697052542, reg_lambda=0.4149772770711012,\n",
        "       learning_rate=0.1, max_bin=254, max_delta_step=7.2556696256684035,\n",
        "       max_depth=3, min_child_weight=1.0317712458399741, missing=None,\n",
        "       n_estimators=445, n_jobs=-1, nthread=None,\n",
        "       objective='binary:logistic', random_state=0, reg_alpha=0,\n",
        "       scale_pos_weight=1, seed=None, silent=True,\n",
        "       subsample=1, tree_method='gpu_hist', verbosity=2)\n",
        "\n",
        "#classifier_adb = AdaBoostClassifier(base_estimator=DecisionTreeClassifier(max_depth=3), n_estimators=500, algorithm='SAMME', random_state=1)\n",
        "\n",
        "# Fitting the model and printing the accuracy score\n",
        "classifier_adb.fit(X_train, y_train)\n",
        "print(\"AdaBoost\", \"\\t\", score_function(y_val, classifier_adb.predict(X_val)) )"
      ],
      "execution_count": 0,
      "outputs": []
    },
    {
      "metadata": {
        "colab_type": "text",
        "id": "48vwHF3ZtMJ8"
      },
      "cell_type": "markdown",
      "source": [
        "### Classify labels (and get the prediction accuracy) for testset on training set"
      ]
    },
    {
      "metadata": {
        "colab_type": "code",
        "id": "SusiRpJBtP2m",
        "outputId": "bfbe6b2e-6e0a-4f41-97b2-ae467affd134",
        "colab": {
          "base_uri": "https://localhost:8080/",
          "height": 449
        }
      },
      "cell_type": "code",
      "source": [
        "#y_test = classifier_adb.predict(X_test) # predictions\n",
        "y_test_proba = classifier_adb.predict_proba(X_test)\n",
        "y_test = np.where(y_test_proba[:,0] > 0, 0, 1) \n",
        "print(y_test[1:500], \"\\nproba\\n\", y_test_proba[1:10])"
      ],
      "execution_count": 37,
      "outputs": [
        {
          "output_type": "stream",
          "text": [
            "[0 0 0 0 0 0 0 0 0 0 0 0 0 0 0 0 0 0 0 0 0 0 0 0 0 0 0 0 0 0 0 0 0 0 0 0 0\n",
            " 0 0 0 0 0 0 0 0 0 0 0 0 0 0 0 0 0 0 0 0 0 0 0 0 0 0 0 0 0 0 0 0 0 0 0 0 0\n",
            " 0 0 0 0 0 0 0 0 0 0 0 0 0 0 0 0 0 0 0 0 0 0 0 0 0 0 0 0 0 0 0 0 0 0 0 0 0\n",
            " 0 0 0 0 0 0 0 0 0 0 0 0 0 0 0 0 0 0 0 0 0 0 0 0 0 0 0 0 0 0 0 0 0 0 0 0 0\n",
            " 0 0 0 0 0 0 0 0 0 0 0 0 0 0 0 0 0 0 0 0 0 0 0 0 0 0 0 0 0 0 0 0 0 0 0 0 0\n",
            " 0 0 0 0 0 0 0 0 0 0 0 0 0 0 0 0 0 0 0 0 0 0 0 0 0 0 0 0 0 0 0 0 0 0 0 0 0\n",
            " 0 0 0 0 0 0 0 0 0 0 0 0 0 0 0 0 0 0 0 0 0 0 0 0 0 0 0 0 0 0 0 0 0 0 0 0 0\n",
            " 0 0 0 0 0 0 0 0 0 0 0 0 0 0 0 0 0 0 0 0 0 0 0 0 0 0 0 0 0 0 0 0 0 0 0 0 0\n",
            " 0 0 0 0 0 0 0 0 0 0 0 0 0 0 0 0 0 0 0 0 0 0 0 0 0 0 0 0 0 0 0 0 0 0 0 0 0\n",
            " 0 0 0 0 0 0 0 0 0 0 0 0 0 0 0 0 0 0 0 0 0 0 0 0 0 0 0 0 0 0 0 0 0 0 0 0 0\n",
            " 0 0 0 0 0 0 0 0 0 0 0 0 0 0 0 0 0 0 0 0 0 0 0 0 0 0 0 0 0 0 0 0 0 0 0 0 0\n",
            " 0 0 0 0 0 0 0 0 0 0 0 0 0 0 0 0 0 0 0 0 0 0 0 0 0 0 0 0 0 0 0 0 0 0 0 0 0\n",
            " 0 0 0 0 0 0 0 0 0 0 0 0 0 0 0 0 0 0 0 0 0 0 0 0 0 0 0 0 0 0 0 0 0 0 0 0 0\n",
            " 0 0 0 0 0 0 0 0 0 0 0 0 0 0 0 0 0 0] \n",
            "proba\n",
            " [[0.61398986 0.38601014]\n",
            " [0.62626117 0.37373883]\n",
            " [0.65475841 0.34524159]\n",
            " [0.66454019 0.33545981]\n",
            " [0.6586331  0.3413669 ]\n",
            " [0.62165344 0.37834656]\n",
            " [0.60355079 0.39644921]\n",
            " [0.65310217 0.34689783]\n",
            " [0.65170297 0.34829703]]\n"
          ],
          "name": "stdout"
        }
      ]
    },
    {
      "metadata": {
        "id": "Mwq7Co7sl2mu",
        "colab_type": "text"
      },
      "cell_type": "markdown",
      "source": [
        "We combine them into a dataframe for easier filtering"
      ]
    },
    {
      "metadata": {
        "id": "xcg_uON_l6xe",
        "colab_type": "code",
        "outputId": "2c938d68-8494-469c-907a-da57e06e81b2",
        "colab": {
          "base_uri": "https://localhost:8080/",
          "height": 202
        }
      },
      "cell_type": "code",
      "source": [
        "df_test_y = pd.DataFrame(y_test_proba, columns=[\"fraud_0_prob\", \"fraud_1_prob\"])\n",
        "df_test_y[\"fraud\"] = y_test\n",
        "df_test_y[\"pred_prob\"] = df_test_y[[\"fraud_0_prob\", \"fraud_1_prob\"]].max(axis=1) # take the prob that lead to the classification\n",
        "df_test_y.head(5)"
      ],
      "execution_count": 38,
      "outputs": [
        {
          "output_type": "execute_result",
          "data": {
            "text/html": [
              "<div>\n",
              "<style scoped>\n",
              "    .dataframe tbody tr th:only-of-type {\n",
              "        vertical-align: middle;\n",
              "    }\n",
              "\n",
              "    .dataframe tbody tr th {\n",
              "        vertical-align: top;\n",
              "    }\n",
              "\n",
              "    .dataframe thead th {\n",
              "        text-align: right;\n",
              "    }\n",
              "</style>\n",
              "<table border=\"1\" class=\"dataframe\">\n",
              "  <thead>\n",
              "    <tr style=\"text-align: right;\">\n",
              "      <th></th>\n",
              "      <th>fraud_0_prob</th>\n",
              "      <th>fraud_1_prob</th>\n",
              "      <th>fraud</th>\n",
              "      <th>pred_prob</th>\n",
              "    </tr>\n",
              "  </thead>\n",
              "  <tbody>\n",
              "    <tr>\n",
              "      <th>0</th>\n",
              "      <td>0.645118</td>\n",
              "      <td>0.354882</td>\n",
              "      <td>0</td>\n",
              "      <td>0.645118</td>\n",
              "    </tr>\n",
              "    <tr>\n",
              "      <th>1</th>\n",
              "      <td>0.613990</td>\n",
              "      <td>0.386010</td>\n",
              "      <td>0</td>\n",
              "      <td>0.613990</td>\n",
              "    </tr>\n",
              "    <tr>\n",
              "      <th>2</th>\n",
              "      <td>0.626261</td>\n",
              "      <td>0.373739</td>\n",
              "      <td>0</td>\n",
              "      <td>0.626261</td>\n",
              "    </tr>\n",
              "    <tr>\n",
              "      <th>3</th>\n",
              "      <td>0.654758</td>\n",
              "      <td>0.345242</td>\n",
              "      <td>0</td>\n",
              "      <td>0.654758</td>\n",
              "    </tr>\n",
              "    <tr>\n",
              "      <th>4</th>\n",
              "      <td>0.664540</td>\n",
              "      <td>0.335460</td>\n",
              "      <td>0</td>\n",
              "      <td>0.664540</td>\n",
              "    </tr>\n",
              "  </tbody>\n",
              "</table>\n",
              "</div>"
            ],
            "text/plain": [
              "   fraud_0_prob  fraud_1_prob  fraud  pred_prob\n",
              "0      0.645118      0.354882      0   0.645118\n",
              "1      0.613990      0.386010      0   0.613990\n",
              "2      0.626261      0.373739      0   0.626261\n",
              "3      0.654758      0.345242      0   0.654758\n",
              "4      0.664540      0.335460      0   0.664540"
            ]
          },
          "metadata": {
            "tags": []
          },
          "execution_count": 38
        }
      ]
    },
    {
      "metadata": {
        "id": "0LFKqF9-m3mm",
        "colab_type": "text"
      },
      "cell_type": "markdown",
      "source": [
        "now take those entries with high certainity / pred_prob and combine the Train and high-prob-predicted-Test Set for new combined Test Set"
      ]
    },
    {
      "metadata": {
        "id": "Lr07SqIlnCW0",
        "colab_type": "code",
        "outputId": "074ec506-0963-4d2b-a064-5cb795ebac9a",
        "colab": {
          "base_uri": "https://localhost:8080/",
          "height": 557
        }
      },
      "cell_type": "code",
      "source": [
        "df_test_y[\"pred_prob\"].hist(bins=50)"
      ],
      "execution_count": 40,
      "outputs": [
        {
          "output_type": "execute_result",
          "data": {
            "text/plain": [
              "<matplotlib.axes._subplots.AxesSubplot at 0x7fc1c02d2518>"
            ]
          },
          "metadata": {
            "tags": []
          },
          "execution_count": 39
        },
        {
          "output_type": "display_data",
          "data": {
            "image/png": "[encoded data removed]",
            "text/plain": [
              "<Figure size 432x288 with 1 Axes>"
            ]
          },
          "metadata": {
            "tags": []
          }
        },
        {
          "output_type": "execute_result",
          "data": {
            "text/plain": [
              "<matplotlib.axes._subplots.AxesSubplot at 0x7fc1c01e4240>"
            ]
          },
          "metadata": {
            "tags": []
          },
          "execution_count": 40
        },
        {
          "output_type": "display_data",
          "data": {
            "image/png": "[encoded data removed]",
            "text/plain": [
              "<Figure size 432x288 with 1 Axes>"
            ]
          },
          "metadata": {
            "tags": []
          }
        }
      ]
    },
    {
      "metadata": {
        "id": "kd11zqPJnT5e",
        "colab_type": "code",
        "outputId": "ec2a32c3-270d-48ed-9193-0706e9d83af1",
        "colab": {
          "base_uri": "https://localhost:8080/",
          "height": 53
        }
      },
      "cell_type": "code",
      "source": [
        "threshold = 0.677 # the lower this number is the higher the amount of test data we add to our train set will be.\n",
        "\n",
        "\n",
        "def get_train_new(threshold):\n",
        "  df_test_y_new = df_test_y[df_test_y.pred_prob > threshold]\n",
        "  # print(\"size of labeled test set with high proba:\", len(df_test_y_new))\n",
        "\n",
        "  # append safe predictions y to their X\n",
        "  df_test_new = df_test_y_new[[\"fraud\"]].join(df_test_X)\n",
        "  df_test_new.head(3)\n",
        "\n",
        "  # append the high-prob-labeled test set to our train set\n",
        "  df_train_new = pd.concat([df_train,df_test_new], ignore_index=True, sort=False)\n",
        "  # print(\"size of new train:\", len(df_train_new))\n",
        "\n",
        "  # convert dataframes to classifiable python lists\n",
        "  df_train_new_X = df_train_new.drop('fraud', axis=1)\n",
        "  df_train_new_y = df_train_new['fraud']\n",
        "  X_train_new, y_train_new = df_train_new_X.values, df_train_new_y.values\n",
        "  \n",
        "  print(\"threshold of \",threshold,\" results in\",len(df_test_y_new),\"high-prob-predictions and a new train set of size \",len(df_train_new))\n",
        "  \n",
        "  return X_train_new, y_train_new\n",
        "\n",
        "X_train_new, y_train_new = get_train_new(threshold)\n",
        "\n",
        "print(\"Shapes\",X_train_new.shape, y_train_new.shape)"
      ],
      "execution_count": 41,
      "outputs": [
        {
          "output_type": "stream",
          "text": [
            "threshold of  0.677  results in 2236 high-prob-predictions and a new train set of size  3739\n",
            "Shapes (3739, 10) (3739,)\n"
          ],
          "name": "stdout"
        }
      ]
    },
    {
      "metadata": {
        "colab_type": "text",
        "id": "8bebYMfguV0e"
      },
      "cell_type": "markdown",
      "source": [
        "##  Classify labels for validation set on training and part of testing set"
      ]
    },
    {
      "metadata": {
        "colab_type": "code",
        "id": "hRHnDCxQqPVl",
        "outputId": "671f584c-86af-4bc2-ead7-5c18191499a5",
        "colab": {
          "base_uri": "https://localhost:8080/",
          "height": 35
        }
      },
      "cell_type": "code",
      "source": [
        "# Now test inference with semi supervised learned new training dataset\n",
        "classifier_adb.fit(X_train_new, y_train_new)  \n",
        "\n",
        "print(\"AdaBoost\", \"\\t\", score_function(y_val, classifier_adb.predict(X_val)) )"
      ],
      "execution_count": 42,
      "outputs": [
        {
          "output_type": "stream",
          "text": [
            "AdaBoost \t (0.8482142857142857, 50, 0.13297872340425532, [[352, 1], [4, 19]])\n"
          ],
          "name": "stdout"
        }
      ]
    },
    {
      "metadata": {
        "colab_type": "text",
        "id": "f2xJpQL8CxVx"
      },
      "cell_type": "markdown",
      "source": [
        "As we can see this method has a pretty good accuracy. \n",
        "\n",
        "We can play around with different thresholds now."
      ]
    },
    {
      "metadata": {
        "id": "6l8z0aZGukdG",
        "colab_type": "code",
        "outputId": "5bc12fcc-22c6-4a08-be14-497f7e7d85ab",
        "colab": {
          "base_uri": "https://localhost:8080/",
          "height": 1005
        }
      },
      "cell_type": "code",
      "source": [
        "stepsize = 0.001\n",
        "resolution = 13 # will go 10 steps to left and right of threshhold\n",
        "\n",
        "start_plot = time.monotonic()\n",
        "dmc_score = []\n",
        "\n",
        "for i in np.arange(threshold-resolution*stepsize,threshold+resolution*stepsize,stepsize):\n",
        "  classifier_adb.fit(*get_train_new(i))  \n",
        "  dmc_score.append(score_function(y_val, classifier_adb.predict(X_val))[1])\n",
        "\n",
        "plt.figure(figsize=(12, 8))\n",
        "plt.xlabel('threshold')\n",
        "plt.ylabel('dmc score')\n",
        "plt.plot(np.arange(threshold-resolution*stepsize,threshold+resolution*stepsize,stepsize), dmc_score, label=\"AdaBoost\")\n",
        "plt.legend()\n",
        "plt.show()\n",
        "duration_plot = time.monotonic() - start_plot\n",
        "print(\"Duration: \", duration_plot)"
      ],
      "execution_count": 43,
      "outputs": [
        {
          "output_type": "stream",
          "text": [
            "threshold of  0.664  results in 50323 high-prob-predictions and a new train set of size  51826\n",
            "threshold of  0.665  results in 43995 high-prob-predictions and a new train set of size  45498\n",
            "threshold of  0.666  results in 38165 high-prob-predictions and a new train set of size  39668\n",
            "threshold of  0.667  results in 32598 high-prob-predictions and a new train set of size  34101\n",
            "threshold of  0.668  results in 27364 high-prob-predictions and a new train set of size  28867\n",
            "threshold of  0.669  results in 22649 high-prob-predictions and a new train set of size  24152\n",
            "threshold of  0.67  results in 18410 high-prob-predictions and a new train set of size  19913\n",
            "threshold of  0.671  results in 14584 high-prob-predictions and a new train set of size  16087\n",
            "threshold of  0.672  results in 11250 high-prob-predictions and a new train set of size  12753\n",
            "threshold of  0.673  results in 8353 high-prob-predictions and a new train set of size  9856\n",
            "threshold of  0.674  results in 6198 high-prob-predictions and a new train set of size  7701\n",
            "threshold of  0.675  results in 4522 high-prob-predictions and a new train set of size  6025\n",
            "threshold of  0.676  results in 3266 high-prob-predictions and a new train set of size  4769\n",
            "threshold of  0.677  results in 2236 high-prob-predictions and a new train set of size  3739\n",
            "threshold of  0.678  results in 1487 high-prob-predictions and a new train set of size  2990\n",
            "threshold of  0.679  results in 1010 high-prob-predictions and a new train set of size  2513\n",
            "threshold of  0.68  results in 660 high-prob-predictions and a new train set of size  2163\n",
            "threshold of  0.681  results in 423 high-prob-predictions and a new train set of size  1926\n",
            "threshold of  0.682  results in 285 high-prob-predictions and a new train set of size  1788\n",
            "threshold of  0.683  results in 167 high-prob-predictions and a new train set of size  1670\n",
            "threshold of  0.684  results in 96 high-prob-predictions and a new train set of size  1599\n",
            "threshold of  0.685  results in 57 high-prob-predictions and a new train set of size  1560\n",
            "threshold of  0.686  results in 34 high-prob-predictions and a new train set of size  1537\n",
            "threshold of  0.687  results in 16 high-prob-predictions and a new train set of size  1519\n",
            "threshold of  0.6880000000000001  results in 4 high-prob-predictions and a new train set of size  1507\n",
            "threshold of  0.6890000000000001  results in 3 high-prob-predictions and a new train set of size  1506\n",
            "threshold of  0.6900000000000001  results in 2 high-prob-predictions and a new train set of size  1505\n"
          ],
          "name": "stdout"
        },
        {
          "output_type": "display_data",
          "data": {
            "image/png": "[encoded data removed]",
            "text/plain": [
              "<Figure size 864x576 with 1 Axes>"
            ]
          },
          "metadata": {
            "tags": []
          }
        },
        {
          "output_type": "stream",
          "text": [
            "Duration:  329.6909704950001\n"
          ],
          "name": "stdout"
        }
      ]
    },
    {
      "metadata": {
        "id": "9MGLZScmc6tS",
        "colab_type": "text"
      },
      "cell_type": "markdown",
      "source": [
        "look closer around the maximum:"
      ]
    },
    {
      "metadata": {
        "id": "a96hdFHKcwWt",
        "colab_type": "code",
        "colab": {
          "base_uri": "https://localhost:8080/",
          "height": 4137
        },
        "outputId": "7ef29724-15c7-4ebb-b4fe-a473fc91d1d9"
      },
      "cell_type": "code",
      "source": [
        "threshold = 0.686\n",
        "stepsize = 0.00001\n",
        "resolution = 100 # will go 10 steps to left and right of threshhold\n",
        "\n",
        "start_plot = time.monotonic()\n",
        "dmc_score = []\n",
        "\n",
        "for i in np.arange(threshold-resolution*stepsize,threshold+resolution*stepsize,stepsize):\n",
        "  classifier_adb.fit(*get_train_new(i))  \n",
        "  dmc_score.append(score_function(y_val, classifier_adb.predict(X_val))[1])\n",
        "\n",
        "plt.figure(figsize=(12, 8))\n",
        "plt.xlabel('threshold')\n",
        "plt.ylabel('dmc score')\n",
        "plt.plot(np.arange(threshold-resolution*stepsize,threshold+resolution*stepsize,stepsize), dmc_score, label=\"AdaBoost\")\n",
        "plt.legend()\n",
        "plt.show()\n",
        "duration_plot = time.monotonic() - start_plot\n",
        "print(\"Duration: \", duration_plot)"
      ],
      "execution_count": 46,
      "outputs": [
        {
          "output_type": "stream",
          "text": [
            "threshold of  0.685  results in 57 high-prob-predictions and a new train set of size  1560\n",
            "threshold of  0.68501  results in 57 high-prob-predictions and a new train set of size  1560\n",
            "threshold of  0.68502  results in 57 high-prob-predictions and a new train set of size  1560\n",
            "threshold of  0.6850299999999999  results in 57 high-prob-predictions and a new train set of size  1560\n",
            "threshold of  0.6850399999999999  results in 57 high-prob-predictions and a new train set of size  1560\n",
            "threshold of  0.6850499999999998  results in 57 high-prob-predictions and a new train set of size  1560\n",
            "threshold of  0.6850599999999998  results in 57 high-prob-predictions and a new train set of size  1560\n",
            "threshold of  0.6850699999999997  results in 57 high-prob-predictions and a new train set of size  1560\n",
            "threshold of  0.6850799999999997  results in 56 high-prob-predictions and a new train set of size  1559\n",
            "threshold of  0.6850899999999996  results in 56 high-prob-predictions and a new train set of size  1559\n",
            "threshold of  0.6850999999999996  results in 56 high-prob-predictions and a new train set of size  1559\n",
            "threshold of  0.6851099999999996  results in 56 high-prob-predictions and a new train set of size  1559\n",
            "threshold of  0.6851199999999995  results in 54 high-prob-predictions and a new train set of size  1557\n",
            "threshold of  0.6851299999999995  results in 54 high-prob-predictions and a new train set of size  1557\n",
            "threshold of  0.6851399999999994  results in 54 high-prob-predictions and a new train set of size  1557\n",
            "threshold of  0.6851499999999994  results in 54 high-prob-predictions and a new train set of size  1557\n",
            "threshold of  0.6851599999999993  results in 53 high-prob-predictions and a new train set of size  1556\n",
            "threshold of  0.6851699999999993  results in 53 high-prob-predictions and a new train set of size  1556\n",
            "threshold of  0.6851799999999992  results in 53 high-prob-predictions and a new train set of size  1556\n",
            "threshold of  0.6851899999999992  results in 53 high-prob-predictions and a new train set of size  1556\n",
            "threshold of  0.6851999999999991  results in 53 high-prob-predictions and a new train set of size  1556\n",
            "threshold of  0.6852099999999991  results in 53 high-prob-predictions and a new train set of size  1556\n",
            "threshold of  0.685219999999999  results in 52 high-prob-predictions and a new train set of size  1555\n",
            "threshold of  0.685229999999999  results in 52 high-prob-predictions and a new train set of size  1555\n",
            "threshold of  0.685239999999999  results in 52 high-prob-predictions and a new train set of size  1555\n",
            "threshold of  0.6852499999999989  results in 52 high-prob-predictions and a new train set of size  1555\n",
            "threshold of  0.6852599999999989  results in 52 high-prob-predictions and a new train set of size  1555\n",
            "threshold of  0.6852699999999988  results in 52 high-prob-predictions and a new train set of size  1555\n",
            "threshold of  0.6852799999999988  results in 52 high-prob-predictions and a new train set of size  1555\n",
            "threshold of  0.6852899999999987  results in 52 high-prob-predictions and a new train set of size  1555\n",
            "threshold of  0.6852999999999987  results in 52 high-prob-predictions and a new train set of size  1555\n",
            "threshold of  0.6853099999999986  results in 52 high-prob-predictions and a new train set of size  1555\n",
            "threshold of  0.6853199999999986  results in 52 high-prob-predictions and a new train set of size  1555\n",
            "threshold of  0.6853299999999986  results in 52 high-prob-predictions and a new train set of size  1555\n",
            "threshold of  0.6853399999999985  results in 52 high-prob-predictions and a new train set of size  1555\n",
            "threshold of  0.6853499999999985  results in 52 high-prob-predictions and a new train set of size  1555\n",
            "threshold of  0.6853599999999984  results in 51 high-prob-predictions and a new train set of size  1554\n",
            "threshold of  0.6853699999999984  results in 51 high-prob-predictions and a new train set of size  1554\n",
            "threshold of  0.6853799999999983  results in 51 high-prob-predictions and a new train set of size  1554\n",
            "threshold of  0.6853899999999983  results in 51 high-prob-predictions and a new train set of size  1554\n",
            "threshold of  0.6853999999999982  results in 51 high-prob-predictions and a new train set of size  1554\n",
            "threshold of  0.6854099999999982  results in 51 high-prob-predictions and a new train set of size  1554\n",
            "threshold of  0.6854199999999981  results in 51 high-prob-predictions and a new train set of size  1554\n",
            "threshold of  0.6854299999999981  results in 51 high-prob-predictions and a new train set of size  1554\n",
            "threshold of  0.685439999999998  results in 50 high-prob-predictions and a new train set of size  1553\n",
            "threshold of  0.685449999999998  results in 50 high-prob-predictions and a new train set of size  1553\n",
            "threshold of  0.685459999999998  results in 50 high-prob-predictions and a new train set of size  1553\n",
            "threshold of  0.6854699999999979  results in 50 high-prob-predictions and a new train set of size  1553\n",
            "threshold of  0.6854799999999979  results in 50 high-prob-predictions and a new train set of size  1553\n",
            "threshold of  0.6854899999999978  results in 49 high-prob-predictions and a new train set of size  1552\n",
            "threshold of  0.6854999999999978  results in 49 high-prob-predictions and a new train set of size  1552\n",
            "threshold of  0.6855099999999977  results in 49 high-prob-predictions and a new train set of size  1552\n",
            "threshold of  0.6855199999999977  results in 48 high-prob-predictions and a new train set of size  1551\n",
            "threshold of  0.6855299999999976  results in 47 high-prob-predictions and a new train set of size  1550\n",
            "threshold of  0.6855399999999976  results in 47 high-prob-predictions and a new train set of size  1550\n",
            "threshold of  0.6855499999999976  results in 47 high-prob-predictions and a new train set of size  1550\n",
            "threshold of  0.6855599999999975  results in 47 high-prob-predictions and a new train set of size  1550\n",
            "threshold of  0.6855699999999975  results in 45 high-prob-predictions and a new train set of size  1548\n",
            "threshold of  0.6855799999999974  results in 45 high-prob-predictions and a new train set of size  1548\n",
            "threshold of  0.6855899999999974  results in 43 high-prob-predictions and a new train set of size  1546\n",
            "threshold of  0.6855999999999973  results in 43 high-prob-predictions and a new train set of size  1546\n",
            "threshold of  0.6856099999999973  results in 43 high-prob-predictions and a new train set of size  1546\n",
            "threshold of  0.6856199999999972  results in 43 high-prob-predictions and a new train set of size  1546\n",
            "threshold of  0.6856299999999972  results in 43 high-prob-predictions and a new train set of size  1546\n",
            "threshold of  0.6856399999999971  results in 43 high-prob-predictions and a new train set of size  1546\n",
            "threshold of  0.6856499999999971  results in 43 high-prob-predictions and a new train set of size  1546\n",
            "threshold of  0.685659999999997  results in 43 high-prob-predictions and a new train set of size  1546\n",
            "threshold of  0.685669999999997  results in 43 high-prob-predictions and a new train set of size  1546\n",
            "threshold of  0.685679999999997  results in 43 high-prob-predictions and a new train set of size  1546\n",
            "threshold of  0.6856899999999969  results in 43 high-prob-predictions and a new train set of size  1546\n",
            "threshold of  0.6856999999999969  results in 43 high-prob-predictions and a new train set of size  1546\n",
            "threshold of  0.6857099999999968  results in 42 high-prob-predictions and a new train set of size  1545\n",
            "threshold of  0.6857199999999968  results in 41 high-prob-predictions and a new train set of size  1544\n",
            "threshold of  0.6857299999999967  results in 41 high-prob-predictions and a new train set of size  1544\n",
            "threshold of  0.6857399999999967  results in 41 high-prob-predictions and a new train set of size  1544\n",
            "threshold of  0.6857499999999966  results in 41 high-prob-predictions and a new train set of size  1544\n",
            "threshold of  0.6857599999999966  results in 40 high-prob-predictions and a new train set of size  1543\n",
            "threshold of  0.6857699999999965  results in 40 high-prob-predictions and a new train set of size  1543\n",
            "threshold of  0.6857799999999965  results in 40 high-prob-predictions and a new train set of size  1543\n",
            "threshold of  0.6857899999999965  results in 40 high-prob-predictions and a new train set of size  1543\n",
            "threshold of  0.6857999999999964  results in 40 high-prob-predictions and a new train set of size  1543\n",
            "threshold of  0.6858099999999964  results in 39 high-prob-predictions and a new train set of size  1542\n",
            "threshold of  0.6858199999999963  results in 38 high-prob-predictions and a new train set of size  1541\n",
            "threshold of  0.6858299999999963  results in 38 high-prob-predictions and a new train set of size  1541\n",
            "threshold of  0.6858399999999962  results in 38 high-prob-predictions and a new train set of size  1541\n",
            "threshold of  0.6858499999999962  results in 38 high-prob-predictions and a new train set of size  1541\n",
            "threshold of  0.6858599999999961  results in 38 high-prob-predictions and a new train set of size  1541\n",
            "threshold of  0.6858699999999961  results in 38 high-prob-predictions and a new train set of size  1541\n",
            "threshold of  0.685879999999996  results in 38 high-prob-predictions and a new train set of size  1541\n",
            "threshold of  0.685889999999996  results in 38 high-prob-predictions and a new train set of size  1541\n",
            "threshold of  0.685899999999996  results in 38 high-prob-predictions and a new train set of size  1541\n",
            "threshold of  0.6859099999999959  results in 38 high-prob-predictions and a new train set of size  1541\n",
            "threshold of  0.6859199999999959  results in 38 high-prob-predictions and a new train set of size  1541\n",
            "threshold of  0.6859299999999958  results in 38 high-prob-predictions and a new train set of size  1541\n",
            "threshold of  0.6859399999999958  results in 36 high-prob-predictions and a new train set of size  1539\n",
            "threshold of  0.6859499999999957  results in 36 high-prob-predictions and a new train set of size  1539\n",
            "threshold of  0.6859599999999957  results in 35 high-prob-predictions and a new train set of size  1538\n",
            "threshold of  0.6859699999999956  results in 34 high-prob-predictions and a new train set of size  1537\n",
            "threshold of  0.6859799999999956  results in 34 high-prob-predictions and a new train set of size  1537\n",
            "threshold of  0.6859899999999955  results in 34 high-prob-predictions and a new train set of size  1537\n",
            "threshold of  0.6859999999999955  results in 34 high-prob-predictions and a new train set of size  1537\n",
            "threshold of  0.6860099999999955  results in 34 high-prob-predictions and a new train set of size  1537\n",
            "threshold of  0.6860199999999954  results in 33 high-prob-predictions and a new train set of size  1536\n",
            "threshold of  0.6860299999999954  results in 33 high-prob-predictions and a new train set of size  1536\n",
            "threshold of  0.6860399999999953  results in 33 high-prob-predictions and a new train set of size  1536\n",
            "threshold of  0.6860499999999953  results in 33 high-prob-predictions and a new train set of size  1536\n",
            "threshold of  0.6860599999999952  results in 32 high-prob-predictions and a new train set of size  1535\n",
            "threshold of  0.6860699999999952  results in 32 high-prob-predictions and a new train set of size  1535\n",
            "threshold of  0.6860799999999951  results in 32 high-prob-predictions and a new train set of size  1535\n",
            "threshold of  0.6860899999999951  results in 32 high-prob-predictions and a new train set of size  1535\n",
            "threshold of  0.686099999999995  results in 32 high-prob-predictions and a new train set of size  1535\n",
            "threshold of  0.686109999999995  results in 32 high-prob-predictions and a new train set of size  1535\n",
            "threshold of  0.686119999999995  results in 32 high-prob-predictions and a new train set of size  1535\n",
            "threshold of  0.6861299999999949  results in 31 high-prob-predictions and a new train set of size  1534\n",
            "threshold of  0.6861399999999949  results in 31 high-prob-predictions and a new train set of size  1534\n",
            "threshold of  0.6861499999999948  results in 30 high-prob-predictions and a new train set of size  1533\n",
            "threshold of  0.6861599999999948  results in 30 high-prob-predictions and a new train set of size  1533\n",
            "threshold of  0.6861699999999947  results in 30 high-prob-predictions and a new train set of size  1533\n",
            "threshold of  0.6861799999999947  results in 30 high-prob-predictions and a new train set of size  1533\n",
            "threshold of  0.6861899999999946  results in 30 high-prob-predictions and a new train set of size  1533\n",
            "threshold of  0.6861999999999946  results in 29 high-prob-predictions and a new train set of size  1532\n",
            "threshold of  0.6862099999999945  results in 28 high-prob-predictions and a new train set of size  1531\n",
            "threshold of  0.6862199999999945  results in 28 high-prob-predictions and a new train set of size  1531\n",
            "threshold of  0.6862299999999945  results in 28 high-prob-predictions and a new train set of size  1531\n",
            "threshold of  0.6862399999999944  results in 28 high-prob-predictions and a new train set of size  1531\n",
            "threshold of  0.6862499999999944  results in 28 high-prob-predictions and a new train set of size  1531\n",
            "threshold of  0.6862599999999943  results in 28 high-prob-predictions and a new train set of size  1531\n",
            "threshold of  0.6862699999999943  results in 28 high-prob-predictions and a new train set of size  1531\n",
            "threshold of  0.6862799999999942  results in 28 high-prob-predictions and a new train set of size  1531\n",
            "threshold of  0.6862899999999942  results in 28 high-prob-predictions and a new train set of size  1531\n",
            "threshold of  0.6862999999999941  results in 28 high-prob-predictions and a new train set of size  1531\n",
            "threshold of  0.6863099999999941  results in 28 high-prob-predictions and a new train set of size  1531\n",
            "threshold of  0.686319999999994  results in 28 high-prob-predictions and a new train set of size  1531\n",
            "threshold of  0.686329999999994  results in 28 high-prob-predictions and a new train set of size  1531\n",
            "threshold of  0.686339999999994  results in 28 high-prob-predictions and a new train set of size  1531\n",
            "threshold of  0.6863499999999939  results in 28 high-prob-predictions and a new train set of size  1531\n",
            "threshold of  0.6863599999999939  results in 27 high-prob-predictions and a new train set of size  1530\n",
            "threshold of  0.6863699999999938  results in 27 high-prob-predictions and a new train set of size  1530\n",
            "threshold of  0.6863799999999938  results in 27 high-prob-predictions and a new train set of size  1530\n",
            "threshold of  0.6863899999999937  results in 27 high-prob-predictions and a new train set of size  1530\n",
            "threshold of  0.6863999999999937  results in 27 high-prob-predictions and a new train set of size  1530\n",
            "threshold of  0.6864099999999936  results in 27 high-prob-predictions and a new train set of size  1530\n",
            "threshold of  0.6864199999999936  results in 27 high-prob-predictions and a new train set of size  1530\n",
            "threshold of  0.6864299999999935  results in 26 high-prob-predictions and a new train set of size  1529\n",
            "threshold of  0.6864399999999935  results in 25 high-prob-predictions and a new train set of size  1528\n",
            "threshold of  0.6864499999999935  results in 25 high-prob-predictions and a new train set of size  1528\n",
            "threshold of  0.6864599999999934  results in 25 high-prob-predictions and a new train set of size  1528\n",
            "threshold of  0.6864699999999934  results in 25 high-prob-predictions and a new train set of size  1528\n",
            "threshold of  0.6864799999999933  results in 25 high-prob-predictions and a new train set of size  1528\n",
            "threshold of  0.6864899999999933  results in 24 high-prob-predictions and a new train set of size  1527\n",
            "threshold of  0.6864999999999932  results in 24 high-prob-predictions and a new train set of size  1527\n",
            "threshold of  0.6865099999999932  results in 24 high-prob-predictions and a new train set of size  1527\n",
            "threshold of  0.6865199999999931  results in 24 high-prob-predictions and a new train set of size  1527\n",
            "threshold of  0.6865299999999931  results in 24 high-prob-predictions and a new train set of size  1527\n",
            "threshold of  0.686539999999993  results in 24 high-prob-predictions and a new train set of size  1527\n",
            "threshold of  0.686549999999993  results in 24 high-prob-predictions and a new train set of size  1527\n",
            "threshold of  0.686559999999993  results in 24 high-prob-predictions and a new train set of size  1527\n",
            "threshold of  0.6865699999999929  results in 23 high-prob-predictions and a new train set of size  1526\n",
            "threshold of  0.6865799999999929  results in 23 high-prob-predictions and a new train set of size  1526\n",
            "threshold of  0.6865899999999928  results in 23 high-prob-predictions and a new train set of size  1526\n",
            "threshold of  0.6865999999999928  results in 23 high-prob-predictions and a new train set of size  1526\n",
            "threshold of  0.6866099999999927  results in 22 high-prob-predictions and a new train set of size  1525\n",
            "threshold of  0.6866199999999927  results in 22 high-prob-predictions and a new train set of size  1525\n",
            "threshold of  0.6866299999999926  results in 22 high-prob-predictions and a new train set of size  1525\n",
            "threshold of  0.6866399999999926  results in 21 high-prob-predictions and a new train set of size  1524\n",
            "threshold of  0.6866499999999925  results in 21 high-prob-predictions and a new train set of size  1524\n",
            "threshold of  0.6866599999999925  results in 21 high-prob-predictions and a new train set of size  1524\n",
            "threshold of  0.6866699999999925  results in 21 high-prob-predictions and a new train set of size  1524\n",
            "threshold of  0.6866799999999924  results in 20 high-prob-predictions and a new train set of size  1523\n",
            "threshold of  0.6866899999999924  results in 20 high-prob-predictions and a new train set of size  1523\n",
            "threshold of  0.6866999999999923  results in 20 high-prob-predictions and a new train set of size  1523\n",
            "threshold of  0.6867099999999923  results in 20 high-prob-predictions and a new train set of size  1523\n",
            "threshold of  0.6867199999999922  results in 20 high-prob-predictions and a new train set of size  1523\n",
            "threshold of  0.6867299999999922  results in 20 high-prob-predictions and a new train set of size  1523\n",
            "threshold of  0.6867399999999921  results in 20 high-prob-predictions and a new train set of size  1523\n",
            "threshold of  0.6867499999999921  results in 20 high-prob-predictions and a new train set of size  1523\n",
            "threshold of  0.686759999999992  results in 20 high-prob-predictions and a new train set of size  1523\n",
            "threshold of  0.686769999999992  results in 20 high-prob-predictions and a new train set of size  1523\n",
            "threshold of  0.686779999999992  results in 20 high-prob-predictions and a new train set of size  1523\n",
            "threshold of  0.6867899999999919  results in 20 high-prob-predictions and a new train set of size  1523\n",
            "threshold of  0.6867999999999919  results in 20 high-prob-predictions and a new train set of size  1523\n",
            "threshold of  0.6868099999999918  results in 19 high-prob-predictions and a new train set of size  1522\n",
            "threshold of  0.6868199999999918  results in 19 high-prob-predictions and a new train set of size  1522\n",
            "threshold of  0.6868299999999917  results in 19 high-prob-predictions and a new train set of size  1522\n",
            "threshold of  0.6868399999999917  results in 19 high-prob-predictions and a new train set of size  1522\n",
            "threshold of  0.6868499999999916  results in 19 high-prob-predictions and a new train set of size  1522\n",
            "threshold of  0.6868599999999916  results in 19 high-prob-predictions and a new train set of size  1522\n",
            "threshold of  0.6868699999999915  results in 19 high-prob-predictions and a new train set of size  1522\n",
            "threshold of  0.6868799999999915  results in 19 high-prob-predictions and a new train set of size  1522\n",
            "threshold of  0.6868899999999915  results in 18 high-prob-predictions and a new train set of size  1521\n",
            "threshold of  0.6868999999999914  results in 18 high-prob-predictions and a new train set of size  1521\n",
            "threshold of  0.6869099999999914  results in 18 high-prob-predictions and a new train set of size  1521\n",
            "threshold of  0.6869199999999913  results in 18 high-prob-predictions and a new train set of size  1521\n",
            "threshold of  0.6869299999999913  results in 18 high-prob-predictions and a new train set of size  1521\n",
            "threshold of  0.6869399999999912  results in 18 high-prob-predictions and a new train set of size  1521\n",
            "threshold of  0.6869499999999912  results in 17 high-prob-predictions and a new train set of size  1520\n",
            "threshold of  0.6869599999999911  results in 17 high-prob-predictions and a new train set of size  1520\n",
            "threshold of  0.6869699999999911  results in 17 high-prob-predictions and a new train set of size  1520\n",
            "threshold of  0.686979999999991  results in 17 high-prob-predictions and a new train set of size  1520\n",
            "threshold of  0.686989999999991  results in 16 high-prob-predictions and a new train set of size  1519\n",
            "threshold of  0.686999999999991  results in 16 high-prob-predictions and a new train set of size  1519\n"
          ],
          "name": "stdout"
        },
        {
          "output_type": "display_data",
          "data": {
            "image/png": "[encoded data removed]",
            "text/plain": [
              "<Figure size 864x576 with 1 Axes>"
            ]
          },
          "metadata": {
            "tags": []
          }
        },
        {
          "output_type": "stream",
          "text": [
            "Duration:  372.6588047620003\n"
          ],
          "name": "stdout"
        }
      ]
    },
    {
      "metadata": {
        "id": "66_KAZj9M463",
        "colab_type": "text"
      },
      "cell_type": "markdown",
      "source": [
        "As we can see we can reach very high peaks (up to 75 DMC Score)!\n",
        "\n",
        "\n",
        "**TODO**: Use K-Fold cross Validation to get optimal peak (without overfitting on validation split)"
      ]
    },
    {
      "metadata": {
        "id": "qV70dCCgZtnq",
        "colab_type": "text"
      },
      "cell_type": "markdown",
      "source": [
        "## Calculated Treshold\n",
        "We can set the threshold to the percentage that should lead to improved results (as calculated [here](https://github.com/CptK1ng/dmc2019/issues/9#issuecomment-485343221)):"
      ]
    },
    {
      "metadata": {
        "id": "IWEFOqgyWfRh",
        "colab_type": "code",
        "colab": {
          "base_uri": "https://localhost:8080/",
          "height": 53
        },
        "outputId": "84691611-6389-492c-dd67-28c9bd928f81"
      },
      "cell_type": "code",
      "source": [
        "classifier_adb.fit(*get_train_new(0.71))\n",
        "print(\"AdaBoost\", \"\\t\", score_function(y_val, classifier_adb.predict(X_val)) )"
      ],
      "execution_count": 45,
      "outputs": [
        {
          "output_type": "stream",
          "text": [
            "threshold of  0.71  results in 0 high-prob-predictions and a new train set of size  1503\n",
            "AdaBoost \t (0.8771929824561403, 35, 0.09308510638297872, [[351, 2], [3, 20]])\n"
          ],
          "name": "stdout"
        }
      ]
    },
    {
      "metadata": {
        "id": "fklD5s-QZgph",
        "colab_type": "text"
      },
      "cell_type": "markdown",
      "source": [
        "unfortunately, there are no test set predictions with such high accuracy, and therefore the new train set size (1503) is equal to the original train size.\n",
        "\n",
        "we can conclude that this method does not improve the final DMC score if we do not find a better classificator which has a higher prediction certainity (>0.71) on the test set rows."
      ]
    }
  ]
}