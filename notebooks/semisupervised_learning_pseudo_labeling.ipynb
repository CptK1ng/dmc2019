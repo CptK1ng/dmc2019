{
 "cells": [
  {
   "cell_type": "markdown",
   "metadata": {
    "colab_type": "text",
    "id": "view-in-github"
   },
   "source": [
    "<a href=\"https://colab.research.google.com/github/CptK1ng/dmc2019/blob/alexander_dev/notebooks/semisupervised_learning_pseudo_labeling.ipynb\" target=\"_parent\"><img src=\"https://colab.research.google.com/assets/colab-badge.svg\" alt=\"Open In Colab\"/></a>"
   ]
  },
  {
   "cell_type": "markdown",
   "metadata": {
    "colab_type": "text",
    "id": "hZdo8Tl0fXb2"
   },
   "source": [
    "# Semi Supervised Learning using Pseudo Labeling\n",
    "by Alexander\n",
    "\n",
    "inspired by [this blog post](https://towardsdatascience.com/simple-explanation-of-semi-supervised-learning-and-pseudo-labeling-c2218e8c769b).\n",
    "\n",
    "TODO: Try [tpu sklearn xgboost ml engine](https://cloud.google.com/ml-engine/docs/scikit/getting-started-training)"
   ]
  },
  {
   "cell_type": "code",
   "execution_count": 1,
   "metadata": {
    "colab": {},
    "colab_type": "code",
    "id": "BwIvIe_ffXEE"
   },
   "outputs": [],
   "source": [
    "import pandas as pd\n",
    "import numpy as np\n",
    "from sklearn import metrics\n",
    "from sklearn.ensemble import AdaBoostClassifier\n",
    "from sklearn.tree import DecisionTreeClassifier\n",
    "import matplotlib.pyplot as plt\n",
    "import time as time\n",
    "%matplotlib inline"
   ]
  },
  {
   "cell_type": "markdown",
   "metadata": {
    "colab_type": "text",
    "id": "8ZkZjgCzjjiZ"
   },
   "source": [
    "Download our custom Dataset splits and the unlabeled Test Set:"
   ]
  },
  {
   "cell_type": "code",
   "execution_count": 4,
   "metadata": {
    "colab": {},
    "colab_type": "code",
    "id": "8RCQLJMdgWbO"
   },
   "outputs": [
    {
     "name": "stderr",
     "output_type": "stream",
     "text": [
      "'wget' is not recognized as an internal or external command,\n",
      "operable program or batch file.\n",
      "'wget' is not recognized as an internal or external command,\n",
      "operable program or batch file.\n",
      "'wget' is not recognized as an internal or external command,\n",
      "operable program or batch file.\n"
     ]
    }
   ],
   "source": [
    "!wget -nc -q --show-progress https://www.dropbox.com/s/6m8iq9ogpzmu7vx/train_new.csv?dl=1 -O train_new.csv\n",
    "!wget -nc -q --show-progress https://www.dropbox.com/s/tjpkc45oqn3uv8s/val_new.csv?dl=1 -O val_new.csv\n",
    "!wget -nc -q --show-progress https://www.dropbox.com/s/hbd6nzgwlnevu4x/test.csv?dl=1 -O test.csv"
   ]
  },
  {
   "cell_type": "markdown",
   "metadata": {
    "colab_type": "text",
    "id": "cAb2HKAIgU61"
   },
   "source": [
    "Import Data:"
   ]
  },
  {
   "cell_type": "code",
   "execution_count": 2,
   "metadata": {
    "colab": {
     "base_uri": "https://localhost:8080/",
     "height": 130
    },
    "colab_type": "code",
    "id": "J1FZN5BKjfSU",
    "outputId": "5a7bfe1d-4b4f-487c-b077-b124b97b2ac7"
   },
   "outputs": [
    {
     "data": {
      "text/html": [
       "<div>\n",
       "<style scoped>\n",
       "    .dataframe tbody tr th:only-of-type {\n",
       "        vertical-align: middle;\n",
       "    }\n",
       "\n",
       "    .dataframe tbody tr th {\n",
       "        vertical-align: top;\n",
       "    }\n",
       "\n",
       "    .dataframe thead th {\n",
       "        text-align: right;\n",
       "    }\n",
       "</style>\n",
       "<table border=\"1\" class=\"dataframe\">\n",
       "  <thead>\n",
       "    <tr style=\"text-align: right;\">\n",
       "      <th></th>\n",
       "      <th>trustLevel</th>\n",
       "      <th>totalScanTimeInSeconds</th>\n",
       "      <th>grandTotal</th>\n",
       "      <th>lineItemVoids</th>\n",
       "      <th>scansWithoutRegistration</th>\n",
       "      <th>quantityModifications</th>\n",
       "      <th>scannedLineItemsPerSecond</th>\n",
       "      <th>valuePerSecond</th>\n",
       "      <th>lineItemVoidsPerPosition</th>\n",
       "      <th>fraud</th>\n",
       "    </tr>\n",
       "  </thead>\n",
       "  <tbody>\n",
       "    <tr>\n",
       "      <th>0</th>\n",
       "      <td>4</td>\n",
       "      <td>828</td>\n",
       "      <td>66.56</td>\n",
       "      <td>7</td>\n",
       "      <td>4</td>\n",
       "      <td>3</td>\n",
       "      <td>0.007246</td>\n",
       "      <td>0.080386</td>\n",
       "      <td>1.166667</td>\n",
       "      <td>0</td>\n",
       "    </tr>\n",
       "    <tr>\n",
       "      <th>1</th>\n",
       "      <td>1</td>\n",
       "      <td>1612</td>\n",
       "      <td>31.34</td>\n",
       "      <td>2</td>\n",
       "      <td>4</td>\n",
       "      <td>3</td>\n",
       "      <td>0.008685</td>\n",
       "      <td>0.019442</td>\n",
       "      <td>0.142857</td>\n",
       "      <td>0</td>\n",
       "    </tr>\n",
       "  </tbody>\n",
       "</table>\n",
       "</div>"
      ],
      "text/plain": [
       "   trustLevel  totalScanTimeInSeconds  grandTotal  lineItemVoids  \\\n",
       "0           4                     828       66.56              7   \n",
       "1           1                    1612       31.34              2   \n",
       "\n",
       "   scansWithoutRegistration  quantityModifications  scannedLineItemsPerSecond  \\\n",
       "0                         4                      3                   0.007246   \n",
       "1                         4                      3                   0.008685   \n",
       "\n",
       "   valuePerSecond  lineItemVoidsPerPosition  fraud  \n",
       "0        0.080386                  1.166667      0  \n",
       "1        0.019442                  0.142857      0  "
      ]
     },
     "execution_count": 2,
     "metadata": {},
     "output_type": "execute_result"
    }
   ],
   "source": [
    "df_train_original = pd.read_csv(\"../data/train_new.csv\", sep=\"|\")\n",
    "df_val_original = pd.read_csv(\"../data/val_new.csv\", sep=\"|\")\n",
    "df_test_original = pd.read_csv(\"../data/test.csv\", sep=\"|\")\n",
    "df_train_original.head(2)"
   ]
  },
  {
   "cell_type": "markdown",
   "metadata": {
    "colab_type": "text",
    "id": "Zg4C1iL9QCQE"
   },
   "source": [
    "## Feature Engineering"
   ]
  },
  {
   "cell_type": "code",
   "execution_count": 3,
   "metadata": {
    "colab": {
     "base_uri": "https://localhost:8080/",
     "height": 222
    },
    "colab_type": "code",
    "id": "IxXhVitoQFTe",
    "outputId": "cc4abbb6-d359-444a-a517-d5f0e6c8c051"
   },
   "outputs": [
    {
     "data": {
      "text/html": [
       "<div>\n",
       "<style scoped>\n",
       "    .dataframe tbody tr th:only-of-type {\n",
       "        vertical-align: middle;\n",
       "    }\n",
       "\n",
       "    .dataframe tbody tr th {\n",
       "        vertical-align: top;\n",
       "    }\n",
       "\n",
       "    .dataframe thead th {\n",
       "        text-align: right;\n",
       "    }\n",
       "</style>\n",
       "<table border=\"1\" class=\"dataframe\">\n",
       "  <thead>\n",
       "    <tr style=\"text-align: right;\">\n",
       "      <th></th>\n",
       "      <th>trustLevel</th>\n",
       "      <th>totalScanTimeInSeconds</th>\n",
       "      <th>grandTotal</th>\n",
       "      <th>lineItemVoids</th>\n",
       "      <th>scansWithoutRegistration</th>\n",
       "      <th>quantityModifications</th>\n",
       "      <th>scannedLineItemsPerSecond</th>\n",
       "      <th>valuePerSecond</th>\n",
       "      <th>lineItemVoidsPerPosition</th>\n",
       "      <th>fraud</th>\n",
       "      <th>totalLineItems</th>\n",
       "    </tr>\n",
       "  </thead>\n",
       "  <tbody>\n",
       "    <tr>\n",
       "      <th>0</th>\n",
       "      <td>4</td>\n",
       "      <td>828</td>\n",
       "      <td>66.56</td>\n",
       "      <td>7</td>\n",
       "      <td>4</td>\n",
       "      <td>3</td>\n",
       "      <td>0.007246</td>\n",
       "      <td>0.080386</td>\n",
       "      <td>1.166667</td>\n",
       "      <td>0</td>\n",
       "      <td>6.0</td>\n",
       "    </tr>\n",
       "    <tr>\n",
       "      <th>1</th>\n",
       "      <td>1</td>\n",
       "      <td>1612</td>\n",
       "      <td>31.34</td>\n",
       "      <td>2</td>\n",
       "      <td>4</td>\n",
       "      <td>3</td>\n",
       "      <td>0.008685</td>\n",
       "      <td>0.019442</td>\n",
       "      <td>0.142857</td>\n",
       "      <td>0</td>\n",
       "      <td>14.0</td>\n",
       "    </tr>\n",
       "    <tr>\n",
       "      <th>2</th>\n",
       "      <td>3</td>\n",
       "      <td>848</td>\n",
       "      <td>52.37</td>\n",
       "      <td>2</td>\n",
       "      <td>4</td>\n",
       "      <td>0</td>\n",
       "      <td>0.022406</td>\n",
       "      <td>0.061757</td>\n",
       "      <td>0.105263</td>\n",
       "      <td>0</td>\n",
       "      <td>19.0</td>\n",
       "    </tr>\n",
       "    <tr>\n",
       "      <th>3</th>\n",
       "      <td>1</td>\n",
       "      <td>321</td>\n",
       "      <td>76.03</td>\n",
       "      <td>8</td>\n",
       "      <td>7</td>\n",
       "      <td>2</td>\n",
       "      <td>0.071651</td>\n",
       "      <td>0.236854</td>\n",
       "      <td>0.347826</td>\n",
       "      <td>0</td>\n",
       "      <td>23.0</td>\n",
       "    </tr>\n",
       "    <tr>\n",
       "      <th>4</th>\n",
       "      <td>1</td>\n",
       "      <td>660</td>\n",
       "      <td>6.06</td>\n",
       "      <td>3</td>\n",
       "      <td>7</td>\n",
       "      <td>1</td>\n",
       "      <td>0.027273</td>\n",
       "      <td>0.009182</td>\n",
       "      <td>0.166667</td>\n",
       "      <td>0</td>\n",
       "      <td>18.0</td>\n",
       "    </tr>\n",
       "  </tbody>\n",
       "</table>\n",
       "</div>"
      ],
      "text/plain": [
       "   trustLevel  totalScanTimeInSeconds  grandTotal  lineItemVoids  \\\n",
       "0           4                     828       66.56              7   \n",
       "1           1                    1612       31.34              2   \n",
       "2           3                     848       52.37              2   \n",
       "3           1                     321       76.03              8   \n",
       "4           1                     660        6.06              3   \n",
       "\n",
       "   scansWithoutRegistration  quantityModifications  scannedLineItemsPerSecond  \\\n",
       "0                         4                      3                   0.007246   \n",
       "1                         4                      3                   0.008685   \n",
       "2                         4                      0                   0.022406   \n",
       "3                         7                      2                   0.071651   \n",
       "4                         7                      1                   0.027273   \n",
       "\n",
       "   valuePerSecond  lineItemVoidsPerPosition  fraud  totalLineItems  \n",
       "0        0.080386                  1.166667      0             6.0  \n",
       "1        0.019442                  0.142857      0            14.0  \n",
       "2        0.061757                  0.105263      0            19.0  \n",
       "3        0.236854                  0.347826      0            23.0  \n",
       "4        0.009182                  0.166667      0            18.0  "
      ]
     },
     "execution_count": 3,
     "metadata": {},
     "output_type": "execute_result"
    }
   ],
   "source": [
    "def prepareData(df):\n",
    "  df = df.copy()\n",
    "  df['totalLineItems'] = df['scannedLineItemsPerSecond'] * df['totalScanTimeInSeconds'] #nur of scanned products\n",
    "  return df\n",
    "\n",
    "df_train = prepareData(df_train_original)\n",
    "df_val = prepareData(df_val_original)\n",
    "df_test = prepareData(df_test_original)\n",
    "\n",
    "df_train.head()"
   ]
  },
  {
   "cell_type": "markdown",
   "metadata": {
    "colab_type": "text",
    "id": "kJ3RS4y8P69r"
   },
   "source": [
    "## Split X and Y"
   ]
  },
  {
   "cell_type": "code",
   "execution_count": 4,
   "metadata": {
    "colab": {
     "base_uri": "https://localhost:8080/",
     "height": 35
    },
    "colab_type": "code",
    "id": "W8Zx4xDCpn9n",
    "outputId": "b23913bd-5151-48a8-c829-825cc54bd410"
   },
   "outputs": [
    {
     "name": "stdout",
     "output_type": "stream",
     "text": [
      "Shapes (1503, 10) (376, 10) (498121, 10) (1503,) (376,)\n"
     ]
    }
   ],
   "source": [
    "# Splitting the final dataset into internal training and testing datasets\n",
    "df_train_X = df_train.drop('fraud', axis=1)\n",
    "df_train_y = df_train['fraud']\n",
    "df_val_X = df_val.drop('fraud', axis=1)\n",
    "df_val_y = df_val['fraud']\n",
    "df_test_X = df_test.copy()\n",
    "# df_test_y will be predicted by classificator\n",
    "\n",
    "X_train, X_val, X_test, y_train, y_val = df_train_X.values, df_val_X.values, df_test_X, df_train_y.values, df_val_y.values\n",
    "print(\"Shapes\",X_train.shape, X_val.shape, X_test.shape, y_train.shape, y_val.shape)"
   ]
  },
  {
   "cell_type": "markdown",
   "metadata": {
    "colab_type": "text",
    "id": "g_24sukxplja"
   },
   "source": [
    "## Simple Classificator\n"
   ]
  },
  {
   "cell_type": "code",
   "execution_count": 5,
   "metadata": {
    "colab": {},
    "colab_type": "code",
    "id": "VxK__sj3p7MS"
   },
   "outputs": [],
   "source": [
    "def score_function(y_true, y_pred):\n",
    "  dmc = np.sum(metrics.confusion_matrix(y_true, y_pred)*np.array([[0, -25],[ -5, 5]])) #sklearn gives [[tn,fp],[fn,tp]]\n",
    "  return (0 if all(y_pred == 0) else metrics.fbeta_score(y_true, y_pred, beta=2),\n",
    "          dmc, \n",
    "          dmc/len(y_pred), #comparable relative score, the higher the better.\n",
    "          metrics.confusion_matrix(y_true, y_pred).tolist())"
   ]
  },
  {
   "cell_type": "markdown",
   "metadata": {
    "colab_type": "text",
    "id": "eKG66tvLPzhh"
   },
   "source": [
    "##  Classify labels for validation set on training set"
   ]
  },
  {
   "cell_type": "code",
   "execution_count": 6,
   "metadata": {
    "colab": {
     "base_uri": "https://localhost:8080/",
     "height": 35
    },
    "colab_type": "code",
    "id": "z68iBle7P2q5",
    "outputId": "c20aa3af-f2dd-45c8-fc40-312eb863fcc1"
   },
   "outputs": [
    {
     "name": "stdout",
     "output_type": "stream",
     "text": [
      "AdaBoost \t (0.8771929824561403, 35, 0.09308510638297872, [[351, 2], [3, 20]])\n"
     ]
    }
   ],
   "source": [
    "classifier_adb = AdaBoostClassifier(base_estimator=DecisionTreeClassifier(max_depth=3), n_estimators=500, algorithm='SAMME', random_state=1)\n",
    "\n",
    "# Fitting the model and printing the accuracy score\n",
    "classifier_adb.fit(X_train, y_train)\n",
    "print(\"AdaBoost\", \"\\t\", score_function(y_val, classifier_adb.predict(X_val)) )"
   ]
  },
  {
   "cell_type": "markdown",
   "metadata": {
    "colab_type": "text",
    "id": "48vwHF3ZtMJ8"
   },
   "source": [
    "### Classify labels for test set on training set"
   ]
  },
  {
   "cell_type": "code",
   "execution_count": 7,
   "metadata": {
    "colab": {
     "base_uri": "https://localhost:8080/",
     "height": 269
    },
    "colab_type": "code",
    "id": "SusiRpJBtP2m",
    "outputId": "a81c5a8e-5b5a-4719-cebc-159f1a0e52de"
   },
   "outputs": [
    {
     "name": "stdout",
     "output_type": "stream",
     "text": [
      "[0 0 0 0 0 0 0 0 0 0 0 0 0 0 0 0 0 0 0 0 0 0 0 0 0 0 0 0 0 0 0 0 0 0 0 0 0\n",
      " 0 0 0 0 0 0 0 0 0 0 0 0 0 0 0 0 0 0 0 0 0 0 0 0 0 0 0 0 0 0 0 0 0 0 0 0 0\n",
      " 0 0 0 0 0 1 0 0 0 0 0 0 0 0 0 0 0 0 0 0 0 0 0 0 0 0 0 0 0 0 0 0 0 0 0 1 0\n",
      " 0 0 0 0 0 0 0 0 0 0 0 0 0 0 0 0 0 0 0 0 0 0 0 0 0 0 0 0 0 0 0 0 0 0 0 0 0\n",
      " 0 0 0 0 0 0 0 0 0 0 0 1 0 0 0 0 0 0 0 0 0 0 0 0 0 1 0 0 0 0 0 0 0 0 0 0 0\n",
      " 0 0 0 0 0 0 0 0 0 0 0 0 0 0 0 0 0 0 0 0 0 0 0 0 0 0 0 0 0 0 0 0 0 0 0 0 0\n",
      " 0 0 0 0 0 0 0 0 0 0 0 0 0 0 0 0 0 0 0 0 0 0 0 0 0 0 0 0 0 0 0 0 0 0 0 0 0\n",
      " 0 0 1 0 0 0 0 1 0 0 0 0 0 0 0 0 0 0 0 1 0 0 0 0 0 0 0 0 0 0 0 0 0 0 0 0 0\n",
      " 0 0 0 0 0 0 0 0 0 0 0 0 0 0 0 0 0 1 0 0 0 0 0 0 0 0 0 0 0 0 0 0 0 0 0 1 0\n",
      " 0 0 0 0 0 0 0 0 0 1 0 0 0 0 0 0 0 0 0 0 0 0 0 0 0 0 0 0 0 0 0 0 0 0 0 0 0\n",
      " 0 0 0 1 0 0 0 0 0 0 0 0 0 0 0 0 0 0 0 1 0 0 0 0 0 0 0 0 0 0 0 0 0 0 0 0 0\n",
      " 0 0 0 0 0 0 0 0 0 0 0 0 0 0 0 0 0 0 0 0 0 0 0 0 0 0 0 0 0 0 0 0 0 0 0 0 0\n",
      " 0 0 0 0 0 0 0 0 0 0 0 0 0 0 0 0 0 0 0 0 0 0 0 0 0 0 0 0 0 0 0 0 0 0 0 0 0\n",
      " 0 0 0 0 0 0 0 0 0 0 0 0 0 0 0 0 0 0]\n"
     ]
    }
   ],
   "source": [
    "#classifier_adb.fit(X_train, y_train)\n",
    "y_test = classifier_adb.predict(X_test)\n",
    "print(y_test[1:500])"
   ]
  },
  {
   "cell_type": "markdown",
   "metadata": {
    "colab_type": "text",
    "id": "Fogf12cctR9k"
   },
   "source": [
    "### Combine Train and Test Set for new combined Test Set"
   ]
  },
  {
   "cell_type": "code",
   "execution_count": 8,
   "metadata": {
    "colab": {
     "base_uri": "https://localhost:8080/",
     "height": 35
    },
    "colab_type": "code",
    "id": "tt8bcApwuU_L",
    "outputId": "b6bde3c9-18ac-475d-8b43-0aa80c12caba"
   },
   "outputs": [
    {
     "name": "stdout",
     "output_type": "stream",
     "text": [
      "Shapes: (499624, 10) (499624,)\n"
     ]
    }
   ],
   "source": [
    "X_train_new = np.concatenate((X_train, X_test))\n",
    "y_train_new = np.concatenate((y_train, y_test))\n",
    "print(\"Shapes:\",X_train_new.shape,y_train_new.shape)"
   ]
  },
  {
   "cell_type": "markdown",
   "metadata": {
    "colab_type": "text",
    "id": "8bebYMfguV0e"
   },
   "source": [
    "##  Classify labels for validation set on training and testing set\n",
    "this is hardware intensive and takes a long time!"
   ]
  },
  {
   "cell_type": "code",
   "execution_count": 9,
   "metadata": {
    "colab": {
     "base_uri": "https://localhost:8080/",
     "height": 35
    },
    "colab_type": "code",
    "id": "hRHnDCxQqPVl",
    "outputId": "8e3d74fe-bf6b-4dee-a61f-51b0ea4957c4"
   },
   "outputs": [
    {
     "name": "stdout",
     "output_type": "stream",
     "text": [
      "AdaBoost \t (0.8695652173913043, 10, 0.026595744680851064, [[350, 3], [3, 20]])\n",
      "Duration:  356.31300000000005\n"
     ]
    }
   ],
   "source": [
    "# Now test inference with semi supervised learned new training dataset\n",
    "training_set_size = X_test.shape[0]    # maximum is X_test.shape[0], but we can use less for faster training.\n",
    "                            # TODO: when running on high perfomance CPU, please set to maximum.\n",
    "\n",
    "start = time.monotonic()\n",
    "    \n",
    "classifier_adb = AdaBoostClassifier(base_estimator=DecisionTreeClassifier(max_depth=3), n_estimators=500, algorithm='SAMME', random_state=1)\n",
    "classifier_adb.fit(X_train_new[0:training_set_size], y_train_new[0:training_set_size])  # training, this is slow and takes long\n",
    "\n",
    "print(\"AdaBoost\", \"\\t\", score_function(y_val, classifier_adb.predict(X_val)) )            # inference, fast\n",
    "duration = time.monotonic() - start\n",
    "print(\"Duration: \", duration)"
   ]
  },
  {
   "cell_type": "markdown",
   "metadata": {
    "colab_type": "text",
    "id": "f2xJpQL8CxVx"
   },
   "source": [
    "### Visualising for different train/test percentages in X_train_new\n",
    "Plot (normal or relative) DMC Score for increasing number of \"training_set_size\" to find best number.\n",
    "\n",
    "this is even more hardware intensive and takes an even long time!"
   ]
  },
  {
   "cell_type": "code",
   "execution_count": 11,
   "metadata": {
    "colab": {
     "base_uri": "https://localhost:8080/",
     "height": 501
    },
    "colab_type": "code",
    "id": "lYHHgRWqA6nK",
    "outputId": "13b45291-6adb-4cca-c8e5-1bd68998f7c1"
   },
   "outputs": [
    {
     "data": {
      "image/png": "[encoded data removed]",
      "text/plain": [
       "<Figure size 864x576 with 1 Axes>"
      ]
     },
     "metadata": {
      "needs_background": "light"
     },
     "output_type": "display_data"
    },
    {
     "name": "stdout",
     "output_type": "stream",
     "text": [
      "Duration:  8954.61\n"
     ]
    }
   ],
   "source": [
    "stepsize = 10000\n",
    "start_plot = time.monotonic()\n",
    "dmc_score = []\n",
    "for i in range(stepsize,training_set_size+1,stepsize):\n",
    "  classifier_adb = AdaBoostClassifier(base_estimator=DecisionTreeClassifier(max_depth=3), n_estimators=500, algorithm='SAMME', random_state=1)\n",
    "  classifier_adb.fit(X_train_new[0:i], y_train_new[0:i])  # training, this is slow and takes long\n",
    "  dmc_score.append(score_function(y_val, classifier_adb.predict(X_val))[1])\n",
    "\n",
    "plt.figure(figsize=(12, 8))\n",
    "plt.xlabel('how much from test')\n",
    "plt.ylabel('dmc score')\n",
    "plt.plot(range(stepsize,training_set_size+1,stepsize), dmc_score, label=\"AdaBoost\")\n",
    "plt.legend()\n",
    "plt.show()\n",
    "duration_plot = time.monotonic() - start\n",
    "print(\"Duration: \", duration_plot)"
   ]
  },
  {
   "cell_type": "code",
   "execution_count": null,
   "metadata": {},
   "outputs": [],
   "source": []
  }
 ],
 "metadata": {
  "accelerator": "GPU",
  "colab": {
   "include_colab_link": true,
   "name": "EDA.ipynb",
   "provenance": [],
   "version": "0.3.2"
  },
  "kernelspec": {
   "display_name": "Python 3",
   "language": "python",
   "name": "python3"
  },
  "language_info": {
   "codemirror_mode": {
    "name": "ipython",
    "version": 3
   },
   "file_extension": ".py",
   "mimetype": "text/x-python",
   "name": "python",
   "nbconvert_exporter": "python",
   "pygments_lexer": "ipython3",
   "version": "3.7.3"
  }
 },
 "nbformat": 4,
 "nbformat_minor": 1
}
