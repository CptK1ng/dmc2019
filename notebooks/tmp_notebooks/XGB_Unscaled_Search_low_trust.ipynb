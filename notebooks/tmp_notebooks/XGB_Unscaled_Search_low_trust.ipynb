{
 "cells": [
  {
   "cell_type": "code",
   "execution_count": 38,
   "metadata": {},
   "outputs": [],
   "source": [
    "import pandas as pd\n",
    "import numpy as np\n",
    "from xgboost import XGBClassifier\n",
    "from sklearn.svm import SVC, LinearSVC\n",
    "from sklearn import metrics\n",
    "from sklearn.preprocessing import MinMaxScaler, StandardScaler\n",
    "from IPython.display import display\n",
    "from sklearn.model_selection import train_test_split\n",
    "from sklearn.neighbors import NearestNeighbors, KDTree\n",
    "from scores import scores\n",
    "import time\n",
    "import warnings\n",
    "from xgboost import XGBClassifier\n",
    "\n",
    "warnings.filterwarnings(\"ignore\")"
   ]
  },
  {
   "cell_type": "markdown",
   "metadata": {},
   "source": [
    "### 4.) Import Data"
   ]
  },
  {
   "cell_type": "code",
   "execution_count": 39,
   "metadata": {},
   "outputs": [],
   "source": [
    "%run ../notebooks/utils.ipynb"
   ]
  },
  {
   "cell_type": "code",
   "execution_count": 40,
   "metadata": {},
   "outputs": [],
   "source": [
    "trainandknn_Xy_original_df = pd.read_csv(\"../data/train_new.csv\", sep=\"|\")\n",
    "train_Xy_original_df, knn_Xy_original_df = train_test_split(trainandknn_Xy_original_df,train_size=0.75, random_state=42) # if FINAL_SUBMISSION else 0.8) #small\n",
    "test_X_original_df  = pd.read_csv(\"../data/test.csv\", sep=\"|\").iloc[0:500] #TODO: For faster testing we use less data from the test set\n",
    "test_final_X_df = pd.read_csv(\"../data/test.csv\", sep=\"|\")\n",
    "\n",
    "train_Xy_wo_knn_df = pd.read_csv(\"../data/train_new.csv\", sep=\"|\")\n",
    "\n",
    "#Only for test routines\n",
    "val_Xy_original_df = pd.read_csv(\"../data/val_new.csv\", sep=\"|\")\n",
    "train_complete_Xy_original_df = pd.read_csv(\"../data/train.csv\", sep=\"|\")"
   ]
  },
  {
   "cell_type": "code",
   "execution_count": 41,
   "metadata": {},
   "outputs": [],
   "source": [
    "#convention for variables names: datasetname_columntype_transformstatus_dataframeornot\n",
    "train_y_original_df = train_Xy_original_df[[\"fraud\"]].copy()\n",
    "train_X_original_df = train_Xy_original_df.copy().drop(\"fraud\", axis=1)\n",
    "\n",
    "knn_y_original_df = knn_Xy_original_df[[\"fraud\"]].copy()\n",
    "knn_X_original_df = knn_Xy_original_df.copy().drop(\"fraud\", axis=1)\n",
    "\n",
    "# Only for test routie#nes\n",
    "val_y_originial_df = val_Xy_original_df[[\"fraud\"]].copy()\n",
    "val_X_originial_df = val_Xy_original_df.copy().drop(\"fraud\", axis=1)\n",
    "\n",
    "train_Xy_wo_knn_df = train_Xy_wo_knn_df.drop(train_Xy_wo_knn_df[train_Xy_wo_knn_df.trustLevel >= 3].index)\n",
    "\n",
    "train_y_wo_knn_df = train_Xy_wo_knn_df[[\"fraud\"]].copy()\n",
    "train_X_wo_knn_df = train_Xy_wo_knn_df.copy().drop(\"fraud\", axis=1)\n",
    "\n",
    "train_complete_y_originial_df = train_complete_Xy_original_df[[\"fraud\"]].copy()\n",
    "train_complete_X_originial_df = train_complete_Xy_original_df.copy().drop(\"fraud\", axis=1)"
   ]
  },
  {
   "cell_type": "code",
   "execution_count": 42,
   "metadata": {},
   "outputs": [
    {
     "data": {
      "text/html": [
       "<div>\n",
       "<style scoped>\n",
       "    .dataframe tbody tr th:only-of-type {\n",
       "        vertical-align: middle;\n",
       "    }\n",
       "\n",
       "    .dataframe tbody tr th {\n",
       "        vertical-align: top;\n",
       "    }\n",
       "\n",
       "    .dataframe thead th {\n",
       "        text-align: right;\n",
       "    }\n",
       "</style>\n",
       "<table border=\"1\" class=\"dataframe\">\n",
       "  <thead>\n",
       "    <tr style=\"text-align: right;\">\n",
       "      <th></th>\n",
       "      <th>trustLevel</th>\n",
       "      <th>totalScanTimeInSeconds</th>\n",
       "      <th>grandTotal</th>\n",
       "      <th>lineItemVoids</th>\n",
       "      <th>scansWithoutRegistration</th>\n",
       "      <th>quantityModifications</th>\n",
       "      <th>scannedLineItemsPerSecond</th>\n",
       "      <th>valuePerSecond</th>\n",
       "      <th>lineItemVoidsPerPosition</th>\n",
       "      <th>totalScannedLineItems</th>\n",
       "    </tr>\n",
       "  </thead>\n",
       "  <tbody>\n",
       "    <tr>\n",
       "      <th>5</th>\n",
       "      <td>1</td>\n",
       "      <td>770</td>\n",
       "      <td>11.09</td>\n",
       "      <td>11</td>\n",
       "      <td>5</td>\n",
       "      <td>2</td>\n",
       "      <td>0.033766</td>\n",
       "      <td>0.014403</td>\n",
       "      <td>0.423077</td>\n",
       "      <td>26.0</td>\n",
       "    </tr>\n",
       "    <tr>\n",
       "      <th>7</th>\n",
       "      <td>2</td>\n",
       "      <td>1545</td>\n",
       "      <td>22.80</td>\n",
       "      <td>0</td>\n",
       "      <td>8</td>\n",
       "      <td>4</td>\n",
       "      <td>0.006472</td>\n",
       "      <td>0.014757</td>\n",
       "      <td>0.000000</td>\n",
       "      <td>10.0</td>\n",
       "    </tr>\n",
       "    <tr>\n",
       "      <th>9</th>\n",
       "      <td>2</td>\n",
       "      <td>725</td>\n",
       "      <td>41.08</td>\n",
       "      <td>10</td>\n",
       "      <td>2</td>\n",
       "      <td>4</td>\n",
       "      <td>0.037241</td>\n",
       "      <td>0.056662</td>\n",
       "      <td>0.370370</td>\n",
       "      <td>27.0</td>\n",
       "    </tr>\n",
       "    <tr>\n",
       "      <th>15</th>\n",
       "      <td>1</td>\n",
       "      <td>870</td>\n",
       "      <td>32.45</td>\n",
       "      <td>3</td>\n",
       "      <td>1</td>\n",
       "      <td>5</td>\n",
       "      <td>0.006897</td>\n",
       "      <td>0.037299</td>\n",
       "      <td>0.500000</td>\n",
       "      <td>6.0</td>\n",
       "    </tr>\n",
       "    <tr>\n",
       "      <th>23</th>\n",
       "      <td>2</td>\n",
       "      <td>125</td>\n",
       "      <td>25.50</td>\n",
       "      <td>5</td>\n",
       "      <td>6</td>\n",
       "      <td>2</td>\n",
       "      <td>0.192000</td>\n",
       "      <td>0.204000</td>\n",
       "      <td>0.208333</td>\n",
       "      <td>24.0</td>\n",
       "    </tr>\n",
       "  </tbody>\n",
       "</table>\n",
       "</div>"
      ],
      "text/plain": [
       "    trustLevel  totalScanTimeInSeconds  grandTotal  lineItemVoids  \\\n",
       "5            1                     770       11.09             11   \n",
       "7            2                    1545       22.80              0   \n",
       "9            2                     725       41.08             10   \n",
       "15           1                     870       32.45              3   \n",
       "23           2                     125       25.50              5   \n",
       "\n",
       "    scansWithoutRegistration  quantityModifications  \\\n",
       "5                          5                      2   \n",
       "7                          8                      4   \n",
       "9                          2                      4   \n",
       "15                         1                      5   \n",
       "23                         6                      2   \n",
       "\n",
       "    scannedLineItemsPerSecond  valuePerSecond  lineItemVoidsPerPosition  \\\n",
       "5                    0.033766        0.014403                  0.423077   \n",
       "7                    0.006472        0.014757                  0.000000   \n",
       "9                    0.037241        0.056662                  0.370370   \n",
       "15                   0.006897        0.037299                  0.500000   \n",
       "23                   0.192000        0.204000                  0.208333   \n",
       "\n",
       "    totalScannedLineItems  \n",
       "5                    26.0  \n",
       "7                    10.0  \n",
       "9                    27.0  \n",
       "15                    6.0  \n",
       "23                   24.0  "
      ]
     },
     "metadata": {},
     "output_type": "display_data"
    },
    {
     "data": {
      "text/plain": [
       "5     1\n",
       "7     0\n",
       "9     0\n",
       "15    0\n",
       "23    0\n",
       "Name: fraud, dtype: int64"
      ]
     },
     "metadata": {},
     "output_type": "display_data"
    }
   ],
   "source": [
    "#scaler = MinMaxScaler()\n",
    "scaler = StandardScaler()\n",
    "transformer = DataTransformer(scaler)\n",
    "\n",
    "# Adding new Features to train and test set\n",
    "train_X_unscaled_df = transformer.add_features(train_X_original_df)\n",
    "test_X_unscaled_df = transformer.add_features(test_X_original_df)\n",
    "knn_X_unscaled_df = transformer.add_features(knn_X_original_df)\n",
    "\n",
    "val_X_unscaled_df = transformer.add_features(val_X_originial_df)\n",
    "train_complete_X_unscaled_df = transformer.add_features(train_complete_X_originial_df) \n",
    "\n",
    "transformer.fit_scaler(transformer.add_features(train_complete_X_unscaled_df.append(test_X_unscaled_df, sort=False)))\n",
    "train_X_scaled_df = transformer.apply_scaler(train_X_unscaled_df)\n",
    "knn_X_scaled_df   = transformer.apply_scaler(knn_X_unscaled_df)\n",
    "\n",
    "\n",
    "test_X_scaled_df  = transformer.apply_scaler(test_X_unscaled_df)\n",
    "val_X_scaled_df = transformer.apply_scaler(val_X_unscaled_df)\n",
    "train_complete_X_scaled_df = transformer.apply_scaler(train_complete_X_unscaled_df)\n",
    "\n",
    "train_X_wo_knn_unscaled_df = transformer.add_features(train_X_wo_knn_df.copy())\n",
    "train_X_wo_knn_scaled_df = transformer.apply_scaler(train_X_wo_knn_unscaled_df)\n",
    "\n",
    "# labels\n",
    "train_y_df = train_y_original_df.copy()\n",
    "val_y_df = val_y_originial_df.copy()\n",
    "knn_y_df = knn_y_original_df.copy()\n",
    "\n",
    "train_complete_X_scaled_df = transformer.apply_scaler(transformer.add_features(train_complete_Xy_original_df.copy().drop(columns=['fraud'])))\n",
    "train_complete_y_df = train_complete_Xy_original_df.copy().fraud\n",
    "train_complete_X_unscaled_df = transformer.add_features(train_complete_Xy_original_df.copy().drop(columns=['fraud']))\n",
    "\n",
    "test_final_X_df = transformer.add_features(test_final_X_df)\n",
    "\n",
    "\n",
    "train_complete_y_df = train_complete_y_df.drop(train_complete_X_unscaled_df[train_complete_X_unscaled_df.trustLevel >= 3].index)\n",
    "train_complete_X_unscaled_df = train_complete_X_unscaled_df.drop(train_complete_X_unscaled_df[train_complete_X_unscaled_df.trustLevel >= 3].index)\n",
    "\n",
    "display(train_complete_X_unscaled_df.head(5))\n",
    "display(train_complete_y_df.head(5))"
   ]
  },
  {
   "cell_type": "markdown",
   "metadata": {},
   "source": [
    "## Scoring functions\n",
    "Defining multiple scores which should be tracked in the HyperParamSearch Object"
   ]
  },
  {
   "cell_type": "code",
   "execution_count": 43,
   "metadata": {},
   "outputs": [],
   "source": [
    "score = scores.Scores()"
   ]
  },
  {
   "cell_type": "code",
   "execution_count": 44,
   "metadata": {},
   "outputs": [],
   "source": [
    "scoring = {'AUC': 'roc_auc', 'FBeta': metrics.make_scorer(metrics.fbeta_score, beta=0.5172), \"Precision\":'precision', \"Recall\": 'recall', \"AP\": score.average_precision, \"DMC\" : score.dmc_score}"
   ]
  },
  {
   "cell_type": "markdown",
   "metadata": {},
   "source": [
    "## Defining the paramteres which should be tuned\n",
    "To tune the hyperparameters, i looked into the [documentation here](https://xgboost.readthedocs.io/en/latest/parameter.html#parameters-for-tree-booster). `randint` can be used for integer values, for float values, use `uniform`. \n",
    "\n",
    "You can also use a Grid search on single parameters to get a feeling for a good interval. If you want to try only two possibilities, you can create a list like for the `scale_pos_weight` parameter.\n",
    "\n",
    "**Note: For the classifiers which work without gpu support, you can probably set a parameter n_jobs=-1 to use all processors**"
   ]
  },
  {
   "cell_type": "code",
   "execution_count": 46,
   "metadata": {},
   "outputs": [],
   "source": [
    "params = {\n",
    "    \"max_depth\": randint(2, 6),  # default 3\n",
    "    \"n_estimators\": randint(200, 450),  # default 100\n",
    "    \"learning_rate\" :  uniform(0.1, 0.7),\n",
    "    \"gamma\" : uniform(0,2),\n",
    "    \"min_child_weight\" : uniform(0,50),\n",
    "    \"max_delta_step\" : uniform(0,10), #Set it to value of 1-10 might help control the update.\n",
    "    \"reg_lambda\" : uniform(0.1,2),\n",
    "}"
   ]
  },
  {
   "cell_type": "markdown",
   "metadata": {},
   "source": [
    "## Creating a classifier with some default values\n",
    "Not all paramters of a classifier should be fine tuned. For SVM for example, the `kernel`-paramter should be set manually. In the case of xgboost, some things like the objective, the booster and the tree method should not be tuned. The choice of paramters depend on the specific classifier"
   ]
  },
  {
   "cell_type": "code",
   "execution_count": 48,
   "metadata": {},
   "outputs": [],
   "source": [
    "default_xgb = XGBClassifier(booster=\"gbtree\",tree_method='gpu_hist', disable_default_eval_metric=1,objective='binary:logistic',eval_metric='aucpr', n_gpus=1, verbosity=2)\n",
    "search = RandomizedSearchCV(default_xgb, scoring=scoring, param_distributions=params, random_state=42, n_iter=500,\n",
    "                            cv=3, verbose=1, n_jobs=-1, return_train_score=True,refit='DMC')"
   ]
  },
  {
   "cell_type": "code",
   "execution_count": 49,
   "metadata": {},
   "outputs": [
    {
     "name": "stdout",
     "output_type": "stream",
     "text": [
      "Fitting 3 folds for each of 2500 candidates, totalling 7500 fits\n"
     ]
    },
    {
     "name": "stderr",
     "output_type": "stream",
     "text": [
      "[Parallel(n_jobs=-1)]: Using backend LokyBackend with 12 concurrent workers.\n",
      "[Parallel(n_jobs=-1)]: Done  26 tasks      | elapsed:    4.3s\n",
      "[Parallel(n_jobs=-1)]: Done 176 tasks      | elapsed:   17.8s\n",
      "[Parallel(n_jobs=-1)]: Done 426 tasks      | elapsed:   39.8s\n",
      "[Parallel(n_jobs=-1)]: Done 776 tasks      | elapsed:  1.2min\n",
      "[Parallel(n_jobs=-1)]: Done 1226 tasks      | elapsed:  1.9min\n",
      "[Parallel(n_jobs=-1)]: Done 1776 tasks      | elapsed:  2.6min\n",
      "[Parallel(n_jobs=-1)]: Done 2426 tasks      | elapsed:  3.6min\n",
      "[Parallel(n_jobs=-1)]: Done 3176 tasks      | elapsed:  4.7min\n",
      "[Parallel(n_jobs=-1)]: Done 4026 tasks      | elapsed:  5.9min\n",
      "[Parallel(n_jobs=-1)]: Done 4976 tasks      | elapsed:  7.3min\n",
      "[Parallel(n_jobs=-1)]: Done 6026 tasks      | elapsed:  8.7min\n",
      "[Parallel(n_jobs=-1)]: Done 7176 tasks      | elapsed: 10.4min\n",
      "[Parallel(n_jobs=-1)]: Done 7500 out of 7500 | elapsed: 10.8min finished\n"
     ]
    }
   ],
   "source": [
    "search = RandomizedSearchCV(default_xgb, scoring=scoring, param_distributions=params, random_state=42, n_iter=2500,\n",
    "                            cv=3, verbose=1, n_jobs=-1, return_train_score=True,refit='DMC')\n",
    "search.fit(train_complete_X_unscaled_df, train_complete_y_df)\n",
    "results = search.cv_results_"
   ]
  },
  {
   "cell_type": "code",
   "execution_count": 50,
   "metadata": {},
   "outputs": [
    {
     "data": {
      "text/plain": [
       "{'gamma': 1.7116458142478073,\n",
       " 'learning_rate': 0.576642048832076,\n",
       " 'max_delta_step': 1.8657849925364134,\n",
       " 'max_depth': 2,\n",
       " 'min_child_weight': 1.8910068276017655,\n",
       " 'n_estimators': 223,\n",
       " 'reg_lambda': 1.0077372399918723}"
      ]
     },
     "execution_count": 50,
     "metadata": {},
     "output_type": "execute_result"
    }
   ],
   "source": [
    "search.best_params_"
   ]
  },
  {
   "cell_type": "code",
   "execution_count": 51,
   "metadata": {},
   "outputs": [],
   "source": [
    "train_complete_Xy_unscaled_df = train_complete_X_unscaled_df.copy()\n",
    "train_complete_Xy_unscaled_df['fraud'] =train_complete_y_df.copy()\n",
    "\n",
    "train_Xy_wo_knn_unscaled_df = train_X_wo_knn_unscaled_df.copy()\n",
    "train_Xy_wo_knn_unscaled_df['fraud'] = train_y_wo_knn_df\n",
    "\n",
    "val_Xy_unscaled = val_X_unscaled_df.copy()\n",
    "val_Xy_unscaled['fraud'] = val_y_df.copy()\n",
    "\n",
    "# need to cut trustLevel >= 3\n"
   ]
  },
  {
   "cell_type": "code",
   "execution_count": 52,
   "metadata": {},
   "outputs": [],
   "source": [
    "train_complete_Xy_unscaled_df_lt = train_complete_Xy_unscaled_df[train_complete_Xy_unscaled_df.trustLevel <= 2]\n",
    "train_Xy_wo_knn_unscaled_df_lt = train_Xy_wo_knn_unscaled_df[train_Xy_wo_knn_unscaled_df.trustLevel <=2]\n",
    "val_Xy_unscaled_lt = val_Xy_unscaled[val_Xy_unscaled.trustLevel <= 2]"
   ]
  },
  {
   "cell_type": "code",
   "execution_count": 53,
   "metadata": {},
   "outputs": [
    {
     "data": {
      "text/html": [
       "<div>\n",
       "<style scoped>\n",
       "    .dataframe tbody tr th:only-of-type {\n",
       "        vertical-align: middle;\n",
       "    }\n",
       "\n",
       "    .dataframe tbody tr th {\n",
       "        vertical-align: top;\n",
       "    }\n",
       "\n",
       "    .dataframe thead th {\n",
       "        text-align: right;\n",
       "    }\n",
       "</style>\n",
       "<table border=\"1\" class=\"dataframe\">\n",
       "  <thead>\n",
       "    <tr style=\"text-align: right;\">\n",
       "      <th></th>\n",
       "      <th>trustLevel</th>\n",
       "      <th>totalScanTimeInSeconds</th>\n",
       "      <th>grandTotal</th>\n",
       "      <th>lineItemVoids</th>\n",
       "      <th>scansWithoutRegistration</th>\n",
       "      <th>quantityModifications</th>\n",
       "      <th>scannedLineItemsPerSecond</th>\n",
       "      <th>valuePerSecond</th>\n",
       "      <th>lineItemVoidsPerPosition</th>\n",
       "      <th>totalScannedLineItems</th>\n",
       "      <th>fraud</th>\n",
       "    </tr>\n",
       "  </thead>\n",
       "  <tbody>\n",
       "    <tr>\n",
       "      <th>count</th>\n",
       "      <td>538.000000</td>\n",
       "      <td>538.000000</td>\n",
       "      <td>538.000000</td>\n",
       "      <td>538.000000</td>\n",
       "      <td>538.000000</td>\n",
       "      <td>538.000000</td>\n",
       "      <td>538.000000</td>\n",
       "      <td>538.000000</td>\n",
       "      <td>538.000000</td>\n",
       "      <td>538.000000</td>\n",
       "      <td>538.000000</td>\n",
       "    </tr>\n",
       "    <tr>\n",
       "      <th>mean</th>\n",
       "      <td>1.520446</td>\n",
       "      <td>916.704461</td>\n",
       "      <td>48.341004</td>\n",
       "      <td>5.565056</td>\n",
       "      <td>4.869888</td>\n",
       "      <td>2.485130</td>\n",
       "      <td>0.043364</td>\n",
       "      <td>0.164894</td>\n",
       "      <td>0.750969</td>\n",
       "      <td>15.265799</td>\n",
       "      <td>0.150558</td>\n",
       "    </tr>\n",
       "    <tr>\n",
       "      <th>std</th>\n",
       "      <td>0.500047</td>\n",
       "      <td>528.424724</td>\n",
       "      <td>29.504421</td>\n",
       "      <td>3.435011</td>\n",
       "      <td>3.170186</td>\n",
       "      <td>1.700247</td>\n",
       "      <td>0.115698</td>\n",
       "      <td>0.805122</td>\n",
       "      <td>1.273789</td>\n",
       "      <td>8.716836</td>\n",
       "      <td>0.357950</td>\n",
       "    </tr>\n",
       "    <tr>\n",
       "      <th>min</th>\n",
       "      <td>1.000000</td>\n",
       "      <td>2.000000</td>\n",
       "      <td>0.070000</td>\n",
       "      <td>0.000000</td>\n",
       "      <td>0.000000</td>\n",
       "      <td>0.000000</td>\n",
       "      <td>0.000551</td>\n",
       "      <td>0.000044</td>\n",
       "      <td>0.000000</td>\n",
       "      <td>1.000000</td>\n",
       "      <td>0.000000</td>\n",
       "    </tr>\n",
       "    <tr>\n",
       "      <th>25%</th>\n",
       "      <td>1.000000</td>\n",
       "      <td>463.250000</td>\n",
       "      <td>23.652500</td>\n",
       "      <td>3.000000</td>\n",
       "      <td>2.000000</td>\n",
       "      <td>1.000000</td>\n",
       "      <td>0.008607</td>\n",
       "      <td>0.024591</td>\n",
       "      <td>0.168478</td>\n",
       "      <td>8.000000</td>\n",
       "      <td>0.000000</td>\n",
       "    </tr>\n",
       "    <tr>\n",
       "      <th>50%</th>\n",
       "      <td>2.000000</td>\n",
       "      <td>906.500000</td>\n",
       "      <td>44.635000</td>\n",
       "      <td>5.000000</td>\n",
       "      <td>5.000000</td>\n",
       "      <td>2.000000</td>\n",
       "      <td>0.017055</td>\n",
       "      <td>0.051039</td>\n",
       "      <td>0.386752</td>\n",
       "      <td>15.000000</td>\n",
       "      <td>0.000000</td>\n",
       "    </tr>\n",
       "    <tr>\n",
       "      <th>75%</th>\n",
       "      <td>2.000000</td>\n",
       "      <td>1362.000000</td>\n",
       "      <td>75.317500</td>\n",
       "      <td>9.000000</td>\n",
       "      <td>8.000000</td>\n",
       "      <td>4.000000</td>\n",
       "      <td>0.031617</td>\n",
       "      <td>0.111131</td>\n",
       "      <td>0.800000</td>\n",
       "      <td>23.000000</td>\n",
       "      <td>0.000000</td>\n",
       "    </tr>\n",
       "    <tr>\n",
       "      <th>max</th>\n",
       "      <td>2.000000</td>\n",
       "      <td>1829.000000</td>\n",
       "      <td>99.820000</td>\n",
       "      <td>11.000000</td>\n",
       "      <td>10.000000</td>\n",
       "      <td>5.000000</td>\n",
       "      <td>1.611111</td>\n",
       "      <td>17.035000</td>\n",
       "      <td>10.000000</td>\n",
       "      <td>30.000000</td>\n",
       "      <td>1.000000</td>\n",
       "    </tr>\n",
       "  </tbody>\n",
       "</table>\n",
       "</div>"
      ],
      "text/plain": [
       "       trustLevel  totalScanTimeInSeconds  grandTotal  lineItemVoids  \\\n",
       "count  538.000000              538.000000  538.000000     538.000000   \n",
       "mean     1.520446              916.704461   48.341004       5.565056   \n",
       "std      0.500047              528.424724   29.504421       3.435011   \n",
       "min      1.000000                2.000000    0.070000       0.000000   \n",
       "25%      1.000000              463.250000   23.652500       3.000000   \n",
       "50%      2.000000              906.500000   44.635000       5.000000   \n",
       "75%      2.000000             1362.000000   75.317500       9.000000   \n",
       "max      2.000000             1829.000000   99.820000      11.000000   \n",
       "\n",
       "       scansWithoutRegistration  quantityModifications  \\\n",
       "count                538.000000             538.000000   \n",
       "mean                   4.869888               2.485130   \n",
       "std                    3.170186               1.700247   \n",
       "min                    0.000000               0.000000   \n",
       "25%                    2.000000               1.000000   \n",
       "50%                    5.000000               2.000000   \n",
       "75%                    8.000000               4.000000   \n",
       "max                   10.000000               5.000000   \n",
       "\n",
       "       scannedLineItemsPerSecond  valuePerSecond  lineItemVoidsPerPosition  \\\n",
       "count                 538.000000      538.000000                538.000000   \n",
       "mean                    0.043364        0.164894                  0.750969   \n",
       "std                     0.115698        0.805122                  1.273789   \n",
       "min                     0.000551        0.000044                  0.000000   \n",
       "25%                     0.008607        0.024591                  0.168478   \n",
       "50%                     0.017055        0.051039                  0.386752   \n",
       "75%                     0.031617        0.111131                  0.800000   \n",
       "max                     1.611111       17.035000                 10.000000   \n",
       "\n",
       "       totalScannedLineItems       fraud  \n",
       "count             538.000000  538.000000  \n",
       "mean               15.265799    0.150558  \n",
       "std                 8.716836    0.357950  \n",
       "min                 1.000000    0.000000  \n",
       "25%                 8.000000    0.000000  \n",
       "50%                15.000000    0.000000  \n",
       "75%                23.000000    0.000000  \n",
       "max                30.000000    1.000000  "
      ]
     },
     "execution_count": 53,
     "metadata": {},
     "output_type": "execute_result"
    }
   ],
   "source": [
    "train_Xy_wo_knn_unscaled_df_lt.describe()"
   ]
  },
  {
   "cell_type": "code",
   "execution_count": 63,
   "metadata": {},
   "outputs": [
    {
     "name": "stdout",
     "output_type": "stream",
     "text": [
      "Results Fix Split: \n",
      "DMC Score: 40  ---  Normalized DMC Score: 0.28368794326241137, \n",
      "\n",
      "Results Cross Validation: \n",
      "DMC Score: 51.0  ---  Normalized DMC Score: 0.37527233115468406 \n"
     ]
    }
   ],
   "source": [
    "scorings = {'AUC': 'roc_auc', 'FBeta': metrics.make_scorer(metrics.fbeta_score, beta=0.5172), \"Precision\":'precision', \"Recall\": 'recall', \"AP\": score.average_precision, \"DMC\" : score.dmc_score}\n",
    "# Alte eigene Suche (Schlechter)\n",
    "xgbo = XGBClassifier(gamma = 0.5361394269637965,learning_rate=0.1,max_delta_step = 2.809035999095031,max_depth = 2, min_child_weight= 0.9672585190973582,n_estimators = 403,reg_lambda = 0.16439595189061076)\n",
    "# Christians Suche\n",
    "xgbo = XGBClassifier(base_score=0.5, booster='gbtree', colsample_bylevel=1,\n",
    "       colsample_bytree=1, disable_default_eval_metric=1,\n",
    "       eval_metric='aucpr', gamma=0.5361394269637965,\n",
    "       learnin_rate=0.5259503267995072, learning_rate=0.1,\n",
    "       max_delta_step=2.809035999095031, max_depth=2,\n",
    "       min_child_weight=0.9672585190973582, missing=None, n_estimators=403,\n",
    "       n_gpus=1, n_jobs=1, nthread=None, objective='binary:logistic',\n",
    "       random_state=0, reg_alpha=0, reg_lambda=0.16439595189061076,\n",
    "       scale_pos_weight=1, seed=None, silent=True, subsample=1,\n",
    "       tree_method='gpu_hist', verbosity=2)\n",
    "result_dict = test_classification(xgbo,df_train=train_Xy_wo_knn_unscaled_df_lt, df_val=val_Xy_unscaled_lt)"
   ]
  },
  {
   "cell_type": "code",
   "execution_count": 60,
   "metadata": {},
   "outputs": [],
   "source": [
    "dmc = np.mean(search.cv_results_['mean_test_DMC'])\n",
    "ap = np.mean(search.cv_results_['mean_test_AP'])\n",
    "precision = np.mean(search.cv_results_['mean_test_Precision'])\n",
    "recall = np.mean(search.cv_results_['mean_test_Recall'])"
   ]
  },
  {
   "cell_type": "code",
   "execution_count": 61,
   "metadata": {},
   "outputs": [
    {
     "name": "stdout",
     "output_type": "stream",
     "text": [
      "DMC: -90.17948748159057 --- Average Precision: 0.7031804942338902 --- Precision: 0.48450023241361406 --- Recall: 0.36629720325243503\n"
     ]
    }
   ],
   "source": [
    "print(\"DMC: {} --- Average Precision: {} --- Precision: {} --- Recall: {}\".format(dmc, ap, precision, recall))"
   ]
  },
  {
   "cell_type": "code",
   "execution_count": 62,
   "metadata": {},
   "outputs": [
    {
     "data": {
      "text/plain": [
       "XGBClassifier(base_score=0.5, booster='gbtree', colsample_bylevel=1,\n",
       "       colsample_bytree=1, disable_default_eval_metric=1,\n",
       "       eval_metric='aucpr', gamma=1.7116458142478073,\n",
       "       learning_rate=0.576642048832076, max_delta_step=1.8657849925364134,\n",
       "       max_depth=2, min_child_weight=1.8910068276017655, missing=None,\n",
       "       n_estimators=223, n_gpus=1, n_jobs=1, nthread=None,\n",
       "       objective='binary:logistic', random_state=0, reg_alpha=0,\n",
       "       reg_lambda=1.0077372399918723, scale_pos_weight=1, seed=None,\n",
       "       silent=True, subsample=1, tree_method='gpu_hist', verbosity=2)"
      ]
     },
     "execution_count": 62,
     "metadata": {},
     "output_type": "execute_result"
    }
   ],
   "source": [
    "search.best_estimator_"
   ]
  },
  {
   "cell_type": "code",
   "execution_count": 58,
   "metadata": {},
   "outputs": [
    {
     "data": {
      "text/plain": [
       "{'gamma': 1.7116458142478073,\n",
       " 'learning_rate': 0.576642048832076,\n",
       " 'max_delta_step': 1.8657849925364134,\n",
       " 'max_depth': 2,\n",
       " 'min_child_weight': 1.8910068276017655,\n",
       " 'n_estimators': 223,\n",
       " 'reg_lambda': 1.0077372399918723}"
      ]
     },
     "execution_count": 58,
     "metadata": {},
     "output_type": "execute_result"
    }
   ],
   "source": [
    "search.best_params_"
   ]
  },
  {
   "cell_type": "code",
   "execution_count": null,
   "metadata": {},
   "outputs": [],
   "source": []
  }
 ],
 "metadata": {
  "kernelspec": {
   "display_name": "Python 3",
   "language": "python",
   "name": "python3"
  },
  "language_info": {
   "codemirror_mode": {
    "name": "ipython",
    "version": 3
   },
   "file_extension": ".py",
   "mimetype": "text/x-python",
   "name": "python",
   "nbconvert_exporter": "python",
   "pygments_lexer": "ipython3",
   "version": "3.5.2"
  }
 },
 "nbformat": 4,
 "nbformat_minor": 2
}
