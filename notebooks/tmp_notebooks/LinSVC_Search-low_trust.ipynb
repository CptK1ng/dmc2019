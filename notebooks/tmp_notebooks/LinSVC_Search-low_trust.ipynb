{
 "cells": [
  {
   "cell_type": "code",
   "execution_count": 2,
   "metadata": {},
   "outputs": [],
   "source": [
    "import pandas as pd\n",
    "import numpy as np\n",
    "from xgboost import XGBClassifier\n",
    "from sklearn.svm import SVC, LinearSVC\n",
    "from sklearn import metrics\n",
    "from sklearn.preprocessing import MinMaxScaler, StandardScaler\n",
    "from IPython.display import display\n",
    "from sklearn.model_selection import train_test_split\n",
    "from sklearn.neighbors import NearestNeighbors, KDTree\n",
    "from scores import scores\n",
    "import time\n",
    "import warnings\n",
    "warnings.filterwarnings(\"ignore\")"
   ]
  },
  {
   "cell_type": "markdown",
   "metadata": {},
   "source": [
    "### 4.) Import Data"
   ]
  },
  {
   "cell_type": "code",
   "execution_count": 3,
   "metadata": {},
   "outputs": [],
   "source": [
    "%run ../notebooks/utils.ipynb"
   ]
  },
  {
   "cell_type": "code",
   "execution_count": 4,
   "metadata": {},
   "outputs": [],
   "source": [
    "trainandknn_Xy_original_df = pd.read_csv(\"../data/train_new.csv\", sep=\"|\")\n",
    "train_Xy_original_df, knn_Xy_original_df = train_test_split(trainandknn_Xy_original_df,train_size=0.75, random_state=42) # if FINAL_SUBMISSION else 0.8) #small\n",
    "test_X_original_df  = pd.read_csv(\"../data/test.csv\", sep=\"|\").iloc[0:500] #TODO: For faster testing we use less data from the test set\n",
    "test_final_X_df = pd.read_csv(\"../data/test.csv\", sep=\"|\")\n",
    "\n",
    "train_Xy_wo_knn_df = pd.read_csv(\"../data/train_new.csv\", sep=\"|\")\n",
    "#Only for test routines\n",
    "val_Xy_original_df = pd.read_csv(\"../data/val_new.csv\", sep=\"|\")\n",
    "train_complete_Xy_original_df = pd.read_csv(\"../data/train.csv\", sep=\"|\")\n",
    "train_complete_Xy_original_df = train_complete_Xy_original_df[train_complete_Xy_original_df.trustLevel <=2]"
   ]
  },
  {
   "cell_type": "code",
   "execution_count": 5,
   "metadata": {},
   "outputs": [],
   "source": [
    "#convention for variables names: datasetname_columntype_transformstatus_dataframeornot\n",
    "train_y_original_df = train_Xy_original_df[[\"fraud\"]].copy()\n",
    "train_X_original_df = train_Xy_original_df.copy().drop(\"fraud\", axis=1)\n",
    "\n",
    "knn_y_original_df = knn_Xy_original_df[[\"fraud\"]].copy()\n",
    "knn_X_original_df = knn_Xy_original_df.copy().drop(\"fraud\", axis=1)\n",
    "\n",
    "# Only for test routie#nes\n",
    "val_y_originial_df = val_Xy_original_df[[\"fraud\"]].copy()\n",
    "val_X_originial_df = val_Xy_original_df.copy().drop(\"fraud\", axis=1)\n",
    "\n",
    "train_y_wo_knn_df = train_Xy_wo_knn_df[[\"fraud\"]].copy()\n",
    "train_X_wo_knn_df = train_Xy_wo_knn_df.copy().drop(\"fraud\", axis=1)\n",
    "\n",
    "train_complete_y_originial_df = train_complete_Xy_original_df[[\"fraud\"]].copy()\n",
    "train_complete_X_originial_df = train_complete_Xy_original_df.copy().drop(\"fraud\", axis=1)"
   ]
  },
  {
   "cell_type": "code",
   "execution_count": 6,
   "metadata": {},
   "outputs": [
    {
     "data": {
      "text/html": [
       "<div>\n",
       "<style scoped>\n",
       "    .dataframe tbody tr th:only-of-type {\n",
       "        vertical-align: middle;\n",
       "    }\n",
       "\n",
       "    .dataframe tbody tr th {\n",
       "        vertical-align: top;\n",
       "    }\n",
       "\n",
       "    .dataframe thead th {\n",
       "        text-align: right;\n",
       "    }\n",
       "</style>\n",
       "<table border=\"1\" class=\"dataframe\">\n",
       "  <thead>\n",
       "    <tr style=\"text-align: right;\">\n",
       "      <th></th>\n",
       "      <th>trustLevel</th>\n",
       "      <th>totalScanTimeInSeconds</th>\n",
       "      <th>grandTotal</th>\n",
       "      <th>lineItemVoids</th>\n",
       "      <th>scansWithoutRegistration</th>\n",
       "      <th>quantityModifications</th>\n",
       "      <th>scannedLineItemsPerSecond</th>\n",
       "      <th>valuePerSecond</th>\n",
       "      <th>lineItemVoidsPerPosition</th>\n",
       "      <th>totalScannedLineItems</th>\n",
       "    </tr>\n",
       "  </thead>\n",
       "  <tbody>\n",
       "    <tr>\n",
       "      <th>5</th>\n",
       "      <td>-0.893396</td>\n",
       "      <td>-0.263058</td>\n",
       "      <td>-1.274137</td>\n",
       "      <td>1.593561</td>\n",
       "      <td>0.040410</td>\n",
       "      <td>-0.264430</td>\n",
       "      <td>-0.108359</td>\n",
       "      <td>-0.208066</td>\n",
       "      <td>-0.221215</td>\n",
       "      <td>1.208549</td>\n",
       "    </tr>\n",
       "    <tr>\n",
       "      <th>7</th>\n",
       "      <td>-0.235897</td>\n",
       "      <td>1.198479</td>\n",
       "      <td>-0.873056</td>\n",
       "      <td>-1.564100</td>\n",
       "      <td>0.980740</td>\n",
       "      <td>0.905411</td>\n",
       "      <td>-0.235251</td>\n",
       "      <td>-0.207616</td>\n",
       "      <td>-0.570397</td>\n",
       "      <td>-0.653125</td>\n",
       "    </tr>\n",
       "    <tr>\n",
       "      <th>9</th>\n",
       "      <td>-0.235897</td>\n",
       "      <td>-0.347922</td>\n",
       "      <td>-0.246945</td>\n",
       "      <td>1.306501</td>\n",
       "      <td>-0.899920</td>\n",
       "      <td>0.905411</td>\n",
       "      <td>-0.092203</td>\n",
       "      <td>-0.154386</td>\n",
       "      <td>-0.264716</td>\n",
       "      <td>1.324903</td>\n",
       "    </tr>\n",
       "    <tr>\n",
       "      <th>15</th>\n",
       "      <td>-0.893396</td>\n",
       "      <td>-0.074473</td>\n",
       "      <td>-0.542532</td>\n",
       "      <td>-0.702920</td>\n",
       "      <td>-1.213363</td>\n",
       "      <td>1.490331</td>\n",
       "      <td>-0.233279</td>\n",
       "      <td>-0.178982</td>\n",
       "      <td>-0.157728</td>\n",
       "      <td>-1.118544</td>\n",
       "    </tr>\n",
       "    <tr>\n",
       "      <th>23</th>\n",
       "      <td>-0.235897</td>\n",
       "      <td>-1.479434</td>\n",
       "      <td>-0.780578</td>\n",
       "      <td>-0.128800</td>\n",
       "      <td>0.353853</td>\n",
       "      <td>-0.264430</td>\n",
       "      <td>0.627285</td>\n",
       "      <td>0.032768</td>\n",
       "      <td>-0.398451</td>\n",
       "      <td>0.975839</td>\n",
       "    </tr>\n",
       "  </tbody>\n",
       "</table>\n",
       "</div>"
      ],
      "text/plain": [
       "    trustLevel  totalScanTimeInSeconds  grandTotal  lineItemVoids  \\\n",
       "5    -0.893396               -0.263058   -1.274137       1.593561   \n",
       "7    -0.235897                1.198479   -0.873056      -1.564100   \n",
       "9    -0.235897               -0.347922   -0.246945       1.306501   \n",
       "15   -0.893396               -0.074473   -0.542532      -0.702920   \n",
       "23   -0.235897               -1.479434   -0.780578      -0.128800   \n",
       "\n",
       "    scansWithoutRegistration  quantityModifications  \\\n",
       "5                   0.040410              -0.264430   \n",
       "7                   0.980740               0.905411   \n",
       "9                  -0.899920               0.905411   \n",
       "15                 -1.213363               1.490331   \n",
       "23                  0.353853              -0.264430   \n",
       "\n",
       "    scannedLineItemsPerSecond  valuePerSecond  lineItemVoidsPerPosition  \\\n",
       "5                   -0.108359       -0.208066                 -0.221215   \n",
       "7                   -0.235251       -0.207616                 -0.570397   \n",
       "9                   -0.092203       -0.154386                 -0.264716   \n",
       "15                  -0.233279       -0.178982                 -0.157728   \n",
       "23                   0.627285        0.032768                 -0.398451   \n",
       "\n",
       "    totalScannedLineItems  \n",
       "5                1.208549  \n",
       "7               -0.653125  \n",
       "9                1.324903  \n",
       "15              -1.118544  \n",
       "23               0.975839  "
      ]
     },
     "metadata": {},
     "output_type": "display_data"
    },
    {
     "data": {
      "text/plain": [
       "5     1\n",
       "7     0\n",
       "9     0\n",
       "15    0\n",
       "23    0\n",
       "Name: fraud, dtype: int64"
      ]
     },
     "metadata": {},
     "output_type": "display_data"
    }
   ],
   "source": [
    "#scaler = MinMaxScaler()\n",
    "scaler = StandardScaler()\n",
    "transformer = DataTransformer(scaler)\n",
    "\n",
    "# Adding new Features to train and test set\n",
    "train_X_unscaled_df = transformer.add_features(train_X_original_df)\n",
    "test_X_unscaled_df = transformer.add_features(test_X_original_df)\n",
    "knn_X_unscaled_df = transformer.add_features(knn_X_original_df)\n",
    "\n",
    "val_X_unscaled_df = transformer.add_features(val_X_originial_df)\n",
    "train_complete_X_unscaled_df = transformer.add_features(train_complete_X_originial_df) \n",
    "\n",
    "transformer.fit_scaler(transformer.add_features(train_complete_X_unscaled_df.append(test_X_unscaled_df, sort=False)))\n",
    "train_X_scaled_df = transformer.apply_scaler(train_X_unscaled_df)\n",
    "knn_X_scaled_df   = transformer.apply_scaler(knn_X_unscaled_df)\n",
    "\n",
    "\n",
    "test_X_scaled_df  = transformer.apply_scaler(test_X_unscaled_df)\n",
    "val_X_scaled_df = transformer.apply_scaler(val_X_unscaled_df)\n",
    "train_complete_X_scaled_df = transformer.apply_scaler(train_complete_X_unscaled_df)\n",
    "\n",
    "train_X_wo_knn_unscaled_df = transformer.add_features(train_X_wo_knn_df.copy())\n",
    "train_X_wo_knn_scaled_df = transformer.apply_scaler(train_X_wo_knn_unscaled_df)\n",
    "\n",
    "# labels\n",
    "train_y_df = train_y_original_df.copy()\n",
    "val_y_df = val_y_originial_df.copy()\n",
    "knn_y_df = knn_y_original_df.copy()\n",
    "\n",
    "train_complete_X_scaled_df = transformer.apply_scaler(transformer.add_features(train_complete_Xy_original_df.copy().drop(columns=['fraud'])))\n",
    "train_complete_y_df = train_complete_Xy_original_df.copy().fraud\n",
    "\n",
    "test_final_X_df = transformer.add_features(test_final_X_df)\n",
    "\n",
    "\n",
    "display(train_complete_X_scaled_df.head(5))\n",
    "display(train_complete_y_df.head(5))"
   ]
  },
  {
   "cell_type": "markdown",
   "metadata": {},
   "source": [
    "## Scoring functions\n",
    "Defining multiple scores which should be tracked in the HyperParamSearch Object"
   ]
  },
  {
   "cell_type": "code",
   "execution_count": 7,
   "metadata": {},
   "outputs": [],
   "source": [
    "score = scores.Scores()"
   ]
  },
  {
   "cell_type": "code",
   "execution_count": 8,
   "metadata": {},
   "outputs": [],
   "source": [
    "scoring = {'AUC': 'roc_auc', 'FBeta': metrics.make_scorer(metrics.fbeta_score, beta=0.5172), \"Precision\":'precision', \"Recall\": 'recall', \"AP\": score.average_precision, \"DMC\" : score.dmc_score}"
   ]
  },
  {
   "cell_type": "markdown",
   "metadata": {},
   "source": [
    "## Defining the paramteres which should be tuned\n",
    "To tune the hyperparameters, i looked into the [documentation here](https://xgboost.readthedocs.io/en/latest/parameter.html#parameters-for-tree-booster). `randint` can be used for integer values, for float values, use `uniform`. \n",
    "\n",
    "You can also use a Grid search on single parameters to get a feeling for a good interval. If you want to try only two possibilities, you can create a list like for the `scale_pos_weight` parameter.\n",
    "\n",
    "**Note: For the classifiers which work without gpu support, you can probably set a parameter n_jobs=-1 to use all processors**"
   ]
  },
  {
   "cell_type": "code",
   "execution_count": 9,
   "metadata": {},
   "outputs": [],
   "source": [
    "params = {\n",
    "    \"tol\": uniform(1e-5, 1e-1),  # default 100\n",
    "    \"C\" :  uniform(0.0, 80.0),\n",
    "    \"shrinking\" : [True, False]\n",
    "}"
   ]
  },
  {
   "cell_type": "markdown",
   "metadata": {},
   "source": [
    "## Creating a classifier with some default values\n",
    "Not all paramters of a classifier should be fine tuned. For SVM for example, the `kernel`-paramter should be set manually. In the case of xgboost, some things like the objective, the booster and the tree method should not be tuned. The choice of paramters depend on the specific classifier"
   ]
  },
  {
   "cell_type": "code",
   "execution_count": 12,
   "metadata": {},
   "outputs": [
    {
     "data": {
      "text/plain": [
       "dict_keys(['shrinking', 'class_weight', 'kernel', 'random_state', 'decision_function_shape', 'C', 'verbose', 'cache_size', 'gamma', 'max_iter', 'coef0', 'degree', 'probability', 'tol'])"
      ]
     },
     "execution_count": 12,
     "metadata": {},
     "output_type": "execute_result"
    }
   ],
   "source": [
    "default_svm = SVC(kernel=\"linear\", probability=True, cache_size=8000,  verbose=0, random_state=42)\n",
    "default_svm.get_params().keys()"
   ]
  },
  {
   "cell_type": "code",
   "execution_count": 10,
   "metadata": {},
   "outputs": [
    {
     "data": {
      "text/html": [
       "<div>\n",
       "<style scoped>\n",
       "    .dataframe tbody tr th:only-of-type {\n",
       "        vertical-align: middle;\n",
       "    }\n",
       "\n",
       "    .dataframe tbody tr th {\n",
       "        vertical-align: top;\n",
       "    }\n",
       "\n",
       "    .dataframe thead th {\n",
       "        text-align: right;\n",
       "    }\n",
       "</style>\n",
       "<table border=\"1\" class=\"dataframe\">\n",
       "  <thead>\n",
       "    <tr style=\"text-align: right;\">\n",
       "      <th></th>\n",
       "      <th>trustLevel</th>\n",
       "      <th>totalScanTimeInSeconds</th>\n",
       "      <th>grandTotal</th>\n",
       "      <th>lineItemVoids</th>\n",
       "      <th>scansWithoutRegistration</th>\n",
       "      <th>quantityModifications</th>\n",
       "      <th>scannedLineItemsPerSecond</th>\n",
       "      <th>valuePerSecond</th>\n",
       "      <th>lineItemVoidsPerPosition</th>\n",
       "      <th>totalScannedLineItems</th>\n",
       "    </tr>\n",
       "  </thead>\n",
       "  <tbody>\n",
       "    <tr>\n",
       "      <th>count</th>\n",
       "      <td>679.000000</td>\n",
       "      <td>679.000000</td>\n",
       "      <td>679.000000</td>\n",
       "      <td>679.000000</td>\n",
       "      <td>679.000000</td>\n",
       "      <td>679.000000</td>\n",
       "      <td>679.000000</td>\n",
       "      <td>679.000000</td>\n",
       "      <td>679.000000</td>\n",
       "      <td>679.000000</td>\n",
       "    </tr>\n",
       "    <tr>\n",
       "      <th>mean</th>\n",
       "      <td>-0.557384</td>\n",
       "      <td>0.004086</td>\n",
       "      <td>0.007988</td>\n",
       "      <td>0.027202</td>\n",
       "      <td>-0.014062</td>\n",
       "      <td>0.045690</td>\n",
       "      <td>-0.045023</td>\n",
       "      <td>-0.024500</td>\n",
       "      <td>0.032416</td>\n",
       "      <td>-0.029540</td>\n",
       "    </tr>\n",
       "    <tr>\n",
       "      <th>std</th>\n",
       "      <td>0.328912</td>\n",
       "      <td>1.009082</td>\n",
       "      <td>1.003128</td>\n",
       "      <td>0.983496</td>\n",
       "      <td>0.998876</td>\n",
       "      <td>0.984601</td>\n",
       "      <td>0.608506</td>\n",
       "      <td>0.924051</td>\n",
       "      <td>1.026643</td>\n",
       "      <td>1.012251</td>\n",
       "    </tr>\n",
       "    <tr>\n",
       "      <th>min</th>\n",
       "      <td>-0.893396</td>\n",
       "      <td>-1.711394</td>\n",
       "      <td>-1.651585</td>\n",
       "      <td>-1.564100</td>\n",
       "      <td>-1.526806</td>\n",
       "      <td>-1.434270</td>\n",
       "      <td>-0.262779</td>\n",
       "      <td>-0.226304</td>\n",
       "      <td>-0.570397</td>\n",
       "      <td>-1.700317</td>\n",
       "    </tr>\n",
       "    <tr>\n",
       "      <th>25%</th>\n",
       "      <td>-0.893396</td>\n",
       "      <td>-0.861817</td>\n",
       "      <td>-0.834695</td>\n",
       "      <td>-0.702920</td>\n",
       "      <td>-0.899920</td>\n",
       "      <td>-0.849350</td>\n",
       "      <td>-0.225114</td>\n",
       "      <td>-0.194434</td>\n",
       "      <td>-0.432840</td>\n",
       "      <td>-0.885835</td>\n",
       "    </tr>\n",
       "    <tr>\n",
       "      <th>50%</th>\n",
       "      <td>-0.235897</td>\n",
       "      <td>-0.017897</td>\n",
       "      <td>-0.087334</td>\n",
       "      <td>-0.128800</td>\n",
       "      <td>0.040410</td>\n",
       "      <td>0.320491</td>\n",
       "      <td>-0.186890</td>\n",
       "      <td>-0.159952</td>\n",
       "      <td>-0.260895</td>\n",
       "      <td>-0.071352</td>\n",
       "    </tr>\n",
       "    <tr>\n",
       "      <th>75%</th>\n",
       "      <td>-0.235897</td>\n",
       "      <td>0.874112</td>\n",
       "      <td>0.912800</td>\n",
       "      <td>1.019441</td>\n",
       "      <td>0.980740</td>\n",
       "      <td>0.905411</td>\n",
       "      <td>-0.109766</td>\n",
       "      <td>-0.082631</td>\n",
       "      <td>0.056543</td>\n",
       "      <td>0.859485</td>\n",
       "    </tr>\n",
       "    <tr>\n",
       "      <th>max</th>\n",
       "      <td>-0.235897</td>\n",
       "      <td>1.735947</td>\n",
       "      <td>1.764969</td>\n",
       "      <td>1.593561</td>\n",
       "      <td>1.607626</td>\n",
       "      <td>1.490331</td>\n",
       "      <td>7.224870</td>\n",
       "      <td>21.412191</td>\n",
       "      <td>7.682984</td>\n",
       "      <td>1.673967</td>\n",
       "    </tr>\n",
       "  </tbody>\n",
       "</table>\n",
       "</div>"
      ],
      "text/plain": [
       "       trustLevel  totalScanTimeInSeconds  grandTotal  lineItemVoids  \\\n",
       "count  679.000000              679.000000  679.000000     679.000000   \n",
       "mean    -0.557384                0.004086    0.007988       0.027202   \n",
       "std      0.328912                1.009082    1.003128       0.983496   \n",
       "min     -0.893396               -1.711394   -1.651585      -1.564100   \n",
       "25%     -0.893396               -0.861817   -0.834695      -0.702920   \n",
       "50%     -0.235897               -0.017897   -0.087334      -0.128800   \n",
       "75%     -0.235897                0.874112    0.912800       1.019441   \n",
       "max     -0.235897                1.735947    1.764969       1.593561   \n",
       "\n",
       "       scansWithoutRegistration  quantityModifications  \\\n",
       "count                679.000000             679.000000   \n",
       "mean                  -0.014062               0.045690   \n",
       "std                    0.998876               0.984601   \n",
       "min                   -1.526806              -1.434270   \n",
       "25%                   -0.899920              -0.849350   \n",
       "50%                    0.040410               0.320491   \n",
       "75%                    0.980740               0.905411   \n",
       "max                    1.607626               1.490331   \n",
       "\n",
       "       scannedLineItemsPerSecond  valuePerSecond  lineItemVoidsPerPosition  \\\n",
       "count                 679.000000      679.000000                679.000000   \n",
       "mean                   -0.045023       -0.024500                  0.032416   \n",
       "std                     0.608506        0.924051                  1.026643   \n",
       "min                    -0.262779       -0.226304                 -0.570397   \n",
       "25%                    -0.225114       -0.194434                 -0.432840   \n",
       "50%                    -0.186890       -0.159952                 -0.260895   \n",
       "75%                    -0.109766       -0.082631                  0.056543   \n",
       "max                     7.224870       21.412191                  7.682984   \n",
       "\n",
       "       totalScannedLineItems  \n",
       "count             679.000000  \n",
       "mean               -0.029540  \n",
       "std                 1.012251  \n",
       "min                -1.700317  \n",
       "25%                -0.885835  \n",
       "50%                -0.071352  \n",
       "75%                 0.859485  \n",
       "max                 1.673967  "
      ]
     },
     "execution_count": 10,
     "metadata": {},
     "output_type": "execute_result"
    }
   ],
   "source": [
    "train_complete_X_scaled_df.describe()"
   ]
  },
  {
   "cell_type": "code",
   "execution_count": 13,
   "metadata": {},
   "outputs": [
    {
     "name": "stdout",
     "output_type": "stream",
     "text": [
      "Fitting 3 folds for each of 10000 candidates, totalling 30000 fits\n"
     ]
    },
    {
     "name": "stderr",
     "output_type": "stream",
     "text": [
      "[Parallel(n_jobs=-1)]: Using backend LokyBackend with 12 concurrent workers.\n",
      "[Parallel(n_jobs=-1)]: Done  26 tasks      | elapsed:    1.3s\n",
      "[Parallel(n_jobs=-1)]: Done 287 tasks      | elapsed:    2.9s\n",
      "[Parallel(n_jobs=-1)]: Done 787 tasks      | elapsed:    5.7s\n",
      "[Parallel(n_jobs=-1)]: Done 1487 tasks      | elapsed:    9.6s\n",
      "[Parallel(n_jobs=-1)]: Done 2387 tasks      | elapsed:   14.5s\n",
      "[Parallel(n_jobs=-1)]: Done 3487 tasks      | elapsed:   20.7s\n",
      "[Parallel(n_jobs=-1)]: Done 4787 tasks      | elapsed:   27.9s\n",
      "[Parallel(n_jobs=-1)]: Done 6287 tasks      | elapsed:   36.4s\n",
      "[Parallel(n_jobs=-1)]: Done 7987 tasks      | elapsed:   45.8s\n",
      "[Parallel(n_jobs=-1)]: Done 9887 tasks      | elapsed:   56.5s\n",
      "[Parallel(n_jobs=-1)]: Done 11987 tasks      | elapsed:  1.1min\n",
      "[Parallel(n_jobs=-1)]: Done 14287 tasks      | elapsed:  1.4min\n",
      "[Parallel(n_jobs=-1)]: Done 16787 tasks      | elapsed:  1.6min\n",
      "[Parallel(n_jobs=-1)]: Done 19487 tasks      | elapsed:  1.8min\n",
      "[Parallel(n_jobs=-1)]: Done 22387 tasks      | elapsed:  2.1min\n",
      "[Parallel(n_jobs=-1)]: Done 25487 tasks      | elapsed:  2.4min\n",
      "[Parallel(n_jobs=-1)]: Done 28787 tasks      | elapsed:  2.7min\n",
      "[Parallel(n_jobs=-1)]: Done 29977 out of 30000 | elapsed:  2.8min remaining:    0.1s\n",
      "[Parallel(n_jobs=-1)]: Done 30000 out of 30000 | elapsed:  2.8min finished\n"
     ]
    }
   ],
   "source": [
    "search = RandomizedSearchCV(default_svm, scoring=scoring, param_distributions=params, random_state=42, n_iter=10000,\n",
    "                            cv=3, verbose=1, n_jobs=-1, return_train_score=True,refit='DMC')\n",
    "search.fit(train_complete_X_scaled_df, train_complete_y_df)\n",
    "results = search.cv_results_"
   ]
  },
  {
   "cell_type": "code",
   "execution_count": 14,
   "metadata": {},
   "outputs": [],
   "source": [
    "train_complete_Xy_scaled_df = train_complete_X_scaled_df.copy()\n",
    "train_complete_Xy_scaled_df['fraud'] =train_complete_y_df.copy()\n",
    "\n",
    "train_Xy_wo_knn_scaled_df = train_X_wo_knn_scaled_df.copy()\n",
    "train_Xy_wo_knn_scaled_df['fraud'] = train_y_wo_knn_df\n",
    "\n",
    "val_Xy_scaled = val_X_scaled_df.copy()\n",
    "val_Xy_scaled['fraud'] = val_y_df.copy()"
   ]
  },
  {
   "cell_type": "code",
   "execution_count": 15,
   "metadata": {},
   "outputs": [
    {
     "name": "stdout",
     "output_type": "stream",
     "text": [
      "Results Fix Split: \n",
      "DMC Score: 70  ---  Normalized DMC Score: 0.18617021276595744, \n",
      "\n",
      "Results Cross Validation: \n",
      "DMC Score: 64.0  ---  Normalized DMC Score: 0.17025531914893616 \n"
     ]
    }
   ],
   "source": [
    "scorings = {'AUC': 'roc_auc', 'FBeta': metrics.make_scorer(metrics.fbeta_score, beta=0.5172), \"Precision\":'precision', \"Recall\": 'recall', \"AP\": score.average_precision, \"DMC\" : score.dmc_score}\n",
    "xgbo = search.best_estimator_\n",
    "result_dict = test_classification(xgbo,df_train=train_Xy_wo_knn_scaled_df, df_val=val_Xy_scaled)"
   ]
  },
  {
   "cell_type": "code",
   "execution_count": 16,
   "metadata": {},
   "outputs": [],
   "source": [
    "dmc = np.mean(search.cv_results_['mean_test_DMC'])\n",
    "ap = np.mean(search.cv_results_['mean_test_AP'])\n",
    "precision = np.mean(search.cv_results_['mean_test_Precision'])\n",
    "recall = np.mean(search.cv_results_['mean_test_Recall'])"
   ]
  },
  {
   "cell_type": "code",
   "execution_count": 17,
   "metadata": {},
   "outputs": [
    {
     "name": "stdout",
     "output_type": "stream",
     "text": [
      "DMC: 83.36904565537556 --- Average Precision: 0.9752314186688406 --- Precision: 0.9176624287686971 --- Recall: 0.9565885964282618\n"
     ]
    }
   ],
   "source": [
    "print(\"DMC: {} --- Average Precision: {} --- Precision: {} --- Recall: {}\".format(dmc, ap, precision, recall))"
   ]
  },
  {
   "cell_type": "code",
   "execution_count": 20,
   "metadata": {},
   "outputs": [
    {
     "data": {
      "text/plain": [
       "SVC(C=5.675273359994213, cache_size=8000, class_weight=None, coef0=0.0,\n",
       "  decision_function_shape='ovr', degree=3, gamma='auto_deprecated',\n",
       "  kernel='linear', max_iter=-1, probability=True, random_state=42,\n",
       "  shrinking=False, tol=0.07958926694361011, verbose=0)"
      ]
     },
     "execution_count": 20,
     "metadata": {},
     "output_type": "execute_result"
    }
   ],
   "source": [
    "search.best_estimator_"
   ]
  },
  {
   "cell_type": "code",
   "execution_count": 21,
   "metadata": {},
   "outputs": [
    {
     "data": {
      "text/plain": [
       "{'C': 5.675273359994213, 'shrinking': False, 'tol': 0.07958926694361011}"
      ]
     },
     "execution_count": 21,
     "metadata": {},
     "output_type": "execute_result"
    }
   ],
   "source": [
    "search.best_params_"
   ]
  },
  {
   "cell_type": "code",
   "execution_count": null,
   "metadata": {},
   "outputs": [],
   "source": []
  }
 ],
 "metadata": {
  "kernelspec": {
   "display_name": "Python 3",
   "language": "python",
   "name": "python3"
  },
  "language_info": {
   "codemirror_mode": {
    "name": "ipython",
    "version": 3
   },
   "file_extension": ".py",
   "mimetype": "text/x-python",
   "name": "python",
   "nbconvert_exporter": "python",
   "pygments_lexer": "ipython3",
   "version": "3.5.2"
  }
 },
 "nbformat": 4,
 "nbformat_minor": 2
}
