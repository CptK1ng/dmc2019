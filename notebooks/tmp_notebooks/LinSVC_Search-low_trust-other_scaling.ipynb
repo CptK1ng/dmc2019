{
 "cells": [
  {
   "cell_type": "code",
   "execution_count": 3,
   "metadata": {},
   "outputs": [],
   "source": [
    "import pandas as pd\n",
    "import numpy as np\n",
    "from xgboost import XGBClassifier\n",
    "from sklearn.svm import SVC, LinearSVC\n",
    "from sklearn import metrics\n",
    "from sklearn.preprocessing import MinMaxScaler, StandardScaler\n",
    "from IPython.display import display\n",
    "from sklearn.model_selection import train_test_split\n",
    "from sklearn.neighbors import NearestNeighbors, KDTree\n",
    "from scores import scores\n",
    "import time\n",
    "import warnings\n",
    "warnings.filterwarnings(\"ignore\")"
   ]
  },
  {
   "cell_type": "markdown",
   "metadata": {},
   "source": [
    "### 4.) Import Data"
   ]
  },
  {
   "cell_type": "code",
   "execution_count": 4,
   "metadata": {},
   "outputs": [],
   "source": [
    "%run ../notebooks/utils.ipynb"
   ]
  },
  {
   "cell_type": "code",
   "execution_count": 5,
   "metadata": {},
   "outputs": [],
   "source": [
    "trainandknn_Xy_original_df = pd.read_csv(\"../data/train_new.csv\", sep=\"|\")\n",
    "train_Xy_original_df, knn_Xy_original_df = train_test_split(trainandknn_Xy_original_df,train_size=0.75, random_state=42) # if FINAL_SUBMISSION else 0.8) #small\n",
    "test_X_original_df  = pd.read_csv(\"../data/test.csv\", sep=\"|\").iloc[0:500] #TODO: For faster testing we use less data from the test set\n",
    "test_final_X_df = pd.read_csv(\"../data/test.csv\", sep=\"|\")\n",
    "\n",
    "train_Xy_wo_knn_df = pd.read_csv(\"../data/train_new.csv\", sep=\"|\")\n",
    "#Only for test routines\n",
    "val_Xy_original_df = pd.read_csv(\"../data/val_new.csv\", sep=\"|\")\n",
    "train_complete_Xy_original_df = pd.read_csv(\"../data/train.csv\", sep=\"|\")\n",
    "train_complete_Xy_original_df = train_complete_Xy_original_df[train_complete_Xy_original_df.trustLevel <=2]"
   ]
  },
  {
   "cell_type": "code",
   "execution_count": 6,
   "metadata": {},
   "outputs": [],
   "source": [
    "#convention for variables names: datasetname_columntype_transformstatus_dataframeornot\n",
    "train_y_original_df = train_Xy_original_df[[\"fraud\"]].copy()\n",
    "train_X_original_df = train_Xy_original_df.copy().drop(\"fraud\", axis=1)\n",
    "\n",
    "knn_y_original_df = knn_Xy_original_df[[\"fraud\"]].copy()\n",
    "knn_X_original_df = knn_Xy_original_df.copy().drop(\"fraud\", axis=1)\n",
    "\n",
    "# Only for test routie#nes\n",
    "val_y_originial_df = val_Xy_original_df[[\"fraud\"]].copy()\n",
    "val_X_originial_df = val_Xy_original_df.copy().drop(\"fraud\", axis=1)\n",
    "\n",
    "train_y_wo_knn_df = train_Xy_wo_knn_df[[\"fraud\"]].copy()\n",
    "train_X_wo_knn_df = train_Xy_wo_knn_df.copy().drop(\"fraud\", axis=1)\n",
    "\n",
    "train_complete_y_originial_df = train_complete_Xy_original_df[[\"fraud\"]].copy()\n",
    "train_complete_X_originial_df = train_complete_Xy_original_df.copy().drop(\"fraud\", axis=1)"
   ]
  },
  {
   "cell_type": "code",
   "execution_count": 7,
   "metadata": {},
   "outputs": [
    {
     "data": {
      "text/html": [
       "<div>\n",
       "<style scoped>\n",
       "    .dataframe tbody tr th:only-of-type {\n",
       "        vertical-align: middle;\n",
       "    }\n",
       "\n",
       "    .dataframe tbody tr th {\n",
       "        vertical-align: top;\n",
       "    }\n",
       "\n",
       "    .dataframe thead th {\n",
       "        text-align: right;\n",
       "    }\n",
       "</style>\n",
       "<table border=\"1\" class=\"dataframe\">\n",
       "  <thead>\n",
       "    <tr style=\"text-align: right;\">\n",
       "      <th></th>\n",
       "      <th>trustLevel</th>\n",
       "      <th>totalScanTimeInSeconds</th>\n",
       "      <th>grandTotal</th>\n",
       "      <th>lineItemVoids</th>\n",
       "      <th>scansWithoutRegistration</th>\n",
       "      <th>quantityModifications</th>\n",
       "      <th>scannedLineItemsPerSecond</th>\n",
       "      <th>valuePerSecond</th>\n",
       "      <th>lineItemVoidsPerPosition</th>\n",
       "      <th>totalScannedLineItems</th>\n",
       "    </tr>\n",
       "  </thead>\n",
       "  <tbody>\n",
       "    <tr>\n",
       "      <th>5</th>\n",
       "      <td>-1.037475</td>\n",
       "      <td>-0.252351</td>\n",
       "      <td>-1.251994</td>\n",
       "      <td>1.582052</td>\n",
       "      <td>0.014423</td>\n",
       "      <td>-0.297142</td>\n",
       "      <td>-0.106000</td>\n",
       "      <td>-0.197456</td>\n",
       "      <td>-0.232764</td>\n",
       "      <td>1.241436</td>\n",
       "    </tr>\n",
       "    <tr>\n",
       "      <th>7</th>\n",
       "      <td>0.963879</td>\n",
       "      <td>1.197361</td>\n",
       "      <td>-0.852969</td>\n",
       "      <td>-1.578303</td>\n",
       "      <td>0.949711</td>\n",
       "      <td>0.881638</td>\n",
       "      <td>-0.226264</td>\n",
       "      <td>-0.197049</td>\n",
       "      <td>-0.581851</td>\n",
       "      <td>-0.630084</td>\n",
       "    </tr>\n",
       "    <tr>\n",
       "      <th>9</th>\n",
       "      <td>0.963879</td>\n",
       "      <td>-0.336527</td>\n",
       "      <td>-0.230067</td>\n",
       "      <td>1.294747</td>\n",
       "      <td>-0.920865</td>\n",
       "      <td>0.881638</td>\n",
       "      <td>-0.090687</td>\n",
       "      <td>-0.148996</td>\n",
       "      <td>-0.276253</td>\n",
       "      <td>1.358406</td>\n",
       "    </tr>\n",
       "    <tr>\n",
       "      <th>15</th>\n",
       "      <td>-1.037475</td>\n",
       "      <td>-0.065291</td>\n",
       "      <td>-0.524139</td>\n",
       "      <td>-0.716388</td>\n",
       "      <td>-1.232628</td>\n",
       "      <td>1.471027</td>\n",
       "      <td>-0.224396</td>\n",
       "      <td>-0.171200</td>\n",
       "      <td>-0.169293</td>\n",
       "      <td>-1.097964</td>\n",
       "    </tr>\n",
       "    <tr>\n",
       "      <th>23</th>\n",
       "      <td>0.963879</td>\n",
       "      <td>-1.458885</td>\n",
       "      <td>-0.760964</td>\n",
       "      <td>-0.141778</td>\n",
       "      <td>0.326186</td>\n",
       "      <td>-0.297142</td>\n",
       "      <td>0.591229</td>\n",
       "      <td>0.019959</td>\n",
       "      <td>-0.409952</td>\n",
       "      <td>1.007496</td>\n",
       "    </tr>\n",
       "  </tbody>\n",
       "</table>\n",
       "</div>"
      ],
      "text/plain": [
       "    trustLevel  totalScanTimeInSeconds  grandTotal  lineItemVoids  \\\n",
       "5    -1.037475               -0.252351   -1.251994       1.582052   \n",
       "7     0.963879                1.197361   -0.852969      -1.578303   \n",
       "9     0.963879               -0.336527   -0.230067       1.294747   \n",
       "15   -1.037475               -0.065291   -0.524139      -0.716388   \n",
       "23    0.963879               -1.458885   -0.760964      -0.141778   \n",
       "\n",
       "    scansWithoutRegistration  quantityModifications  \\\n",
       "5                   0.014423              -0.297142   \n",
       "7                   0.949711               0.881638   \n",
       "9                  -0.920865               0.881638   \n",
       "15                 -1.232628               1.471027   \n",
       "23                  0.326186              -0.297142   \n",
       "\n",
       "    scannedLineItemsPerSecond  valuePerSecond  lineItemVoidsPerPosition  \\\n",
       "5                   -0.106000       -0.197456                 -0.232764   \n",
       "7                   -0.226264       -0.197049                 -0.581851   \n",
       "9                   -0.090687       -0.148996                 -0.276253   \n",
       "15                  -0.224396       -0.171200                 -0.169293   \n",
       "23                   0.591229        0.019959                 -0.409952   \n",
       "\n",
       "    totalScannedLineItems  \n",
       "5                1.241436  \n",
       "7               -0.630084  \n",
       "9                1.358406  \n",
       "15              -1.097964  \n",
       "23               1.007496  "
      ]
     },
     "metadata": {},
     "output_type": "display_data"
    },
    {
     "data": {
      "text/plain": [
       "5     1\n",
       "7     0\n",
       "9     0\n",
       "15    0\n",
       "23    0\n",
       "Name: fraud, dtype: int64"
      ]
     },
     "metadata": {},
     "output_type": "display_data"
    }
   ],
   "source": [
    "#scaler = MinMaxScaler()\n",
    "scaler = StandardScaler()\n",
    "transformer = DataTransformer(scaler)\n",
    "\n",
    "# Adding new Features to train and test set\n",
    "train_X_unscaled_df = transformer.add_features(train_X_original_df)\n",
    "test_X_unscaled_df = transformer.add_features(test_X_original_df)\n",
    "knn_X_unscaled_df = transformer.add_features(knn_X_original_df)\n",
    "\n",
    "test_X_lt = test_X_unscaled_df[test_X_unscaled_df.trustLevel <= 2]\n",
    "\n",
    "val_X_unscaled_df = transformer.add_features(val_X_originial_df)\n",
    "train_complete_X_unscaled_df = transformer.add_features(train_complete_X_originial_df) \n",
    "\n",
    "transformer.fit_scaler(transformer.add_features(train_complete_X_unscaled_df.append(test_X_lt, sort=False)))\n",
    "train_X_scaled_df = transformer.apply_scaler(train_X_unscaled_df)\n",
    "knn_X_scaled_df   = transformer.apply_scaler(knn_X_unscaled_df)\n",
    "\n",
    "\n",
    "test_X_scaled_df  = transformer.apply_scaler(test_X_unscaled_df)\n",
    "val_X_scaled_df = transformer.apply_scaler(val_X_unscaled_df)\n",
    "train_complete_X_scaled_df = transformer.apply_scaler(train_complete_X_unscaled_df)\n",
    "\n",
    "train_X_wo_knn_unscaled_df = transformer.add_features(train_X_wo_knn_df.copy())\n",
    "train_X_wo_knn_scaled_df = transformer.apply_scaler(train_X_wo_knn_unscaled_df)\n",
    "\n",
    "# labels\n",
    "train_y_df = train_y_original_df.copy()\n",
    "val_y_df = val_y_originial_df.copy()\n",
    "knn_y_df = knn_y_original_df.copy()\n",
    "\n",
    "train_complete_X_scaled_df = transformer.apply_scaler(transformer.add_features(train_complete_Xy_original_df.copy().drop(columns=['fraud'])))\n",
    "train_complete_y_df = train_complete_Xy_original_df.copy().fraud\n",
    "\n",
    "test_final_X_df = transformer.add_features(test_final_X_df)\n",
    "\n",
    "\n",
    "display(train_complete_X_scaled_df.head(5))\n",
    "display(train_complete_y_df.head(5))"
   ]
  },
  {
   "cell_type": "markdown",
   "metadata": {},
   "source": [
    "## Scoring functions\n",
    "Defining multiple scores which should be tracked in the HyperParamSearch Object"
   ]
  },
  {
   "cell_type": "code",
   "execution_count": 8,
   "metadata": {},
   "outputs": [],
   "source": [
    "score = scores.Scores()"
   ]
  },
  {
   "cell_type": "code",
   "execution_count": 9,
   "metadata": {},
   "outputs": [],
   "source": [
    "scoring = {'AUC': 'roc_auc', 'FBeta': metrics.make_scorer(metrics.fbeta_score, beta=0.5172), \"Precision\":'precision', \"Recall\": 'recall', \"AP\": score.average_precision, \"DMC\" : score.dmc_score}"
   ]
  },
  {
   "cell_type": "markdown",
   "metadata": {},
   "source": [
    "## Defining the paramteres which should be tuned\n",
    "To tune the hyperparameters, i looked into the [documentation here](https://xgboost.readthedocs.io/en/latest/parameter.html#parameters-for-tree-booster). `randint` can be used for integer values, for float values, use `uniform`. \n",
    "\n",
    "You can also use a Grid search on single parameters to get a feeling for a good interval. If you want to try only two possibilities, you can create a list like for the `scale_pos_weight` parameter.\n",
    "\n",
    "**Note: For the classifiers which work without gpu support, you can probably set a parameter n_jobs=-1 to use all processors**"
   ]
  },
  {
   "cell_type": "code",
   "execution_count": 10,
   "metadata": {},
   "outputs": [],
   "source": [
    "params = {\n",
    "    \"tol\": uniform(1e-5, 1e-1),  # default 100\n",
    "    \"C\" :  uniform(0.0, 80.0),\n",
    "    \"shrinking\" : [True, False]\n",
    "}"
   ]
  },
  {
   "cell_type": "markdown",
   "metadata": {},
   "source": [
    "## Creating a classifier with some default values\n",
    "Not all paramters of a classifier should be fine tuned. For SVM for example, the `kernel`-paramter should be set manually. In the case of xgboost, some things like the objective, the booster and the tree method should not be tuned. The choice of paramters depend on the specific classifier"
   ]
  },
  {
   "cell_type": "code",
   "execution_count": 11,
   "metadata": {},
   "outputs": [
    {
     "data": {
      "text/plain": [
       "dict_keys(['shrinking', 'kernel', 'cache_size', 'class_weight', 'probability', 'max_iter', 'decision_function_shape', 'degree', 'gamma', 'C', 'verbose', 'random_state', 'coef0', 'tol'])"
      ]
     },
     "execution_count": 11,
     "metadata": {},
     "output_type": "execute_result"
    }
   ],
   "source": [
    "default_svm = SVC(kernel=\"linear\", probability=True, cache_size=8000,  verbose=0, random_state=42)\n",
    "default_svm.get_params().keys()"
   ]
  },
  {
   "cell_type": "code",
   "execution_count": 12,
   "metadata": {},
   "outputs": [
    {
     "data": {
      "text/html": [
       "<div>\n",
       "<style scoped>\n",
       "    .dataframe tbody tr th:only-of-type {\n",
       "        vertical-align: middle;\n",
       "    }\n",
       "\n",
       "    .dataframe tbody tr th {\n",
       "        vertical-align: top;\n",
       "    }\n",
       "\n",
       "    .dataframe thead th {\n",
       "        text-align: right;\n",
       "    }\n",
       "</style>\n",
       "<table border=\"1\" class=\"dataframe\">\n",
       "  <thead>\n",
       "    <tr style=\"text-align: right;\">\n",
       "      <th></th>\n",
       "      <th>trustLevel</th>\n",
       "      <th>totalScanTimeInSeconds</th>\n",
       "      <th>grandTotal</th>\n",
       "      <th>lineItemVoids</th>\n",
       "      <th>scansWithoutRegistration</th>\n",
       "      <th>quantityModifications</th>\n",
       "      <th>scannedLineItemsPerSecond</th>\n",
       "      <th>valuePerSecond</th>\n",
       "      <th>lineItemVoidsPerPosition</th>\n",
       "      <th>totalScannedLineItems</th>\n",
       "    </tr>\n",
       "  </thead>\n",
       "  <tbody>\n",
       "    <tr>\n",
       "      <th>count</th>\n",
       "      <td>679.000000</td>\n",
       "      <td>679.000000</td>\n",
       "      <td>679.000000</td>\n",
       "      <td>679.000000</td>\n",
       "      <td>679.000000</td>\n",
       "      <td>679.000000</td>\n",
       "      <td>679.000000</td>\n",
       "      <td>679.000000</td>\n",
       "      <td>679.000000</td>\n",
       "      <td>679.000000</td>\n",
       "    </tr>\n",
       "    <tr>\n",
       "      <th>mean</th>\n",
       "      <td>-0.014692</td>\n",
       "      <td>0.012632</td>\n",
       "      <td>0.023559</td>\n",
       "      <td>0.014357</td>\n",
       "      <td>-0.039756</td>\n",
       "      <td>0.015347</td>\n",
       "      <td>-0.045970</td>\n",
       "      <td>-0.031740</td>\n",
       "      <td>0.020799</td>\n",
       "      <td>-0.003201</td>\n",
       "    </tr>\n",
       "    <tr>\n",
       "      <th>std</th>\n",
       "      <td>1.001170</td>\n",
       "      <td>1.000917</td>\n",
       "      <td>0.997986</td>\n",
       "      <td>0.984335</td>\n",
       "      <td>0.993521</td>\n",
       "      <td>0.992125</td>\n",
       "      <td>0.576729</td>\n",
       "      <td>0.834192</td>\n",
       "      <td>1.026366</td>\n",
       "      <td>1.017604</td>\n",
       "    </tr>\n",
       "    <tr>\n",
       "      <th>min</th>\n",
       "      <td>-1.037475</td>\n",
       "      <td>-1.688968</td>\n",
       "      <td>-1.627507</td>\n",
       "      <td>-1.578303</td>\n",
       "      <td>-1.544391</td>\n",
       "      <td>-1.475921</td>\n",
       "      <td>-0.252355</td>\n",
       "      <td>-0.213921</td>\n",
       "      <td>-0.581851</td>\n",
       "      <td>-1.682813</td>\n",
       "    </tr>\n",
       "    <tr>\n",
       "      <th>25%</th>\n",
       "      <td>-1.037475</td>\n",
       "      <td>-0.846265</td>\n",
       "      <td>-0.814804</td>\n",
       "      <td>-0.716388</td>\n",
       "      <td>-0.920865</td>\n",
       "      <td>-0.886532</td>\n",
       "      <td>-0.216657</td>\n",
       "      <td>-0.185150</td>\n",
       "      <td>-0.444332</td>\n",
       "      <td>-0.864024</td>\n",
       "    </tr>\n",
       "    <tr>\n",
       "      <th>50%</th>\n",
       "      <td>0.963879</td>\n",
       "      <td>-0.009173</td>\n",
       "      <td>-0.071274</td>\n",
       "      <td>-0.141778</td>\n",
       "      <td>0.014423</td>\n",
       "      <td>0.292248</td>\n",
       "      <td>-0.180430</td>\n",
       "      <td>-0.154021</td>\n",
       "      <td>-0.272433</td>\n",
       "      <td>-0.045234</td>\n",
       "    </tr>\n",
       "    <tr>\n",
       "      <th>75%</th>\n",
       "      <td>0.963879</td>\n",
       "      <td>0.875618</td>\n",
       "      <td>0.923733</td>\n",
       "      <td>1.007442</td>\n",
       "      <td>0.949711</td>\n",
       "      <td>0.881638</td>\n",
       "      <td>-0.107333</td>\n",
       "      <td>-0.084219</td>\n",
       "      <td>0.044919</td>\n",
       "      <td>0.890526</td>\n",
       "    </tr>\n",
       "    <tr>\n",
       "      <th>max</th>\n",
       "      <td>0.963879</td>\n",
       "      <td>1.730480</td>\n",
       "      <td>1.771535</td>\n",
       "      <td>1.582052</td>\n",
       "      <td>1.573237</td>\n",
       "      <td>1.471027</td>\n",
       "      <td>6.844282</td>\n",
       "      <td>19.320347</td>\n",
       "      <td>7.669302</td>\n",
       "      <td>1.709315</td>\n",
       "    </tr>\n",
       "  </tbody>\n",
       "</table>\n",
       "</div>"
      ],
      "text/plain": [
       "       trustLevel  totalScanTimeInSeconds  grandTotal  lineItemVoids  \\\n",
       "count  679.000000              679.000000  679.000000     679.000000   \n",
       "mean    -0.014692                0.012632    0.023559       0.014357   \n",
       "std      1.001170                1.000917    0.997986       0.984335   \n",
       "min     -1.037475               -1.688968   -1.627507      -1.578303   \n",
       "25%     -1.037475               -0.846265   -0.814804      -0.716388   \n",
       "50%      0.963879               -0.009173   -0.071274      -0.141778   \n",
       "75%      0.963879                0.875618    0.923733       1.007442   \n",
       "max      0.963879                1.730480    1.771535       1.582052   \n",
       "\n",
       "       scansWithoutRegistration  quantityModifications  \\\n",
       "count                679.000000             679.000000   \n",
       "mean                  -0.039756               0.015347   \n",
       "std                    0.993521               0.992125   \n",
       "min                   -1.544391              -1.475921   \n",
       "25%                   -0.920865              -0.886532   \n",
       "50%                    0.014423               0.292248   \n",
       "75%                    0.949711               0.881638   \n",
       "max                    1.573237               1.471027   \n",
       "\n",
       "       scannedLineItemsPerSecond  valuePerSecond  lineItemVoidsPerPosition  \\\n",
       "count                 679.000000      679.000000                679.000000   \n",
       "mean                   -0.045970       -0.031740                  0.020799   \n",
       "std                     0.576729        0.834192                  1.026366   \n",
       "min                    -0.252355       -0.213921                 -0.581851   \n",
       "25%                    -0.216657       -0.185150                 -0.444332   \n",
       "50%                    -0.180430       -0.154021                 -0.272433   \n",
       "75%                    -0.107333       -0.084219                  0.044919   \n",
       "max                     6.844282       19.320347                  7.669302   \n",
       "\n",
       "       totalScannedLineItems  \n",
       "count             679.000000  \n",
       "mean               -0.003201  \n",
       "std                 1.017604  \n",
       "min                -1.682813  \n",
       "25%                -0.864024  \n",
       "50%                -0.045234  \n",
       "75%                 0.890526  \n",
       "max                 1.709315  "
      ]
     },
     "execution_count": 12,
     "metadata": {},
     "output_type": "execute_result"
    }
   ],
   "source": [
    "train_complete_X_scaled_df.describe()"
   ]
  },
  {
   "cell_type": "code",
   "execution_count": 13,
   "metadata": {},
   "outputs": [
    {
     "name": "stdout",
     "output_type": "stream",
     "text": [
      "Fitting 3 folds for each of 10000 candidates, totalling 30000 fits\n"
     ]
    },
    {
     "name": "stderr",
     "output_type": "stream",
     "text": [
      "[Parallel(n_jobs=-1)]: Using backend LokyBackend with 12 concurrent workers.\n",
      "[Parallel(n_jobs=-1)]: Done  26 tasks      | elapsed:    1.3s\n",
      "[Parallel(n_jobs=-1)]: Done 289 tasks      | elapsed:    2.9s\n",
      "[Parallel(n_jobs=-1)]: Done 789 tasks      | elapsed:    5.7s\n",
      "[Parallel(n_jobs=-1)]: Done 1489 tasks      | elapsed:    9.6s\n",
      "[Parallel(n_jobs=-1)]: Done 2389 tasks      | elapsed:   14.4s\n",
      "[Parallel(n_jobs=-1)]: Done 3489 tasks      | elapsed:   20.6s\n",
      "[Parallel(n_jobs=-1)]: Done 4789 tasks      | elapsed:   27.8s\n",
      "[Parallel(n_jobs=-1)]: Done 6289 tasks      | elapsed:   36.3s\n",
      "[Parallel(n_jobs=-1)]: Done 7989 tasks      | elapsed:   45.6s\n",
      "[Parallel(n_jobs=-1)]: Done 9889 tasks      | elapsed:   55.9s\n",
      "[Parallel(n_jobs=-1)]: Done 11989 tasks      | elapsed:  1.1min\n",
      "[Parallel(n_jobs=-1)]: Done 14289 tasks      | elapsed:  1.3min\n",
      "[Parallel(n_jobs=-1)]: Done 16789 tasks      | elapsed:  1.6min\n",
      "[Parallel(n_jobs=-1)]: Done 19489 tasks      | elapsed:  1.8min\n",
      "[Parallel(n_jobs=-1)]: Done 24763 tasks      | elapsed:  2.3min\n",
      "[Parallel(n_jobs=-1)]: Done 30000 out of 30000 | elapsed:  2.8min finished\n"
     ]
    }
   ],
   "source": [
    "search = RandomizedSearchCV(default_svm, scoring=scoring, param_distributions=params, random_state=42, n_iter=10000,\n",
    "                            cv=3, verbose=1, n_jobs=-1, return_train_score=True,refit='DMC')\n",
    "search.fit(train_complete_X_scaled_df, train_complete_y_df)\n",
    "results = search.cv_results_"
   ]
  },
  {
   "cell_type": "code",
   "execution_count": 14,
   "metadata": {},
   "outputs": [],
   "source": [
    "train_complete_Xy_scaled_df = train_complete_X_scaled_df.copy()\n",
    "train_complete_Xy_scaled_df['fraud'] =train_complete_y_df.copy()\n",
    "\n",
    "train_Xy_wo_knn_scaled_df = train_X_wo_knn_scaled_df.copy()\n",
    "train_Xy_wo_knn_scaled_df['fraud'] = train_y_wo_knn_df\n",
    "\n",
    "val_Xy_scaled = val_X_scaled_df.copy()\n",
    "val_Xy_scaled['fraud'] = val_y_df.copy()"
   ]
  },
  {
   "cell_type": "code",
   "execution_count": 15,
   "metadata": {},
   "outputs": [
    {
     "name": "stdout",
     "output_type": "stream",
     "text": [
      "Results Fix Split: \n",
      "DMC Score: 30  ---  Normalized DMC Score: 0.0797872340425532, \n",
      "\n",
      "Results Cross Validation: \n",
      "DMC Score: 61.0  ---  Normalized DMC Score: 0.16225531914893618 \n"
     ]
    }
   ],
   "source": [
    "scorings = {'AUC': 'roc_auc', 'FBeta': metrics.make_scorer(metrics.fbeta_score, beta=0.5172), \"Precision\":'precision', \"Recall\": 'recall', \"AP\": score.average_precision, \"DMC\" : score.dmc_score}\n",
    "xgbo = search.best_estimator_\n",
    "result_dict = test_classification(xgbo,df_train=train_Xy_wo_knn_scaled_df, df_val=val_Xy_scaled)"
   ]
  },
  {
   "cell_type": "code",
   "execution_count": 16,
   "metadata": {},
   "outputs": [],
   "source": [
    "dmc = np.mean(search.cv_results_['mean_test_DMC'])\n",
    "ap = np.mean(search.cv_results_['mean_test_AP'])\n",
    "precision = np.mean(search.cv_results_['mean_test_Precision'])\n",
    "recall = np.mean(search.cv_results_['mean_test_Recall'])"
   ]
  },
  {
   "cell_type": "code",
   "execution_count": 17,
   "metadata": {},
   "outputs": [
    {
     "name": "stdout",
     "output_type": "stream",
     "text": [
      "DMC: 73.35262444771723 --- Average Precision: 0.9734262972878711 --- Precision: 0.9110801968736305 --- Recall: 0.9454169871660002\n"
     ]
    }
   ],
   "source": [
    "print(\"DMC: {} --- Average Precision: {} --- Precision: {} --- Recall: {}\".format(dmc, ap, precision, recall))"
   ]
  },
  {
   "cell_type": "code",
   "execution_count": 18,
   "metadata": {},
   "outputs": [
    {
     "data": {
      "text/plain": [
       "SVC(C=2.193624797812612, cache_size=8000, class_weight=None, coef0=0.0,\n",
       "  decision_function_shape='ovr', degree=3, gamma='auto_deprecated',\n",
       "  kernel='linear', max_iter=-1, probability=True, random_state=42,\n",
       "  shrinking=False, tol=0.06885050184921368, verbose=0)"
      ]
     },
     "execution_count": 18,
     "metadata": {},
     "output_type": "execute_result"
    }
   ],
   "source": [
    "search.best_estimator_"
   ]
  },
  {
   "cell_type": "code",
   "execution_count": 38,
   "metadata": {},
   "outputs": [
    {
     "data": {
      "text/plain": [
       "{'C': 11.439334564226868, 'shrinking': False, 'tol': 0.08370638742373739}"
      ]
     },
     "execution_count": 38,
     "metadata": {},
     "output_type": "execute_result"
    }
   ],
   "source": [
    "search.best_params_"
   ]
  }
 ],
 "metadata": {
  "kernelspec": {
   "display_name": "Python 3",
   "language": "python",
   "name": "python3"
  },
  "language_info": {
   "codemirror_mode": {
    "name": "ipython",
    "version": 3
   },
   "file_extension": ".py",
   "mimetype": "text/x-python",
   "name": "python",
   "nbconvert_exporter": "python",
   "pygments_lexer": "ipython3",
   "version": "3.5.2"
  }
 },
 "nbformat": 4,
 "nbformat_minor": 2
}
