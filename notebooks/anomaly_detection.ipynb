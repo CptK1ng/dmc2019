{
 "cells": [
  {
   "cell_type": "markdown",
   "metadata": {
    "colab_type": "text",
    "id": "view-in-github"
   },
   "source": [
    "<a href=\"https://colab.research.google.com/github/CptK1ng/dmc2019/blob/alexander_dev/notebooks/anomaly_detection.ipynb\" target=\"_parent\"><img src=\"https://colab.research.google.com/assets/colab-badge.svg\" alt=\"Open In Colab\"/></a>"
   ]
  },
  {
   "cell_type": "markdown",
   "metadata": {
    "colab_type": "text",
    "id": "sJKF9IMXwQ97"
   },
   "source": [
    "# anomaly detection\n",
    "**outlier detection**  = unsupervised anomaly detection\n",
    "\n",
    "**novelty detection**  = semi-supervised anomaly detection"
   ]
  },
  {
   "cell_type": "code",
   "execution_count": 1,
   "metadata": {
    "colab": {},
    "colab_type": "code",
    "id": "2hpiBSz0vrBF"
   },
   "outputs": [],
   "source": [
    "import pandas as pd\n",
    "import numpy as np\n",
    "from scipy import stats\n",
    "from sklearn import svm\n",
    "from sklearn import metrics\n",
    "%matplotlib inline"
   ]
  },
  {
   "cell_type": "markdown",
   "metadata": {
    "colab_type": "text",
    "id": "riSD1T5AxaNn"
   },
   "source": [
    "Download our custom Dataset splits and the unlabeled Test Set:"
   ]
  },
  {
   "cell_type": "code",
   "execution_count": 2,
   "metadata": {
    "colab": {},
    "colab_type": "code",
    "id": "BEZVoEIixaUc"
   },
   "outputs": [
    {
     "name": "stdout",
     "output_type": "stream",
     "text": [
      "train_new.csv       100%[===================>] 104.09K  --.-KB/s    in 0.01s   \n",
      "val_new.csv         100%[===================>]  25.96K  --.-KB/s    in 0.003s  \n",
      "test.csv            100%[===================>]  32.04M  11.2MB/s    in 2.9s    \n"
     ]
    }
   ],
   "source": [
    "!wget -nc -q --show-progress https://www.dropbox.com/s/6m8iq9ogpzmu7vx/train_new.csv?dl=1 -O train_new.csv\n",
    "!wget -nc -q --show-progress https://www.dropbox.com/s/tjpkc45oqn3uv8s/val_new.csv?dl=1 -O val_new.csv\n",
    "!wget -nc -q --show-progress https://www.dropbox.com/s/hbd6nzgwlnevu4x/test.csv?dl=1 -O test.csv"
   ]
  },
  {
   "cell_type": "markdown",
   "metadata": {
    "colab_type": "text",
    "id": "n6GO8_dZxfv5"
   },
   "source": [
    "Import data:"
   ]
  },
  {
   "cell_type": "code",
   "execution_count": 3,
   "metadata": {
    "colab": {
     "base_uri": "https://localhost:8080/",
     "height": 110
    },
    "colab_type": "code",
    "id": "Ki2Qs7cYxg3a",
    "outputId": "d6f95522-226a-4d9f-d3fa-fd95a150a37f"
   },
   "outputs": [
    {
     "data": {
      "text/html": [
       "<div>\n",
       "<style scoped>\n",
       "    .dataframe tbody tr th:only-of-type {\n",
       "        vertical-align: middle;\n",
       "    }\n",
       "\n",
       "    .dataframe tbody tr th {\n",
       "        vertical-align: top;\n",
       "    }\n",
       "\n",
       "    .dataframe thead th {\n",
       "        text-align: right;\n",
       "    }\n",
       "</style>\n",
       "<table border=\"1\" class=\"dataframe\">\n",
       "  <thead>\n",
       "    <tr style=\"text-align: right;\">\n",
       "      <th></th>\n",
       "      <th>trustLevel</th>\n",
       "      <th>totalScanTimeInSeconds</th>\n",
       "      <th>grandTotal</th>\n",
       "      <th>lineItemVoids</th>\n",
       "      <th>scansWithoutRegistration</th>\n",
       "      <th>quantityModifications</th>\n",
       "      <th>scannedLineItemsPerSecond</th>\n",
       "      <th>valuePerSecond</th>\n",
       "      <th>lineItemVoidsPerPosition</th>\n",
       "      <th>fraud</th>\n",
       "    </tr>\n",
       "  </thead>\n",
       "  <tbody>\n",
       "    <tr>\n",
       "      <th>0</th>\n",
       "      <td>4</td>\n",
       "      <td>828</td>\n",
       "      <td>66.56</td>\n",
       "      <td>7</td>\n",
       "      <td>4</td>\n",
       "      <td>3</td>\n",
       "      <td>0.007246</td>\n",
       "      <td>0.080386</td>\n",
       "      <td>1.166667</td>\n",
       "      <td>0</td>\n",
       "    </tr>\n",
       "    <tr>\n",
       "      <th>1</th>\n",
       "      <td>1</td>\n",
       "      <td>1612</td>\n",
       "      <td>31.34</td>\n",
       "      <td>2</td>\n",
       "      <td>4</td>\n",
       "      <td>3</td>\n",
       "      <td>0.008685</td>\n",
       "      <td>0.019442</td>\n",
       "      <td>0.142857</td>\n",
       "      <td>0</td>\n",
       "    </tr>\n",
       "  </tbody>\n",
       "</table>\n",
       "</div>"
      ],
      "text/plain": [
       "   trustLevel  totalScanTimeInSeconds  grandTotal  lineItemVoids  \\\n",
       "0           4                     828       66.56              7   \n",
       "1           1                    1612       31.34              2   \n",
       "\n",
       "   scansWithoutRegistration  quantityModifications  scannedLineItemsPerSecond  \\\n",
       "0                         4                      3                   0.007246   \n",
       "1                         4                      3                   0.008685   \n",
       "\n",
       "   valuePerSecond  lineItemVoidsPerPosition  fraud  \n",
       "0        0.080386                  1.166667      0  \n",
       "1        0.019442                  0.142857      0  "
      ]
     },
     "execution_count": 3,
     "metadata": {},
     "output_type": "execute_result"
    }
   ],
   "source": [
    "df_train_original = pd.read_csv(\"train_new.csv\", sep=\"|\")\n",
    "df_val_original = pd.read_csv(\"val_new.csv\", sep=\"|\")\n",
    "df_test_original = pd.read_csv(\"test.csv\", sep=\"|\")\n",
    "df_train_original.head(2)"
   ]
  },
  {
   "cell_type": "markdown",
   "metadata": {
    "colab_type": "text",
    "id": "epbjy_sTxyTa"
   },
   "source": [
    "## Feature Engineering"
   ]
  },
  {
   "cell_type": "code",
   "execution_count": 4,
   "metadata": {
    "colab": {
     "base_uri": "https://localhost:8080/",
     "height": 203
    },
    "colab_type": "code",
    "id": "Fri6ChmXxwpk",
    "outputId": "c028c662-abdc-46af-fce7-ee687d0ed95d"
   },
   "outputs": [
    {
     "data": {
      "text/html": [
       "<div>\n",
       "<style scoped>\n",
       "    .dataframe tbody tr th:only-of-type {\n",
       "        vertical-align: middle;\n",
       "    }\n",
       "\n",
       "    .dataframe tbody tr th {\n",
       "        vertical-align: top;\n",
       "    }\n",
       "\n",
       "    .dataframe thead th {\n",
       "        text-align: right;\n",
       "    }\n",
       "</style>\n",
       "<table border=\"1\" class=\"dataframe\">\n",
       "  <thead>\n",
       "    <tr style=\"text-align: right;\">\n",
       "      <th></th>\n",
       "      <th>trustLevel</th>\n",
       "      <th>totalScanTimeInSeconds</th>\n",
       "      <th>grandTotal</th>\n",
       "      <th>lineItemVoids</th>\n",
       "      <th>scansWithoutRegistration</th>\n",
       "      <th>quantityModifications</th>\n",
       "      <th>scannedLineItemsPerSecond</th>\n",
       "      <th>valuePerSecond</th>\n",
       "      <th>lineItemVoidsPerPosition</th>\n",
       "      <th>fraud</th>\n",
       "      <th>totalLineItems</th>\n",
       "    </tr>\n",
       "  </thead>\n",
       "  <tbody>\n",
       "    <tr>\n",
       "      <th>0</th>\n",
       "      <td>4</td>\n",
       "      <td>828</td>\n",
       "      <td>66.56</td>\n",
       "      <td>7</td>\n",
       "      <td>4</td>\n",
       "      <td>3</td>\n",
       "      <td>0.007246</td>\n",
       "      <td>0.080386</td>\n",
       "      <td>1.166667</td>\n",
       "      <td>0</td>\n",
       "      <td>6.0</td>\n",
       "    </tr>\n",
       "    <tr>\n",
       "      <th>1</th>\n",
       "      <td>1</td>\n",
       "      <td>1612</td>\n",
       "      <td>31.34</td>\n",
       "      <td>2</td>\n",
       "      <td>4</td>\n",
       "      <td>3</td>\n",
       "      <td>0.008685</td>\n",
       "      <td>0.019442</td>\n",
       "      <td>0.142857</td>\n",
       "      <td>0</td>\n",
       "      <td>14.0</td>\n",
       "    </tr>\n",
       "    <tr>\n",
       "      <th>2</th>\n",
       "      <td>3</td>\n",
       "      <td>848</td>\n",
       "      <td>52.37</td>\n",
       "      <td>2</td>\n",
       "      <td>4</td>\n",
       "      <td>0</td>\n",
       "      <td>0.022406</td>\n",
       "      <td>0.061757</td>\n",
       "      <td>0.105263</td>\n",
       "      <td>0</td>\n",
       "      <td>19.0</td>\n",
       "    </tr>\n",
       "    <tr>\n",
       "      <th>3</th>\n",
       "      <td>1</td>\n",
       "      <td>321</td>\n",
       "      <td>76.03</td>\n",
       "      <td>8</td>\n",
       "      <td>7</td>\n",
       "      <td>2</td>\n",
       "      <td>0.071651</td>\n",
       "      <td>0.236854</td>\n",
       "      <td>0.347826</td>\n",
       "      <td>0</td>\n",
       "      <td>23.0</td>\n",
       "    </tr>\n",
       "    <tr>\n",
       "      <th>4</th>\n",
       "      <td>1</td>\n",
       "      <td>660</td>\n",
       "      <td>6.06</td>\n",
       "      <td>3</td>\n",
       "      <td>7</td>\n",
       "      <td>1</td>\n",
       "      <td>0.027273</td>\n",
       "      <td>0.009182</td>\n",
       "      <td>0.166667</td>\n",
       "      <td>0</td>\n",
       "      <td>18.0</td>\n",
       "    </tr>\n",
       "  </tbody>\n",
       "</table>\n",
       "</div>"
      ],
      "text/plain": [
       "   trustLevel  totalScanTimeInSeconds  grandTotal  lineItemVoids  \\\n",
       "0           4                     828       66.56              7   \n",
       "1           1                    1612       31.34              2   \n",
       "2           3                     848       52.37              2   \n",
       "3           1                     321       76.03              8   \n",
       "4           1                     660        6.06              3   \n",
       "\n",
       "   scansWithoutRegistration  quantityModifications  scannedLineItemsPerSecond  \\\n",
       "0                         4                      3                   0.007246   \n",
       "1                         4                      3                   0.008685   \n",
       "2                         4                      0                   0.022406   \n",
       "3                         7                      2                   0.071651   \n",
       "4                         7                      1                   0.027273   \n",
       "\n",
       "   valuePerSecond  lineItemVoidsPerPosition  fraud  totalLineItems  \n",
       "0        0.080386                  1.166667      0             6.0  \n",
       "1        0.019442                  0.142857      0            14.0  \n",
       "2        0.061757                  0.105263      0            19.0  \n",
       "3        0.236854                  0.347826      0            23.0  \n",
       "4        0.009182                  0.166667      0            18.0  "
      ]
     },
     "execution_count": 4,
     "metadata": {},
     "output_type": "execute_result"
    }
   ],
   "source": [
    "def prepareData(df):\n",
    "  df = df.copy()\n",
    "  df['totalLineItems'] = df['scannedLineItemsPerSecond'] * df['totalScanTimeInSeconds'] #nur of scanned products\n",
    "  return df\n",
    "\n",
    "df_train = prepareData(df_train_original)\n",
    "df_val = prepareData(df_val_original)\n",
    "df_test = prepareData(df_test_original)\n",
    "\n",
    "df_train.head()"
   ]
  },
  {
   "cell_type": "code",
   "execution_count": 5,
   "metadata": {
    "colab": {
     "base_uri": "https://localhost:8080/",
     "height": 34
    },
    "colab_type": "code",
    "id": "8SQCAgyo7iSs",
    "outputId": "bf75691c-b883-49e9-a0c1-0254432b8957"
   },
   "outputs": [
    {
     "name": "stdout",
     "output_type": "stream",
     "text": [
      "Shapes (332576, 10) (376, 10) (376,)\n"
     ]
    }
   ],
   "source": [
    "# Extract fraud=0 from Training (and remove fraud column)\n",
    "df_train_nofraud = df_train[df_train.fraud == 1].copy().drop('fraud', axis=1)\n",
    "\n",
    "# Extract High Trust Level Entries (which we think is fraud=0)\n",
    "df_test_nofraud = df_test[df_test.trustLevel > 2].copy()\n",
    "\n",
    "df_nofraud = pd.concat([df_train_nofraud, df_test_nofraud], sort=False)\n",
    "\n",
    "# Splitting validation split label\n",
    "df_val_X = df_val.drop('fraud', axis=1)\n",
    "df_val_y = df_val['fraud']\n",
    "\n",
    "X_nofraud, X_val, y_val = df_nofraud.values, df_val_X.values, df_val_y.values\n",
    "\n",
    "print(\"Shapes\",X_nofraud.shape, X_val.shape, y_val.shape)"
   ]
  },
  {
   "cell_type": "markdown",
   "metadata": {
    "colab_type": "text",
    "id": "20Uw2ePNy4Ql"
   },
   "source": [
    "## Novelty Detection\n",
    "semi supervised\n",
    "\n",
    "> Consider a data set of  observations from the same distribution described by  features. Consider now that we add one more observation to that data set. Is the new observation so different from the others that we can doubt it is regular? (i.e. does it come from the same distribution?) Or on the contrary, is it so similar to the other that we cannot distinguish it from the original observations? This is the question addressed by the novelty detection tools and methods. ([source](https://scikit-learn.org/stable/modules/outlier_detection.html#novelty-detection))\n",
    "\n"
   ]
  },
  {
   "cell_type": "code",
   "execution_count": 10,
   "metadata": {
    "colab": {},
    "colab_type": "code",
    "id": "VYAlQPxKi_wL"
   },
   "outputs": [
    {
     "name": "stderr",
     "output_type": "stream",
     "text": [
      "/usr/local/lib/python3.5/dist-packages/sklearn/svm/base.py:196: FutureWarning: The default value of gamma will change from 'auto' to 'scale' in version 0.22 to account better for unscaled features. Set gamma explicitly to 'auto' or 'scale' to avoid this warning.\n",
      "  \"avoid this warning.\", FutureWarning)\n",
      "/usr/local/lib/python3.5/dist-packages/sklearn/svm/base.py:244: ConvergenceWarning: Solver terminated early (max_iter=10000).  Consider pre-processing your data with StandardScaler or MinMaxScaler.\n",
      "  % self.max_iter, ConvergenceWarning)\n"
     ]
    }
   ],
   "source": [
    "clf = svm.OneClassSVM(cache_size=20000, max_iter=10000)\n",
    "clf.fit(X_nofraud)\n",
    "y_val_pred_distances = clf.decision_function(X_val) # Signed distance to the separating hyperplane, positive for inliers, negative for outliers."
   ]
  },
  {
   "cell_type": "code",
   "execution_count": 11,
   "metadata": {
    "colab": {
     "base_uri": "https://localhost:8080/",
     "height": 34
    },
    "colab_type": "code",
    "id": "hAG8Vx58Bdni",
    "outputId": "c69b4b39-1cc9-4ced-d197-126313e8e147"
   },
   "outputs": [
    {
     "name": "stdout",
     "output_type": "stream",
     "text": [
      "Total Val: 376 , Errors: 46 , Confmatrix: [[330, 23], [23, 0]] , Nr of actual/predicted Frauds: 23 / 23 , Nr of actual/predicted Non-Frauds: 353 / 353\n"
     ]
    }
   ],
   "source": [
    "outliers_fraction = 0.94 #percentile, how much padding to add around classification border, high=less frauds\n",
    "\n",
    "threshold = stats.scoreatpercentile(y_val_pred_distances.ravel(),  100 * outliers_fraction)\n",
    "\n",
    "# y_val_pred = np.where(y_val_pred_distances > 0, 0, 1) # Nonfraud = Inlier > 0, Fraud = Outlier < 0\n",
    "y_val_pred = y_val_pred_distances > threshold\n",
    "\n",
    "n_errors = (y_val_pred != y_val).sum()\n",
    "print(\"Total Val:\",len(y_val),\", Errors:\", n_errors, \", Confmatrix:\", metrics.confusion_matrix(y_val, y_val_pred).T.tolist(), \", Nr of actual/predicted Frauds:\",y_val.sum(), \"/\", y_val_pred.sum(), \", Nr of actual/predicted Non-Frauds:\",(y_val == 0).sum(), \"/\", (y_val_pred == 0).sum())"
   ]
  },
  {
   "cell_type": "code",
   "execution_count": 12,
   "metadata": {
    "colab": {
     "base_uri": "https://localhost:8080/",
     "height": 34
    },
    "colab_type": "code",
    "id": "Fxd5Sx0IGgae",
    "outputId": "cac7edad-4855-41cf-c455-9b92729ac808"
   },
   "outputs": [
    {
     "name": "stdout",
     "output_type": "stream",
     "text": [
      "OneClassSVM \t (0.0, -690, -1.8351063829787233, [[330, 23], [23, 0]])\n"
     ]
    }
   ],
   "source": [
    "def score_function(y_true, y_pred):\n",
    "  dmc = np.sum(metrics.confusion_matrix(y_true, y_pred)*np.array([[0, -25],[ -5, 5]])) #sklearn gives [[tn,fp],[fn,tp]]\n",
    "  return (0 if all(y_pred == 0) else metrics.fbeta_score(y_true, y_pred, beta=2),\n",
    "          dmc, \n",
    "          dmc/len(y_pred), #comparable relative score, the higher the better.\n",
    "          metrics.confusion_matrix(y_true, y_pred).tolist())\n",
    "\n",
    "print(\"OneClassSVM\", \"\\t\", score_function(y_val, y_val_pred) )"
   ]
  },
  {
   "cell_type": "code",
   "execution_count": null,
   "metadata": {},
   "outputs": [],
   "source": []
  },
  {
   "cell_type": "code",
   "execution_count": null,
   "metadata": {},
   "outputs": [],
   "source": []
  },
  {
   "cell_type": "code",
   "execution_count": null,
   "metadata": {},
   "outputs": [],
   "source": []
  }
 ],
 "metadata": {
  "colab": {
   "collapsed_sections": [],
   "include_colab_link": true,
   "name": "anomaly_detection.ipynb",
   "provenance": [],
   "version": "0.3.2"
  },
  "kernelspec": {
   "display_name": "Python 3",
   "language": "python",
   "name": "python3"
  },
  "language_info": {
   "codemirror_mode": {
    "name": "ipython",
    "version": 3
   },
   "file_extension": ".py",
   "mimetype": "text/x-python",
   "name": "python",
   "nbconvert_exporter": "python",
   "pygments_lexer": "ipython3",
   "version": "3.5.2"
  }
 },
 "nbformat": 4,
 "nbformat_minor": 2
}
