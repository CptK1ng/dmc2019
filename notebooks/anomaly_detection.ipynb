{
  "nbformat": 4,
  "nbformat_minor": 0,
  "metadata": {
    "colab": {
      "name": "anomaly_detection.ipynb",
      "version": "0.3.2",
      "provenance": [],
      "collapsed_sections": [],
      "include_colab_link": true
    },
    "kernelspec": {
      "name": "python3",
      "display_name": "Python 3"
    }
  },
  "cells": [
    {
      "cell_type": "markdown",
      "metadata": {
        "id": "view-in-github",
        "colab_type": "text"
      },
      "source": [
        "<a href=\"https://colab.research.google.com/github/CptK1ng/dmc2019/blob/alexander_dev/notebooks/anomaly_detection.ipynb\" target=\"_parent\"><img src=\"https://colab.research.google.com/assets/colab-badge.svg\" alt=\"Open In Colab\"/></a>"
      ]
    },
    {
      "metadata": {
        "id": "sJKF9IMXwQ97",
        "colab_type": "text"
      },
      "cell_type": "markdown",
      "source": [
        "# anomaly detection\n",
        "**outlier detection**  = unsupervised anomaly detection\n",
        "\n",
        "**novelty detection**  = semi-supervised anomaly detection"
      ]
    },
    {
      "metadata": {
        "id": "2hpiBSz0vrBF",
        "colab_type": "code",
        "colab": {}
      },
      "cell_type": "code",
      "source": [
        "import pandas as pd\n",
        "import numpy as np\n",
        "from scipy import stats\n",
        "from sklearn import svm\n",
        "from sklearn import metrics\n",
        "%matplotlib inline"
      ],
      "execution_count": 0,
      "outputs": []
    },
    {
      "metadata": {
        "id": "riSD1T5AxaNn",
        "colab_type": "text"
      },
      "cell_type": "markdown",
      "source": [
        "Download our custom Dataset splits and the unlabeled Test Set:"
      ]
    },
    {
      "metadata": {
        "id": "BEZVoEIixaUc",
        "colab_type": "code",
        "colab": {}
      },
      "cell_type": "code",
      "source": [
        "!wget -nc -q --show-progress https://www.dropbox.com/s/6m8iq9ogpzmu7vx/train_new.csv?dl=1 -O train_new.csv\n",
        "!wget -nc -q --show-progress https://www.dropbox.com/s/tjpkc45oqn3uv8s/val_new.csv?dl=1 -O val_new.csv\n",
        "!wget -nc -q --show-progress https://www.dropbox.com/s/hbd6nzgwlnevu4x/test.csv?dl=1 -O test.csv"
      ],
      "execution_count": 0,
      "outputs": []
    },
    {
      "metadata": {
        "id": "n6GO8_dZxfv5",
        "colab_type": "text"
      },
      "cell_type": "markdown",
      "source": [
        "Import data:"
      ]
    },
    {
      "metadata": {
        "id": "Ki2Qs7cYxg3a",
        "colab_type": "code",
        "colab": {
          "base_uri": "https://localhost:8080/",
          "height": 110
        },
        "outputId": "d6f95522-226a-4d9f-d3fa-fd95a150a37f"
      },
      "cell_type": "code",
      "source": [
        "df_train_original = pd.read_csv(\"train_new.csv\", sep=\"|\")\n",
        "df_val_original = pd.read_csv(\"val_new.csv\", sep=\"|\")\n",
        "df_test_original = pd.read_csv(\"test.csv\", sep=\"|\")\n",
        "df_train_original.head(2)"
      ],
      "execution_count": 4,
      "outputs": [
        {
          "output_type": "execute_result",
          "data": {
            "text/html": [
              "<div>\n",
              "<style scoped>\n",
              "    .dataframe tbody tr th:only-of-type {\n",
              "        vertical-align: middle;\n",
              "    }\n",
              "\n",
              "    .dataframe tbody tr th {\n",
              "        vertical-align: top;\n",
              "    }\n",
              "\n",
              "    .dataframe thead th {\n",
              "        text-align: right;\n",
              "    }\n",
              "</style>\n",
              "<table border=\"1\" class=\"dataframe\">\n",
              "  <thead>\n",
              "    <tr style=\"text-align: right;\">\n",
              "      <th></th>\n",
              "      <th>trustLevel</th>\n",
              "      <th>totalScanTimeInSeconds</th>\n",
              "      <th>grandTotal</th>\n",
              "      <th>lineItemVoids</th>\n",
              "      <th>scansWithoutRegistration</th>\n",
              "      <th>quantityModifications</th>\n",
              "      <th>scannedLineItemsPerSecond</th>\n",
              "      <th>valuePerSecond</th>\n",
              "      <th>lineItemVoidsPerPosition</th>\n",
              "      <th>fraud</th>\n",
              "    </tr>\n",
              "  </thead>\n",
              "  <tbody>\n",
              "    <tr>\n",
              "      <th>0</th>\n",
              "      <td>4</td>\n",
              "      <td>828</td>\n",
              "      <td>66.56</td>\n",
              "      <td>7</td>\n",
              "      <td>4</td>\n",
              "      <td>3</td>\n",
              "      <td>0.007246</td>\n",
              "      <td>0.080386</td>\n",
              "      <td>1.166667</td>\n",
              "      <td>0</td>\n",
              "    </tr>\n",
              "    <tr>\n",
              "      <th>1</th>\n",
              "      <td>1</td>\n",
              "      <td>1612</td>\n",
              "      <td>31.34</td>\n",
              "      <td>2</td>\n",
              "      <td>4</td>\n",
              "      <td>3</td>\n",
              "      <td>0.008685</td>\n",
              "      <td>0.019442</td>\n",
              "      <td>0.142857</td>\n",
              "      <td>0</td>\n",
              "    </tr>\n",
              "  </tbody>\n",
              "</table>\n",
              "</div>"
            ],
            "text/plain": [
              "   trustLevel  totalScanTimeInSeconds  grandTotal  lineItemVoids  \\\n",
              "0           4                     828       66.56              7   \n",
              "1           1                    1612       31.34              2   \n",
              "\n",
              "   scansWithoutRegistration  quantityModifications  scannedLineItemsPerSecond  \\\n",
              "0                         4                      3                   0.007246   \n",
              "1                         4                      3                   0.008685   \n",
              "\n",
              "   valuePerSecond  lineItemVoidsPerPosition  fraud  \n",
              "0        0.080386                  1.166667      0  \n",
              "1        0.019442                  0.142857      0  "
            ]
          },
          "metadata": {
            "tags": []
          },
          "execution_count": 4
        }
      ]
    },
    {
      "metadata": {
        "id": "epbjy_sTxyTa",
        "colab_type": "text"
      },
      "cell_type": "markdown",
      "source": [
        "## Feature Engineering"
      ]
    },
    {
      "metadata": {
        "id": "Fri6ChmXxwpk",
        "colab_type": "code",
        "colab": {
          "base_uri": "https://localhost:8080/",
          "height": 203
        },
        "outputId": "c028c662-abdc-46af-fce7-ee687d0ed95d"
      },
      "cell_type": "code",
      "source": [
        "def prepareData(df):\n",
        "  df = df.copy()\n",
        "  df['totalLineItems'] = df['scannedLineItemsPerSecond'] * df['totalScanTimeInSeconds'] #nur of scanned products\n",
        "  return df\n",
        "\n",
        "df_train = prepareData(df_train_original)\n",
        "df_val = prepareData(df_val_original)\n",
        "df_test = prepareData(df_test_original)\n",
        "\n",
        "df_train.head()"
      ],
      "execution_count": 5,
      "outputs": [
        {
          "output_type": "execute_result",
          "data": {
            "text/html": [
              "<div>\n",
              "<style scoped>\n",
              "    .dataframe tbody tr th:only-of-type {\n",
              "        vertical-align: middle;\n",
              "    }\n",
              "\n",
              "    .dataframe tbody tr th {\n",
              "        vertical-align: top;\n",
              "    }\n",
              "\n",
              "    .dataframe thead th {\n",
              "        text-align: right;\n",
              "    }\n",
              "</style>\n",
              "<table border=\"1\" class=\"dataframe\">\n",
              "  <thead>\n",
              "    <tr style=\"text-align: right;\">\n",
              "      <th></th>\n",
              "      <th>trustLevel</th>\n",
              "      <th>totalScanTimeInSeconds</th>\n",
              "      <th>grandTotal</th>\n",
              "      <th>lineItemVoids</th>\n",
              "      <th>scansWithoutRegistration</th>\n",
              "      <th>quantityModifications</th>\n",
              "      <th>scannedLineItemsPerSecond</th>\n",
              "      <th>valuePerSecond</th>\n",
              "      <th>lineItemVoidsPerPosition</th>\n",
              "      <th>fraud</th>\n",
              "      <th>totalLineItems</th>\n",
              "    </tr>\n",
              "  </thead>\n",
              "  <tbody>\n",
              "    <tr>\n",
              "      <th>0</th>\n",
              "      <td>4</td>\n",
              "      <td>828</td>\n",
              "      <td>66.56</td>\n",
              "      <td>7</td>\n",
              "      <td>4</td>\n",
              "      <td>3</td>\n",
              "      <td>0.007246</td>\n",
              "      <td>0.080386</td>\n",
              "      <td>1.166667</td>\n",
              "      <td>0</td>\n",
              "      <td>6.0</td>\n",
              "    </tr>\n",
              "    <tr>\n",
              "      <th>1</th>\n",
              "      <td>1</td>\n",
              "      <td>1612</td>\n",
              "      <td>31.34</td>\n",
              "      <td>2</td>\n",
              "      <td>4</td>\n",
              "      <td>3</td>\n",
              "      <td>0.008685</td>\n",
              "      <td>0.019442</td>\n",
              "      <td>0.142857</td>\n",
              "      <td>0</td>\n",
              "      <td>14.0</td>\n",
              "    </tr>\n",
              "    <tr>\n",
              "      <th>2</th>\n",
              "      <td>3</td>\n",
              "      <td>848</td>\n",
              "      <td>52.37</td>\n",
              "      <td>2</td>\n",
              "      <td>4</td>\n",
              "      <td>0</td>\n",
              "      <td>0.022406</td>\n",
              "      <td>0.061757</td>\n",
              "      <td>0.105263</td>\n",
              "      <td>0</td>\n",
              "      <td>19.0</td>\n",
              "    </tr>\n",
              "    <tr>\n",
              "      <th>3</th>\n",
              "      <td>1</td>\n",
              "      <td>321</td>\n",
              "      <td>76.03</td>\n",
              "      <td>8</td>\n",
              "      <td>7</td>\n",
              "      <td>2</td>\n",
              "      <td>0.071651</td>\n",
              "      <td>0.236854</td>\n",
              "      <td>0.347826</td>\n",
              "      <td>0</td>\n",
              "      <td>23.0</td>\n",
              "    </tr>\n",
              "    <tr>\n",
              "      <th>4</th>\n",
              "      <td>1</td>\n",
              "      <td>660</td>\n",
              "      <td>6.06</td>\n",
              "      <td>3</td>\n",
              "      <td>7</td>\n",
              "      <td>1</td>\n",
              "      <td>0.027273</td>\n",
              "      <td>0.009182</td>\n",
              "      <td>0.166667</td>\n",
              "      <td>0</td>\n",
              "      <td>18.0</td>\n",
              "    </tr>\n",
              "  </tbody>\n",
              "</table>\n",
              "</div>"
            ],
            "text/plain": [
              "   trustLevel  totalScanTimeInSeconds  grandTotal  lineItemVoids  \\\n",
              "0           4                     828       66.56              7   \n",
              "1           1                    1612       31.34              2   \n",
              "2           3                     848       52.37              2   \n",
              "3           1                     321       76.03              8   \n",
              "4           1                     660        6.06              3   \n",
              "\n",
              "   scansWithoutRegistration  quantityModifications  scannedLineItemsPerSecond  \\\n",
              "0                         4                      3                   0.007246   \n",
              "1                         4                      3                   0.008685   \n",
              "2                         4                      0                   0.022406   \n",
              "3                         7                      2                   0.071651   \n",
              "4                         7                      1                   0.027273   \n",
              "\n",
              "   valuePerSecond  lineItemVoidsPerPosition  fraud  totalLineItems  \n",
              "0        0.080386                  1.166667      0             6.0  \n",
              "1        0.019442                  0.142857      0            14.0  \n",
              "2        0.061757                  0.105263      0            19.0  \n",
              "3        0.236854                  0.347826      0            23.0  \n",
              "4        0.009182                  0.166667      0            18.0  "
            ]
          },
          "metadata": {
            "tags": []
          },
          "execution_count": 5
        }
      ]
    },
    {
      "metadata": {
        "id": "8SQCAgyo7iSs",
        "colab_type": "code",
        "colab": {
          "base_uri": "https://localhost:8080/",
          "height": 34
        },
        "outputId": "bf75691c-b883-49e9-a0c1-0254432b8957"
      },
      "cell_type": "code",
      "source": [
        "# Extract fraud=0 from Training (and remove fraud column)\n",
        "df_train_nofraud = df_train[df_train.fraud == 1].copy().drop('fraud', axis=1)\n",
        "\n",
        "# Extract High Trust Level Entries (which we think is fraud=0)\n",
        "df_test_nofraud = df_test[df_test.trustLevel > 2].copy()\n",
        "\n",
        "df_nofraud = pd.concat([df_train_nofraud, df_test_nofraud], sort=False)\n",
        "\n",
        "# Splitting validation split label\n",
        "df_val_X = df_val.drop('fraud', axis=1)\n",
        "df_val_y = df_val['fraud']\n",
        "\n",
        "X_nofraud, X_val, y_val = df_nofraud.values, df_val_X.values, df_val_y.values\n",
        "\n",
        "print(\"Shapes\",X_nofraud.shape, X_val.shape, y_val.shape)"
      ],
      "execution_count": 6,
      "outputs": [
        {
          "output_type": "stream",
          "text": [
            "Shapes (332576, 10) (376, 10) (376,)\n"
          ],
          "name": "stdout"
        }
      ]
    },
    {
      "metadata": {
        "id": "20Uw2ePNy4Ql",
        "colab_type": "text"
      },
      "cell_type": "markdown",
      "source": [
        "## Novelty Detection\n",
        "semi supervised\n",
        "\n",
        "> Consider a data set of  observations from the same distribution described by  features. Consider now that we add one more observation to that data set. Is the new observation so different from the others that we can doubt it is regular? (i.e. does it come from the same distribution?) Or on the contrary, is it so similar to the other that we cannot distinguish it from the original observations? This is the question addressed by the novelty detection tools and methods. ([source](https://scikit-learn.org/stable/modules/outlier_detection.html#novelty-detection))\n",
        "\n"
      ]
    },
    {
      "metadata": {
        "id": "hAG8Vx58Bdni",
        "colab_type": "code",
        "colab": {
          "base_uri": "https://localhost:8080/",
          "height": 68
        },
        "outputId": "aaae7ab1-6f50-4113-c735-100f87a3fa54"
      },
      "cell_type": "code",
      "source": [
        "outliers_fraction = 0.25\n",
        "\n",
        "clf = svm.OneClassSVM() #(nu=0.95 * outliers_fraction + 0.05, kernel=\"rbf\", gamma=0.1)\n",
        "clf.fit(X_nofraud[0:10000])\n",
        "\n",
        "y_val_pred_distances = clf.decision_function(X_val) # Signed distance to the separating hyperplane, positive for inliers, negative for outliers.\n",
        "threshold = stats.scoreatpercentile(y_val_pred_distances.ravel(),  100 * outliers_fraction)\n",
        "\n",
        "# y_val_pred = np.where(y_val_pred_distances > 0, 0, 1) # Nonfraud = Inlier > 0, Fraud = Outlier < 0\n",
        "y_val_pred = y_val_pred_distances > threshold\n",
        "\n",
        "n_errors = (y_val_pred != y_val).sum()\n",
        "print(len(y_val), n_errors)"
      ],
      "execution_count": 10,
      "outputs": [
        {
          "output_type": "stream",
          "text": [
            "/usr/local/lib/python3.6/dist-packages/sklearn/svm/base.py:196: FutureWarning: The default value of gamma will change from 'auto' to 'scale' in version 0.22 to account better for unscaled features. Set gamma explicitly to 'auto' or 'scale' to avoid this warning.\n",
            "  \"avoid this warning.\", FutureWarning)\n"
          ],
          "name": "stderr"
        },
        {
          "output_type": "stream",
          "text": [
            "376 275\n"
          ],
          "name": "stdout"
        }
      ]
    },
    {
      "metadata": {
        "id": "Fxd5Sx0IGgae",
        "colab_type": "code",
        "colab": {
          "base_uri": "https://localhost:8080/",
          "height": 34
        },
        "outputId": "35c8657e-3e32-41c7-b705-454b17843fb0"
      },
      "cell_type": "code",
      "source": [
        "def score_function(y_true, y_pred):\n",
        "  dmc = np.sum(metrics.confusion_matrix(y_true, y_pred)*np.array([[0, -25],[ -5, 5]])) #sklearn gives [[tn,fp],[fn,tp]]\n",
        "  return (0 if all(y_pred == 0) else metrics.fbeta_score(y_true, y_pred, beta=2),\n",
        "          dmc, \n",
        "          dmc/len(y_pred), #comparable relative score, the higher the better.\n",
        "          metrics.confusion_matrix(y_true, y_pred).tolist())\n",
        "\n",
        "print(\"OneClassSVM\", \"\\t\", score_function(y_val, y_val_pred) )"
      ],
      "execution_count": 11,
      "outputs": [
        {
          "output_type": "stream",
          "text": [
            "OneClassSVM \t (0.2005347593582888, -6640, -17.659574468085108, [[86, 267], [8, 15]])\n"
          ],
          "name": "stdout"
        }
      ]
    }
  ]
}