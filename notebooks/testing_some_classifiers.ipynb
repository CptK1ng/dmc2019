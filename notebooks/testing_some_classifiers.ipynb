{
 "cells": [
  {
   "cell_type": "code",
   "execution_count": 1,
   "metadata": {},
   "outputs": [],
   "source": [
    "import pandas as pd\n",
    "import numpy as np\n",
    "from sklearn.linear_model import LogisticRegression\n",
    "from sklearn.metrics import fbeta_score"
   ]
  },
  {
   "cell_type": "code",
   "execution_count": 2,
   "metadata": {},
   "outputs": [],
   "source": [
    "df_train = pd.read_csv(\"../data/train_new.csv\", sep=\"|\")\n",
    "df_val = pd.read_csv(\"../data/val_new.csv\", sep=\"|\")"
   ]
  },
  {
   "cell_type": "code",
   "execution_count": 3,
   "metadata": {},
   "outputs": [],
   "source": [
    "def dmc_score_function(label, y_pred):\n",
    "    loss = 0.0\n",
    "    for index, item in enumerate(label):\n",
    "        if label[index] == 0:\n",
    "            if y_pred[index] == 0:\n",
    "                loss += 0.0\n",
    "            else:\n",
    "                loss -= 25.0\n",
    "        else:\n",
    "            if y_pred[index] == 0:\n",
    "                loss -= 5.0\n",
    "            else:\n",
    "                loss += 5.0\n",
    "    return loss\n",
    "\n",
    "\n",
    "def calculate_metrics(x, y, model, tp=\"scikit\"):\n",
    "    scores = {}\n",
    "    pred = None\n",
    "    if tp is \"scikit\":\n",
    "        scores['acc'] = model.score(x, y)\n",
    "        pred = model.predict(x)\n",
    "    elif tp is \"keras\":\n",
    "        pred = model.predict_classes(x)\n",
    "    scores['dmc'] = dmc_score_function(y, pred)\n",
    "    scores['f2'] = fbeta_score(pred, y, 2, average='binary')\n",
    "    return scores\n"
   ]
  },
  {
   "cell_type": "code",
   "execution_count": 4,
   "metadata": {},
   "outputs": [],
   "source": [
    "df_train = pd.read_csv(\"../data/train_new.csv\", sep=\"|\")\n",
    "df_val = pd.read_csv(\"../data/val_new.csv\", sep=\"|\")\n",
    "df_train['totalScannedLineItems'] =  df_train['totalScanTimeInSeconds'] * df_train['scannedLineItemsPerSecond']\n",
    "df_val['totalScannedLineItems'] =  df_val['totalScanTimeInSeconds'] * df_val['scannedLineItemsPerSecond']\n",
    "df_train.head()\n",
    "\n",
    "df_wo_frauds_balanced = df_train[df_train.fraud!=1].sample(n=df_train[df_train.fraud==1].count()[0])\n",
    "df_50_50 = df_wo_frauds_balanced.append(df_train[df_train.fraud==1],ignore_index=True).sample(frac=1)\n",
    "df_50_50.count()\n",
    "#Validation dataset\n",
    "df_val_y = df_val.fraud\n",
    "df_val_x = df_val.drop(['fraud'], axis=1)\n",
    "\n",
    "#Train balanced\n",
    "df_train_balanced_y = df_50_50.fraud\n",
    "df_train_balanced_x = df_50_50.drop(['fraud'], axis=1)\n",
    "\n",
    "#Train unbalanced\n",
    "df_train_unbalanced_y = df_train.fraud\n",
    "df_train_unbalanced_x = df_train.drop(['fraud'], axis=1)"
   ]
  },
  {
   "cell_type": "markdown",
   "metadata": {},
   "source": [
    "## Logistic Regression \n",
    "`class sklearn.linear_model.LogisticRegression(penalty=’l2’, dual=False, tol=0.0001, C=1.0, fit_intercept=True, intercept_scaling=1, class_weight=None, random_state=None, solver=’warn’, max_iter=100, multi_class=’warn’, verbose=0, warm_start=False, n_jobs=None)`"
   ]
  },
  {
   "cell_type": "code",
   "execution_count": 5,
   "metadata": {},
   "outputs": [
    {
     "name": "stdout",
     "output_type": "stream",
     "text": [
      "Balanced  {'f2': 0.4581673306772909, 'acc': 0.9095744680851063, 'dmc': -735.0}\n",
      "Unbalanced  {'f2': 0.782608695652174, 'acc': 0.973404255319149, 'dmc': -60.0}\n"
     ]
    },
    {
     "name": "stderr",
     "output_type": "stream",
     "text": [
      "/home/lukas/Projects/dmc2019/venv/lib/python3.5/site-packages/sklearn/linear_model/logistic.py:433: FutureWarning: Default solver will be changed to 'lbfgs' in 0.22. Specify a solver to silence this warning.\n",
      "  FutureWarning)\n",
      "/home/lukas/Projects/dmc2019/venv/lib/python3.5/site-packages/sklearn/linear_model/logistic.py:433: FutureWarning: Default solver will be changed to 'lbfgs' in 0.22. Specify a solver to silence this warning.\n",
      "  FutureWarning)\n"
     ]
    }
   ],
   "source": [
    "res = dict()\n",
    "\n",
    "log_reg_balanced = LogisticRegression().fit(df_train_balanced_x, df_train_balanced_y)\n",
    "log_reg_unbalanced = LogisticRegression().fit(df_train_unbalanced_x, df_train_unbalanced_y)\n",
    "\n",
    "print(\"Balanced \",calculate_metrics(df_val_x, df_val_y, log_reg_balanced))\n",
    "print(\"Unbalanced \",calculate_metrics(df_val_x, df_val_y, log_reg_unbalanced))"
   ]
  },
  {
   "cell_type": "markdown",
   "metadata": {},
   "source": [
    "## Linear Discriminant Analysis\n",
    "`class sklearn.discriminant_analysis.LinearDiscriminantAnalysis(solver=’svd’, shrinkage=None, priors=None, n_components=None, store_covariance=False, tol=0.0001)`"
   ]
  },
  {
   "cell_type": "code",
   "execution_count": 6,
   "metadata": {},
   "outputs": [],
   "source": [
    "from sklearn.discriminant_analysis import LinearDiscriminantAnalysis\n",
    "lda_balanced = LinearDiscriminantAnalysis().fit(df_train_balanced_x, df_train_balanced_y)\n",
    "lda_unbalanced = LinearDiscriminantAnalysis().fit(df_train_unbalanced_x, df_train_unbalanced_y)\n",
    "res['lda balanced'] = calculate_metrics(df_val_x, df_val_y, lda_balanced)\n",
    "res['lda unbalanced'] = calculate_metrics(df_val_x, df_val_y, lda_unbalanced)"
   ]
  },
  {
   "cell_type": "markdown",
   "metadata": {},
   "source": [
    "## KNN \n",
    "`class sklearn.neighbors.KNeighborsClassifier(n_neighbors=5, weights=’uniform’, algorithm=’auto’, leaf_size=30, p=2, metric=’minkowski’, metric_params=None, n_jobs=None, **kwargs)`"
   ]
  },
  {
   "cell_type": "code",
   "execution_count": 7,
   "metadata": {},
   "outputs": [
    {
     "name": "stdout",
     "output_type": "stream",
     "text": [
      "Balanced  {'f2': 0.08939974457215837, 'acc': 0.5079787234042553, 'dmc': -4375.0}\n",
      "Unbalanced  {'f2': 0.0, 'acc': 0.9388297872340425, 'dmc': -115.0}\n"
     ]
    },
    {
     "name": "stderr",
     "output_type": "stream",
     "text": [
      "/home/lukas/Projects/dmc2019/venv/lib/python3.5/site-packages/sklearn/metrics/classification.py:1145: UndefinedMetricWarning: F-score is ill-defined and being set to 0.0 due to no true samples.\n",
      "  'recall', 'true', average, warn_for)\n"
     ]
    }
   ],
   "source": [
    "from sklearn.neighbors import KNeighborsClassifier\n",
    "knn_balanced = KNeighborsClassifier().fit(df_train_balanced_x, df_train_balanced_y)\n",
    "knn_unbalanced = KNeighborsClassifier().fit(df_train_unbalanced_x, df_train_unbalanced_y)\n",
    "print(\"Balanced \",calculate_metrics(df_val_x, df_val_y, knn_balanced))\n",
    "print(\"Unbalanced \",calculate_metrics(df_val_x, df_val_y, knn_unbalanced))"
   ]
  },
  {
   "cell_type": "markdown",
   "metadata": {},
   "source": [
    "## Support Vector Classifier\n",
    "`class sklearn.svm.SVC(C=1.0, kernel=’rbf’, degree=3, gamma=’auto_deprecated’, coef0=0.0, shrinking=True, probability=False, tol=0.001, cache_size=200, class_weight=None, verbose=False, max_iter=-1, decision_function_shape=’ovr’, random_state=None)`"
   ]
  },
  {
   "cell_type": "code",
   "execution_count": 8,
   "metadata": {},
   "outputs": [
    {
     "name": "stderr",
     "output_type": "stream",
     "text": [
      "/home/lukas/Projects/dmc2019/venv/lib/python3.5/site-packages/sklearn/svm/base.py:196: FutureWarning: The default value of gamma will change from 'auto' to 'scale' in version 0.22 to account better for unscaled features. Set gamma explicitly to 'auto' or 'scale' to avoid this warning.\n",
      "  \"avoid this warning.\", FutureWarning)\n",
      "/home/lukas/Projects/dmc2019/venv/lib/python3.5/site-packages/sklearn/svm/base.py:196: FutureWarning: The default value of gamma will change from 'auto' to 'scale' in version 0.22 to account better for unscaled features. Set gamma explicitly to 'auto' or 'scale' to avoid this warning.\n",
      "  \"avoid this warning.\", FutureWarning)\n"
     ]
    },
    {
     "name": "stdout",
     "output_type": "stream",
     "text": [
      "Balanced  {'f2': 0.0, 'acc': 0.9281914893617021, 'dmc': -215.0}\n",
      "Unbalanced  {'f2': 0.0, 'acc': 0.9388297872340425, 'dmc': -115.0}\n"
     ]
    },
    {
     "name": "stderr",
     "output_type": "stream",
     "text": [
      "/home/lukas/Projects/dmc2019/venv/lib/python3.5/site-packages/sklearn/metrics/classification.py:1145: UndefinedMetricWarning: F-score is ill-defined and being set to 0.0 due to no true samples.\n",
      "  'recall', 'true', average, warn_for)\n"
     ]
    }
   ],
   "source": [
    "from sklearn.svm import SVC\n",
    "svc_balanced = SVC().fit(df_train_balanced_x, df_train_balanced_y)\n",
    "svc_unbalanced = SVC().fit(df_train_unbalanced_x, df_train_unbalanced_y)\n",
    "print(\"Balanced \",calculate_metrics(df_val_x, df_val_y, svc_balanced))\n",
    "print(\"Unbalanced \",calculate_metrics(df_val_x, df_val_y, svc_unbalanced))\n"
   ]
  },
  {
   "cell_type": "code",
   "execution_count": 9,
   "metadata": {},
   "outputs": [
    {
     "name": "stderr",
     "output_type": "stream",
     "text": [
      "/home/lukas/Projects/dmc2019/venv/lib/python3.5/site-packages/sklearn/svm/base.py:196: FutureWarning: The default value of gamma will change from 'auto' to 'scale' in version 0.22 to account better for unscaled features. Set gamma explicitly to 'auto' or 'scale' to avoid this warning.\n",
      "  \"avoid this warning.\", FutureWarning)\n",
      "/home/lukas/Projects/dmc2019/venv/lib/python3.5/site-packages/sklearn/svm/base.py:196: FutureWarning: The default value of gamma will change from 'auto' to 'scale' in version 0.22 to account better for unscaled features. Set gamma explicitly to 'auto' or 'scale' to avoid this warning.\n",
      "  \"avoid this warning.\", FutureWarning)\n"
     ]
    },
    {
     "name": "stdout",
     "output_type": "stream",
     "text": [
      "Balanced  {'f2': 0.0, 'acc': 0.9281914893617021, 'dmc': -215.0}\n",
      "Balanced  {'f2': 0.0, 'acc': 0.9388297872340425, 'dmc': -115.0}\n"
     ]
    },
    {
     "name": "stderr",
     "output_type": "stream",
     "text": [
      "/home/lukas/Projects/dmc2019/venv/lib/python3.5/site-packages/sklearn/metrics/classification.py:1145: UndefinedMetricWarning: F-score is ill-defined and being set to 0.0 due to no true samples.\n",
      "  'recall', 'true', average, warn_for)\n"
     ]
    }
   ],
   "source": [
    "from sklearn.ensemble import RandomForestClassifier\n",
    "rfc_balanced = SVC().fit(df_train_balanced_x, df_train_balanced_y)\n",
    "rfc_unbalanced = SVC().fit(df_train_unbalanced_x, df_train_unbalanced_y)\n",
    "print(\"Balanced \", calculate_metrics(df_val_x, df_val_y, rfc_balanced))\n",
    "print(\"Balanced \",calculate_metrics(df_val_x, df_val_y, rfc_unbalanced))"
   ]
  },
  {
   "cell_type": "markdown",
   "metadata": {},
   "source": [
    "## XGBoost \n",
    "[XGBoost Webseite](https://xgboost.readthedocs.io/en/latest/index.html)"
   ]
  },
  {
   "cell_type": "code",
   "execution_count": 10,
   "metadata": {},
   "outputs": [
    {
     "name": "stdout",
     "output_type": "stream",
     "text": [
      "Balanced  {'f2': 0.628415300546448, 'acc': 0.9547872340425532, 'dmc': -310.0}\n",
      "Unalanced  {'f2': 0.8585858585858586, 'acc': 0.9787234042553191, 'dmc': 5.0}\n"
     ]
    }
   ],
   "source": [
    "from xgboost import XGBClassifier\n",
    "from sklearn.metrics import accuracy_score\n",
    "#params = param = {'max_depth':3, 'eta':1, 'gamma': 1.0, 'min_child_weight' : 1, 'objective':'binary:logistic' }\n",
    "xgb_balanced = XGBClassifier().fit(df_train_balanced_x,df_train_balanced_y)\n",
    "xgb_unbalanced = XGBClassifier().fit(df_train_unbalanced_x,df_train_unbalanced_y)\n",
    "#bst = xgb.train(param, xgb_train_x_balanced, 3)\n",
    "print(\"Balanced \",calculate_metrics(df_val_x, df_val_y, xgb_balanced))\n",
    "print(\"Unalanced \",calculate_metrics(df_val_x, df_val_y, xgb_unbalanced))"
   ]
  },
  {
   "cell_type": "code",
   "execution_count": 11,
   "metadata": {},
   "outputs": [
    {
     "data": {
      "text/plain": [
       "(376, 10)"
      ]
     },
     "execution_count": 11,
     "metadata": {},
     "output_type": "execute_result"
    }
   ],
   "source": [
    "import numpy as np\n",
    "np.array(df_val_x).shape"
   ]
  },
  {
   "cell_type": "code",
   "execution_count": 22,
   "metadata": {},
   "outputs": [
    {
     "name": "stdout",
     "output_type": "stream",
     "text": [
      "Epoch 1/2\n",
      "1503/1503 [==============================] - 0s 156us/step - loss: 1.0185 - acc: 0.0639\n",
      "Epoch 2/2\n",
      "1503/1503 [==============================] - 0s 23us/step - loss: 0.9818 - acc: 0.0665\n"
     ]
    },
    {
     "data": {
      "text/plain": [
       "{'dmc': -8635.0, 'f2': 0.07590759075907591}"
      ]
     },
     "execution_count": 22,
     "metadata": {},
     "output_type": "execute_result"
    }
   ],
   "source": [
    "from xgboost import XGBClassifier\n",
    "import pandas as pd\n",
    "import numpy as np\n",
    "from sklearn.metrics import fbeta_score\n",
    "from keras.models import Sequential\n",
    "from keras.layers import Dense, Activation\n",
    "\n",
    "df_train = pd.read_csv(\"../data/train_new.csv\", sep=\"|\")\n",
    "df_val = pd.read_csv(\"../data/val_new.csv\", sep=\"|\")\n",
    "\n",
    "# Data Preparation\n",
    "df_wo_frauds_balanced = df_train[df_train.fraud != 1].sample(n=df_train[df_train.fraud == 1].count()[0])\n",
    "df_50_50 = df_wo_frauds_balanced.append(df_train[df_train.fraud == 1], ignore_index=True).sample(frac=1)\n",
    "df_50_50.count()\n",
    "\n",
    "# Validation dataset\n",
    "df_val_y = df_val.fraud\n",
    "df_val_x = df_val.drop(['fraud'], axis=1)\n",
    "\n",
    "# Train balanced\n",
    "df_train_balanced_y = df_50_50.fraud\n",
    "df_train_balanced_x = df_50_50.drop(['fraud'], axis=1)\n",
    "\n",
    "# Train unbalanced\n",
    "df_train_unbalanced_y = np.array(df_train.fraud)\n",
    "df_train_unbalanced_x = np.array(df_train.drop(['fraud'], axis=1))\n",
    "\n",
    "model = Sequential()\n",
    "model.add(Dense(5, activation='sigmoid', input_dim=9))\n",
    "#model.add(Dense(500, activation='sigmoid'))\n",
    "\n",
    "model.add(Dense(1, activation='sigmoid'))\n",
    "model.compile(optimizer='rmsprop',\n",
    "              loss='binary_crossentropy',\n",
    "              metrics=['accuracy'])\n",
    "\n",
    "model.fit(df_train_unbalanced_x, df_train_unbalanced_y, epochs=2, batch_size=128)\n",
    "calculate_metrics(df_val_x, df_val_y, model, \"keras\")\n"
   ]
  },
  {
   "cell_type": "code",
   "execution_count": null,
   "metadata": {},
   "outputs": [],
   "source": []
  },
  {
   "cell_type": "code",
   "execution_count": 13,
   "metadata": {},
   "outputs": [
    {
     "data": {
      "text/plain": [
       "{'lda balanced': {'acc': 0.851063829787234,\n",
       "  'dmc': -1285.0,\n",
       "  'f2': 0.3392330383480826},\n",
       " 'lda unbalanced': {'acc': 0.9601063829787234,\n",
       "  'dmc': -50.0,\n",
       "  'f2': 0.7142857142857143}}"
      ]
     },
     "execution_count": 13,
     "metadata": {},
     "output_type": "execute_result"
    }
   ],
   "source": [
    "res"
   ]
  },
  {
   "cell_type": "code",
   "execution_count": 18,
   "metadata": {},
   "outputs": [
    {
     "name": "stdout",
     "output_type": "stream",
     "text": [
      "Epoch 1/1\n",
      "1503/1503 [==============================] - 0s 96us/step - loss: 0.2049 - acc: 0.9461\n"
     ]
    },
    {
     "data": {
      "text/plain": [
       "{'dmc': -115.0, 'f2': 0.0}"
      ]
     },
     "execution_count": 18,
     "metadata": {},
     "output_type": "execute_result"
    }
   ],
   "source": [
    "mlp_unbalanced = model.fit(df_train_unbalanced_x,df_train_unbalanced_y)\n",
    "calculate_metrics(df_val_x, df_val_y, model, \"keras\")\n"
   ]
  },
  {
   "cell_type": "code",
   "execution_count": 15,
   "metadata": {},
   "outputs": [
    {
     "data": {
      "text/plain": [
       "{'lda balanced': {'acc': 0.851063829787234,\n",
       "  'dmc': -1285.0,\n",
       "  'f2': 0.3392330383480826},\n",
       " 'lda unbalanced': {'acc': 0.9601063829787234,\n",
       "  'dmc': -50.0,\n",
       "  'f2': 0.7142857142857143}}"
      ]
     },
     "execution_count": 15,
     "metadata": {},
     "output_type": "execute_result"
    }
   ],
   "source": [
    "res"
   ]
  },
  {
   "cell_type": "code",
   "execution_count": null,
   "metadata": {},
   "outputs": [],
   "source": []
  }
 ],
 "metadata": {
  "kernelspec": {
   "display_name": "Python 3",
   "language": "python",
   "name": "python3"
  },
  "language_info": {
   "codemirror_mode": {
    "name": "ipython",
    "version": 3
   },
   "file_extension": ".py",
   "mimetype": "text/x-python",
   "name": "python",
   "nbconvert_exporter": "python",
   "pygments_lexer": "ipython3",
   "version": "3.5.2"
  }
 },
 "nbformat": 4,
 "nbformat_minor": 2
}
