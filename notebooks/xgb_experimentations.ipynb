{
 "cells": [
  {
   "cell_type": "code",
   "execution_count": 2,
   "metadata": {},
   "outputs": [
    {
     "data": {
      "text/plain": [
       "'/home/lukas/Projects/dmc2019'"
      ]
     },
     "execution_count": 2,
     "metadata": {},
     "output_type": "execute_result"
    }
   ],
   "source": [
    "import os\n",
    "# ggf muss Pfad angepasst werden\n",
    "os.chdir(\"{}/..\".format(os.getcwd()))\n",
    "os.getcwd()\n"
   ]
  },
  {
   "cell_type": "code",
   "execution_count": 3,
   "metadata": {},
   "outputs": [],
   "source": [
    "import pandas as pd\n",
    "import numpy as np\n",
    "import seaborn as sns\n",
    "import matplotlib.pyplot as plt\n",
    "from sklearn import model_selection, linear_model, metrics\n",
    "from scipy.stats import uniform, randint\n",
    "import xgboost as xgb\n",
    "from sklearn.model_selection import cross_val_score, GridSearchCV, KFold, RandomizedSearchCV, train_test_split, cross_validate\n",
    "#from scripts.utils import own_scorer, calc_scores"
   ]
  },
  {
   "cell_type": "markdown",
   "metadata": {},
   "source": [
    "## Data"
   ]
  },
  {
   "cell_type": "code",
   "execution_count": 4,
   "metadata": {},
   "outputs": [
    {
     "name": "stdout",
     "output_type": "stream",
     "text": [
      "Shape of train data:  (1503, 10) Shape of val data:  (376, 10)\n"
     ]
    },
    {
     "data": {
      "text/html": [
       "<div>\n",
       "<style scoped>\n",
       "    .dataframe tbody tr th:only-of-type {\n",
       "        vertical-align: middle;\n",
       "    }\n",
       "\n",
       "    .dataframe tbody tr th {\n",
       "        vertical-align: top;\n",
       "    }\n",
       "\n",
       "    .dataframe thead th {\n",
       "        text-align: right;\n",
       "    }\n",
       "</style>\n",
       "<table border=\"1\" class=\"dataframe\">\n",
       "  <thead>\n",
       "    <tr style=\"text-align: right;\">\n",
       "      <th></th>\n",
       "      <th>trustLevel</th>\n",
       "      <th>totalScanTimeInSeconds</th>\n",
       "      <th>grandTotal</th>\n",
       "      <th>lineItemVoids</th>\n",
       "      <th>scansWithoutRegistration</th>\n",
       "      <th>quantityModifications</th>\n",
       "      <th>scannedLineItemsPerSecond</th>\n",
       "      <th>valuePerSecond</th>\n",
       "      <th>lineItemVoidsPerPosition</th>\n",
       "      <th>fraud</th>\n",
       "      <th>totalScannedLineItems</th>\n",
       "    </tr>\n",
       "  </thead>\n",
       "  <tbody>\n",
       "    <tr>\n",
       "      <th>0</th>\n",
       "      <td>5</td>\n",
       "      <td>1054</td>\n",
       "      <td>54.70</td>\n",
       "      <td>7</td>\n",
       "      <td>0</td>\n",
       "      <td>3</td>\n",
       "      <td>0.027514</td>\n",
       "      <td>0.051898</td>\n",
       "      <td>0.241379</td>\n",
       "      <td>0</td>\n",
       "      <td>29.0</td>\n",
       "    </tr>\n",
       "    <tr>\n",
       "      <th>1</th>\n",
       "      <td>3</td>\n",
       "      <td>108</td>\n",
       "      <td>27.36</td>\n",
       "      <td>5</td>\n",
       "      <td>2</td>\n",
       "      <td>4</td>\n",
       "      <td>0.129630</td>\n",
       "      <td>0.253333</td>\n",
       "      <td>0.357143</td>\n",
       "      <td>0</td>\n",
       "      <td>14.0</td>\n",
       "    </tr>\n",
       "    <tr>\n",
       "      <th>2</th>\n",
       "      <td>3</td>\n",
       "      <td>1516</td>\n",
       "      <td>62.16</td>\n",
       "      <td>3</td>\n",
       "      <td>10</td>\n",
       "      <td>5</td>\n",
       "      <td>0.008575</td>\n",
       "      <td>0.041003</td>\n",
       "      <td>0.230769</td>\n",
       "      <td>0</td>\n",
       "      <td>13.0</td>\n",
       "    </tr>\n",
       "    <tr>\n",
       "      <th>3</th>\n",
       "      <td>6</td>\n",
       "      <td>1791</td>\n",
       "      <td>92.31</td>\n",
       "      <td>8</td>\n",
       "      <td>4</td>\n",
       "      <td>4</td>\n",
       "      <td>0.016192</td>\n",
       "      <td>0.051541</td>\n",
       "      <td>0.275862</td>\n",
       "      <td>0</td>\n",
       "      <td>29.0</td>\n",
       "    </tr>\n",
       "    <tr>\n",
       "      <th>4</th>\n",
       "      <td>5</td>\n",
       "      <td>430</td>\n",
       "      <td>81.53</td>\n",
       "      <td>3</td>\n",
       "      <td>7</td>\n",
       "      <td>2</td>\n",
       "      <td>0.062791</td>\n",
       "      <td>0.189605</td>\n",
       "      <td>0.111111</td>\n",
       "      <td>0</td>\n",
       "      <td>27.0</td>\n",
       "    </tr>\n",
       "  </tbody>\n",
       "</table>\n",
       "</div>"
      ],
      "text/plain": [
       "   trustLevel  totalScanTimeInSeconds  grandTotal  lineItemVoids  \\\n",
       "0           5                    1054       54.70              7   \n",
       "1           3                     108       27.36              5   \n",
       "2           3                    1516       62.16              3   \n",
       "3           6                    1791       92.31              8   \n",
       "4           5                     430       81.53              3   \n",
       "\n",
       "   scansWithoutRegistration  quantityModifications  scannedLineItemsPerSecond  \\\n",
       "0                         0                      3                   0.027514   \n",
       "1                         2                      4                   0.129630   \n",
       "2                        10                      5                   0.008575   \n",
       "3                         4                      4                   0.016192   \n",
       "4                         7                      2                   0.062791   \n",
       "\n",
       "   valuePerSecond  lineItemVoidsPerPosition  fraud  totalScannedLineItems  \n",
       "0        0.051898                  0.241379      0                   29.0  \n",
       "1        0.253333                  0.357143      0                   14.0  \n",
       "2        0.041003                  0.230769      0                   13.0  \n",
       "3        0.051541                  0.275862      0                   29.0  \n",
       "4        0.189605                  0.111111      0                   27.0  "
      ]
     },
     "execution_count": 4,
     "metadata": {},
     "output_type": "execute_result"
    }
   ],
   "source": [
    "df_train = pd.read_csv(\"data/extended_train.csv\", sep=\"|\")\n",
    "sum_frauds, sum_non_frauds  = len(df_train[df_train.fraud == 1]), len(df_train[df_train.fraud == 0])\n",
    "df_y = df_train.fraud\n",
    "df_X = df_train.drop(['fraud'], axis=1)\n",
    "\n",
    "train_x, val_x, train_y, val_y = train_test_split(df_X, df_y, test_size=0.2)\n",
    "\n",
    "print(\"Shape of train data: \", train_x.shape, \"Shape of val data: \", val_x.shape)\n",
    "df_train.head()"
   ]
  },
  {
   "cell_type": "markdown",
   "metadata": {},
   "source": [
    "## Data with new Features"
   ]
  },
  {
   "cell_type": "code",
   "execution_count": 71,
   "metadata": {},
   "outputs": [],
   "source": [
    "df = df_train\n",
    "df['totalScannedLineItems'] = df['scannedLineItemsPerSecond'] * df['totalScanTimeInSeconds']\n",
    "df['avgTimePerScan'] = 1/ df['scannedLineItemsPerSecond']\n",
    "df['avgValuePerScan'] = df['avgTimePerScan'] * df['valuePerSecond']\n",
    "df['withoutRegisPerPosition'] = df['scansWithoutRegistration'] / df['totalScannedLineItems'] #equivalent to lineItemVoidsPerPosition?\n",
    "df['quantiModPerPosition'] = df['quantityModifications'] / df['totalScannedLineItems']\n",
    "df['lineItemVoidsPerTotal'] = df['lineItemVoids'] / df['grandTotal']\n",
    "df['withoutRegisPerTotal'] = df['scansWithoutRegistration'] / df['grandTotal']\n",
    "df['quantiModPerTotal'] = df['quantityModifications'] / df['grandTotal']\n",
    "df['lineItemVoidsPerTime'] = df['lineItemVoids'] / df['totalScanTimeInSeconds']\n",
    "df['withoutRegisPerTime'] = df['scansWithoutRegistration'] / df['totalScanTimeInSeconds']\n",
    "df['quantiModPerTime'] = df['quantityModifications'] / df['totalScanTimeInSeconds']\n",
    "df['valuePerScannedLineItem'] = df['valuePerSecond'] / df['scannedLineItemsPerSecond']\n",
    "df1_y = df.fraud\n",
    "df1_X = df.drop(['fraud'], axis=1)"
   ]
  },
  {
   "cell_type": "code",
   "execution_count": 49,
   "metadata": {},
   "outputs": [
    {
     "name": "stdout",
     "output_type": "stream",
     "text": [
      "Frauds:  104 Non Frauds:  1775\n"
     ]
    }
   ],
   "source": [
    "print(\"Frauds: \", sum_frauds, \"Non Frauds: \", sum_non_frauds)"
   ]
  },
  {
   "cell_type": "markdown",
   "metadata": {},
   "source": [
    "### Scoring Methods"
   ]
  },
  {
   "cell_type": "code",
   "execution_count": 6,
   "metadata": {},
   "outputs": [],
   "source": [
    "scoring = {'AUC': 'roc_auc', 'FBeta': metrics.make_scorer(metrics.fbeta_score, beta=0.5172)}"
   ]
  },
  {
   "cell_type": "code",
   "execution_count": 19,
   "metadata": {},
   "outputs": [
    {
     "name": "stdout",
     "output_type": "stream",
     "text": [
      "Fitting 3 folds for each of 10 candidates, totalling 30 fits\n"
     ]
    },
    {
     "name": "stderr",
     "output_type": "stream",
     "text": [
      "[Parallel(n_jobs=-1)]: Using backend LokyBackend with 12 concurrent workers.\n",
      "[Parallel(n_jobs=-1)]: Done  30 out of  30 | elapsed:    4.8s finished\n"
     ]
    }
   ],
   "source": [
    "params = {\n",
    "    \"max_depth\": randint(2, 6),  # default 3\n",
    "    \"n_estimators\": randint(300, 450),  # default 100\n",
    "    \"eta\" :  uniform(0.1, 0.7),\n",
    "    \"gamma\" : uniform(0,2),\n",
    "    \"min_child_weight\" : uniform(0,50),\n",
    "    \"max_delta_step\" : uniform(0,10), #Set it to value of 1-10 might help control the update.\n",
    "    \"lambda\" : uniform(0.1,2),\n",
    "    \"scale_pos_weight\" : [1, sum_non_frauds/sum_frauds],\n",
    "    \"max_bin\" : randint(200, 300)\n",
    "}\n",
    "default_xgb = xgb.XGBClassifier(booster=\"gbtree\",tree_method='gpu_hist', disable_default_eval_metric=1,objective='binary:logistic',eval_metric='aucpr', n_jobs=6, verbosity=2)\n",
    "search = RandomizedSearchCV(default_xgb, scoring=scoring, param_distributions=params, random_state=42, n_iter=10,\n",
    "                            cv=3, verbose=1, n_jobs=-1, return_train_score=True,refit='FBeta')\n",
    "search.fit(df_X, df_y)\n",
    "results = search.cv_results_"
   ]
  },
  {
   "cell_type": "code",
   "execution_count": null,
   "metadata": {},
   "outputs": [],
   "source": []
  },
  {
   "cell_type": "code",
   "execution_count": 20,
   "metadata": {},
   "outputs": [],
   "source": [
    "def own_scorer_normalized(estimator, X_val, ground_truth):\n",
    "    prediction = estimator.predict(X_val)\n",
    "    confusion_matrix = metrics.confusion_matrix(ground_truth, prediction)\n",
    "    dmc_score = np.sum(confusion_matrix * np.array([[0, -25], [-5, 5]]))\n",
    "    return dmc_score/len(ground_truth)\n",
    "\n",
    "# DMC Score for usage as scorer\n",
    "def own_scorer(estimator, X_val, ground_truth):\n",
    "    prediction = estimator.predict(X_val)\n",
    "    confusion_matrix = metrics.confusion_matrix(ground_truth, prediction)\n",
    "    dmc_score = np.sum(confusion_matrix * np.array([[0, -25], [-5, 5]]))\n",
    "    return dmc_score\n",
    "\n",
    "scorings = {\"DMC\" : own_scorer, \"DMC_Norm\" : own_scorer_normalized}\n",
    "xgbo = search.best_estimator_\n",
    "res = cross_validate(xgbo, df_X, df_y, scoring=scorings, cv=5, n_jobs=-1)"
   ]
  },
  {
   "cell_type": "code",
   "execution_count": 21,
   "metadata": {},
   "outputs": [
    {
     "name": "stderr",
     "output_type": "stream",
     "text": [
      "/home/lukas/Projects/dmc2019/venv/lib/python3.5/site-packages/sklearn/utils/deprecation.py:125: FutureWarning: You are accessing a training score ('train_DMC'), which will not be available by default any more in 0.21. If you need training scores, please set return_train_score=True\n",
      "  warnings.warn(*warn_args, **warn_kwargs)\n",
      "/home/lukas/Projects/dmc2019/venv/lib/python3.5/site-packages/sklearn/utils/deprecation.py:125: FutureWarning: You are accessing a training score ('train_DMC_Norm'), which will not be available by default any more in 0.21. If you need training scores, please set return_train_score=True\n",
      "  warnings.warn(*warn_args, **warn_kwargs)\n"
     ]
    },
    {
     "data": {
      "text/plain": [
       "{'fit_time': array([0.97972083, 0.999892  , 1.00132322, 0.98844695, 0.96589613]),\n",
       " 'score_time': array([0.00831389, 0.00643206, 0.00542617, 0.00634503, 0.00897479]),\n",
       " 'test_DMC': array([-70, -30,  30,  20,  55]),\n",
       " 'test_DMC_Norm': array([-0.18617021, -0.07978723,  0.07978723,  0.05319149,  0.14666667]),\n",
       " 'train_DMC': array([190, 140, 190, 240, 320]),\n",
       " 'train_DMC_Norm': array([0.12641384, 0.09314704, 0.12641384, 0.15968064, 0.21276596])}"
      ]
     },
     "execution_count": 21,
     "metadata": {},
     "output_type": "execute_result"
    }
   ],
   "source": [
    "res"
   ]
  },
  {
   "cell_type": "code",
   "execution_count": 22,
   "metadata": {},
   "outputs": [
    {
     "data": {
      "text/plain": [
       "{'mean_fit_time': array([1.65201481, 1.62268567, 1.76170095, 2.62661489, 1.40069795,\n",
       "        1.81090871, 2.17810178, 1.37819846, 1.32529147, 1.06996719]),\n",
       " 'mean_score_time': array([0.01336797, 0.0132997 , 0.01412503, 0.01442782, 0.01387755,\n",
       "        0.01476526, 0.01299334, 0.01146142, 0.00770036, 0.00590452]),\n",
       " 'mean_test_AUC': array([0.99654747, 0.9956154 , 0.96381256, 0.99829959, 0.99535658,\n",
       "        0.99697113, 0.99839667, 0.99594602, 0.9968931 , 0.99779805]),\n",
       " 'mean_test_FBeta': array([0.85629233, 0.71191035, 0.75662265, 0.84614022, 0.70670032,\n",
       "        0.87588566, 0.851698  , 0.72341712, 0.75995774, 0.84383849]),\n",
       " 'mean_train_AUC': array([0.99965954, 0.99831877, 0.9767591 , 1.        , 0.99772014,\n",
       "        0.99988578, 1.        , 0.99880411, 0.99964534, 1.        ]),\n",
       " 'mean_train_FBeta': array([0.97123925, 0.74744778, 0.79580985, 0.94313573, 0.71981586,\n",
       "        0.98335283, 0.92742036, 0.74302401, 0.78754933, 0.99254765]),\n",
       " 'param_eta': masked_array(data=[0.3621780831931537, 0.7063233020424545,\n",
       "                    0.22727747704497042, 0.1976457024564293,\n",
       "                    0.5146901982034298, 0.6658781436815228,\n",
       "                    0.22135525745544044, 0.12191930471889101,\n",
       "                    0.49931078208377955, 0.7756787150848965],\n",
       "              mask=[False, False, False, False, False, False, False, False,\n",
       "                    False, False],\n",
       "        fill_value='?',\n",
       "             dtype=object),\n",
       " 'param_gamma': masked_array(data=[1.9014286128198323, 1.2022300234864176,\n",
       "                    0.36680901970686763, 0.5842892970704363,\n",
       "                    0.09290082543999545, 0.6092275383467414,\n",
       "                    0.7821212151464816, 1.684569549189997,\n",
       "                    1.0416685200516473, 1.2140684953733694],\n",
       "              mask=[False, False, False, False, False, False, False, False,\n",
       "                    False, False],\n",
       "        fill_value='?',\n",
       "             dtype=object),\n",
       " 'param_lambda': masked_array(data=[1.5639878836228103, 1.516145155592091,\n",
       "                    0.7084844859190754, 0.8327236865873834,\n",
       "                    1.3150897038028768, 0.2953442280127677,\n",
       "                    0.46447217557612464, 0.9995082667395313,\n",
       "                    2.0223440486986983, 0.6519983640450867],\n",
       "              mask=[False, False, False, False, False, False, False, False,\n",
       "                    False, False],\n",
       "        fill_value='?',\n",
       "             dtype=object),\n",
       " 'param_max_bin': masked_array(data=[260, 221, 221, 261, 220, 283, 203, 273, 284, 228],\n",
       "              mask=[False, False, False, False, False, False, False, False,\n",
       "                    False, False],\n",
       "        fill_value='?',\n",
       "             dtype=object),\n",
       " 'param_max_delta_step': masked_array(data=[5.96850157946487, 0.5641157902710026,\n",
       "                    0.07066305219717406, 0.906064345328208,\n",
       "                    4.5049925196954295, 2.410254660260117,\n",
       "                    3.1171107608941098, 8.948273504276488,\n",
       "                    3.8867728968948203, 8.021969807540398],\n",
       "              mask=[False, False, False, False, False, False, False, False,\n",
       "                    False, False],\n",
       "        fill_value='?',\n",
       "             dtype=object),\n",
       " 'param_max_depth': masked_array(data=[3, 5, 2, 3, 3, 5, 3, 3, 3, 2],\n",
       "              mask=[False, False, False, False, False, False, False, False,\n",
       "                    False, False],\n",
       "        fill_value='?',\n",
       "             dtype=object),\n",
       " 'param_min_child_weight': masked_array(data=[7.799726016810133, 41.622132040021086,\n",
       "                    14.561457009902096, 9.983689107917987,\n",
       "                    47.44427686266666, 6.101911742238942,\n",
       "                    10.397083143409441, 36.36359979282104,\n",
       "                    26.984606619453988, 0.7818203370596966],\n",
       "              mask=[False, False, False, False, False, False, False, False,\n",
       "                    False, False],\n",
       "        fill_value='?',\n",
       "             dtype=object),\n",
       " 'param_n_estimators': masked_array(data=[374, 337, 358, 354, 359, 307, 303, 314, 323, 308],\n",
       "              mask=[False, False, False, False, False, False, False, False,\n",
       "                    False, False],\n",
       "        fill_value='?',\n",
       "             dtype=object),\n",
       " 'param_scale_pos_weight': masked_array(data=[1, 17.067307692307693, 1, 17.067307692307693,\n",
       "                    17.067307692307693, 1, 17.067307692307693,\n",
       "                    17.067307692307693, 17.067307692307693,\n",
       "                    17.067307692307693],\n",
       "              mask=[False, False, False, False, False, False, False, False,\n",
       "                    False, False],\n",
       "        fill_value='?',\n",
       "             dtype=object),\n",
       " 'params': [{'eta': 0.3621780831931537,\n",
       "   'gamma': 1.9014286128198323,\n",
       "   'lambda': 1.5639878836228103,\n",
       "   'max_bin': 260,\n",
       "   'max_delta_step': 5.96850157946487,\n",
       "   'max_depth': 3,\n",
       "   'min_child_weight': 7.799726016810133,\n",
       "   'n_estimators': 374,\n",
       "   'scale_pos_weight': 1},\n",
       "  {'eta': 0.7063233020424545,\n",
       "   'gamma': 1.2022300234864176,\n",
       "   'lambda': 1.516145155592091,\n",
       "   'max_bin': 221,\n",
       "   'max_delta_step': 0.5641157902710026,\n",
       "   'max_depth': 5,\n",
       "   'min_child_weight': 41.622132040021086,\n",
       "   'n_estimators': 337,\n",
       "   'scale_pos_weight': 17.067307692307693},\n",
       "  {'eta': 0.22727747704497042,\n",
       "   'gamma': 0.36680901970686763,\n",
       "   'lambda': 0.7084844859190754,\n",
       "   'max_bin': 221,\n",
       "   'max_delta_step': 0.07066305219717406,\n",
       "   'max_depth': 2,\n",
       "   'min_child_weight': 14.561457009902096,\n",
       "   'n_estimators': 358,\n",
       "   'scale_pos_weight': 1},\n",
       "  {'eta': 0.1976457024564293,\n",
       "   'gamma': 0.5842892970704363,\n",
       "   'lambda': 0.8327236865873834,\n",
       "   'max_bin': 261,\n",
       "   'max_delta_step': 0.906064345328208,\n",
       "   'max_depth': 3,\n",
       "   'min_child_weight': 9.983689107917987,\n",
       "   'n_estimators': 354,\n",
       "   'scale_pos_weight': 17.067307692307693},\n",
       "  {'eta': 0.5146901982034298,\n",
       "   'gamma': 0.09290082543999545,\n",
       "   'lambda': 1.3150897038028768,\n",
       "   'max_bin': 220,\n",
       "   'max_delta_step': 4.5049925196954295,\n",
       "   'max_depth': 3,\n",
       "   'min_child_weight': 47.44427686266666,\n",
       "   'n_estimators': 359,\n",
       "   'scale_pos_weight': 17.067307692307693},\n",
       "  {'eta': 0.6658781436815228,\n",
       "   'gamma': 0.6092275383467414,\n",
       "   'lambda': 0.2953442280127677,\n",
       "   'max_bin': 283,\n",
       "   'max_delta_step': 2.410254660260117,\n",
       "   'max_depth': 5,\n",
       "   'min_child_weight': 6.101911742238942,\n",
       "   'n_estimators': 307,\n",
       "   'scale_pos_weight': 1},\n",
       "  {'eta': 0.22135525745544044,\n",
       "   'gamma': 0.7821212151464816,\n",
       "   'lambda': 0.46447217557612464,\n",
       "   'max_bin': 203,\n",
       "   'max_delta_step': 3.1171107608941098,\n",
       "   'max_depth': 3,\n",
       "   'min_child_weight': 10.397083143409441,\n",
       "   'n_estimators': 303,\n",
       "   'scale_pos_weight': 17.067307692307693},\n",
       "  {'eta': 0.12191930471889101,\n",
       "   'gamma': 1.684569549189997,\n",
       "   'lambda': 0.9995082667395313,\n",
       "   'max_bin': 273,\n",
       "   'max_delta_step': 8.948273504276488,\n",
       "   'max_depth': 3,\n",
       "   'min_child_weight': 36.36359979282104,\n",
       "   'n_estimators': 314,\n",
       "   'scale_pos_weight': 17.067307692307693},\n",
       "  {'eta': 0.49931078208377955,\n",
       "   'gamma': 1.0416685200516473,\n",
       "   'lambda': 2.0223440486986983,\n",
       "   'max_bin': 284,\n",
       "   'max_delta_step': 3.8867728968948203,\n",
       "   'max_depth': 3,\n",
       "   'min_child_weight': 26.984606619453988,\n",
       "   'n_estimators': 323,\n",
       "   'scale_pos_weight': 17.067307692307693},\n",
       "  {'eta': 0.7756787150848965,\n",
       "   'gamma': 1.2140684953733694,\n",
       "   'lambda': 0.6519983640450867,\n",
       "   'max_bin': 228,\n",
       "   'max_delta_step': 8.021969807540398,\n",
       "   'max_depth': 2,\n",
       "   'min_child_weight': 0.7818203370596966,\n",
       "   'n_estimators': 308,\n",
       "   'scale_pos_weight': 17.067307692307693}],\n",
       " 'rank_test_AUC': array([ 6,  8, 10,  2,  9,  4,  1,  7,  5,  3], dtype=int32),\n",
       " 'rank_test_FBeta': array([ 2,  9,  7,  4, 10,  1,  3,  8,  6,  5], dtype=int32),\n",
       " 'split0_test_AUC': array([0.99454633, 0.99247104, 0.98132239, 0.99676641, 0.99276062,\n",
       "        0.99502896, 0.99720077, 0.99203668, 0.99329151, 0.99739382]),\n",
       " 'split0_test_FBeta': array([0.79599872, 0.63974692, 0.74932684, 0.71668395, 0.63038874,\n",
       "        0.8216761 , 0.72596276, 0.6498731 , 0.66012955, 0.75127423]),\n",
       " 'split0_train_AUC': array([0.99971823, 0.99875041, 0.9703407 , 1.        , 0.99843802,\n",
       "        0.99992649, 1.        , 0.99872591, 0.99959572, 1.        ]),\n",
       " 'split0_train_FBeta': array([0.97549075, 0.79900822, 0.84551037, 0.94592093, 0.77769323,\n",
       "        0.97890772, 0.9562637 , 0.79177458, 0.83725394, 1.        ]),\n",
       " 'split1_test_AUC': array([0.9984556 , 0.99840734, 0.98503861, 0.99917954, 0.99835907,\n",
       "        0.99869691, 0.99898649, 0.99888996, 0.99903475, 0.99908301]),\n",
       " 'split1_test_FBeta': array([0.89208257, 0.72295718, 0.82738007, 0.88086339, 0.71136433,\n",
       "        0.92512266, 0.88086339, 0.7473146 , 0.80130903, 0.86371341]),\n",
       " 'split1_train_AUC': array([0.99936296, 0.99764171, 0.98327759, 1.        , 0.99688216,\n",
       "        0.99975498, 1.        , 0.9986034 , 0.99946096, 1.        ]),\n",
       " 'split1_train_FBeta': array([0.96473645, 0.708401  , 0.75094313, 0.91619282, 0.67039002,\n",
       "        0.98377972, 0.8793451 , 0.708401  , 0.73830213, 0.97764294]),\n",
       " 'split2_test_AUC': array([0.99664079, 0.99596895, 0.92495272, 0.99895491, 0.99494874,\n",
       "        0.99718822, 0.99900468, 0.9969145 , 0.99835772, 0.9969145 ]),\n",
       " 'split2_test_FBeta': array([0.88087412, 0.77322252, 0.69295794, 0.94117647, 0.77857716,\n",
       "        0.88087412, 0.94857687, 0.77322252, 0.81862175, 0.91676042]),\n",
       " 'split2_train_AUC': array([0.99989744, 0.99856419, 0.97665903, 1.        , 0.99784025,\n",
       "        0.99997587, 1.        , 0.99908301, 0.99987934, 1.        ]),\n",
       " 'split2_train_FBeta': array([0.97349056, 0.73493413, 0.79097606, 0.96729344, 0.71136433,\n",
       "        0.98737106, 0.94665227, 0.72889646, 0.78709193, 1.        ]),\n",
       " 'std_fit_time': array([0.04686203, 0.01898912, 0.018827  , 0.05999961, 0.02611488,\n",
       "        0.0604086 , 0.05162738, 0.02386282, 0.01272586, 0.05872147]),\n",
       " 'std_score_time': array([0.00052728, 0.00104668, 0.00078241, 0.00052453, 0.00021113,\n",
       "        0.00110523, 0.00079724, 0.00146223, 0.00037191, 0.00057749]),\n",
       " 'std_test_AUC': array([0.00159816, 0.00243758, 0.02747616, 0.00108885, 0.00230483,\n",
       "        0.00150605, 0.00084633, 0.00288162, 0.00256368, 0.00093013]),\n",
       " 'std_test_FBeta': array([0.04291259, 0.05503467, 0.05510533, 0.09486202, 0.06057148,\n",
       "        0.04240086, 0.09317231, 0.0531083 , 0.07099804, 0.0689903 ]),\n",
       " 'std_train_AUC': array([2.22114169e-04, 4.84752383e-04, 5.28193971e-03, 0.00000000e+00,\n",
       "        6.40829098e-04, 9.46599688e-05, 6.40987562e-17, 2.03456991e-04,\n",
       "        1.74369955e-04, 0.00000000e+00]),\n",
       " 'std_train_FBeta': array([0.00467012, 0.03803385, 0.03875792, 0.0209545 , 0.04421211,\n",
       "        0.0034683 , 0.03422005, 0.0354728 , 0.0403982 , 0.01053922])}"
      ]
     },
     "execution_count": 22,
     "metadata": {},
     "output_type": "execute_result"
    }
   ],
   "source": [
    "results"
   ]
  },
  {
   "cell_type": "code",
   "execution_count": null,
   "metadata": {},
   "outputs": [],
   "source": []
  }
 ],
 "metadata": {
  "kernelspec": {
   "display_name": "Python 3",
   "language": "python",
   "name": "python3"
  },
  "language_info": {
   "codemirror_mode": {
    "name": "ipython",
    "version": 3
   },
   "file_extension": ".py",
   "mimetype": "text/x-python",
   "name": "python",
   "nbconvert_exporter": "python",
   "pygments_lexer": "ipython3",
   "version": "3.5.2"
  }
 },
 "nbformat": 4,
 "nbformat_minor": 2
}
