{
 "cells": [
  {
   "cell_type": "markdown",
   "metadata": {},
   "source": [
    "# Choose Classificator based on Neighbour"
   ]
  },
  {
   "cell_type": "code",
   "execution_count": 17,
   "metadata": {},
   "outputs": [],
   "source": [
    "import pandas as pd\n",
    "import numpy as np\n",
    "from xgboost import XGBClassifier\n",
    "from sklearn.svm import SVC\n",
    "from sklearn import metrics\n",
    "from sklearn.preprocessing import MinMaxScaler"
   ]
  },
  {
   "cell_type": "code",
   "execution_count": 18,
   "metadata": {},
   "outputs": [],
   "source": [
    "def find_nearest_neighbor_index(row, dataset):\n",
    "    scaler = MinMaxScaler()\n",
    "    dataset_scaled = scaler.fit_transform(dataset)\n",
    "    row_scaled = scaler.transform([row])\n",
    "    \n",
    "    diffs = [np.sum((row_scaled[0] - ds_row)**2) for ds_row in dataset_scaled]\n",
    "    return np.argmin(diffs)"
   ]
  },
  {
   "cell_type": "markdown",
   "metadata": {},
   "source": [
    "Test implementation:"
   ]
  },
  {
   "cell_type": "code",
   "execution_count": 31,
   "metadata": {},
   "outputs": [],
   "source": [
    "df_train = pd.read_csv(\"../data/train_new.csv\", sep=\"|\")\n",
    "df_val   = pd.read_csv(\"../data/val_new.csv\", sep=\"|\")\n",
    "df_test  = pd.read_csv(\"../data/test.csv\", sep=\"|\")\n",
    "\n",
    "\n",
    "train_y = df_train[\"fraud\"]\n",
    "train_X = df_train.drop(\"fraud\", axis=1)\n",
    "val_y = df_val[\"fraud\"]\n",
    "val_X = df_val.drop(\"fraud\", axis=1)\n",
    "test_X = df_test.copy()\n",
    "\n",
    "\n",
    "classifiers = {\n",
    "    'xgb': XGBClassifier(),\n",
    "    'svm': SVC(probability=True, gamma=\"auto\")\n",
    "}\n",
    "\n",
    "# init(fit) classifiers: train on train_X\n",
    "classifiers_fitted = {name: clf.fit(train_X.values, train_y.values) for name, clf in classifiers.items()}\n",
    "\n",
    "# predict val_X to get propabilites\n",
    "df_val_ext = df_val.copy()\n",
    "\n",
    "xgp_probas = classifiers_fitted['xgb'].predict_proba(val_X.values).T\n",
    "svm_probas = classifiers_fitted['svm'].predict_proba(val_X.values).T\n",
    "\n",
    "xgb_proba = np.maximum(*xgp_probas)\n",
    "svm_proba = np.maximum(*svm_probas)\n",
    "\n",
    "xgb_pred = np.where(xgb_proba > 0.5, 1, 0)\n",
    "svm_pred = np.where(svm_proba > 0.5, 0, 0)\n",
    "\n",
    "#only say accuracy was higher when prediction was right\n",
    "xgb_proba_true = np.where(xgb_pred == val_y, xgb_proba, 0)\n",
    "svm_proba_true = np.where(svm_pred == val_y, svm_proba, 0)\n",
    "\n",
    "df_val_ext[\"xgb_prob\"] = xgb_proba_true\n",
    "df_val_ext[\"svm_prob\"] = svm_proba_true\n",
    "\n",
    "# predict test with classificator that was best\n",
    "def predict(X):\n",
    "    test_y = []\n",
    "    for test_row_X in X.values[0:1000]:\n",
    "        idx = find_nearest_neighbor_index(test_row_X, val_X.values)\n",
    "        #print(idx)\n",
    "        clfid = 'xgb' if df_val_ext.iloc[idx].xgb_prob > df_val_ext.iloc[idx].svm_prob else 'svm'\n",
    "        test_row_y_pred = classifiers_fitted[clfid].predict([test_row_X])\n",
    "        test_y.append(test_row_y_pred[0])\n",
    "    return test_y"
   ]
  },
  {
   "cell_type": "markdown",
   "metadata": {},
   "source": [
    "Validate on val set"
   ]
  },
  {
   "cell_type": "code",
   "execution_count": 25,
   "metadata": {},
   "outputs": [],
   "source": [
    "def calc_scores(y_test, y_pred):\n",
    "    accuracy = metrics.accuracy_score(y_test, y_pred)\n",
    "    confusion_matrix = metrics.confusion_matrix(y_test, y_pred)\n",
    "    dmc_score = np.sum(confusion_matrix * np.array([[0, -25], [-5, 5]]))\n",
    "    return accuracy, dmc_score, confusion_matrix\n",
    "\n",
    "val_y_pred = predict(val_X)\n",
    "calc_scores(val_y, val_y_pred)"
   ]
  },
  {
   "cell_type": "markdown",
   "metadata": {},
   "source": [
    "Test on Test set"
   ]
  },
  {
   "cell_type": "code",
   "execution_count": null,
   "metadata": {},
   "outputs": [],
   "source": [
    "test_y_pred = predict(test_X)\n",
    "#submit to DMC: test_y_pred"
   ]
  },
  {
   "cell_type": "markdown",
   "metadata": {},
   "source": [
    "Ideas for the future:"
   ]
  },
  {
   "cell_type": "code",
   "execution_count": null,
   "metadata": {},
   "outputs": [],
   "source": [
    "#oder normal predicten mit mehreren classifiers und\n",
    "#-per mehrheitsentscheid das häufigste ergebnis nehme\n",
    "#-das ergebnis des zuversichtlichsten klassifikators nehmen"
   ]
  }
 ],
 "metadata": {
  "kernelspec": {
   "display_name": "Python 3",
   "language": "python",
   "name": "python3"
  },
  "language_info": {
   "codemirror_mode": {
    "name": "ipython",
    "version": 3
   },
   "file_extension": ".py",
   "mimetype": "text/x-python",
   "name": "python",
   "nbconvert_exporter": "python",
   "pygments_lexer": "ipython3",
   "version": "3.5.2"
  }
 },
 "nbformat": 4,
 "nbformat_minor": 2
}
