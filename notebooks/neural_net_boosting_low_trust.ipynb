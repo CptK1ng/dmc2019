{
 "cells": [
  {
   "cell_type": "code",
   "execution_count": 1,
   "metadata": {},
   "outputs": [],
   "source": [
    "from keras.models import Sequential\n",
    "from keras.layers import Dense, Activation\n",
    "from keras_metrics import binary_average_recall, binary_recall, binary_precision\n",
    "import pandas as pd\n",
    "import numpy as np"
   ]
  },
  {
   "cell_type": "code",
   "execution_count": 2,
   "metadata": {},
   "outputs": [
    {
     "data": {
      "text/html": [
       "<div>\n",
       "<style scoped>\n",
       "    .dataframe tbody tr th:only-of-type {\n",
       "        vertical-align: middle;\n",
       "    }\n",
       "\n",
       "    .dataframe tbody tr th {\n",
       "        vertical-align: top;\n",
       "    }\n",
       "\n",
       "    .dataframe thead th {\n",
       "        text-align: right;\n",
       "    }\n",
       "</style>\n",
       "<table border=\"1\" class=\"dataframe\">\n",
       "  <thead>\n",
       "    <tr style=\"text-align: right;\">\n",
       "      <th></th>\n",
       "      <th>Unnamed: 0</th>\n",
       "      <th>trustLevel</th>\n",
       "      <th>totalScanTimeInSeconds</th>\n",
       "      <th>grandTotal</th>\n",
       "      <th>lineItemVoids</th>\n",
       "      <th>scansWithoutRegistration</th>\n",
       "      <th>quantityModifications</th>\n",
       "      <th>scannedLineItemsPerSecond</th>\n",
       "      <th>valuePerSecond</th>\n",
       "      <th>lineItemVoidsPerPosition</th>\n",
       "      <th>totalScannedLineItems</th>\n",
       "      <th>lsvc_predict</th>\n",
       "      <th>lsvc_proba</th>\n",
       "      <th>xgb_predict</th>\n",
       "      <th>xgb_proba</th>\n",
       "      <th>fraud</th>\n",
       "    </tr>\n",
       "  </thead>\n",
       "  <tbody>\n",
       "    <tr>\n",
       "      <th>count</th>\n",
       "      <td>679.000000</td>\n",
       "      <td>679.000000</td>\n",
       "      <td>679.000000</td>\n",
       "      <td>679.000000</td>\n",
       "      <td>679.000000</td>\n",
       "      <td>679.000000</td>\n",
       "      <td>679.000000</td>\n",
       "      <td>679.000000</td>\n",
       "      <td>679.000000</td>\n",
       "      <td>679.000000</td>\n",
       "      <td>679.000000</td>\n",
       "      <td>679.000000</td>\n",
       "      <td>679.000000</td>\n",
       "      <td>679.000000</td>\n",
       "      <td>679.000000</td>\n",
       "      <td>679.000000</td>\n",
       "    </tr>\n",
       "    <tr>\n",
       "      <th>mean</th>\n",
       "      <td>954.069219</td>\n",
       "      <td>1.511046</td>\n",
       "      <td>911.656848</td>\n",
       "      <td>48.523019</td>\n",
       "      <td>5.543446</td>\n",
       "      <td>4.826215</td>\n",
       "      <td>2.530191</td>\n",
       "      <td>0.047390</td>\n",
       "      <td>0.158916</td>\n",
       "      <td>0.730383</td>\n",
       "      <td>15.359352</td>\n",
       "      <td>0.156112</td>\n",
       "      <td>0.965106</td>\n",
       "      <td>0.148748</td>\n",
       "      <td>0.965443</td>\n",
       "      <td>0.153166</td>\n",
       "    </tr>\n",
       "    <tr>\n",
       "      <th>std</th>\n",
       "      <td>554.991652</td>\n",
       "      <td>0.500246</td>\n",
       "      <td>535.079567</td>\n",
       "      <td>29.287414</td>\n",
       "      <td>3.426099</td>\n",
       "      <td>3.186784</td>\n",
       "      <td>1.683308</td>\n",
       "      <td>0.130887</td>\n",
       "      <td>0.727461</td>\n",
       "      <td>1.243906</td>\n",
       "      <td>8.699703</td>\n",
       "      <td>0.363229</td>\n",
       "      <td>0.092778</td>\n",
       "      <td>0.356102</td>\n",
       "      <td>0.085306</td>\n",
       "      <td>0.360413</td>\n",
       "    </tr>\n",
       "    <tr>\n",
       "      <th>min</th>\n",
       "      <td>5.000000</td>\n",
       "      <td>1.000000</td>\n",
       "      <td>2.000000</td>\n",
       "      <td>0.070000</td>\n",
       "      <td>0.000000</td>\n",
       "      <td>0.000000</td>\n",
       "      <td>0.000000</td>\n",
       "      <td>0.000551</td>\n",
       "      <td>0.000044</td>\n",
       "      <td>0.000000</td>\n",
       "      <td>1.000000</td>\n",
       "      <td>0.000000</td>\n",
       "      <td>0.500000</td>\n",
       "      <td>0.000000</td>\n",
       "      <td>0.504000</td>\n",
       "      <td>0.000000</td>\n",
       "    </tr>\n",
       "    <tr>\n",
       "      <th>25%</th>\n",
       "      <td>452.500000</td>\n",
       "      <td>1.000000</td>\n",
       "      <td>452.500000</td>\n",
       "      <td>23.920000</td>\n",
       "      <td>3.000000</td>\n",
       "      <td>2.000000</td>\n",
       "      <td>1.000000</td>\n",
       "      <td>0.008653</td>\n",
       "      <td>0.025134</td>\n",
       "      <td>0.166667</td>\n",
       "      <td>8.000000</td>\n",
       "      <td>0.000000</td>\n",
       "      <td>0.991500</td>\n",
       "      <td>0.000000</td>\n",
       "      <td>0.986000</td>\n",
       "      <td>0.000000</td>\n",
       "    </tr>\n",
       "    <tr>\n",
       "      <th>50%</th>\n",
       "      <td>953.000000</td>\n",
       "      <td>2.000000</td>\n",
       "      <td>900.000000</td>\n",
       "      <td>45.740000</td>\n",
       "      <td>5.000000</td>\n",
       "      <td>5.000000</td>\n",
       "      <td>3.000000</td>\n",
       "      <td>0.016875</td>\n",
       "      <td>0.052280</td>\n",
       "      <td>0.375000</td>\n",
       "      <td>15.000000</td>\n",
       "      <td>0.000000</td>\n",
       "      <td>1.000000</td>\n",
       "      <td>0.000000</td>\n",
       "      <td>0.999000</td>\n",
       "      <td>0.000000</td>\n",
       "    </tr>\n",
       "    <tr>\n",
       "      <th>75%</th>\n",
       "      <td>1425.500000</td>\n",
       "      <td>2.000000</td>\n",
       "      <td>1373.000000</td>\n",
       "      <td>74.940000</td>\n",
       "      <td>9.000000</td>\n",
       "      <td>8.000000</td>\n",
       "      <td>4.000000</td>\n",
       "      <td>0.033464</td>\n",
       "      <td>0.113151</td>\n",
       "      <td>0.759615</td>\n",
       "      <td>23.000000</td>\n",
       "      <td>0.000000</td>\n",
       "      <td>1.000000</td>\n",
       "      <td>0.000000</td>\n",
       "      <td>1.000000</td>\n",
       "      <td>0.000000</td>\n",
       "    </tr>\n",
       "    <tr>\n",
       "      <th>max</th>\n",
       "      <td>1877.000000</td>\n",
       "      <td>2.000000</td>\n",
       "      <td>1830.000000</td>\n",
       "      <td>99.820000</td>\n",
       "      <td>11.000000</td>\n",
       "      <td>10.000000</td>\n",
       "      <td>5.000000</td>\n",
       "      <td>1.611111</td>\n",
       "      <td>17.035000</td>\n",
       "      <td>10.000000</td>\n",
       "      <td>30.000000</td>\n",
       "      <td>1.000000</td>\n",
       "      <td>1.000000</td>\n",
       "      <td>1.000000</td>\n",
       "      <td>1.000000</td>\n",
       "      <td>1.000000</td>\n",
       "    </tr>\n",
       "  </tbody>\n",
       "</table>\n",
       "</div>"
      ],
      "text/plain": [
       "        Unnamed: 0  trustLevel  totalScanTimeInSeconds  grandTotal  \\\n",
       "count   679.000000  679.000000              679.000000  679.000000   \n",
       "mean    954.069219    1.511046              911.656848   48.523019   \n",
       "std     554.991652    0.500246              535.079567   29.287414   \n",
       "min       5.000000    1.000000                2.000000    0.070000   \n",
       "25%     452.500000    1.000000              452.500000   23.920000   \n",
       "50%     953.000000    2.000000              900.000000   45.740000   \n",
       "75%    1425.500000    2.000000             1373.000000   74.940000   \n",
       "max    1877.000000    2.000000             1830.000000   99.820000   \n",
       "\n",
       "       lineItemVoids  scansWithoutRegistration  quantityModifications  \\\n",
       "count     679.000000                679.000000             679.000000   \n",
       "mean        5.543446                  4.826215               2.530191   \n",
       "std         3.426099                  3.186784               1.683308   \n",
       "min         0.000000                  0.000000               0.000000   \n",
       "25%         3.000000                  2.000000               1.000000   \n",
       "50%         5.000000                  5.000000               3.000000   \n",
       "75%         9.000000                  8.000000               4.000000   \n",
       "max        11.000000                 10.000000               5.000000   \n",
       "\n",
       "       scannedLineItemsPerSecond  valuePerSecond  lineItemVoidsPerPosition  \\\n",
       "count                 679.000000      679.000000                679.000000   \n",
       "mean                    0.047390        0.158916                  0.730383   \n",
       "std                     0.130887        0.727461                  1.243906   \n",
       "min                     0.000551        0.000044                  0.000000   \n",
       "25%                     0.008653        0.025134                  0.166667   \n",
       "50%                     0.016875        0.052280                  0.375000   \n",
       "75%                     0.033464        0.113151                  0.759615   \n",
       "max                     1.611111       17.035000                 10.000000   \n",
       "\n",
       "       totalScannedLineItems  lsvc_predict  lsvc_proba  xgb_predict  \\\n",
       "count             679.000000    679.000000  679.000000   679.000000   \n",
       "mean               15.359352      0.156112    0.965106     0.148748   \n",
       "std                 8.699703      0.363229    0.092778     0.356102   \n",
       "min                 1.000000      0.000000    0.500000     0.000000   \n",
       "25%                 8.000000      0.000000    0.991500     0.000000   \n",
       "50%                15.000000      0.000000    1.000000     0.000000   \n",
       "75%                23.000000      0.000000    1.000000     0.000000   \n",
       "max                30.000000      1.000000    1.000000     1.000000   \n",
       "\n",
       "        xgb_proba       fraud  \n",
       "count  679.000000  679.000000  \n",
       "mean     0.965443    0.153166  \n",
       "std      0.085306    0.360413  \n",
       "min      0.504000    0.000000  \n",
       "25%      0.986000    0.000000  \n",
       "50%      0.999000    0.000000  \n",
       "75%      1.000000    0.000000  \n",
       "max      1.000000    1.000000  "
      ]
     },
     "execution_count": 2,
     "metadata": {},
     "output_type": "execute_result"
    }
   ],
   "source": [
    "data = pd.read_csv(\"../data/nn_train_data_low_trust.csv\", sep=\"|\")\n",
    "data.describe()"
   ]
  },
  {
   "cell_type": "code",
   "execution_count": 3,
   "metadata": {},
   "outputs": [],
   "source": [
    "X = data[[\"lsvc_predict\", \"lsvc_proba\", \"xgb_predict\", \"xgb_proba\"]].values\n",
    "y = data.fraud.values"
   ]
  },
  {
   "cell_type": "code",
   "execution_count": 4,
   "metadata": {},
   "outputs": [
    {
     "name": "stdout",
     "output_type": "stream",
     "text": [
      "WARNING:tensorflow:From /home/lukas/Projects/dmc2019/venv/lib/python3.5/site-packages/tensorflow/python/framework/op_def_library.py:263: colocate_with (from tensorflow.python.framework.ops) is deprecated and will be removed in a future version.\n",
      "Instructions for updating:\n",
      "Colocations handled automatically by placer.\n"
     ]
    }
   ],
   "source": [
    "model = Sequential()\n",
    "model.add(Dense(15, input_shape=(4,),activation='relu'))\n",
    "model.add(Dense(1,activation='sigmoid'))\n"
   ]
  },
  {
   "cell_type": "code",
   "execution_count": 5,
   "metadata": {},
   "outputs": [
    {
     "name": "stdout",
     "output_type": "stream",
     "text": [
      "_________________________________________________________________\n",
      "Layer (type)                 Output Shape              Param #   \n",
      "=================================================================\n",
      "dense_1 (Dense)              (None, 15)                75        \n",
      "_________________________________________________________________\n",
      "dense_2 (Dense)              (None, 1)                 16        \n",
      "=================================================================\n",
      "Total params: 91\n",
      "Trainable params: 91\n",
      "Non-trainable params: 0\n",
      "_________________________________________________________________\n"
     ]
    }
   ],
   "source": [
    "model.summary()"
   ]
  },
  {
   "cell_type": "code",
   "execution_count": null,
   "metadata": {},
   "outputs": [],
   "source": []
  },
  {
   "cell_type": "code",
   "execution_count": 6,
   "metadata": {},
   "outputs": [],
   "source": [
    "model.compile(optimizer ='adam',loss='binary_crossentropy', metrics =['accuracy',binary_precision(), binary_recall(), binary_average_recall()])"
   ]
  },
  {
   "cell_type": "code",
   "execution_count": 7,
   "metadata": {},
   "outputs": [],
   "source": [
    "from sklearn.model_selection import train_test_split\n",
    "X_train, X_test, y_train, y_test = train_test_split(X,y,test_size=0.25)\n"
   ]
  },
  {
   "cell_type": "code",
   "execution_count": 8,
   "metadata": {},
   "outputs": [
    {
     "name": "stderr",
     "output_type": "stream",
     "text": [
      "/home/lukas/Projects/dmc2019/venv/lib/python3.5/site-packages/keras/callbacks.py:511: RuntimeWarning: EarlyStopping mode <built-in function max> is unknown, fallback to auto mode.\n",
      "  RuntimeWarning)\n"
     ]
    }
   ],
   "source": [
    "from keras.callbacks import TensorBoard, EarlyStopping\n",
    "tensorboard = TensorBoard(log_dir=\"../logs\")\n",
    "early_stopping = EarlyStopping(monitor='val_precision',min_delta=1e-10, mode=max)"
   ]
  },
  {
   "cell_type": "code",
   "execution_count": 12,
   "metadata": {},
   "outputs": [
    {
     "data": {
      "text/plain": [
       "<keras.callbacks.History at 0x7f2dd854f9e8>"
      ]
     },
     "execution_count": 12,
     "metadata": {},
     "output_type": "execute_result"
    }
   ],
   "source": [
    "model.fit(X_train, y_train, batch_size=len(X), epochs=1000,verbose=0, validation_data=(X_test,y_test), callbacks=[tensorboard])"
   ]
  },
  {
   "cell_type": "code",
   "execution_count": 13,
   "metadata": {},
   "outputs": [
    {
     "name": "stdout",
     "output_type": "stream",
     "text": [
      "170/170 [==============================] - 0s 20us/step\n"
     ]
    },
    {
     "data": {
      "text/plain": [
       "[0.12920358742532484,\n",
       " 0.9647058823529412,\n",
       " 0.9642857108418367,\n",
       " 0.8437499973632813,\n",
       " 0.8437499973632813]"
      ]
     },
     "execution_count": 13,
     "metadata": {},
     "output_type": "execute_result"
    }
   ],
   "source": [
    "model.evaluate(X_test, y_test)"
   ]
  },
  {
   "cell_type": "code",
   "execution_count": 14,
   "metadata": {},
   "outputs": [],
   "source": [
    "import h5py\n",
    "model.save_weights(\"../data/nn_weights_low_trust.hdf5\")\n",
    "\n",
    "with open('../data/model_architecture_low_trust.json', 'w') as f:\n",
    "    f.write(model.to_json())"
   ]
  },
  {
   "cell_type": "code",
   "execution_count": null,
   "metadata": {},
   "outputs": [],
   "source": []
  }
 ],
 "metadata": {
  "kernelspec": {
   "display_name": "Python 3",
   "language": "python",
   "name": "python3"
  },
  "language_info": {
   "codemirror_mode": {
    "name": "ipython",
    "version": 3
   },
   "file_extension": ".py",
   "mimetype": "text/x-python",
   "name": "python",
   "nbconvert_exporter": "python",
   "pygments_lexer": "ipython3",
   "version": "3.5.2"
  }
 },
 "nbformat": 4,
 "nbformat_minor": 2
}
