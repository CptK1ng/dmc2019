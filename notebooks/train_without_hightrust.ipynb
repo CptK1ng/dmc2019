{
  "nbformat": 4,
  "nbformat_minor": 0,
  "metadata": {
    "colab": {
      "name": "EDA.ipynb",
      "version": "0.3.2",
      "provenance": [],
      "toc_visible": true,
      "include_colab_link": true
    },
    "language_info": {
      "codemirror_mode": {
        "name": "ipython",
        "version": 3
      },
      "file_extension": ".py",
      "mimetype": "text/x-python",
      "name": "python",
      "nbconvert_exporter": "python",
      "pygments_lexer": "ipython3",
      "version": "3.7.3"
    },
    "kernelspec": {
      "display_name": "Python 3",
      "language": "python",
      "name": "python3"
    },
    "accelerator": "GPU"
  },
  "cells": [
    {
      "cell_type": "markdown",
      "metadata": {
        "id": "view-in-github",
        "colab_type": "text"
      },
      "source": [
        "<a href=\"https://colab.research.google.com/github/CptK1ng/dmc2019/blob/alexander_dev/notebooks/train_without_hightrust.ipynb\" target=\"_parent\"><img src=\"https://colab.research.google.com/assets/colab-badge.svg\" alt=\"Open In Colab\"/></a>"
      ]
    },
    {
      "metadata": {
        "colab_type": "text",
        "id": "hZdo8Tl0fXb2"
      },
      "cell_type": "markdown",
      "source": [
        "# Remove High TrustLevels from Training and use Hard cut for Prediction\n",
        "by Alexander\n",
        "\n",
        "we will say all trustLevel >2 are no frauds anyway so there is no reason to learn them.\n",
        "\n",
        "Our classificator can therefore focus on the interesting rows.\n",
        "\n",
        "as we only have trust levels of 1 and 2 in our training, we will also convert the trustLevel feature to a boolean one."
      ]
    },
    {
      "metadata": {
        "colab_type": "code",
        "id": "BwIvIe_ffXEE",
        "colab": {}
      },
      "cell_type": "code",
      "source": [
        "import pandas as pd\n",
        "import numpy as np\n",
        "from sklearn import metrics\n",
        "from sklearn.ensemble import AdaBoostClassifier\n",
        "from sklearn.tree import DecisionTreeClassifier\n",
        "import matplotlib.pyplot as plt\n",
        "import time as time\n",
        "%matplotlib inline"
      ],
      "execution_count": 0,
      "outputs": []
    },
    {
      "metadata": {
        "colab_type": "text",
        "id": "8ZkZjgCzjjiZ"
      },
      "cell_type": "markdown",
      "source": [
        "Download our custom Dataset splits"
      ]
    },
    {
      "metadata": {
        "colab_type": "code",
        "id": "8RCQLJMdgWbO",
        "colab": {}
      },
      "cell_type": "code",
      "source": [
        "!wget -nc -q --show-progress https://www.dropbox.com/s/6m8iq9ogpzmu7vx/train_new.csv?dl=1 -O train_new.csv\n",
        "!wget -nc -q --show-progress https://www.dropbox.com/s/tjpkc45oqn3uv8s/val_new.csv?dl=1 -O val_new.csv"
      ],
      "execution_count": 0,
      "outputs": []
    },
    {
      "metadata": {
        "colab_type": "text",
        "id": "cAb2HKAIgU61"
      },
      "cell_type": "markdown",
      "source": [
        "Import Data:"
      ]
    },
    {
      "metadata": {
        "colab_type": "code",
        "id": "J1FZN5BKjfSU",
        "outputId": "3d9848d1-d54f-4e6b-fa34-215fdc8786a6",
        "colab": {
          "base_uri": "https://localhost:8080/",
          "height": 110
        }
      },
      "cell_type": "code",
      "source": [
        "df_train_original = pd.read_csv(\"train_new.csv\", sep=\"|\")\n",
        "df_val_original = pd.read_csv(\"val_new.csv\", sep=\"|\")\n",
        "df_train_original.head(2)"
      ],
      "execution_count": 40,
      "outputs": [
        {
          "output_type": "execute_result",
          "data": {
            "text/html": [
              "<div>\n",
              "<style scoped>\n",
              "    .dataframe tbody tr th:only-of-type {\n",
              "        vertical-align: middle;\n",
              "    }\n",
              "\n",
              "    .dataframe tbody tr th {\n",
              "        vertical-align: top;\n",
              "    }\n",
              "\n",
              "    .dataframe thead th {\n",
              "        text-align: right;\n",
              "    }\n",
              "</style>\n",
              "<table border=\"1\" class=\"dataframe\">\n",
              "  <thead>\n",
              "    <tr style=\"text-align: right;\">\n",
              "      <th></th>\n",
              "      <th>trustLevel</th>\n",
              "      <th>totalScanTimeInSeconds</th>\n",
              "      <th>grandTotal</th>\n",
              "      <th>lineItemVoids</th>\n",
              "      <th>scansWithoutRegistration</th>\n",
              "      <th>quantityModifications</th>\n",
              "      <th>scannedLineItemsPerSecond</th>\n",
              "      <th>valuePerSecond</th>\n",
              "      <th>lineItemVoidsPerPosition</th>\n",
              "      <th>fraud</th>\n",
              "    </tr>\n",
              "  </thead>\n",
              "  <tbody>\n",
              "    <tr>\n",
              "      <th>0</th>\n",
              "      <td>4</td>\n",
              "      <td>828</td>\n",
              "      <td>66.56</td>\n",
              "      <td>7</td>\n",
              "      <td>4</td>\n",
              "      <td>3</td>\n",
              "      <td>0.007246</td>\n",
              "      <td>0.080386</td>\n",
              "      <td>1.166667</td>\n",
              "      <td>0</td>\n",
              "    </tr>\n",
              "    <tr>\n",
              "      <th>1</th>\n",
              "      <td>1</td>\n",
              "      <td>1612</td>\n",
              "      <td>31.34</td>\n",
              "      <td>2</td>\n",
              "      <td>4</td>\n",
              "      <td>3</td>\n",
              "      <td>0.008685</td>\n",
              "      <td>0.019442</td>\n",
              "      <td>0.142857</td>\n",
              "      <td>0</td>\n",
              "    </tr>\n",
              "  </tbody>\n",
              "</table>\n",
              "</div>"
            ],
            "text/plain": [
              "   trustLevel  totalScanTimeInSeconds  grandTotal  lineItemVoids  \\\n",
              "0           4                     828       66.56              7   \n",
              "1           1                    1612       31.34              2   \n",
              "\n",
              "   scansWithoutRegistration  quantityModifications  scannedLineItemsPerSecond  \\\n",
              "0                         4                      3                   0.007246   \n",
              "1                         4                      3                   0.008685   \n",
              "\n",
              "   valuePerSecond  lineItemVoidsPerPosition  fraud  \n",
              "0        0.080386                  1.166667      0  \n",
              "1        0.019442                  0.142857      0  "
            ]
          },
          "metadata": {
            "tags": []
          },
          "execution_count": 40
        }
      ]
    },
    {
      "metadata": {
        "colab_type": "text",
        "id": "Zg4C1iL9QCQE"
      },
      "cell_type": "markdown",
      "source": [
        "## Feature Engineering"
      ]
    },
    {
      "metadata": {
        "colab_type": "code",
        "id": "IxXhVitoQFTe",
        "outputId": "78884084-de07-43d1-b3e3-fb1a012221cc",
        "colab": {
          "base_uri": "https://localhost:8080/",
          "height": 357
        }
      },
      "cell_type": "code",
      "source": [
        "def prepareData(df):\n",
        "  df = df.copy()\n",
        "  df['totalLineItems'] = df['scannedLineItemsPerSecond'] * df['totalScanTimeInSeconds'] #nur of scanned products\n",
        "  df = df[df.trustLevel <= 2]\n",
        "  df['higherTrust'] = (df.trustLevel == 2)\n",
        "  df = df.drop('trustLevel', axis=1)\n",
        "  return df\n",
        "\n",
        "df_train = prepareData(df_train_original)\n",
        "df_val = prepareData(df_val_original)\n",
        "\n",
        "df_train.head(10)"
      ],
      "execution_count": 41,
      "outputs": [
        {
          "output_type": "execute_result",
          "data": {
            "text/html": [
              "<div>\n",
              "<style scoped>\n",
              "    .dataframe tbody tr th:only-of-type {\n",
              "        vertical-align: middle;\n",
              "    }\n",
              "\n",
              "    .dataframe tbody tr th {\n",
              "        vertical-align: top;\n",
              "    }\n",
              "\n",
              "    .dataframe thead th {\n",
              "        text-align: right;\n",
              "    }\n",
              "</style>\n",
              "<table border=\"1\" class=\"dataframe\">\n",
              "  <thead>\n",
              "    <tr style=\"text-align: right;\">\n",
              "      <th></th>\n",
              "      <th>totalScanTimeInSeconds</th>\n",
              "      <th>grandTotal</th>\n",
              "      <th>lineItemVoids</th>\n",
              "      <th>scansWithoutRegistration</th>\n",
              "      <th>quantityModifications</th>\n",
              "      <th>scannedLineItemsPerSecond</th>\n",
              "      <th>valuePerSecond</th>\n",
              "      <th>lineItemVoidsPerPosition</th>\n",
              "      <th>fraud</th>\n",
              "      <th>totalLineItems</th>\n",
              "      <th>higherTrust</th>\n",
              "    </tr>\n",
              "  </thead>\n",
              "  <tbody>\n",
              "    <tr>\n",
              "      <th>1</th>\n",
              "      <td>1612</td>\n",
              "      <td>31.34</td>\n",
              "      <td>2</td>\n",
              "      <td>4</td>\n",
              "      <td>3</td>\n",
              "      <td>0.008685</td>\n",
              "      <td>0.019442</td>\n",
              "      <td>0.142857</td>\n",
              "      <td>0</td>\n",
              "      <td>14.0</td>\n",
              "      <td>False</td>\n",
              "    </tr>\n",
              "    <tr>\n",
              "      <th>3</th>\n",
              "      <td>321</td>\n",
              "      <td>76.03</td>\n",
              "      <td>8</td>\n",
              "      <td>7</td>\n",
              "      <td>2</td>\n",
              "      <td>0.071651</td>\n",
              "      <td>0.236854</td>\n",
              "      <td>0.347826</td>\n",
              "      <td>0</td>\n",
              "      <td>23.0</td>\n",
              "      <td>False</td>\n",
              "    </tr>\n",
              "    <tr>\n",
              "      <th>4</th>\n",
              "      <td>660</td>\n",
              "      <td>6.06</td>\n",
              "      <td>3</td>\n",
              "      <td>7</td>\n",
              "      <td>1</td>\n",
              "      <td>0.027273</td>\n",
              "      <td>0.009182</td>\n",
              "      <td>0.166667</td>\n",
              "      <td>0</td>\n",
              "      <td>18.0</td>\n",
              "      <td>False</td>\n",
              "    </tr>\n",
              "    <tr>\n",
              "      <th>6</th>\n",
              "      <td>871</td>\n",
              "      <td>89.92</td>\n",
              "      <td>2</td>\n",
              "      <td>5</td>\n",
              "      <td>5</td>\n",
              "      <td>0.002296</td>\n",
              "      <td>0.103238</td>\n",
              "      <td>1.000000</td>\n",
              "      <td>0</td>\n",
              "      <td>2.0</td>\n",
              "      <td>False</td>\n",
              "    </tr>\n",
              "    <tr>\n",
              "      <th>9</th>\n",
              "      <td>1758</td>\n",
              "      <td>19.32</td>\n",
              "      <td>0</td>\n",
              "      <td>7</td>\n",
              "      <td>5</td>\n",
              "      <td>0.016496</td>\n",
              "      <td>0.010990</td>\n",
              "      <td>0.000000</td>\n",
              "      <td>1</td>\n",
              "      <td>29.0</td>\n",
              "      <td>False</td>\n",
              "    </tr>\n",
              "    <tr>\n",
              "      <th>11</th>\n",
              "      <td>1797</td>\n",
              "      <td>31.25</td>\n",
              "      <td>1</td>\n",
              "      <td>1</td>\n",
              "      <td>3</td>\n",
              "      <td>0.011130</td>\n",
              "      <td>0.017390</td>\n",
              "      <td>0.050000</td>\n",
              "      <td>0</td>\n",
              "      <td>20.0</td>\n",
              "      <td>True</td>\n",
              "    </tr>\n",
              "    <tr>\n",
              "      <th>13</th>\n",
              "      <td>518</td>\n",
              "      <td>48.65</td>\n",
              "      <td>9</td>\n",
              "      <td>10</td>\n",
              "      <td>3</td>\n",
              "      <td>0.050193</td>\n",
              "      <td>0.093919</td>\n",
              "      <td>0.346154</td>\n",
              "      <td>1</td>\n",
              "      <td>26.0</td>\n",
              "      <td>False</td>\n",
              "    </tr>\n",
              "    <tr>\n",
              "      <th>15</th>\n",
              "      <td>827</td>\n",
              "      <td>83.70</td>\n",
              "      <td>5</td>\n",
              "      <td>10</td>\n",
              "      <td>4</td>\n",
              "      <td>0.010883</td>\n",
              "      <td>0.101209</td>\n",
              "      <td>0.555556</td>\n",
              "      <td>0</td>\n",
              "      <td>9.0</td>\n",
              "      <td>False</td>\n",
              "    </tr>\n",
              "    <tr>\n",
              "      <th>16</th>\n",
              "      <td>1355</td>\n",
              "      <td>48.87</td>\n",
              "      <td>2</td>\n",
              "      <td>0</td>\n",
              "      <td>4</td>\n",
              "      <td>0.005166</td>\n",
              "      <td>0.036066</td>\n",
              "      <td>0.285714</td>\n",
              "      <td>0</td>\n",
              "      <td>7.0</td>\n",
              "      <td>True</td>\n",
              "    </tr>\n",
              "    <tr>\n",
              "      <th>18</th>\n",
              "      <td>150</td>\n",
              "      <td>60.24</td>\n",
              "      <td>4</td>\n",
              "      <td>3</td>\n",
              "      <td>1</td>\n",
              "      <td>0.053333</td>\n",
              "      <td>0.401600</td>\n",
              "      <td>0.500000</td>\n",
              "      <td>0</td>\n",
              "      <td>8.0</td>\n",
              "      <td>True</td>\n",
              "    </tr>\n",
              "  </tbody>\n",
              "</table>\n",
              "</div>"
            ],
            "text/plain": [
              "    totalScanTimeInSeconds  grandTotal  lineItemVoids  \\\n",
              "1                     1612       31.34              2   \n",
              "3                      321       76.03              8   \n",
              "4                      660        6.06              3   \n",
              "6                      871       89.92              2   \n",
              "9                     1758       19.32              0   \n",
              "11                    1797       31.25              1   \n",
              "13                     518       48.65              9   \n",
              "15                     827       83.70              5   \n",
              "16                    1355       48.87              2   \n",
              "18                     150       60.24              4   \n",
              "\n",
              "    scansWithoutRegistration  quantityModifications  \\\n",
              "1                          4                      3   \n",
              "3                          7                      2   \n",
              "4                          7                      1   \n",
              "6                          5                      5   \n",
              "9                          7                      5   \n",
              "11                         1                      3   \n",
              "13                        10                      3   \n",
              "15                        10                      4   \n",
              "16                         0                      4   \n",
              "18                         3                      1   \n",
              "\n",
              "    scannedLineItemsPerSecond  valuePerSecond  lineItemVoidsPerPosition  \\\n",
              "1                    0.008685        0.019442                  0.142857   \n",
              "3                    0.071651        0.236854                  0.347826   \n",
              "4                    0.027273        0.009182                  0.166667   \n",
              "6                    0.002296        0.103238                  1.000000   \n",
              "9                    0.016496        0.010990                  0.000000   \n",
              "11                   0.011130        0.017390                  0.050000   \n",
              "13                   0.050193        0.093919                  0.346154   \n",
              "15                   0.010883        0.101209                  0.555556   \n",
              "16                   0.005166        0.036066                  0.285714   \n",
              "18                   0.053333        0.401600                  0.500000   \n",
              "\n",
              "    fraud  totalLineItems  higherTrust  \n",
              "1       0            14.0        False  \n",
              "3       0            23.0        False  \n",
              "4       0            18.0        False  \n",
              "6       0             2.0        False  \n",
              "9       1            29.0        False  \n",
              "11      0            20.0         True  \n",
              "13      1            26.0        False  \n",
              "15      0             9.0        False  \n",
              "16      0             7.0         True  \n",
              "18      0             8.0         True  "
            ]
          },
          "metadata": {
            "tags": []
          },
          "execution_count": 41
        }
      ]
    },
    {
      "metadata": {
        "colab_type": "text",
        "id": "kJ3RS4y8P69r"
      },
      "cell_type": "markdown",
      "source": [
        "## Split X and Y"
      ]
    },
    {
      "metadata": {
        "colab_type": "code",
        "id": "W8Zx4xDCpn9n",
        "outputId": "f01eb185-08e7-4a9e-df12-0a4d483e29d2",
        "colab": {
          "base_uri": "https://localhost:8080/",
          "height": 34
        }
      },
      "cell_type": "code",
      "source": [
        "# Splitting the final dataset into internal training and testing datasets\n",
        "df_train_X = df_train.drop('fraud', axis=1)\n",
        "df_train_y = df_train['fraud']\n",
        "df_val_X = df_val.drop('fraud', axis=1)\n",
        "df_val_y = df_val['fraud']\n",
        "\n",
        "X_train, X_val, y_train, y_val = df_train_X.values, df_val_X.values, df_train_y.values, df_val_y.values\n",
        "print(\"Shapes\",X_train.shape, X_val.shape, y_train.shape, y_val.shape)"
      ],
      "execution_count": 42,
      "outputs": [
        {
          "output_type": "stream",
          "text": [
            "Shapes (538, 10) (141, 10) (538,) (141,)\n"
          ],
          "name": "stdout"
        }
      ]
    },
    {
      "metadata": {
        "colab_type": "text",
        "id": "g_24sukxplja"
      },
      "cell_type": "markdown",
      "source": [
        "## Define Scorer"
      ]
    },
    {
      "metadata": {
        "colab_type": "code",
        "id": "VxK__sj3p7MS",
        "colab": {}
      },
      "cell_type": "code",
      "source": [
        "def score_function(y_true, y_pred):\n",
        "  dmc = np.sum(metrics.confusion_matrix(y_true, y_pred)*np.array([[0, -25],[ -5, 5]])) #sklearn gives [[tn,fp],[fn,tp]]\n",
        "  return (0 if all(y_pred == 0) else metrics.fbeta_score(y_true, y_pred, beta=2),\n",
        "          dmc, \n",
        "          dmc/len(y_pred), #comparable relative score, the higher the better.\n",
        "          metrics.confusion_matrix(y_true, y_pred).tolist())"
      ],
      "execution_count": 0,
      "outputs": []
    },
    {
      "metadata": {
        "colab_type": "text",
        "id": "eKG66tvLPzhh"
      },
      "cell_type": "markdown",
      "source": [
        "##  Classify"
      ]
    },
    {
      "metadata": {
        "colab_type": "code",
        "id": "z68iBle7P2q5",
        "outputId": "40b5acb6-54eb-40fd-9228-3d4b483b3c9b",
        "colab": {
          "base_uri": "https://localhost:8080/",
          "height": 34
        }
      },
      "cell_type": "code",
      "source": [
        "classifier_adb = AdaBoostClassifier(base_estimator=DecisionTreeClassifier(max_depth=3), n_estimators=500, algorithm='SAMME', random_state=1)\n",
        "\n",
        "# Fitting the model and printing the accuracy score\n",
        "classifier_adb.fit(X_train, y_train)\n",
        "y_val_pred = classifier_adb.predict(X_val)\n",
        "print(\"AdaBoost\", \"\\t\", score_function(y_val, y_val_pred) )"
      ],
      "execution_count": 44,
      "outputs": [
        {
          "output_type": "stream",
          "text": [
            "AdaBoost \t (0.84070796460177, 25, 0.1773049645390071, [[116, 2], [4, 19]])\n"
          ],
          "name": "stdout"
        }
      ]
    },
    {
      "metadata": {
        "id": "Vc6Aj363eNwj",
        "colab_type": "text"
      },
      "cell_type": "markdown",
      "source": [
        "**But wait!**  We said all trustLevel >2 are no frauds and cut them off. We need to add them back into our predicted values for the score.\n"
      ]
    },
    {
      "metadata": {
        "id": "ecdZJt44eOIP",
        "colab_type": "code",
        "colab": {
          "base_uri": "https://localhost:8080/",
          "height": 34
        },
        "outputId": "8dd2324f-73d5-4df3-fb98-fd3d7c969e89"
      },
      "cell_type": "code",
      "source": [
        "df_val_pred = df_val_X[[]].copy() # this just takes the index (ids) \n",
        "df_val_pred[\"fraud_pred\"] = y_val_pred # append predictions to the index\n",
        "df_val_pred = df_val_original[[]].join(df_val_pred) # add rows for other indices (which we didnt predict --> NaN there)\n",
        "df_val_pred.fillna(0, inplace=True) # replace NaN with 0 (=non fraud)\n",
        "y_val_pred_corrected = df_val_pred.values\n",
        "print(\"AdaBoost\", \"\\t\", score_function(df_val_original['fraud'].values, y_val_pred_corrected) )"
      ],
      "execution_count": 45,
      "outputs": [
        {
          "output_type": "stream",
          "text": [
            "AdaBoost \t (0.84070796460177, 25, 0.06648936170212766, [[351, 2], [4, 19]])\n"
          ],
          "name": "stdout"
        }
      ]
    },
    {
      "metadata": {
        "id": "Y1GHJrLxYcDg",
        "colab_type": "text"
      },
      "cell_type": "markdown",
      "source": [
        "As we can see, this unfortunately did not help  the prediction to improve on our validation set."
      ]
    }
  ]
}