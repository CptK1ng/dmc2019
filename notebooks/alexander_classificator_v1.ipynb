{
  "nbformat": 4,
  "nbformat_minor": 0,
  "metadata": {
    "colab": {
      "name": "EDA.ipynb",
      "version": "0.3.2",
      "provenance": [],
      "toc_visible": true,
      "include_colab_link": true
    },
    "kernelspec": {
      "name": "python3",
      "display_name": "Python 3"
    }
  },
  "cells": [
    {
      "cell_type": "markdown",
      "metadata": {
        "id": "view-in-github",
        "colab_type": "text"
      },
      "source": [
        "<a href=\"https://colab.research.google.com/github/CptK1ng/dmc2019/blob/alexander_dev/notebooks/alexander_classificator_v1.ipynb\" target=\"_parent\"><img src=\"https://colab.research.google.com/assets/colab-badge.svg\" alt=\"Open In Colab\"/></a>"
      ]
    },
    {
      "metadata": {
        "id": "hZdo8Tl0fXb2",
        "colab_type": "text"
      },
      "cell_type": "markdown",
      "source": [
        "# Classificator v1 by Alexander\n"
      ]
    },
    {
      "metadata": {
        "id": "BwIvIe_ffXEE",
        "colab_type": "code",
        "colab": {}
      },
      "cell_type": "code",
      "source": [
        "import pandas as pd\n",
        "import numpy as np\n",
        "import seaborn as sns\n",
        "import matplotlib.pyplot as plt\n",
        "from sklearn import model_selection, linear_model, metrics\n",
        "from xgboost import XGBClassifier\n",
        "from sklearn.ensemble import AdaBoostClassifier\n",
        "from sklearn.tree import DecisionTreeClassifier\n",
        "from sklearn.ensemble import GradientBoostingClassifier\n",
        "\n",
        "%matplotlib inline"
      ],
      "execution_count": 0,
      "outputs": []
    },
    {
      "metadata": {
        "id": "8ZkZjgCzjjiZ",
        "colab_type": "text"
      },
      "cell_type": "markdown",
      "source": [
        "Download our custom Dataset splits:"
      ]
    },
    {
      "metadata": {
        "id": "8RCQLJMdgWbO",
        "colab_type": "code",
        "colab": {
          "base_uri": "https://localhost:8080/",
          "height": 51
        },
        "outputId": "5a8cc441-20c1-4328-d752-a7a2b14ff16e"
      },
      "cell_type": "code",
      "source": [
        "!wget -nc -q --show-progress https://www.dropbox.com/s/6m8iq9ogpzmu7vx/train_new.csv?dl=1 -O train_new.csv\n",
        "!wget -nc -q --show-progress https://www.dropbox.com/s/tjpkc45oqn3uv8s/val_new.csv?dl=1 -O val_new.csv"
      ],
      "execution_count": 2,
      "outputs": [
        {
          "output_type": "stream",
          "text": [
            "train_new.csv       100%[===================>] 104.09K  --.-KB/s    in 0.09s   \n",
            "val_new.csv         100%[===================>]  25.96K  --.-KB/s    in 0.04s   \n"
          ],
          "name": "stdout"
        }
      ]
    },
    {
      "metadata": {
        "id": "cAb2HKAIgU61",
        "colab_type": "text"
      },
      "cell_type": "markdown",
      "source": [
        "Import Data:"
      ]
    },
    {
      "metadata": {
        "id": "J1FZN5BKjfSU",
        "colab_type": "code",
        "outputId": "75125fb5-05b9-4205-edfe-2a4e1001bc5a",
        "colab": {
          "base_uri": "https://localhost:8080/",
          "height": 110
        }
      },
      "cell_type": "code",
      "source": [
        "df_train_original = pd.read_csv(\"train_new.csv\", sep=\"|\")\n",
        "df_val_original = pd.read_csv(\"val_new.csv\", sep=\"|\")\n",
        "df_train_original.head(2)"
      ],
      "execution_count": 3,
      "outputs": [
        {
          "output_type": "execute_result",
          "data": {
            "text/html": [
              "<div>\n",
              "<style scoped>\n",
              "    .dataframe tbody tr th:only-of-type {\n",
              "        vertical-align: middle;\n",
              "    }\n",
              "\n",
              "    .dataframe tbody tr th {\n",
              "        vertical-align: top;\n",
              "    }\n",
              "\n",
              "    .dataframe thead th {\n",
              "        text-align: right;\n",
              "    }\n",
              "</style>\n",
              "<table border=\"1\" class=\"dataframe\">\n",
              "  <thead>\n",
              "    <tr style=\"text-align: right;\">\n",
              "      <th></th>\n",
              "      <th>trustLevel</th>\n",
              "      <th>totalScanTimeInSeconds</th>\n",
              "      <th>grandTotal</th>\n",
              "      <th>lineItemVoids</th>\n",
              "      <th>scansWithoutRegistration</th>\n",
              "      <th>quantityModifications</th>\n",
              "      <th>scannedLineItemsPerSecond</th>\n",
              "      <th>valuePerSecond</th>\n",
              "      <th>lineItemVoidsPerPosition</th>\n",
              "      <th>fraud</th>\n",
              "    </tr>\n",
              "  </thead>\n",
              "  <tbody>\n",
              "    <tr>\n",
              "      <th>0</th>\n",
              "      <td>4</td>\n",
              "      <td>828</td>\n",
              "      <td>66.56</td>\n",
              "      <td>7</td>\n",
              "      <td>4</td>\n",
              "      <td>3</td>\n",
              "      <td>0.007246</td>\n",
              "      <td>0.080386</td>\n",
              "      <td>1.166667</td>\n",
              "      <td>0</td>\n",
              "    </tr>\n",
              "    <tr>\n",
              "      <th>1</th>\n",
              "      <td>1</td>\n",
              "      <td>1612</td>\n",
              "      <td>31.34</td>\n",
              "      <td>2</td>\n",
              "      <td>4</td>\n",
              "      <td>3</td>\n",
              "      <td>0.008685</td>\n",
              "      <td>0.019442</td>\n",
              "      <td>0.142857</td>\n",
              "      <td>0</td>\n",
              "    </tr>\n",
              "  </tbody>\n",
              "</table>\n",
              "</div>"
            ],
            "text/plain": [
              "   trustLevel  totalScanTimeInSeconds  grandTotal  lineItemVoids  \\\n",
              "0           4                     828       66.56              7   \n",
              "1           1                    1612       31.34              2   \n",
              "\n",
              "   scansWithoutRegistration  quantityModifications  scannedLineItemsPerSecond  \\\n",
              "0                         4                      3                   0.007246   \n",
              "1                         4                      3                   0.008685   \n",
              "\n",
              "   valuePerSecond  lineItemVoidsPerPosition  fraud  \n",
              "0        0.080386                  1.166667      0  \n",
              "1        0.019442                  0.142857      0  "
            ]
          },
          "metadata": {
            "tags": []
          },
          "execution_count": 3
        }
      ]
    },
    {
      "metadata": {
        "id": "Zg4C1iL9QCQE",
        "colab_type": "text"
      },
      "cell_type": "markdown",
      "source": [
        "## Feature Engineering"
      ]
    },
    {
      "metadata": {
        "id": "IxXhVitoQFTe",
        "colab_type": "code",
        "outputId": "88d93e3b-4db5-46c6-e7ba-f7b6b2067238",
        "colab": {
          "base_uri": "https://localhost:8080/",
          "height": 203
        }
      },
      "cell_type": "code",
      "source": [
        "def prepareData(df):\n",
        "  \n",
        "  df = df.copy()\n",
        "  df['trustLevel'] = df['trustLevel']/6 #normalization\n",
        "  \"\"\" this custom feature engineering does not improve the score...\n",
        "  df['totalLineItems'] = df['scannedLineItemsPerSecond'] * df['totalScanTimeInSeconds'] #nur of scanned products\n",
        "  # df['totalValue'] = df['valuePerSecond'] * df['totalScanTimeInSeconds'] #this is equal to the column \"grandTotal\"\n",
        "  # TODO df['lineItemVoids'] = df['lineItemVoidsPerPosition'] * df['totalLineItemVoidsPositions']\n",
        "  df['lineItemVoidPercentage'] = df['lineItemVoids'] / (df['totalLineItems'] + df['scansWithoutRegistration'])\n",
        "  df['totalPositions'] = df['totalLineItems'] - df['lineItemVoids'] # + df['quantityModifications']\n",
        "  \"\"\"\n",
        "  return df\n",
        "\n",
        "df_train = prepareData(df_train_original)\n",
        "df_val = prepareData(df_val_original)\n",
        "\n",
        "#df_train = df_train_original.copy()\n",
        "#df_val = df_val_original.copy()\n",
        "\n",
        "df_train.head()"
      ],
      "execution_count": 84,
      "outputs": [
        {
          "output_type": "execute_result",
          "data": {
            "text/html": [
              "<div>\n",
              "<style scoped>\n",
              "    .dataframe tbody tr th:only-of-type {\n",
              "        vertical-align: middle;\n",
              "    }\n",
              "\n",
              "    .dataframe tbody tr th {\n",
              "        vertical-align: top;\n",
              "    }\n",
              "\n",
              "    .dataframe thead th {\n",
              "        text-align: right;\n",
              "    }\n",
              "</style>\n",
              "<table border=\"1\" class=\"dataframe\">\n",
              "  <thead>\n",
              "    <tr style=\"text-align: right;\">\n",
              "      <th></th>\n",
              "      <th>trustLevel</th>\n",
              "      <th>totalScanTimeInSeconds</th>\n",
              "      <th>grandTotal</th>\n",
              "      <th>lineItemVoids</th>\n",
              "      <th>scansWithoutRegistration</th>\n",
              "      <th>quantityModifications</th>\n",
              "      <th>scannedLineItemsPerSecond</th>\n",
              "      <th>valuePerSecond</th>\n",
              "      <th>lineItemVoidsPerPosition</th>\n",
              "      <th>fraud</th>\n",
              "    </tr>\n",
              "  </thead>\n",
              "  <tbody>\n",
              "    <tr>\n",
              "      <th>0</th>\n",
              "      <td>0.666667</td>\n",
              "      <td>828</td>\n",
              "      <td>66.56</td>\n",
              "      <td>7</td>\n",
              "      <td>4</td>\n",
              "      <td>3</td>\n",
              "      <td>0.007246</td>\n",
              "      <td>0.080386</td>\n",
              "      <td>1.166667</td>\n",
              "      <td>0</td>\n",
              "    </tr>\n",
              "    <tr>\n",
              "      <th>1</th>\n",
              "      <td>0.166667</td>\n",
              "      <td>1612</td>\n",
              "      <td>31.34</td>\n",
              "      <td>2</td>\n",
              "      <td>4</td>\n",
              "      <td>3</td>\n",
              "      <td>0.008685</td>\n",
              "      <td>0.019442</td>\n",
              "      <td>0.142857</td>\n",
              "      <td>0</td>\n",
              "    </tr>\n",
              "    <tr>\n",
              "      <th>2</th>\n",
              "      <td>0.500000</td>\n",
              "      <td>848</td>\n",
              "      <td>52.37</td>\n",
              "      <td>2</td>\n",
              "      <td>4</td>\n",
              "      <td>0</td>\n",
              "      <td>0.022406</td>\n",
              "      <td>0.061757</td>\n",
              "      <td>0.105263</td>\n",
              "      <td>0</td>\n",
              "    </tr>\n",
              "    <tr>\n",
              "      <th>3</th>\n",
              "      <td>0.166667</td>\n",
              "      <td>321</td>\n",
              "      <td>76.03</td>\n",
              "      <td>8</td>\n",
              "      <td>7</td>\n",
              "      <td>2</td>\n",
              "      <td>0.071651</td>\n",
              "      <td>0.236854</td>\n",
              "      <td>0.347826</td>\n",
              "      <td>0</td>\n",
              "    </tr>\n",
              "    <tr>\n",
              "      <th>4</th>\n",
              "      <td>0.166667</td>\n",
              "      <td>660</td>\n",
              "      <td>6.06</td>\n",
              "      <td>3</td>\n",
              "      <td>7</td>\n",
              "      <td>1</td>\n",
              "      <td>0.027273</td>\n",
              "      <td>0.009182</td>\n",
              "      <td>0.166667</td>\n",
              "      <td>0</td>\n",
              "    </tr>\n",
              "  </tbody>\n",
              "</table>\n",
              "</div>"
            ],
            "text/plain": [
              "   trustLevel  totalScanTimeInSeconds  grandTotal  lineItemVoids  \\\n",
              "0    0.666667                     828       66.56              7   \n",
              "1    0.166667                    1612       31.34              2   \n",
              "2    0.500000                     848       52.37              2   \n",
              "3    0.166667                     321       76.03              8   \n",
              "4    0.166667                     660        6.06              3   \n",
              "\n",
              "   scansWithoutRegistration  quantityModifications  scannedLineItemsPerSecond  \\\n",
              "0                         4                      3                   0.007246   \n",
              "1                         4                      3                   0.008685   \n",
              "2                         4                      0                   0.022406   \n",
              "3                         7                      2                   0.071651   \n",
              "4                         7                      1                   0.027273   \n",
              "\n",
              "   valuePerSecond  lineItemVoidsPerPosition  fraud  \n",
              "0        0.080386                  1.166667      0  \n",
              "1        0.019442                  0.142857      0  \n",
              "2        0.061757                  0.105263      0  \n",
              "3        0.236854                  0.347826      0  \n",
              "4        0.009182                  0.166667      0  "
            ]
          },
          "metadata": {
            "tags": []
          },
          "execution_count": 84
        }
      ]
    },
    {
      "metadata": {
        "id": "kJ3RS4y8P69r",
        "colab_type": "text"
      },
      "cell_type": "markdown",
      "source": [
        "## Split X and Y"
      ]
    },
    {
      "metadata": {
        "id": "W8Zx4xDCpn9n",
        "colab_type": "code",
        "colab": {}
      },
      "cell_type": "code",
      "source": [
        "# Splitting the final dataset into internal training and testing datasets\n",
        "df_train_X = df_train.drop('fraud', axis=1)\n",
        "df_train_y = df_train['fraud']\n",
        "df_val_X = df_val.drop('fraud', axis=1)\n",
        "df_val_y = df_val['fraud']\n",
        "X_train, X_test, y_train, y_test = df_train_X.values, df_val_X.values, df_train_y.values, df_val_y.values"
      ],
      "execution_count": 0,
      "outputs": []
    },
    {
      "metadata": {
        "id": "g_24sukxplja",
        "colab_type": "text"
      },
      "cell_type": "markdown",
      "source": [
        "## Simple Classificator\n"
      ]
    },
    {
      "metadata": {
        "id": "VxK__sj3p7MS",
        "colab_type": "code",
        "outputId": "a1922570-0ad7-445e-974c-1065bc5559a5",
        "colab": {
          "base_uri": "https://localhost:8080/",
          "height": 34
        }
      },
      "cell_type": "code",
      "source": [
        "def score_function(y_test, y_pred):\n",
        "  # return metrics.accuracy_score(y_test, y_pred)\n",
        "  return metrics.fbeta_score(y_test, y_pred, beta=2)\n",
        "  # return metrics.f1_score(y_test, y_pred)\n",
        "\n",
        "def get_accuracy(classifier):\n",
        "  classifier.fit(X_train, y_train)\n",
        "  y_pred = classifier.predict(X_test)\n",
        "  return score_function(y_test, y_pred)\n",
        "\n",
        "# Fitting the model and printing the accuracy score\n",
        "#TODO: \n",
        "classifier_sgd = linear_model.SGDClassifier(loss='log', max_iter=4000, tol=1e-3, random_state=0) # Random state is fixed for reproducibility\n",
        "print(\"SGD\", get_accuracy(classifier_sgd))"
      ],
      "execution_count": 86,
      "outputs": [
        {
          "output_type": "stream",
          "text": [
            "SGD 0.15384615384615385\n"
          ],
          "name": "stdout"
        }
      ]
    },
    {
      "metadata": {
        "id": "AlYcREJeqCNs",
        "colab_type": "code",
        "outputId": "11776b55-7c28-4649-86e4-65636e95745a",
        "colab": {
          "base_uri": "https://localhost:8080/",
          "height": 51
        }
      },
      "cell_type": "code",
      "source": [
        "# Printing the confusion matrix\n",
        "metrics.confusion_matrix(y_test, classifier_sgd.fit(X_train, y_train).predict(X_test))"
      ],
      "execution_count": 87,
      "outputs": [
        {
          "output_type": "execute_result",
          "data": {
            "text/plain": [
              "array([[319,  34],\n",
              "       [ 19,   4]])"
            ]
          },
          "metadata": {
            "tags": []
          },
          "execution_count": 87
        }
      ]
    },
    {
      "metadata": {
        "id": "9mWbgjWscasP",
        "colab_type": "text"
      },
      "cell_type": "markdown",
      "source": [
        "## Other Classificators"
      ]
    },
    {
      "metadata": {
        "id": "V81j4Jc4e8O6",
        "colab_type": "code",
        "colab": {
          "base_uri": "https://localhost:8080/",
          "height": 326
        },
        "outputId": "5fa4a42c-f221-47b3-c436-a7999cd6691e"
      },
      "cell_type": "code",
      "source": [
        "from sklearn.neural_network import MLPClassifier\n",
        "from sklearn.neighbors import KNeighborsClassifier\n",
        "from sklearn.svm import SVC\n",
        "from sklearn.gaussian_process import GaussianProcessClassifier\n",
        "from sklearn.gaussian_process.kernels import RBF\n",
        "from sklearn.tree import DecisionTreeClassifier\n",
        "from sklearn.ensemble import RandomForestClassifier, AdaBoostClassifier\n",
        "from sklearn.naive_bayes import GaussianNB\n",
        "from sklearn.discriminant_analysis import QuadraticDiscriminantAnalysis\n",
        "\n",
        "names = [\"KNN (K=3)\", \"Linear SVM\", \"RBF SVM\", \"Gaus. Process\",\n",
        "         \"Decision Tree\", \"Random Forest\", \"Neural Net\", \"AdaBoost\",\n",
        "         \"Naive Bayes\", \"Quadr.Dis.A.\"]\n",
        "\n",
        "classifiers = [\n",
        "    KNeighborsClassifier(3),\n",
        "    SVC(kernel=\"linear\", C=0.025),\n",
        "    SVC(gamma=2, C=1),\n",
        "    GaussianProcessClassifier(1.0 * RBF(1.0)),\n",
        "    DecisionTreeClassifier(max_depth=5),\n",
        "    RandomForestClassifier(max_depth=5, n_estimators=10, max_features=1),\n",
        "    MLPClassifier(alpha=1),\n",
        "    AdaBoostClassifier(),\n",
        "    GaussianNB(),\n",
        "    QuadraticDiscriminantAnalysis()\n",
        "]\n",
        "\n",
        "# iterate over classifiers\n",
        "for name, clf in zip(names, classifiers):\n",
        "    print(name, \"\\t\\t\", get_accuracy(clf))\n",
        "    "
      ],
      "execution_count": 88,
      "outputs": [
        {
          "output_type": "stream",
          "text": [
            "KNN (K=3) \t\t 0.0\n"
          ],
          "name": "stdout"
        },
        {
          "output_type": "stream",
          "text": [
            "/usr/local/lib/python3.6/dist-packages/sklearn/metrics/classification.py:1143: UndefinedMetricWarning: F-score is ill-defined and being set to 0.0 due to no predicted samples.\n",
            "  'precision', 'predicted', average, warn_for)\n",
            "/usr/local/lib/python3.6/dist-packages/sklearn/metrics/classification.py:1143: UndefinedMetricWarning: F-score is ill-defined and being set to 0.0 due to no predicted samples.\n",
            "  'precision', 'predicted', average, warn_for)\n"
          ],
          "name": "stderr"
        },
        {
          "output_type": "stream",
          "text": [
            "Linear SVM \t\t 0.0\n",
            "RBF SVM \t\t 0.0\n"
          ],
          "name": "stdout"
        },
        {
          "output_type": "stream",
          "text": [
            "/usr/local/lib/python3.6/dist-packages/sklearn/metrics/classification.py:1143: UndefinedMetricWarning: F-score is ill-defined and being set to 0.0 due to no predicted samples.\n",
            "  'precision', 'predicted', average, warn_for)\n"
          ],
          "name": "stderr"
        },
        {
          "output_type": "stream",
          "text": [
            "Gaus. Process \t\t 0.0\n",
            "Decision Tree \t\t 0.4128440366972477\n",
            "Random Forest \t\t 0.05319148936170212\n",
            "Neural Net \t\t 0.0\n",
            "AdaBoost \t\t 0.6578947368421053\n",
            "Naive Bayes \t\t 0.5833333333333333\n",
            "Quadr.Dis.A. \t\t 0.7142857142857142\n"
          ],
          "name": "stdout"
        },
        {
          "output_type": "stream",
          "text": [
            "/usr/local/lib/python3.6/dist-packages/sklearn/metrics/classification.py:1143: UndefinedMetricWarning: F-score is ill-defined and being set to 0.0 due to no predicted samples.\n",
            "  'precision', 'predicted', average, warn_for)\n"
          ],
          "name": "stderr"
        }
      ]
    },
    {
      "metadata": {
        "id": "eKG66tvLPzhh",
        "colab_type": "text"
      },
      "cell_type": "markdown",
      "source": [
        "##  Boosting Methods"
      ]
    },
    {
      "metadata": {
        "id": "z68iBle7P2q5",
        "colab_type": "code",
        "colab": {
          "base_uri": "https://localhost:8080/",
          "height": 617
        },
        "outputId": "7e61902a-4b80-4f94-f9c3-549c641b7b57"
      },
      "cell_type": "code",
      "source": [
        "n_estimators=500\n",
        "\n",
        "# plot the accuracy after each boosting iteration\n",
        "def get_accuracy_for_n_estimators(classifier):\n",
        "  accuracy = np.zeros((n_estimators))\n",
        "  if (isinstance(classifier, XGBClassifier)):\n",
        "      for i in range(n_estimators):\n",
        "          classifier = XGBClassifier(n_estimators=i, random_state=1, max_depth=1)\n",
        "          classifier.fit(X_train, y_train)\n",
        "          accuracy[i] = score_function(y_test, classifier.predict(X_test))\n",
        "  else:\n",
        "      for i, y_pred in enumerate(classifier.staged_predict(X_test)):\n",
        "          accuracy[i] = score_function(y_test, y_pred)\n",
        "  return accuracy\n",
        "\n",
        " \n",
        "# GradBoost\n",
        "classifier_gdb = GradientBoostingClassifier(n_estimators=n_estimators, random_state=1, max_depth=1)\n",
        "print(\"GradBoost\", \"\\t\", get_accuracy(classifier_gdb) )\n",
        "accuracy_gdb = get_accuracy_for_n_estimators(classifier_gdb)\n",
        "\n",
        "# AdaBoost\n",
        "classifier_adb = AdaBoostClassifier(base_estimator=DecisionTreeClassifier(max_depth=3), n_estimators=n_estimators, algorithm='SAMME', random_state=1)\n",
        "print(\"AdaBoost\", \"\\t\", get_accuracy(classifier_adb) )\n",
        "accuracy_adb = get_accuracy_for_n_estimators(classifier_adb)\n",
        "\n",
        "# XGBoost\n",
        "classifier_xgb = XGBClassifier(e_estimators=n_estimators, random_state=1, max_depth=3)\n",
        "print(\"XGBoost\", \"\\t\", get_accuracy(classifier_xgb) )\n",
        "accuracy_xgb = get_accuracy_for_n_estimators(classifier_xgb)\n",
        "\n",
        "# Plot for each number of estimators\n",
        "plt.figure(figsize=(12, 8))    \n",
        "plt.xlabel('Number of Estimators')\n",
        "plt.ylabel('Accuracy')\n",
        "plt.plot(np.arange(n_estimators) + 1, accuracy_gdb, label=\"GradBoost\")\n",
        "plt.plot(np.arange(n_estimators) + 1, accuracy_adb, label=\"AdaBoost\")\n",
        "plt.plot(np.arange(n_estimators) + 1, accuracy_xgb, label=\"XGBoost\")\n",
        "plt.legend()\n",
        "plt.show()"
      ],
      "execution_count": 89,
      "outputs": [
        {
          "output_type": "stream",
          "text": [
            "GradBoost \t 0.6756756756756757\n"
          ],
          "name": "stdout"
        },
        {
          "output_type": "stream",
          "text": [
            "/usr/local/lib/python3.6/dist-packages/sklearn/metrics/classification.py:1143: UndefinedMetricWarning: F-score is ill-defined and being set to 0.0 due to no predicted samples.\n",
            "  'precision', 'predicted', average, warn_for)\n"
          ],
          "name": "stderr"
        },
        {
          "output_type": "stream",
          "text": [
            "AdaBoost \t 0.782608695652174\n",
            "XGBoost \t 0.7522123893805309\n"
          ],
          "name": "stdout"
        },
        {
          "output_type": "stream",
          "text": [
            "/usr/local/lib/python3.6/dist-packages/sklearn/metrics/classification.py:1143: UndefinedMetricWarning: F-score is ill-defined and being set to 0.0 due to no predicted samples.\n",
            "  'precision', 'predicted', average, warn_for)\n"
          ],
          "name": "stderr"
        },
        {
          "output_type": "display_data",
          "data": {
            "image/png": "[encoded data removed]",
            "text/plain": [
              "<Figure size 864x576 with 1 Axes>"
            ]
          },
          "metadata": {
            "tags": []
          }
        }
      ]
    },
    {
      "metadata": {
        "id": "JwAlevedi5zb",
        "colab_type": "code",
        "colab": {
          "base_uri": "https://localhost:8080/",
          "height": 34
        },
        "outputId": "ebbed989-ebc3-4096-b7f9-95651dd62be9"
      },
      "cell_type": "code",
      "source": [
        "n_estimators = np.argmax(accuracy_adb)+1 # get index of best accuracy\n",
        "\n",
        "# AdaBoost\n",
        "classifier_adb = AdaBoostClassifier(base_estimator=DecisionTreeClassifier(max_depth=3), n_estimators=n_estimators, algorithm='SAMME', random_state=1)\n",
        "print(\"AdaBoost\", \"\\t\", get_accuracy(classifier_adb) )\n"
      ],
      "execution_count": 90,
      "outputs": [
        {
          "output_type": "stream",
          "text": [
            "AdaBoost \t 0.8189655172413792\n"
          ],
          "name": "stdout"
        }
      ]
    },
    {
      "metadata": {
        "id": "6RHPyGnCqcuL",
        "colab_type": "text"
      },
      "cell_type": "markdown",
      "source": [
        "## Pipelined Classificators"
      ]
    },
    {
      "metadata": {
        "id": "8NYu76GGrszU",
        "colab_type": "text"
      },
      "cell_type": "markdown",
      "source": [
        "### PCA"
      ]
    },
    {
      "metadata": {
        "id": "Jt-SdN14qgN4",
        "colab_type": "code",
        "colab": {
          "base_uri": "https://localhost:8080/",
          "height": 68
        },
        "outputId": "8cac8150-2e3e-4d27-9670-0bad8c013ca0"
      },
      "cell_type": "code",
      "source": [
        "from sklearn.pipeline import make_pipeline\n",
        "from sklearn.preprocessing import StandardScaler\n",
        "from sklearn.decomposition import PCA\n",
        "from sklearn.naive_bayes import GaussianNB\n",
        "\n",
        "\n",
        "classifier_pca = make_pipeline(StandardScaler(), PCA(n_components=5), GaussianNB())\n",
        "print(\"PCA\", \"\\t\", get_accuracy(classifier_pca) )"
      ],
      "execution_count": 93,
      "outputs": [
        {
          "output_type": "stream",
          "text": [
            "PCA \t 0.0\n"
          ],
          "name": "stdout"
        },
        {
          "output_type": "stream",
          "text": [
            "/usr/local/lib/python3.6/dist-packages/sklearn/metrics/classification.py:1143: UndefinedMetricWarning: F-score is ill-defined and being set to 0.0 due to no predicted samples.\n",
            "  'precision', 'predicted', average, warn_for)\n"
          ],
          "name": "stderr"
        }
      ]
    }
  ]
}