{
  "nbformat": 4,
  "nbformat_minor": 0,
  "metadata": {
    "colab": {
      "name": "LightGBM.ipynb",
      "version": "0.3.2",
      "provenance": [],
      "collapsed_sections": [],
      "include_colab_link": true
    },
    "kernelspec": {
      "name": "python3",
      "display_name": "Python 3"
    },
    "accelerator": "GPU"
  },
  "cells": [
    {
      "cell_type": "markdown",
      "metadata": {
        "id": "view-in-github",
        "colab_type": "text"
      },
      "source": [
        "<a href=\"https://colab.research.google.com/github/CptK1ng/dmc2019/blob/alexander_dev/notebooks/CatBoost.ipynb\" target=\"_parent\"><img src=\"https://colab.research.google.com/assets/colab-badge.svg\" alt=\"Open In Colab\"/></a>"
      ]
    },
    {
      "cell_type": "markdown",
      "metadata": {
        "id": "XM2wPFvS_kZL",
        "colab_type": "text"
      },
      "source": [
        "# CatBoost\n",
        "\n",
        "In this notebook i will test the CatBoost classificator on our data.\n",
        "\n",
        "## Installation:\n",
        "\n",
        "\n",
        "1.   `pip install numpy six catboost`\n",
        "\n",
        "2.   For Visualization: `pip install ipywidgets` and `jupyter nbextension enable --py widgetsnbextension`\n",
        "\n",
        "\n",
        "\n",
        "More details [here](https://catboost.ai/docs/concepts/python-installation.html#python-installation)"
      ]
    },
    {
      "cell_type": "code",
      "metadata": {
        "id": "ncYAHYMX_eVe",
        "colab_type": "code",
        "colab": {
          "base_uri": "https://localhost:8080/",
          "height": 223
        },
        "outputId": "f2d21cb7-f18a-4fae-b5f1-0d5397d4e19c"
      },
      "source": [
        "!pip install catboost\n",
        "import numpy as np\n",
        "import pandas as pd\n",
        "from catboost import CatBoostClassifier, Pool\n",
        "from sklearn import metrics"
      ],
      "execution_count": 6,
      "outputs": [
        {
          "output_type": "stream",
          "text": [
            "Collecting catboost\n",
            "\u001b[?25l  Downloading https://files.pythonhosted.org/packages/2f/c4/f130237b24efd1941cb685da12496675a90045129b66774751f1bf629dfd/catboost-0.14.2-cp36-none-manylinux1_x86_64.whl (60.6MB)\n",
            "\u001b[K     |████████████████████████████████| 60.6MB 1.6MB/s \n",
            "\u001b[?25hRequirement already satisfied: six in /usr/local/lib/python3.6/dist-packages (from catboost) (1.12.0)\n",
            "Requirement already satisfied: enum34 in /usr/local/lib/python3.6/dist-packages (from catboost) (1.1.6)\n",
            "Requirement already satisfied: graphviz in /usr/local/lib/python3.6/dist-packages (from catboost) (0.10.1)\n",
            "Requirement already satisfied: pandas>=0.19.1 in /usr/local/lib/python3.6/dist-packages (from catboost) (0.24.2)\n",
            "Requirement already satisfied: numpy>=1.11.1 in /usr/local/lib/python3.6/dist-packages (from catboost) (1.16.3)\n",
            "Requirement already satisfied: pytz>=2011k in /usr/local/lib/python3.6/dist-packages (from pandas>=0.19.1->catboost) (2018.9)\n",
            "Requirement already satisfied: python-dateutil>=2.5.0 in /usr/local/lib/python3.6/dist-packages (from pandas>=0.19.1->catboost) (2.5.3)\n",
            "Installing collected packages: catboost\n",
            "Successfully installed catboost-0.14.2\n"
          ],
          "name": "stdout"
        }
      ]
    },
    {
      "cell_type": "markdown",
      "metadata": {
        "id": "IROwAsVRBAKB",
        "colab_type": "text"
      },
      "source": [
        "## Data Import & Preprocessing\n",
        "Download our custom Dataset splits and the unlabeled Test Set:"
      ]
    },
    {
      "cell_type": "code",
      "metadata": {
        "id": "dP3VNoATBAPr",
        "colab_type": "code",
        "colab": {
          "base_uri": "https://localhost:8080/",
          "height": 51
        },
        "outputId": "2da38515-e247-4254-86f8-86c41a481e35"
      },
      "source": [
        "!wget -nc -q --show-progress https://www.dropbox.com/s/6m8iq9ogpzmu7vx/train_new.csv?dl=1 -O train_new.csv\n",
        "!wget -nc -q --show-progress https://www.dropbox.com/s/tjpkc45oqn3uv8s/val_new.csv?dl=1 -O val_new.csv"
      ],
      "execution_count": 2,
      "outputs": [
        {
          "output_type": "stream",
          "text": [
            "train_new.csv       100%[===================>] 104.09K  --.-KB/s    in 0.1s    \n",
            "val_new.csv         100%[===================>]  25.96K  --.-KB/s    in 0.1s    \n"
          ],
          "name": "stdout"
        }
      ]
    },
    {
      "cell_type": "markdown",
      "metadata": {
        "id": "Se3jClaABXXu",
        "colab_type": "text"
      },
      "source": [
        "Import data:"
      ]
    },
    {
      "cell_type": "code",
      "metadata": {
        "id": "L-Xj2lR1BXeV",
        "colab_type": "code",
        "outputId": "6f1fc260-4c5f-4f3e-fbb4-77983619b919",
        "colab": {
          "base_uri": "https://localhost:8080/",
          "height": 110
        }
      },
      "source": [
        "\n",
        "df_train_original = pd.read_csv(\"train_new.csv\", sep=\"|\")\n",
        "df_val_original = pd.read_csv(\"val_new.csv\", sep=\"|\")\n",
        "df_train_original.head(2)"
      ],
      "execution_count": 3,
      "outputs": [
        {
          "output_type": "execute_result",
          "data": {
            "text/html": [
              "<div>\n",
              "<style scoped>\n",
              "    .dataframe tbody tr th:only-of-type {\n",
              "        vertical-align: middle;\n",
              "    }\n",
              "\n",
              "    .dataframe tbody tr th {\n",
              "        vertical-align: top;\n",
              "    }\n",
              "\n",
              "    .dataframe thead th {\n",
              "        text-align: right;\n",
              "    }\n",
              "</style>\n",
              "<table border=\"1\" class=\"dataframe\">\n",
              "  <thead>\n",
              "    <tr style=\"text-align: right;\">\n",
              "      <th></th>\n",
              "      <th>trustLevel</th>\n",
              "      <th>totalScanTimeInSeconds</th>\n",
              "      <th>grandTotal</th>\n",
              "      <th>lineItemVoids</th>\n",
              "      <th>scansWithoutRegistration</th>\n",
              "      <th>quantityModifications</th>\n",
              "      <th>scannedLineItemsPerSecond</th>\n",
              "      <th>valuePerSecond</th>\n",
              "      <th>lineItemVoidsPerPosition</th>\n",
              "      <th>fraud</th>\n",
              "    </tr>\n",
              "  </thead>\n",
              "  <tbody>\n",
              "    <tr>\n",
              "      <th>0</th>\n",
              "      <td>4</td>\n",
              "      <td>828</td>\n",
              "      <td>66.56</td>\n",
              "      <td>7</td>\n",
              "      <td>4</td>\n",
              "      <td>3</td>\n",
              "      <td>0.007246</td>\n",
              "      <td>0.080386</td>\n",
              "      <td>1.166667</td>\n",
              "      <td>0</td>\n",
              "    </tr>\n",
              "    <tr>\n",
              "      <th>1</th>\n",
              "      <td>1</td>\n",
              "      <td>1612</td>\n",
              "      <td>31.34</td>\n",
              "      <td>2</td>\n",
              "      <td>4</td>\n",
              "      <td>3</td>\n",
              "      <td>0.008685</td>\n",
              "      <td>0.019442</td>\n",
              "      <td>0.142857</td>\n",
              "      <td>0</td>\n",
              "    </tr>\n",
              "  </tbody>\n",
              "</table>\n",
              "</div>"
            ],
            "text/plain": [
              "   trustLevel  totalScanTimeInSeconds  grandTotal  lineItemVoids  \\\n",
              "0           4                     828       66.56              7   \n",
              "1           1                    1612       31.34              2   \n",
              "\n",
              "   scansWithoutRegistration  quantityModifications  scannedLineItemsPerSecond  \\\n",
              "0                         4                      3                   0.007246   \n",
              "1                         4                      3                   0.008685   \n",
              "\n",
              "   valuePerSecond  lineItemVoidsPerPosition  fraud  \n",
              "0        0.080386                  1.166667      0  \n",
              "1        0.019442                  0.142857      0  "
            ]
          },
          "metadata": {
            "tags": []
          },
          "execution_count": 3
        }
      ]
    },
    {
      "cell_type": "markdown",
      "metadata": {
        "id": "ibTa2NwwBdGo",
        "colab_type": "text"
      },
      "source": [
        "Feature Engineering:"
      ]
    },
    {
      "cell_type": "code",
      "metadata": {
        "id": "QmL4TlW3Bkwt",
        "colab_type": "code",
        "outputId": "db243563-71ac-49a1-e9eb-befa12181615",
        "colab": {
          "base_uri": "https://localhost:8080/",
          "height": 203
        }
      },
      "source": [
        "def prepareData(df):\n",
        "  df = df.copy()\n",
        "  df['totalLineItems'] = (df['scannedLineItemsPerSecond'] * df['totalScanTimeInSeconds']).astype(np.int) # number of scanned products\n",
        "  df['trustLevel'] = df.trustLevel.astype('category') # needed for automatic detection of categorical features later\n",
        "  df['fraud'] = df.fraud.astype('category') # needed for automatic detection of categorical features later\n",
        "\n",
        "  return df\n",
        "\n",
        "df_train = prepareData(df_train_original)\n",
        "df_val = prepareData(df_val_original)\n",
        "\n",
        "df_train.head()"
      ],
      "execution_count": 4,
      "outputs": [
        {
          "output_type": "execute_result",
          "data": {
            "text/html": [
              "<div>\n",
              "<style scoped>\n",
              "    .dataframe tbody tr th:only-of-type {\n",
              "        vertical-align: middle;\n",
              "    }\n",
              "\n",
              "    .dataframe tbody tr th {\n",
              "        vertical-align: top;\n",
              "    }\n",
              "\n",
              "    .dataframe thead th {\n",
              "        text-align: right;\n",
              "    }\n",
              "</style>\n",
              "<table border=\"1\" class=\"dataframe\">\n",
              "  <thead>\n",
              "    <tr style=\"text-align: right;\">\n",
              "      <th></th>\n",
              "      <th>trustLevel</th>\n",
              "      <th>totalScanTimeInSeconds</th>\n",
              "      <th>grandTotal</th>\n",
              "      <th>lineItemVoids</th>\n",
              "      <th>scansWithoutRegistration</th>\n",
              "      <th>quantityModifications</th>\n",
              "      <th>scannedLineItemsPerSecond</th>\n",
              "      <th>valuePerSecond</th>\n",
              "      <th>lineItemVoidsPerPosition</th>\n",
              "      <th>fraud</th>\n",
              "      <th>totalLineItems</th>\n",
              "    </tr>\n",
              "  </thead>\n",
              "  <tbody>\n",
              "    <tr>\n",
              "      <th>0</th>\n",
              "      <td>4</td>\n",
              "      <td>828</td>\n",
              "      <td>66.56</td>\n",
              "      <td>7</td>\n",
              "      <td>4</td>\n",
              "      <td>3</td>\n",
              "      <td>0.007246</td>\n",
              "      <td>0.080386</td>\n",
              "      <td>1.166667</td>\n",
              "      <td>0</td>\n",
              "      <td>5</td>\n",
              "    </tr>\n",
              "    <tr>\n",
              "      <th>1</th>\n",
              "      <td>1</td>\n",
              "      <td>1612</td>\n",
              "      <td>31.34</td>\n",
              "      <td>2</td>\n",
              "      <td>4</td>\n",
              "      <td>3</td>\n",
              "      <td>0.008685</td>\n",
              "      <td>0.019442</td>\n",
              "      <td>0.142857</td>\n",
              "      <td>0</td>\n",
              "      <td>13</td>\n",
              "    </tr>\n",
              "    <tr>\n",
              "      <th>2</th>\n",
              "      <td>3</td>\n",
              "      <td>848</td>\n",
              "      <td>52.37</td>\n",
              "      <td>2</td>\n",
              "      <td>4</td>\n",
              "      <td>0</td>\n",
              "      <td>0.022406</td>\n",
              "      <td>0.061757</td>\n",
              "      <td>0.105263</td>\n",
              "      <td>0</td>\n",
              "      <td>19</td>\n",
              "    </tr>\n",
              "    <tr>\n",
              "      <th>3</th>\n",
              "      <td>1</td>\n",
              "      <td>321</td>\n",
              "      <td>76.03</td>\n",
              "      <td>8</td>\n",
              "      <td>7</td>\n",
              "      <td>2</td>\n",
              "      <td>0.071651</td>\n",
              "      <td>0.236854</td>\n",
              "      <td>0.347826</td>\n",
              "      <td>0</td>\n",
              "      <td>22</td>\n",
              "    </tr>\n",
              "    <tr>\n",
              "      <th>4</th>\n",
              "      <td>1</td>\n",
              "      <td>660</td>\n",
              "      <td>6.06</td>\n",
              "      <td>3</td>\n",
              "      <td>7</td>\n",
              "      <td>1</td>\n",
              "      <td>0.027273</td>\n",
              "      <td>0.009182</td>\n",
              "      <td>0.166667</td>\n",
              "      <td>0</td>\n",
              "      <td>18</td>\n",
              "    </tr>\n",
              "  </tbody>\n",
              "</table>\n",
              "</div>"
            ],
            "text/plain": [
              "  trustLevel  totalScanTimeInSeconds  grandTotal  lineItemVoids  \\\n",
              "0          4                     828       66.56              7   \n",
              "1          1                    1612       31.34              2   \n",
              "2          3                     848       52.37              2   \n",
              "3          1                     321       76.03              8   \n",
              "4          1                     660        6.06              3   \n",
              "\n",
              "   scansWithoutRegistration  quantityModifications  scannedLineItemsPerSecond  \\\n",
              "0                         4                      3                   0.007246   \n",
              "1                         4                      3                   0.008685   \n",
              "2                         4                      0                   0.022406   \n",
              "3                         7                      2                   0.071651   \n",
              "4                         7                      1                   0.027273   \n",
              "\n",
              "   valuePerSecond  lineItemVoidsPerPosition fraud  totalLineItems  \n",
              "0        0.080386                  1.166667     0               5  \n",
              "1        0.019442                  0.142857     0              13  \n",
              "2        0.061757                  0.105263     0              19  \n",
              "3        0.236854                  0.347826     0              22  \n",
              "4        0.009182                  0.166667     0              18  "
            ]
          },
          "metadata": {
            "tags": []
          },
          "execution_count": 4
        }
      ]
    },
    {
      "cell_type": "markdown",
      "metadata": {
        "id": "wwyoAgglB4uU",
        "colab_type": "text"
      },
      "source": [
        "## Using CatBoost\n",
        "[Documentation](https://catboost.ai/docs/concepts/python-quickstart.html)\n",
        "\n",
        "\n",
        "### Read Data\n",
        "[Pool](https://catboost.ai/docs/concepts/python-reference_pool.html#python-reference_pool)\n"
      ]
    },
    {
      "cell_type": "code",
      "metadata": {
        "id": "67LiqvcrB9Vp",
        "colab_type": "code",
        "colab": {}
      },
      "source": [
        "train_pool = Pool(df_train.drop('fraud', axis=1), df_train['fraud'])\n",
        "validation_pool = Pool(df_val.drop('fraud', axis=1), label=df_val['fraud'])"
      ],
      "execution_count": 0,
      "outputs": []
    },
    {
      "cell_type": "markdown",
      "metadata": {
        "id": "43YIgKFqHawG",
        "colab_type": "text"
      },
      "source": [
        "### Train\n",
        "[Classifier Parameters](https://catboost.ai/docs/concepts/python-reference_parameters-list.html#python-reference_parameters-list), [loss functions](https://catboost.ai/docs/concepts/loss-functions-classification.html), [fit](https://catboost.ai/docs/concepts/python-reference_catboostclassifier_fit.html)"
      ]
    },
    {
      "cell_type": "code",
      "metadata": {
        "id": "qOKiLWE-HbF0",
        "colab_type": "code",
        "outputId": "11107fe3-eaf7-4c31-86d3-19ba705ac41b",
        "colab": {
          "base_uri": "https://localhost:8080/",
          "height": 3480
        }
      },
      "source": [
        "model = CatBoostClassifier(iterations=100000,\n",
        "                           depth=2,\n",
        "                           learning_rate=1,\n",
        "                           loss_function='Logloss',\n",
        "                           early_stopping_rounds=10,\n",
        "                           verbose=500)\n",
        "# train the model\n",
        "model.fit(train_pool)"
      ],
      "execution_count": 41,
      "outputs": [
        {
          "output_type": "stream",
          "text": [
            "0:\tlearn: 0.1466787\ttotal: 12.9ms\tremaining: 21m 26s\n",
            "500:\tlearn: 0.0002541\ttotal: 4.62s\tremaining: 15m 16s\n",
            "1000:\tlearn: 0.0001290\ttotal: 7.79s\tremaining: 12m 50s\n",
            "1500:\tlearn: 0.0000932\ttotal: 10.9s\tremaining: 11m 55s\n",
            "2000:\tlearn: 0.0000804\ttotal: 13.8s\tremaining: 11m 16s\n",
            "2500:\tlearn: 0.0000763\ttotal: 16.9s\tremaining: 10m 58s\n",
            "3000:\tlearn: 0.0000701\ttotal: 20.3s\tremaining: 10m 57s\n",
            "3500:\tlearn: 0.0000695\ttotal: 23.3s\tremaining: 10m 41s\n",
            "4000:\tlearn: 0.0000672\ttotal: 26.1s\tremaining: 10m 26s\n",
            "4500:\tlearn: 0.0000658\ttotal: 29s\tremaining: 10m 14s\n",
            "5000:\tlearn: 0.0000632\ttotal: 31.8s\tremaining: 10m 4s\n",
            "5500:\tlearn: 0.0000623\ttotal: 34.7s\tremaining: 9m 56s\n",
            "6000:\tlearn: 0.0000623\ttotal: 37.6s\tremaining: 9m 48s\n",
            "6500:\tlearn: 0.0000622\ttotal: 40.9s\tremaining: 9m 47s\n",
            "7000:\tlearn: 0.0000622\ttotal: 44.3s\tremaining: 9m 47s\n",
            "7500:\tlearn: 0.0000622\ttotal: 47.6s\tremaining: 9m 47s\n",
            "8000:\tlearn: 0.0000622\ttotal: 50.6s\tremaining: 9m 41s\n",
            "8500:\tlearn: 0.0000622\ttotal: 53.5s\tremaining: 9m 36s\n",
            "9000:\tlearn: 0.0000605\ttotal: 56.5s\tremaining: 9m 31s\n",
            "9500:\tlearn: 0.0000594\ttotal: 59.4s\tremaining: 9m 25s\n",
            "10000:\tlearn: 0.0000589\ttotal: 1m 2s\tremaining: 9m 20s\n",
            "10500:\tlearn: 0.0000588\ttotal: 1m 5s\tremaining: 9m 15s\n",
            "11000:\tlearn: 0.0000571\ttotal: 1m 8s\tremaining: 9m 10s\n",
            "11500:\tlearn: 0.0000571\ttotal: 1m 10s\tremaining: 9m 5s\n",
            "12000:\tlearn: 0.0000571\ttotal: 1m 13s\tremaining: 9m\n",
            "12500:\tlearn: 0.0000571\ttotal: 1m 16s\tremaining: 8m 56s\n",
            "13000:\tlearn: 0.0000571\ttotal: 1m 19s\tremaining: 8m 51s\n",
            "13500:\tlearn: 0.0000571\ttotal: 1m 22s\tremaining: 8m 47s\n",
            "14000:\tlearn: 0.0000571\ttotal: 1m 25s\tremaining: 8m 43s\n",
            "14500:\tlearn: 0.0000571\ttotal: 1m 28s\tremaining: 8m 39s\n",
            "15000:\tlearn: 0.0000571\ttotal: 1m 30s\tremaining: 8m 35s\n",
            "15500:\tlearn: 0.0000571\ttotal: 1m 33s\tremaining: 8m 31s\n",
            "16000:\tlearn: 0.0000571\ttotal: 1m 36s\tremaining: 8m 27s\n",
            "16500:\tlearn: 0.0000571\ttotal: 1m 39s\tremaining: 8m 23s\n",
            "17000:\tlearn: 0.0000571\ttotal: 1m 42s\tremaining: 8m 20s\n",
            "17500:\tlearn: 0.0000571\ttotal: 1m 45s\tremaining: 8m 16s\n",
            "18000:\tlearn: 0.0000571\ttotal: 1m 48s\tremaining: 8m 13s\n",
            "18500:\tlearn: 0.0000571\ttotal: 1m 51s\tremaining: 8m 9s\n",
            "19000:\tlearn: 0.0000571\ttotal: 1m 53s\tremaining: 8m 5s\n",
            "19500:\tlearn: 0.0000571\ttotal: 1m 57s\tremaining: 8m 4s\n",
            "20000:\tlearn: 0.0000571\ttotal: 2m\tremaining: 8m 2s\n",
            "20500:\tlearn: 0.0000571\ttotal: 2m 4s\tremaining: 8m\n",
            "21000:\tlearn: 0.0000571\ttotal: 2m 6s\tremaining: 7m 57s\n",
            "21500:\tlearn: 0.0000571\ttotal: 2m 9s\tremaining: 7m 53s\n",
            "22000:\tlearn: 0.0000571\ttotal: 2m 12s\tremaining: 7m 50s\n",
            "22500:\tlearn: 0.0000568\ttotal: 2m 15s\tremaining: 7m 46s\n",
            "23000:\tlearn: 0.0000562\ttotal: 2m 18s\tremaining: 7m 43s\n",
            "23500:\tlearn: 0.0000562\ttotal: 2m 21s\tremaining: 7m 40s\n",
            "24000:\tlearn: 0.0000554\ttotal: 2m 24s\tremaining: 7m 36s\n",
            "24500:\tlearn: 0.0000554\ttotal: 2m 27s\tremaining: 7m 33s\n",
            "25000:\tlearn: 0.0000554\ttotal: 2m 29s\tremaining: 7m 29s\n",
            "25500:\tlearn: 0.0000554\ttotal: 2m 32s\tremaining: 7m 26s\n",
            "26000:\tlearn: 0.0000554\ttotal: 2m 35s\tremaining: 7m 23s\n",
            "26500:\tlearn: 0.0000554\ttotal: 2m 38s\tremaining: 7m 20s\n",
            "27000:\tlearn: 0.0000554\ttotal: 2m 41s\tremaining: 7m 16s\n",
            "27500:\tlearn: 0.0000554\ttotal: 2m 44s\tremaining: 7m 13s\n",
            "28000:\tlearn: 0.0000554\ttotal: 2m 47s\tremaining: 7m 10s\n",
            "28500:\tlearn: 0.0000554\ttotal: 2m 50s\tremaining: 7m 7s\n",
            "29000:\tlearn: 0.0000551\ttotal: 2m 53s\tremaining: 7m 4s\n",
            "29500:\tlearn: 0.0000551\ttotal: 2m 56s\tremaining: 7m 1s\n",
            "30000:\tlearn: 0.0000551\ttotal: 2m 59s\tremaining: 6m 57s\n",
            "30500:\tlearn: 0.0000551\ttotal: 3m 2s\tremaining: 6m 54s\n",
            "31000:\tlearn: 0.0000551\ttotal: 3m 4s\tremaining: 6m 51s\n",
            "31500:\tlearn: 0.0000551\ttotal: 3m 7s\tremaining: 6m 48s\n",
            "32000:\tlearn: 0.0000551\ttotal: 3m 11s\tremaining: 6m 46s\n",
            "32500:\tlearn: 0.0000551\ttotal: 3m 14s\tremaining: 6m 44s\n",
            "33000:\tlearn: 0.0000551\ttotal: 3m 17s\tremaining: 6m 41s\n",
            "33500:\tlearn: 0.0000551\ttotal: 3m 20s\tremaining: 6m 38s\n",
            "34000:\tlearn: 0.0000551\ttotal: 3m 23s\tremaining: 6m 35s\n",
            "34500:\tlearn: 0.0000551\ttotal: 3m 26s\tremaining: 6m 32s\n",
            "35000:\tlearn: 0.0000551\ttotal: 3m 30s\tremaining: 6m 30s\n",
            "35500:\tlearn: 0.0000551\ttotal: 3m 33s\tremaining: 6m 28s\n",
            "36000:\tlearn: 0.0000551\ttotal: 3m 37s\tremaining: 6m 25s\n",
            "36500:\tlearn: 0.0000551\ttotal: 3m 39s\tremaining: 6m 22s\n",
            "37000:\tlearn: 0.0000551\ttotal: 3m 42s\tremaining: 6m 19s\n",
            "37500:\tlearn: 0.0000551\ttotal: 3m 45s\tremaining: 6m 16s\n",
            "38000:\tlearn: 0.0000551\ttotal: 3m 48s\tremaining: 6m 13s\n",
            "38500:\tlearn: 0.0000551\ttotal: 3m 51s\tremaining: 6m 9s\n",
            "39000:\tlearn: 0.0000551\ttotal: 3m 54s\tremaining: 6m 6s\n",
            "39500:\tlearn: 0.0000551\ttotal: 3m 57s\tremaining: 6m 3s\n",
            "40000:\tlearn: 0.0000551\ttotal: 4m\tremaining: 6m\n",
            "40500:\tlearn: 0.0000551\ttotal: 4m 3s\tremaining: 5m 57s\n",
            "41000:\tlearn: 0.0000551\ttotal: 4m 6s\tremaining: 5m 54s\n",
            "41500:\tlearn: 0.0000551\ttotal: 4m 9s\tremaining: 5m 51s\n",
            "42000:\tlearn: 0.0000551\ttotal: 4m 12s\tremaining: 5m 48s\n",
            "42500:\tlearn: 0.0000551\ttotal: 4m 15s\tremaining: 5m 45s\n",
            "43000:\tlearn: 0.0000551\ttotal: 4m 18s\tremaining: 5m 42s\n",
            "43500:\tlearn: 0.0000551\ttotal: 4m 21s\tremaining: 5m 39s\n",
            "44000:\tlearn: 0.0000551\ttotal: 4m 24s\tremaining: 5m 37s\n",
            "44500:\tlearn: 0.0000551\ttotal: 4m 28s\tremaining: 5m 34s\n",
            "45000:\tlearn: 0.0000551\ttotal: 4m 31s\tremaining: 5m 31s\n",
            "45500:\tlearn: 0.0000551\ttotal: 4m 34s\tremaining: 5m 28s\n",
            "46000:\tlearn: 0.0000551\ttotal: 4m 37s\tremaining: 5m 25s\n",
            "46500:\tlearn: 0.0000551\ttotal: 4m 40s\tremaining: 5m 22s\n",
            "47000:\tlearn: 0.0000551\ttotal: 4m 43s\tremaining: 5m 19s\n",
            "47500:\tlearn: 0.0000551\ttotal: 4m 46s\tremaining: 5m 16s\n",
            "48000:\tlearn: 0.0000551\ttotal: 4m 48s\tremaining: 5m 13s\n",
            "48500:\tlearn: 0.0000551\ttotal: 4m 51s\tremaining: 5m 9s\n",
            "49000:\tlearn: 0.0000551\ttotal: 4m 55s\tremaining: 5m 7s\n",
            "49500:\tlearn: 0.0000551\ttotal: 4m 58s\tremaining: 5m 4s\n",
            "50000:\tlearn: 0.0000551\ttotal: 5m 1s\tremaining: 5m 1s\n",
            "50500:\tlearn: 0.0000551\ttotal: 5m 4s\tremaining: 4m 58s\n",
            "51000:\tlearn: 0.0000551\ttotal: 5m 7s\tremaining: 4m 55s\n",
            "51500:\tlearn: 0.0000546\ttotal: 5m 10s\tremaining: 4m 52s\n",
            "52000:\tlearn: 0.0000546\ttotal: 5m 13s\tremaining: 4m 49s\n",
            "52500:\tlearn: 0.0000546\ttotal: 5m 16s\tremaining: 4m 46s\n",
            "53000:\tlearn: 0.0000546\ttotal: 5m 19s\tremaining: 4m 43s\n",
            "53500:\tlearn: 0.0000546\ttotal: 5m 22s\tremaining: 4m 40s\n",
            "54000:\tlearn: 0.0000546\ttotal: 5m 25s\tremaining: 4m 36s\n",
            "54500:\tlearn: 0.0000546\ttotal: 5m 28s\tremaining: 4m 34s\n",
            "55000:\tlearn: 0.0000546\ttotal: 5m 31s\tremaining: 4m 31s\n",
            "55500:\tlearn: 0.0000546\ttotal: 5m 35s\tremaining: 4m 28s\n",
            "56000:\tlearn: 0.0000546\ttotal: 5m 38s\tremaining: 4m 25s\n",
            "56500:\tlearn: 0.0000546\ttotal: 5m 41s\tremaining: 4m 22s\n",
            "57000:\tlearn: 0.0000546\ttotal: 5m 44s\tremaining: 4m 19s\n",
            "57500:\tlearn: 0.0000546\ttotal: 5m 47s\tremaining: 4m 16s\n",
            "58000:\tlearn: 0.0000546\ttotal: 5m 50s\tremaining: 4m 13s\n",
            "58500:\tlearn: 0.0000546\ttotal: 5m 53s\tremaining: 4m 10s\n",
            "59000:\tlearn: 0.0000546\ttotal: 5m 56s\tremaining: 4m 7s\n",
            "59500:\tlearn: 0.0000546\ttotal: 5m 59s\tremaining: 4m 4s\n",
            "60000:\tlearn: 0.0000546\ttotal: 6m 1s\tremaining: 4m 1s\n",
            "60500:\tlearn: 0.0000546\ttotal: 6m 4s\tremaining: 3m 58s\n",
            "61000:\tlearn: 0.0000546\ttotal: 6m 7s\tremaining: 3m 55s\n",
            "61500:\tlearn: 0.0000546\ttotal: 6m 10s\tremaining: 3m 52s\n",
            "62000:\tlearn: 0.0000546\ttotal: 6m 13s\tremaining: 3m 49s\n",
            "62500:\tlearn: 0.0000546\ttotal: 6m 16s\tremaining: 3m 46s\n",
            "63000:\tlearn: 0.0000546\ttotal: 6m 19s\tremaining: 3m 43s\n",
            "63500:\tlearn: 0.0000546\ttotal: 6m 22s\tremaining: 3m 40s\n",
            "64000:\tlearn: 0.0000546\ttotal: 6m 25s\tremaining: 3m 36s\n",
            "64500:\tlearn: 0.0000546\ttotal: 6m 28s\tremaining: 3m 33s\n",
            "65000:\tlearn: 0.0000546\ttotal: 6m 31s\tremaining: 3m 30s\n",
            "65500:\tlearn: 0.0000546\ttotal: 6m 34s\tremaining: 3m 27s\n",
            "66000:\tlearn: 0.0000546\ttotal: 6m 38s\tremaining: 3m 25s\n",
            "66500:\tlearn: 0.0000546\ttotal: 6m 41s\tremaining: 3m 22s\n",
            "67000:\tlearn: 0.0000546\ttotal: 6m 44s\tremaining: 3m 19s\n",
            "67500:\tlearn: 0.0000546\ttotal: 6m 47s\tremaining: 3m 16s\n",
            "68000:\tlearn: 0.0000546\ttotal: 6m 50s\tremaining: 3m 13s\n",
            "68500:\tlearn: 0.0000546\ttotal: 6m 53s\tremaining: 3m 10s\n",
            "69000:\tlearn: 0.0000546\ttotal: 6m 56s\tremaining: 3m 7s\n",
            "69500:\tlearn: 0.0000546\ttotal: 6m 59s\tremaining: 3m 4s\n",
            "70000:\tlearn: 0.0000546\ttotal: 7m 2s\tremaining: 3m 1s\n",
            "70500:\tlearn: 0.0000546\ttotal: 7m 5s\tremaining: 2m 58s\n",
            "71000:\tlearn: 0.0000546\ttotal: 7m 8s\tremaining: 2m 55s\n",
            "71500:\tlearn: 0.0000546\ttotal: 7m 11s\tremaining: 2m 52s\n",
            "72000:\tlearn: 0.0000546\ttotal: 7m 14s\tremaining: 2m 49s\n",
            "72500:\tlearn: 0.0000546\ttotal: 7m 17s\tremaining: 2m 46s\n",
            "73000:\tlearn: 0.0000546\ttotal: 7m 20s\tremaining: 2m 42s\n",
            "73500:\tlearn: 0.0000546\ttotal: 7m 23s\tremaining: 2m 39s\n",
            "74000:\tlearn: 0.0000546\ttotal: 7m 26s\tremaining: 2m 36s\n",
            "74500:\tlearn: 0.0000546\ttotal: 7m 29s\tremaining: 2m 33s\n",
            "75000:\tlearn: 0.0000546\ttotal: 7m 32s\tremaining: 2m 30s\n",
            "75500:\tlearn: 0.0000546\ttotal: 7m 35s\tremaining: 2m 27s\n",
            "76000:\tlearn: 0.0000546\ttotal: 7m 38s\tremaining: 2m 24s\n",
            "76500:\tlearn: 0.0000546\ttotal: 7m 42s\tremaining: 2m 21s\n",
            "77000:\tlearn: 0.0000546\ttotal: 7m 45s\tremaining: 2m 19s\n",
            "77500:\tlearn: 0.0000546\ttotal: 7m 49s\tremaining: 2m 16s\n",
            "78000:\tlearn: 0.0000546\ttotal: 7m 52s\tremaining: 2m 13s\n",
            "78500:\tlearn: 0.0000546\ttotal: 7m 56s\tremaining: 2m 10s\n",
            "79000:\tlearn: 0.0000546\ttotal: 7m 59s\tremaining: 2m 7s\n",
            "79500:\tlearn: 0.0000546\ttotal: 8m 2s\tremaining: 2m 4s\n",
            "80000:\tlearn: 0.0000546\ttotal: 8m 5s\tremaining: 2m 1s\n",
            "80500:\tlearn: 0.0000546\ttotal: 8m 8s\tremaining: 1m 58s\n",
            "81000:\tlearn: 0.0000546\ttotal: 8m 11s\tremaining: 1m 55s\n",
            "81500:\tlearn: 0.0000546\ttotal: 8m 14s\tremaining: 1m 52s\n",
            "82000:\tlearn: 0.0000546\ttotal: 8m 17s\tremaining: 1m 49s\n",
            "82500:\tlearn: 0.0000546\ttotal: 8m 20s\tremaining: 1m 46s\n",
            "83000:\tlearn: 0.0000546\ttotal: 8m 23s\tremaining: 1m 43s\n",
            "83500:\tlearn: 0.0000546\ttotal: 8m 26s\tremaining: 1m 40s\n",
            "84000:\tlearn: 0.0000546\ttotal: 8m 29s\tremaining: 1m 37s\n",
            "84500:\tlearn: 0.0000546\ttotal: 8m 32s\tremaining: 1m 33s\n",
            "85000:\tlearn: 0.0000546\ttotal: 8m 35s\tremaining: 1m 30s\n",
            "85500:\tlearn: 0.0000546\ttotal: 8m 38s\tremaining: 1m 27s\n",
            "86000:\tlearn: 0.0000546\ttotal: 8m 41s\tremaining: 1m 24s\n",
            "86500:\tlearn: 0.0000546\ttotal: 8m 44s\tremaining: 1m 21s\n",
            "87000:\tlearn: 0.0000546\ttotal: 8m 48s\tremaining: 1m 18s\n",
            "87500:\tlearn: 0.0000546\ttotal: 8m 51s\tremaining: 1m 15s\n",
            "88000:\tlearn: 0.0000546\ttotal: 8m 54s\tremaining: 1m 12s\n",
            "88500:\tlearn: 0.0000546\ttotal: 8m 57s\tremaining: 1m 9s\n",
            "89000:\tlearn: 0.0000546\ttotal: 9m\tremaining: 1m 6s\n",
            "89500:\tlearn: 0.0000546\ttotal: 9m 4s\tremaining: 1m 3s\n",
            "90000:\tlearn: 0.0000546\ttotal: 9m 7s\tremaining: 1m\n",
            "90500:\tlearn: 0.0000546\ttotal: 9m 10s\tremaining: 57.8s\n",
            "91000:\tlearn: 0.0000546\ttotal: 9m 13s\tremaining: 54.7s\n",
            "91500:\tlearn: 0.0000546\ttotal: 9m 16s\tremaining: 51.7s\n",
            "92000:\tlearn: 0.0000546\ttotal: 9m 19s\tremaining: 48.6s\n",
            "92500:\tlearn: 0.0000546\ttotal: 9m 22s\tremaining: 45.6s\n",
            "93000:\tlearn: 0.0000546\ttotal: 9m 25s\tremaining: 42.6s\n",
            "93500:\tlearn: 0.0000546\ttotal: 9m 28s\tremaining: 39.5s\n",
            "94000:\tlearn: 0.0000546\ttotal: 9m 31s\tremaining: 36.5s\n",
            "94500:\tlearn: 0.0000546\ttotal: 9m 34s\tremaining: 33.4s\n",
            "95000:\tlearn: 0.0000546\ttotal: 9m 37s\tremaining: 30.4s\n",
            "95500:\tlearn: 0.0000546\ttotal: 9m 40s\tremaining: 27.4s\n",
            "96000:\tlearn: 0.0000546\ttotal: 9m 43s\tremaining: 24.3s\n",
            "96500:\tlearn: 0.0000546\ttotal: 9m 47s\tremaining: 21.3s\n",
            "97000:\tlearn: 0.0000546\ttotal: 9m 50s\tremaining: 18.3s\n",
            "97500:\tlearn: 0.0000546\ttotal: 9m 53s\tremaining: 15.2s\n",
            "98000:\tlearn: 0.0000546\ttotal: 9m 56s\tremaining: 12.2s\n",
            "98500:\tlearn: 0.0000546\ttotal: 9m 59s\tremaining: 9.13s\n",
            "99000:\tlearn: 0.0000546\ttotal: 10m 2s\tremaining: 6.08s\n",
            "99500:\tlearn: 0.0000546\ttotal: 10m 5s\tremaining: 3.04s\n",
            "99999:\tlearn: 0.0000546\ttotal: 10m 9s\tremaining: 0us\n"
          ],
          "name": "stdout"
        },
        {
          "output_type": "execute_result",
          "data": {
            "text/plain": [
              "<catboost.core.CatBoostClassifier at 0x7f7299450198>"
            ]
          },
          "metadata": {
            "tags": []
          },
          "execution_count": 41
        }
      ]
    },
    {
      "cell_type": "markdown",
      "metadata": {
        "id": "jqCo0XXhHprr",
        "colab_type": "text"
      },
      "source": [
        "### Test"
      ]
    },
    {
      "cell_type": "code",
      "metadata": {
        "id": "URkMl6wIHofZ",
        "colab_type": "code",
        "outputId": "01c9bd2e-e09a-4d77-ed45-cc83533f1c09",
        "colab": {
          "base_uri": "https://localhost:8080/",
          "height": 51
        }
      },
      "source": [
        "# make the prediction using the resulting model\n",
        "#ypred = model.predict(validation_pool)\n",
        "ypred_proba = model.predict_proba(validation_pool).T[1]\n",
        "\n",
        "print(ypred_proba[0:5])"
      ],
      "execution_count": 42,
      "outputs": [
        {
          "output_type": "stream",
          "text": [
            "[4.44269916e-06 4.25368357e-12 9.95164769e-13 8.97002963e-07\n",
            " 1.66799220e-13]\n"
          ],
          "name": "stdout"
        }
      ]
    },
    {
      "cell_type": "markdown",
      "metadata": {
        "id": "-y3gdvLCImLk",
        "colab_type": "text"
      },
      "source": [
        "## Evaluation\n",
        "### Convert class propabilites to binary classes\n",
        "see [issue](https://github.com/CptK1ng/dmc2019/issues/9#issuecomment-485343221) for calculating threshold."
      ]
    },
    {
      "cell_type": "code",
      "metadata": {
        "id": "uyqifvwhKyvp",
        "colab_type": "code",
        "outputId": "4183fc99-3020-4573-db3b-7966274ce6f8",
        "colab": {
          "base_uri": "https://localhost:8080/",
          "height": 34
        }
      },
      "source": [
        "classification_treshold = 25/35\n",
        "\n",
        "ypred = np.where(ypred_proba <= classification_treshold, 0, 1)\n",
        "\n",
        "print(ypred[0:5])"
      ],
      "execution_count": 43,
      "outputs": [
        {
          "output_type": "stream",
          "text": [
            "[0 0 0 0 0]\n"
          ],
          "name": "stdout"
        }
      ]
    },
    {
      "cell_type": "markdown",
      "metadata": {
        "id": "p-fUtHNzKyzs",
        "colab_type": "text"
      },
      "source": [
        "### Calc DMC score"
      ]
    },
    {
      "cell_type": "code",
      "metadata": {
        "id": "fAUoCmGlIhrn",
        "colab_type": "code",
        "outputId": "0977a34c-8867-4319-8c3d-25e47d8081b7",
        "colab": {
          "base_uri": "https://localhost:8080/",
          "height": 34
        }
      },
      "source": [
        "def score_function(y_true, y_pred):\n",
        "  dmc = np.sum(metrics.confusion_matrix(y_true, y_pred)*np.array([[0, -25],[ -5, 5]])) #sklearn gives [[tn,fp],[fn,tp]]\n",
        "  return (#0 if all(y_pred == 0) else metrics.fbeta_score(y_true, y_pred, beta=2),\n",
        "          dmc, \n",
        "          dmc/len(y_pred), #comparable relative score, the higher the better.\n",
        "          metrics.confusion_matrix(y_true, y_pred).tolist(),\n",
        "          0 if all(y_pred == 0) else metrics.fbeta_score(y_true, y_pred, beta=0.5172))\n",
        "\n",
        "score_function(df_val['fraud'].values, ypred)"
      ],
      "execution_count": 44,
      "outputs": [
        {
          "output_type": "execute_result",
          "data": {
            "text/plain": [
              "(50, 0.13297872340425532, [[352, 1], [4, 19]], 0.9208492139127344)"
            ]
          },
          "metadata": {
            "tags": []
          },
          "execution_count": 44
        }
      ]
    },
    {
      "cell_type": "markdown",
      "metadata": {
        "id": "WbbNORoVLxaR",
        "colab_type": "text"
      },
      "source": [
        "As we can see we can reach a DMC score of *50* which is quite good, but not outstanding.\n",
        "\n",
        "This score might be improvable by tuning the [hyperparameters](https://catboost.ai/docs/concepts/python-reference_parameters-list.html#python-reference_parameters-list) of the model."
      ]
    }
  ]
}