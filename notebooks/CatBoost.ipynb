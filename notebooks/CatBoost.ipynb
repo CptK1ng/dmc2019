{
  "nbformat": 4,
  "nbformat_minor": 0,
  "metadata": {
    "colab": {
      "name": "LightGBM.ipynb",
      "version": "0.3.2",
      "provenance": [],
      "collapsed_sections": [],
      "toc_visible": true,
      "include_colab_link": true
    },
    "kernelspec": {
      "name": "python3",
      "display_name": "Python 3"
    },
    "accelerator": "GPU"
  },
  "cells": [
    {
      "cell_type": "markdown",
      "metadata": {
        "id": "view-in-github",
        "colab_type": "text"
      },
      "source": [
        "<a href=\"https://colab.research.google.com/github/CptK1ng/dmc2019/blob/alexander_dev/notebooks/CatBoost.ipynb\" target=\"_parent\"><img src=\"https://colab.research.google.com/assets/colab-badge.svg\" alt=\"Open In Colab\"/></a>"
      ]
    },
    {
      "cell_type": "markdown",
      "metadata": {
        "id": "XM2wPFvS_kZL",
        "colab_type": "text"
      },
      "source": [
        "# CatBoost\n",
        "\n",
        "In this notebook i will test the CatBoost classificator on our data.\n",
        "\n",
        "## Installation:\n",
        "\n",
        "\n",
        "1.   `pip install numpy six catboost`\n",
        "\n",
        "2.   For Visualization: `pip install ipywidgets` and `jupyter nbextension enable --py widgetsnbextension`\n",
        "\n",
        "\n",
        "\n",
        "More details [here](https://catboost.ai/docs/concepts/python-installation.html#python-installation)"
      ]
    },
    {
      "cell_type": "code",
      "metadata": {
        "id": "ncYAHYMX_eVe",
        "colab_type": "code",
        "colab": {
          "base_uri": "https://localhost:8080/",
          "height": 154
        },
        "outputId": "975e3788-c7b4-4d66-bb53-dd819cf825f3"
      },
      "source": [
        "!pip install catboost\n",
        "import numpy as np\n",
        "import pandas as pd\n",
        "from catboost import CatBoostClassifier, Pool\n",
        "from sklearn import metrics"
      ],
      "execution_count": 1,
      "outputs": [
        {
          "output_type": "stream",
          "text": [
            "Requirement already satisfied: catboost in /usr/local/lib/python3.6/dist-packages (0.14.2)\n",
            "Requirement already satisfied: enum34 in /usr/local/lib/python3.6/dist-packages (from catboost) (1.1.6)\n",
            "Requirement already satisfied: graphviz in /usr/local/lib/python3.6/dist-packages (from catboost) (0.10.1)\n",
            "Requirement already satisfied: pandas>=0.19.1 in /usr/local/lib/python3.6/dist-packages (from catboost) (0.24.2)\n",
            "Requirement already satisfied: six in /usr/local/lib/python3.6/dist-packages (from catboost) (1.12.0)\n",
            "Requirement already satisfied: numpy>=1.11.1 in /usr/local/lib/python3.6/dist-packages (from catboost) (1.16.3)\n",
            "Requirement already satisfied: pytz>=2011k in /usr/local/lib/python3.6/dist-packages (from pandas>=0.19.1->catboost) (2018.9)\n",
            "Requirement already satisfied: python-dateutil>=2.5.0 in /usr/local/lib/python3.6/dist-packages (from pandas>=0.19.1->catboost) (2.5.3)\n"
          ],
          "name": "stdout"
        }
      ]
    },
    {
      "cell_type": "markdown",
      "metadata": {
        "id": "IROwAsVRBAKB",
        "colab_type": "text"
      },
      "source": [
        "## Data Import & Preprocessing\n",
        "Download our custom Dataset splits and the unlabeled Test Set:"
      ]
    },
    {
      "cell_type": "code",
      "metadata": {
        "id": "dP3VNoATBAPr",
        "colab_type": "code",
        "colab": {}
      },
      "source": [
        "!wget -nc -q --show-progress https://www.dropbox.com/s/6m8iq9ogpzmu7vx/train_new.csv?dl=1 -O train_new.csv\n",
        "!wget -nc -q --show-progress https://www.dropbox.com/s/tjpkc45oqn3uv8s/val_new.csv?dl=1 -O val_new.csv"
      ],
      "execution_count": 0,
      "outputs": []
    },
    {
      "cell_type": "markdown",
      "metadata": {
        "id": "Se3jClaABXXu",
        "colab_type": "text"
      },
      "source": [
        "Import data:"
      ]
    },
    {
      "cell_type": "code",
      "metadata": {
        "id": "L-Xj2lR1BXeV",
        "colab_type": "code",
        "outputId": "75ed0de8-6cf0-47a4-f3c8-c5ec71389fb4",
        "colab": {
          "base_uri": "https://localhost:8080/",
          "height": 110
        }
      },
      "source": [
        "\n",
        "df_train_original = pd.read_csv(\"train_new.csv\", sep=\"|\")\n",
        "df_val_original = pd.read_csv(\"val_new.csv\", sep=\"|\")\n",
        "df_train_original.head(2)"
      ],
      "execution_count": 3,
      "outputs": [
        {
          "output_type": "execute_result",
          "data": {
            "text/html": [
              "<div>\n",
              "<style scoped>\n",
              "    .dataframe tbody tr th:only-of-type {\n",
              "        vertical-align: middle;\n",
              "    }\n",
              "\n",
              "    .dataframe tbody tr th {\n",
              "        vertical-align: top;\n",
              "    }\n",
              "\n",
              "    .dataframe thead th {\n",
              "        text-align: right;\n",
              "    }\n",
              "</style>\n",
              "<table border=\"1\" class=\"dataframe\">\n",
              "  <thead>\n",
              "    <tr style=\"text-align: right;\">\n",
              "      <th></th>\n",
              "      <th>trustLevel</th>\n",
              "      <th>totalScanTimeInSeconds</th>\n",
              "      <th>grandTotal</th>\n",
              "      <th>lineItemVoids</th>\n",
              "      <th>scansWithoutRegistration</th>\n",
              "      <th>quantityModifications</th>\n",
              "      <th>scannedLineItemsPerSecond</th>\n",
              "      <th>valuePerSecond</th>\n",
              "      <th>lineItemVoidsPerPosition</th>\n",
              "      <th>fraud</th>\n",
              "    </tr>\n",
              "  </thead>\n",
              "  <tbody>\n",
              "    <tr>\n",
              "      <th>0</th>\n",
              "      <td>4</td>\n",
              "      <td>828</td>\n",
              "      <td>66.56</td>\n",
              "      <td>7</td>\n",
              "      <td>4</td>\n",
              "      <td>3</td>\n",
              "      <td>0.007246</td>\n",
              "      <td>0.080386</td>\n",
              "      <td>1.166667</td>\n",
              "      <td>0</td>\n",
              "    </tr>\n",
              "    <tr>\n",
              "      <th>1</th>\n",
              "      <td>1</td>\n",
              "      <td>1612</td>\n",
              "      <td>31.34</td>\n",
              "      <td>2</td>\n",
              "      <td>4</td>\n",
              "      <td>3</td>\n",
              "      <td>0.008685</td>\n",
              "      <td>0.019442</td>\n",
              "      <td>0.142857</td>\n",
              "      <td>0</td>\n",
              "    </tr>\n",
              "  </tbody>\n",
              "</table>\n",
              "</div>"
            ],
            "text/plain": [
              "   trustLevel  totalScanTimeInSeconds  grandTotal  lineItemVoids  \\\n",
              "0           4                     828       66.56              7   \n",
              "1           1                    1612       31.34              2   \n",
              "\n",
              "   scansWithoutRegistration  quantityModifications  scannedLineItemsPerSecond  \\\n",
              "0                         4                      3                   0.007246   \n",
              "1                         4                      3                   0.008685   \n",
              "\n",
              "   valuePerSecond  lineItemVoidsPerPosition  fraud  \n",
              "0        0.080386                  1.166667      0  \n",
              "1        0.019442                  0.142857      0  "
            ]
          },
          "metadata": {
            "tags": []
          },
          "execution_count": 3
        }
      ]
    },
    {
      "cell_type": "markdown",
      "metadata": {
        "id": "ibTa2NwwBdGo",
        "colab_type": "text"
      },
      "source": [
        "Feature Engineering:"
      ]
    },
    {
      "cell_type": "code",
      "metadata": {
        "id": "QmL4TlW3Bkwt",
        "colab_type": "code",
        "outputId": "2420bae9-3588-40dd-98fb-a46e5756918a",
        "colab": {
          "base_uri": "https://localhost:8080/",
          "height": 203
        }
      },
      "source": [
        "def prepareData(df):\n",
        "  df = df.copy()\n",
        "  df['totalLineItems'] = (df['scannedLineItemsPerSecond'] * df['totalScanTimeInSeconds']).astype(np.int) # number of scanned products\n",
        "  df['trustLevel'] = df.trustLevel.astype('category') # needed for automatic detection of categorical features later\n",
        "  df['fraud'] = df.fraud.astype('category') # needed for automatic detection of categorical features later\n",
        "\n",
        "  return df\n",
        "\n",
        "df_train = prepareData(df_train_original)\n",
        "df_val = prepareData(df_val_original)\n",
        "\n",
        "df_train.head()"
      ],
      "execution_count": 4,
      "outputs": [
        {
          "output_type": "execute_result",
          "data": {
            "text/html": [
              "<div>\n",
              "<style scoped>\n",
              "    .dataframe tbody tr th:only-of-type {\n",
              "        vertical-align: middle;\n",
              "    }\n",
              "\n",
              "    .dataframe tbody tr th {\n",
              "        vertical-align: top;\n",
              "    }\n",
              "\n",
              "    .dataframe thead th {\n",
              "        text-align: right;\n",
              "    }\n",
              "</style>\n",
              "<table border=\"1\" class=\"dataframe\">\n",
              "  <thead>\n",
              "    <tr style=\"text-align: right;\">\n",
              "      <th></th>\n",
              "      <th>trustLevel</th>\n",
              "      <th>totalScanTimeInSeconds</th>\n",
              "      <th>grandTotal</th>\n",
              "      <th>lineItemVoids</th>\n",
              "      <th>scansWithoutRegistration</th>\n",
              "      <th>quantityModifications</th>\n",
              "      <th>scannedLineItemsPerSecond</th>\n",
              "      <th>valuePerSecond</th>\n",
              "      <th>lineItemVoidsPerPosition</th>\n",
              "      <th>fraud</th>\n",
              "      <th>totalLineItems</th>\n",
              "    </tr>\n",
              "  </thead>\n",
              "  <tbody>\n",
              "    <tr>\n",
              "      <th>0</th>\n",
              "      <td>4</td>\n",
              "      <td>828</td>\n",
              "      <td>66.56</td>\n",
              "      <td>7</td>\n",
              "      <td>4</td>\n",
              "      <td>3</td>\n",
              "      <td>0.007246</td>\n",
              "      <td>0.080386</td>\n",
              "      <td>1.166667</td>\n",
              "      <td>0</td>\n",
              "      <td>5</td>\n",
              "    </tr>\n",
              "    <tr>\n",
              "      <th>1</th>\n",
              "      <td>1</td>\n",
              "      <td>1612</td>\n",
              "      <td>31.34</td>\n",
              "      <td>2</td>\n",
              "      <td>4</td>\n",
              "      <td>3</td>\n",
              "      <td>0.008685</td>\n",
              "      <td>0.019442</td>\n",
              "      <td>0.142857</td>\n",
              "      <td>0</td>\n",
              "      <td>13</td>\n",
              "    </tr>\n",
              "    <tr>\n",
              "      <th>2</th>\n",
              "      <td>3</td>\n",
              "      <td>848</td>\n",
              "      <td>52.37</td>\n",
              "      <td>2</td>\n",
              "      <td>4</td>\n",
              "      <td>0</td>\n",
              "      <td>0.022406</td>\n",
              "      <td>0.061757</td>\n",
              "      <td>0.105263</td>\n",
              "      <td>0</td>\n",
              "      <td>19</td>\n",
              "    </tr>\n",
              "    <tr>\n",
              "      <th>3</th>\n",
              "      <td>1</td>\n",
              "      <td>321</td>\n",
              "      <td>76.03</td>\n",
              "      <td>8</td>\n",
              "      <td>7</td>\n",
              "      <td>2</td>\n",
              "      <td>0.071651</td>\n",
              "      <td>0.236854</td>\n",
              "      <td>0.347826</td>\n",
              "      <td>0</td>\n",
              "      <td>22</td>\n",
              "    </tr>\n",
              "    <tr>\n",
              "      <th>4</th>\n",
              "      <td>1</td>\n",
              "      <td>660</td>\n",
              "      <td>6.06</td>\n",
              "      <td>3</td>\n",
              "      <td>7</td>\n",
              "      <td>1</td>\n",
              "      <td>0.027273</td>\n",
              "      <td>0.009182</td>\n",
              "      <td>0.166667</td>\n",
              "      <td>0</td>\n",
              "      <td>18</td>\n",
              "    </tr>\n",
              "  </tbody>\n",
              "</table>\n",
              "</div>"
            ],
            "text/plain": [
              "  trustLevel  totalScanTimeInSeconds  grandTotal  lineItemVoids  \\\n",
              "0          4                     828       66.56              7   \n",
              "1          1                    1612       31.34              2   \n",
              "2          3                     848       52.37              2   \n",
              "3          1                     321       76.03              8   \n",
              "4          1                     660        6.06              3   \n",
              "\n",
              "   scansWithoutRegistration  quantityModifications  scannedLineItemsPerSecond  \\\n",
              "0                         4                      3                   0.007246   \n",
              "1                         4                      3                   0.008685   \n",
              "2                         4                      0                   0.022406   \n",
              "3                         7                      2                   0.071651   \n",
              "4                         7                      1                   0.027273   \n",
              "\n",
              "   valuePerSecond  lineItemVoidsPerPosition fraud  totalLineItems  \n",
              "0        0.080386                  1.166667     0               5  \n",
              "1        0.019442                  0.142857     0              13  \n",
              "2        0.061757                  0.105263     0              19  \n",
              "3        0.236854                  0.347826     0              22  \n",
              "4        0.009182                  0.166667     0              18  "
            ]
          },
          "metadata": {
            "tags": []
          },
          "execution_count": 4
        }
      ]
    },
    {
      "cell_type": "markdown",
      "metadata": {
        "id": "wwyoAgglB4uU",
        "colab_type": "text"
      },
      "source": [
        "## Using CatBoost\n",
        "[Documentation](https://catboost.ai/docs/concepts/python-quickstart.html)\n",
        "\n",
        "\n",
        "### Read Data\n",
        "[Pool](https://catboost.ai/docs/concepts/python-reference_pool.html#python-reference_pool)\n"
      ]
    },
    {
      "cell_type": "code",
      "metadata": {
        "id": "67LiqvcrB9Vp",
        "colab_type": "code",
        "colab": {}
      },
      "source": [
        "train_pool = Pool(df_train.drop('fraud', axis=1), df_train['fraud'])\n",
        "validation_pool = Pool(df_val.drop('fraud', axis=1), label=df_val['fraud'])"
      ],
      "execution_count": 0,
      "outputs": []
    },
    {
      "cell_type": "markdown",
      "metadata": {
        "id": "43YIgKFqHawG",
        "colab_type": "text"
      },
      "source": [
        "### Train\n",
        "[Classifier Parameters](https://catboost.ai/docs/concepts/python-reference_parameters-list.html#python-reference_parameters-list), [loss functions](https://catboost.ai/docs/concepts/loss-functions-classification.html), [fit](https://catboost.ai/docs/concepts/python-reference_catboostclassifier_fit.html)\n",
        "\n",
        "\n",
        "**TODO**: [Custom metric](https://catboost.ai/docs/concepts/python-usages-examples.html#custom-loss-function-eval-metric)"
      ]
    },
    {
      "cell_type": "code",
      "metadata": {
        "id": "qOKiLWE-HbF0",
        "colab_type": "code",
        "outputId": "02e9c346-d2a9-4656-ee29-312e4ccd11a0",
        "colab": {
          "base_uri": "https://localhost:8080/",
          "height": 154
        }
      },
      "source": [
        "model = CatBoostClassifier(iterations=70000, #1000000, # number of iterations, tested more but 70.000 is enough, early stopping does not work properly\n",
        "                           depth=2,\n",
        "                           learning_rate=1, #automatically detect\n",
        "                           loss_function='Logloss',\n",
        "                           early_stopping_rounds=10,\n",
        "                           #one_hot_max_size=6,\n",
        "                           verbose=10000) # print training accuracy every x iterations\n",
        "# train the model\n",
        "model.fit(train_pool) #, eval_set=validation_pool)\n",
        "model.save_model(\"catbboostmodel.cbm\")"
      ],
      "execution_count": 6,
      "outputs": [
        {
          "output_type": "stream",
          "text": [
            "0:\tlearn: 0.1466787\ttotal: 67ms\tremaining: 1h 18m 10s\n",
            "10000:\tlearn: 0.0000589\ttotal: 1m\tremaining: 6m 3s\n",
            "20000:\tlearn: 0.0000571\ttotal: 1m 58s\tremaining: 4m 56s\n",
            "30000:\tlearn: 0.0000551\ttotal: 2m 57s\tremaining: 3m 56s\n",
            "40000:\tlearn: 0.0000551\ttotal: 3m 57s\tremaining: 2m 57s\n",
            "50000:\tlearn: 0.0000551\ttotal: 4m 58s\tremaining: 1m 59s\n",
            "60000:\tlearn: 0.0000546\ttotal: 5m 59s\tremaining: 59.9s\n",
            "69999:\tlearn: 0.0000546\ttotal: 7m 1s\tremaining: 0us\n"
          ],
          "name": "stdout"
        }
      ]
    },
    {
      "cell_type": "markdown",
      "metadata": {
        "id": "jqCo0XXhHprr",
        "colab_type": "text"
      },
      "source": [
        "### Test"
      ]
    },
    {
      "cell_type": "code",
      "metadata": {
        "id": "URkMl6wIHofZ",
        "colab_type": "code",
        "outputId": "fe136af3-f0f8-45af-c809-06968ca5478d",
        "colab": {
          "base_uri": "https://localhost:8080/",
          "height": 51
        }
      },
      "source": [
        "# make the prediction using the resulting model\n",
        "#ypred = model.predict(validation_pool)\n",
        "ypred_proba = model.predict_proba(validation_pool).T[1]\n",
        "\n",
        "print(ypred_proba[0:5])"
      ],
      "execution_count": 7,
      "outputs": [
        {
          "output_type": "stream",
          "text": [
            "[4.44269916e-06 4.25368357e-12 9.95164769e-13 8.97002963e-07\n",
            " 1.66799220e-13]\n"
          ],
          "name": "stdout"
        }
      ]
    },
    {
      "cell_type": "markdown",
      "metadata": {
        "id": "-y3gdvLCImLk",
        "colab_type": "text"
      },
      "source": [
        "## Evaluation\n",
        "### Convert class propabilites to binary classes\n",
        "see [issue](https://github.com/CptK1ng/dmc2019/issues/9#issuecomment-485343221) for calculating threshold."
      ]
    },
    {
      "cell_type": "code",
      "metadata": {
        "id": "uyqifvwhKyvp",
        "colab_type": "code",
        "outputId": "c5bb0726-89be-4b69-c829-f13e5c851e3f",
        "colab": {
          "base_uri": "https://localhost:8080/",
          "height": 34
        }
      },
      "source": [
        "classification_treshold = 25/35\n",
        "\n",
        "ypred = np.where(ypred_proba <= classification_treshold, 0, 1)\n",
        "\n",
        "print(ypred[0:5])"
      ],
      "execution_count": 8,
      "outputs": [
        {
          "output_type": "stream",
          "text": [
            "[0 0 0 0 0]\n"
          ],
          "name": "stdout"
        }
      ]
    },
    {
      "cell_type": "markdown",
      "metadata": {
        "id": "p-fUtHNzKyzs",
        "colab_type": "text"
      },
      "source": [
        "### Calc DMC score"
      ]
    },
    {
      "cell_type": "code",
      "metadata": {
        "id": "fAUoCmGlIhrn",
        "colab_type": "code",
        "outputId": "695a192c-d720-4d79-f190-817d89aa2473",
        "colab": {
          "base_uri": "https://localhost:8080/",
          "height": 34
        }
      },
      "source": [
        "def score_function(y_true, y_pred):\n",
        "  dmc = np.sum(metrics.confusion_matrix(y_true, y_pred)*np.array([[0, -25],[ -5, 5]])) #sklearn gives [[tn,fp],[fn,tp]]\n",
        "  return (#0 if all(y_pred == 0) else metrics.fbeta_score(y_true, y_pred, beta=2),\n",
        "          dmc, \n",
        "          dmc/len(y_pred), #comparable relative score, the higher the better.\n",
        "          metrics.confusion_matrix(y_true, y_pred).tolist(),\n",
        "          0 if all(y_pred == 0) else metrics.fbeta_score(y_true, y_pred, beta=0.5172))\n",
        "\n",
        "score_function(df_val['fraud'].values, ypred)"
      ],
      "execution_count": 9,
      "outputs": [
        {
          "output_type": "execute_result",
          "data": {
            "text/plain": [
              "(50, 0.13297872340425532, [[352, 1], [4, 19]], 0.9208492139127344)"
            ]
          },
          "metadata": {
            "tags": []
          },
          "execution_count": 9
        }
      ]
    },
    {
      "cell_type": "markdown",
      "metadata": {
        "id": "WbbNORoVLxaR",
        "colab_type": "text"
      },
      "source": [
        "As we can see we can reach a DMC score of *50* which is quite good, but not outstanding.\n",
        "\n",
        "This score might be improvable by tuning the [hyperparameters](https://catboost.ai/docs/concepts/python-reference_parameters-list.html#python-reference_parameters-list) of the model."
      ]
    }
  ]
}