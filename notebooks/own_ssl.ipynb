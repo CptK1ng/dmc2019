{
 "cells": [
  {
   "cell_type": "code",
   "execution_count": 1,
   "metadata": {},
   "outputs": [],
   "source": [
    "import os\n",
    "# ggf muss Pfad angepasst werden\n",
    "os.chdir(\"{}/..\".format(os.getcwd()))\n",
    "os.getcwd()\n",
    "import pandas as pd\n",
    "import numpy as np\n",
    "from sklearn import model_selection, linear_model, metrics, svm\n",
    "from scipy.stats import uniform, randint\n",
    "from sklearn.model_selection import cross_validate\n",
    "import xgboost as xgb\n",
    "from sklearn.preprocessing import MinMaxScaler"
   ]
  },
  {
   "cell_type": "code",
   "execution_count": 2,
   "metadata": {},
   "outputs": [],
   "source": [
    "%run notebooks/utils.ipynb"
   ]
  },
  {
   "cell_type": "markdown",
   "metadata": {},
   "source": [
    "## Load Data"
   ]
  },
  {
   "cell_type": "code",
   "execution_count": 3,
   "metadata": {},
   "outputs": [],
   "source": [
    "df_t_train = pd.read_csv(\"data/train_new.csv\", sep=\"|\")\n",
    "df_t_val = pd.read_csv(\"data/val_new.csv\", sep=\"|\")\n",
    "df_test = pd.read_csv(\"data/test.csv\", sep=\"|\")\n",
    "\n",
    "df_t_train = add_new_features(df_t_train)\n",
    "df_t_val = add_new_features(df_t_val)\n",
    "df_test = add_new_features(df_test)"
   ]
  },
  {
   "cell_type": "markdown",
   "metadata": {},
   "source": [
    "## Create Input x and labels y"
   ]
  },
  {
   "cell_type": "code",
   "execution_count": 4,
   "metadata": {},
   "outputs": [],
   "source": [
    "my_scaler = MinMaxScaler()\n",
    "\n",
    "train_y = df_t_train.fraud\n",
    "train_x = df_t_train.drop(columns=['fraud'])\n",
    "\n",
    "val_y = df_t_val.fraud\n",
    "val_x = df_t_val.drop(columns=['fraud'])\n",
    "\n",
    "df_test_x = df_test"
   ]
  },
  {
   "cell_type": "markdown",
   "metadata": {},
   "source": [
    "## Scale for SVM\n"
   ]
  },
  {
   "cell_type": "code",
   "execution_count": 5,
   "metadata": {},
   "outputs": [
    {
     "name": "stderr",
     "output_type": "stream",
     "text": [
      "/usr/local/lib/python3.7/dist-packages/sklearn/preprocessing/data.py:334: DataConversionWarning: Data with input dtype int64, float64 were all converted to float64 by MinMaxScaler.\n",
      "  return self.partial_fit(X, y)\n"
     ]
    }
   ],
   "source": [
    "my_scaler = MinMaxScaler()\n",
    "my_scaler.fit(train_x.append(df_test, sort=False))\n",
    "\n",
    "train_x_scaled = scale_dataframe(train_x,my_scaler)\n",
    "tmp_train = scale_dataframe(train_x,my_scaler)\n",
    "tmp_train['fraud'] = train_y\n",
    "\n",
    "val_x_scaled = scale_dataframe(val_x,my_scaler)\n",
    "tmp_val = scale_dataframe(val_x,my_scaler)\n",
    "tmp_val['fraud'] = val_y\n",
    "df_test_x_scaled = scale_dataframe(df_test,my_scaler)"
   ]
  },
  {
   "cell_type": "markdown",
   "metadata": {},
   "source": [
    "## Define Classifiers"
   ]
  },
  {
   "cell_type": "code",
   "execution_count": 6,
   "metadata": {},
   "outputs": [],
   "source": [
    "linear_svc = svm.SVC(C=56.98164719395536, cache_size=8000, class_weight=None, coef0=0.0, \\\n",
    "                     decision_function_shape='ovr', degree=3, gamma='auto_deprecated', \\\n",
    "                     kernel='linear', max_iter=-1, probability=True, random_state=None, shrinking=True, tol=0.002848504943774676, verbose=0)\n",
    "\n",
    "xgb = xgb.XGBClassifier(base_score=0.5, booster='gbtree', colsample_bylevel=1,\n",
    "       colsample_bytree=1, disable_default_eval_metric=1,\n",
    "       eta=0.1769182150877735, eval_metric='aucpr',\n",
    "       gamma=1.8285912697052542,\n",
    "       learning_rate=0.1, max_bin=254, max_delta_step=7.2556696256684035,\n",
    "       max_depth=3, min_child_weight=1.0317712458399741, missing=None,\n",
    "       n_estimators=445, n_jobs=-1, nthread=None,\n",
    "       objective='binary:logistic', random_state=0, reg_alpha=0,\n",
    "       reg_lambda=1, scale_pos_weight=1, seed=None, silent=True,\n",
    "       subsample=1, tree_method='gpu_hist', verbosity=2)"
   ]
  },
  {
   "cell_type": "code",
   "execution_count": 17,
   "metadata": {},
   "outputs": [
    {
     "name": "stdout",
     "output_type": "stream",
     "text": [
      "Results Fix Split: \n",
      "DMC Score: 70  ---  Normalized DMC Score: 0.18617021276595744, \n",
      "\n",
      "Results Cross Validation: \n",
      "DMC Score: 55.0  ---  Normalized DMC Score: 0.1462836879432624 \n"
     ]
    }
   ],
   "source": [
    "res = test_classification(linear_svc, tmp_train, tmp_val)"
   ]
  },
  {
   "cell_type": "code",
   "execution_count": 12,
   "metadata": {},
   "outputs": [
    {
     "name": "stdout",
     "output_type": "stream",
     "text": [
      "Results Fix Split: \n",
      "DMC Score: 15  ---  Normalized DMC Score: 0.0398936170212766, \n",
      "\n",
      "Results Cross Validation: \n",
      "DMC Score: 47.0  ---  Normalized DMC Score: 0.125 \n"
     ]
    }
   ],
   "source": [
    "res2 = test_classification(xgb, df_t_train, df_t_val)"
   ]
  },
  {
   "cell_type": "code",
   "execution_count": 18,
   "metadata": {},
   "outputs": [],
   "source": [
    "df1 = res['dataframe']\n",
    "df2 = res2['dataframe']"
   ]
  },
  {
   "cell_type": "code",
   "execution_count": 19,
   "metadata": {},
   "outputs": [
    {
     "data": {
      "text/html": [
       "<div>\n",
       "<style scoped>\n",
       "    .dataframe tbody tr th:only-of-type {\n",
       "        vertical-align: middle;\n",
       "    }\n",
       "\n",
       "    .dataframe tbody tr th {\n",
       "        vertical-align: top;\n",
       "    }\n",
       "\n",
       "    .dataframe thead th {\n",
       "        text-align: right;\n",
       "    }\n",
       "</style>\n",
       "<table border=\"1\" class=\"dataframe\">\n",
       "  <thead>\n",
       "    <tr style=\"text-align: right;\">\n",
       "      <th></th>\n",
       "      <th>trustLevel</th>\n",
       "      <th>totalScanTimeInSeconds</th>\n",
       "      <th>grandTotal</th>\n",
       "      <th>lineItemVoids</th>\n",
       "      <th>scansWithoutRegistration</th>\n",
       "      <th>quantityModifications</th>\n",
       "      <th>scannedLineItemsPerSecond</th>\n",
       "      <th>valuePerSecond</th>\n",
       "      <th>lineItemVoidsPerPosition</th>\n",
       "      <th>totalScannedItems</th>\n",
       "      <th>fraud</th>\n",
       "      <th>prediction</th>\n",
       "      <th>probablity</th>\n",
       "    </tr>\n",
       "  </thead>\n",
       "  <tbody>\n",
       "    <tr>\n",
       "      <th>97</th>\n",
       "      <td>0.4</td>\n",
       "      <td>0.952459</td>\n",
       "      <td>0.784278</td>\n",
       "      <td>0.818182</td>\n",
       "      <td>0.8</td>\n",
       "      <td>0.8</td>\n",
       "      <td>0.000555</td>\n",
       "      <td>0.000451</td>\n",
       "      <td>0.027273</td>\n",
       "      <td>1.000000</td>\n",
       "      <td>0</td>\n",
       "      <td>1</td>\n",
       "      <td>0.563</td>\n",
       "    </tr>\n",
       "    <tr>\n",
       "      <th>312</th>\n",
       "      <td>0.2</td>\n",
       "      <td>0.797814</td>\n",
       "      <td>0.398240</td>\n",
       "      <td>0.545455</td>\n",
       "      <td>0.9</td>\n",
       "      <td>0.2</td>\n",
       "      <td>0.000552</td>\n",
       "      <td>0.000273</td>\n",
       "      <td>0.021818</td>\n",
       "      <td>0.827586</td>\n",
       "      <td>1</td>\n",
       "      <td>0</td>\n",
       "      <td>0.622</td>\n",
       "    </tr>\n",
       "    <tr>\n",
       "      <th>353</th>\n",
       "      <td>0.0</td>\n",
       "      <td>0.503825</td>\n",
       "      <td>0.726273</td>\n",
       "      <td>0.454545</td>\n",
       "      <td>0.9</td>\n",
       "      <td>0.6</td>\n",
       "      <td>0.000740</td>\n",
       "      <td>0.000789</td>\n",
       "      <td>0.021645</td>\n",
       "      <td>0.689655</td>\n",
       "      <td>1</td>\n",
       "      <td>0</td>\n",
       "      <td>0.581</td>\n",
       "    </tr>\n",
       "  </tbody>\n",
       "</table>\n",
       "</div>"
      ],
      "text/plain": [
       "     trustLevel  totalScanTimeInSeconds  grandTotal  lineItemVoids  \\\n",
       "97          0.4                0.952459    0.784278       0.818182   \n",
       "312         0.2                0.797814    0.398240       0.545455   \n",
       "353         0.0                0.503825    0.726273       0.454545   \n",
       "\n",
       "     scansWithoutRegistration  quantityModifications  \\\n",
       "97                        0.8                    0.8   \n",
       "312                       0.9                    0.2   \n",
       "353                       0.9                    0.6   \n",
       "\n",
       "     scannedLineItemsPerSecond  valuePerSecond  lineItemVoidsPerPosition  \\\n",
       "97                    0.000555        0.000451                  0.027273   \n",
       "312                   0.000552        0.000273                  0.021818   \n",
       "353                   0.000740        0.000789                  0.021645   \n",
       "\n",
       "     totalScannedItems  fraud  prediction  probablity  \n",
       "97            1.000000      0           1       0.563  \n",
       "312           0.827586      1           0       0.622  \n",
       "353           0.689655      1           0       0.581  "
      ]
     },
     "execution_count": 19,
     "metadata": {},
     "output_type": "execute_result"
    }
   ],
   "source": [
    "df1[(df1.prediction != df1.fraud)]"
   ]
  },
  {
   "cell_type": "code",
   "execution_count": 16,
   "metadata": {},
   "outputs": [
    {
     "data": {
      "text/html": [
       "<div>\n",
       "<style scoped>\n",
       "    .dataframe tbody tr th:only-of-type {\n",
       "        vertical-align: middle;\n",
       "    }\n",
       "\n",
       "    .dataframe tbody tr th {\n",
       "        vertical-align: top;\n",
       "    }\n",
       "\n",
       "    .dataframe thead th {\n",
       "        text-align: right;\n",
       "    }\n",
       "</style>\n",
       "<table border=\"1\" class=\"dataframe\">\n",
       "  <thead>\n",
       "    <tr style=\"text-align: right;\">\n",
       "      <th></th>\n",
       "      <th>trustLevel</th>\n",
       "      <th>totalScanTimeInSeconds</th>\n",
       "      <th>grandTotal</th>\n",
       "      <th>lineItemVoids</th>\n",
       "      <th>scansWithoutRegistration</th>\n",
       "      <th>quantityModifications</th>\n",
       "      <th>scannedLineItemsPerSecond</th>\n",
       "      <th>valuePerSecond</th>\n",
       "      <th>lineItemVoidsPerPosition</th>\n",
       "      <th>fraud</th>\n",
       "      <th>totalScannedItems</th>\n",
       "      <th>prediction</th>\n",
       "      <th>probablity</th>\n",
       "    </tr>\n",
       "  </thead>\n",
       "  <tbody>\n",
       "    <tr>\n",
       "      <th>87</th>\n",
       "      <td>1</td>\n",
       "      <td>1486</td>\n",
       "      <td>57.13</td>\n",
       "      <td>4</td>\n",
       "      <td>1</td>\n",
       "      <td>1</td>\n",
       "      <td>0.015478</td>\n",
       "      <td>0.038445</td>\n",
       "      <td>0.173913</td>\n",
       "      <td>0</td>\n",
       "      <td>23.0</td>\n",
       "      <td>1</td>\n",
       "      <td>0.539</td>\n",
       "    </tr>\n",
       "    <tr>\n",
       "      <th>97</th>\n",
       "      <td>3</td>\n",
       "      <td>1744</td>\n",
       "      <td>78.42</td>\n",
       "      <td>9</td>\n",
       "      <td>8</td>\n",
       "      <td>4</td>\n",
       "      <td>0.017202</td>\n",
       "      <td>0.044966</td>\n",
       "      <td>0.300000</td>\n",
       "      <td>0</td>\n",
       "      <td>30.0</td>\n",
       "      <td>1</td>\n",
       "      <td>0.563</td>\n",
       "    </tr>\n",
       "    <tr>\n",
       "      <th>133</th>\n",
       "      <td>2</td>\n",
       "      <td>1819</td>\n",
       "      <td>60.15</td>\n",
       "      <td>0</td>\n",
       "      <td>7</td>\n",
       "      <td>3</td>\n",
       "      <td>0.016493</td>\n",
       "      <td>0.033068</td>\n",
       "      <td>0.000000</td>\n",
       "      <td>1</td>\n",
       "      <td>30.0</td>\n",
       "      <td>0</td>\n",
       "      <td>0.713</td>\n",
       "    </tr>\n",
       "    <tr>\n",
       "      <th>176</th>\n",
       "      <td>1</td>\n",
       "      <td>1625</td>\n",
       "      <td>89.93</td>\n",
       "      <td>11</td>\n",
       "      <td>3</td>\n",
       "      <td>0</td>\n",
       "      <td>0.011692</td>\n",
       "      <td>0.055342</td>\n",
       "      <td>0.578947</td>\n",
       "      <td>1</td>\n",
       "      <td>19.0</td>\n",
       "      <td>0</td>\n",
       "      <td>0.710</td>\n",
       "    </tr>\n",
       "    <tr>\n",
       "      <th>200</th>\n",
       "      <td>1</td>\n",
       "      <td>1538</td>\n",
       "      <td>60.68</td>\n",
       "      <td>8</td>\n",
       "      <td>6</td>\n",
       "      <td>5</td>\n",
       "      <td>0.012354</td>\n",
       "      <td>0.039454</td>\n",
       "      <td>0.421053</td>\n",
       "      <td>1</td>\n",
       "      <td>19.0</td>\n",
       "      <td>0</td>\n",
       "      <td>0.724</td>\n",
       "    </tr>\n",
       "    <tr>\n",
       "      <th>208</th>\n",
       "      <td>2</td>\n",
       "      <td>1641</td>\n",
       "      <td>51.34</td>\n",
       "      <td>10</td>\n",
       "      <td>6</td>\n",
       "      <td>2</td>\n",
       "      <td>0.015235</td>\n",
       "      <td>0.031286</td>\n",
       "      <td>0.400000</td>\n",
       "      <td>1</td>\n",
       "      <td>25.0</td>\n",
       "      <td>0</td>\n",
       "      <td>0.929</td>\n",
       "    </tr>\n",
       "    <tr>\n",
       "      <th>353</th>\n",
       "      <td>1</td>\n",
       "      <td>923</td>\n",
       "      <td>72.62</td>\n",
       "      <td>5</td>\n",
       "      <td>9</td>\n",
       "      <td>3</td>\n",
       "      <td>0.022752</td>\n",
       "      <td>0.078678</td>\n",
       "      <td>0.238095</td>\n",
       "      <td>1</td>\n",
       "      <td>21.0</td>\n",
       "      <td>0</td>\n",
       "      <td>0.576</td>\n",
       "    </tr>\n",
       "  </tbody>\n",
       "</table>\n",
       "</div>"
      ],
      "text/plain": [
       "     trustLevel  totalScanTimeInSeconds  grandTotal  lineItemVoids  \\\n",
       "87            1                    1486       57.13              4   \n",
       "97            3                    1744       78.42              9   \n",
       "133           2                    1819       60.15              0   \n",
       "176           1                    1625       89.93             11   \n",
       "200           1                    1538       60.68              8   \n",
       "208           2                    1641       51.34             10   \n",
       "353           1                     923       72.62              5   \n",
       "\n",
       "     scansWithoutRegistration  quantityModifications  \\\n",
       "87                          1                      1   \n",
       "97                          8                      4   \n",
       "133                         7                      3   \n",
       "176                         3                      0   \n",
       "200                         6                      5   \n",
       "208                         6                      2   \n",
       "353                         9                      3   \n",
       "\n",
       "     scannedLineItemsPerSecond  valuePerSecond  lineItemVoidsPerPosition  \\\n",
       "87                    0.015478        0.038445                  0.173913   \n",
       "97                    0.017202        0.044966                  0.300000   \n",
       "133                   0.016493        0.033068                  0.000000   \n",
       "176                   0.011692        0.055342                  0.578947   \n",
       "200                   0.012354        0.039454                  0.421053   \n",
       "208                   0.015235        0.031286                  0.400000   \n",
       "353                   0.022752        0.078678                  0.238095   \n",
       "\n",
       "     fraud  totalScannedItems  prediction  probablity  \n",
       "87       0               23.0           1       0.539  \n",
       "97       0               30.0           1       0.563  \n",
       "133      1               30.0           0       0.713  \n",
       "176      1               19.0           0       0.710  \n",
       "200      1               19.0           0       0.724  \n",
       "208      1               25.0           0       0.929  \n",
       "353      1               21.0           0       0.576  "
      ]
     },
     "execution_count": 16,
     "metadata": {},
     "output_type": "execute_result"
    }
   ],
   "source": [
    "df2[(df2.prediction != df2.fraud)]"
   ]
  },
  {
   "cell_type": "code",
   "execution_count": null,
   "metadata": {},
   "outputs": [],
   "source": []
  }
 ],
 "metadata": {
  "kernelspec": {
   "display_name": "Python 3",
   "language": "python",
   "name": "python3"
  },
  "language_info": {
   "codemirror_mode": {
    "name": "ipython",
    "version": 3
   },
   "file_extension": ".py",
   "mimetype": "text/x-python",
   "name": "python",
   "nbconvert_exporter": "python",
   "pygments_lexer": "ipython3",
   "version": "3.7.3"
  }
 },
 "nbformat": 4,
 "nbformat_minor": 2
}
