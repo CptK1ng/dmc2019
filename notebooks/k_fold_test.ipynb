{
 "cells": [
  {
   "cell_type": "code",
   "execution_count": 1,
   "metadata": {
    "pycharm": {
     "is_executing": false,
     "metadata": false,
     "name": "#%%\n"
    }
   },
   "outputs": [],
   "source": [
    "import pandas as pd\n",
    "import seaborn as sns\n",
    "import matplotlib.pyplot as plt\n",
    "import numpy as np\n",
    "import sklearn.metrics as metrics\n",
    "from sklearn.preprocessing import StandardScaler\n",
    "from scipy.stats import uniform, randint\n",
    "from sklearn.model_selection import cross_val_score, GridSearchCV, KFold, RandomizedSearchCV, train_test_split\n",
    "import xgboost as xgb\n",
    "\n",
    "\n",
    "sns.set(style=\"whitegrid\")"
   ]
  },
  {
   "cell_type": "code",
   "execution_count": 2,
   "metadata": {
    "pycharm": {
     "is_executing": false,
     "metadata": false,
     "name": "#%% \n"
    }
   },
   "outputs": [],
   "source": [
    "df_train = pd.read_csv(\"../../data/extended_train.csv\", sep=\"|\")"
   ]
  },
  {
   "cell_type": "code",
   "execution_count": 3,
   "metadata": {
    "pycharm": {
     "is_executing": false,
     "metadata": false,
     "name": "#%%\n"
    }
   },
   "outputs": [],
   "source": [
    "def score_function(y_test, y_pred):\n",
    "  accuracy = metrics.accuracy_score(y_test, y_pred)\n",
    "  confusion_matrix = metrics.confusion_matrix(y_test, y_pred)\n",
    "  f2_score = (0 if all(y_pred == 0) else metrics.fbeta_score(y_test, y_pred, beta=2) )\n",
    "  dmc_score =  np.sum(confusion_matrix *np.array([[0, -25],[ -5, 5]]))\n",
    "  \n",
    "  return accuracy, f2_score, dmc_score, confusion_matrix"
   ]
  },
  {
   "cell_type": "code",
   "execution_count": 4,
   "metadata": {
    "pycharm": {
     "is_executing": false,
     "metadata": false,
     "name": "#%%\n"
    }
   },
   "outputs": [
    {
     "name": "stderr",
     "output_type": "stream",
     "text": [
      "/home/lukas/Projects/dmc2019/venv/lib/python3.5/site-packages/sklearn/preprocessing/data.py:645: DataConversionWarning: Data with input dtype int64, float64 were all converted to float64 by StandardScaler.\n",
      "  return self.partial_fit(X, y)\n",
      "/home/lukas/Projects/dmc2019/venv/lib/python3.5/site-packages/sklearn/base.py:464: DataConversionWarning: Data with input dtype int64, float64 were all converted to float64 by StandardScaler.\n",
      "  return self.fit(X, **fit_params).transform(X)\n"
     ]
    }
   ],
   "source": [
    "df_cpy = df_train.copy()\n",
    "scaler = StandardScaler()\n",
    "df_cpy[['trustLevel','totalScanTimeInSeconds', 'grandTotal', 'lineItemVoids', 'scansWithoutRegistration', 'quantityModifications', 'scannedLineItemsPerSecond', 'valuePerSecond', 'lineItemVoidsPerPosition', 'totalScannedLineItems']] = scaler.fit_transform(df_cpy[['trustLevel','totalScanTimeInSeconds', 'grandTotal', 'lineItemVoids', 'scansWithoutRegistration', 'quantityModifications', 'scannedLineItemsPerSecond', 'valuePerSecond', 'lineItemVoidsPerPosition', 'totalScannedLineItems']])\n",
    "y = df_cpy.fraud\n",
    "X = df_cpy.drop(['fraud'], axis=1)"
   ]
  },
  {
   "cell_type": "code",
   "execution_count": 5,
   "metadata": {
    "pycharm": {
     "is_executing": false
    }
   },
   "outputs": [
    {
     "data": {
      "text/html": [
       "<div>\n",
       "<style scoped>\n",
       "    .dataframe tbody tr th:only-of-type {\n",
       "        vertical-align: middle;\n",
       "    }\n",
       "\n",
       "    .dataframe tbody tr th {\n",
       "        vertical-align: top;\n",
       "    }\n",
       "\n",
       "    .dataframe thead th {\n",
       "        text-align: right;\n",
       "    }\n",
       "</style>\n",
       "<table border=\"1\" class=\"dataframe\">\n",
       "  <thead>\n",
       "    <tr style=\"text-align: right;\">\n",
       "      <th></th>\n",
       "      <th>trustLevel</th>\n",
       "      <th>totalScanTimeInSeconds</th>\n",
       "      <th>grandTotal</th>\n",
       "      <th>lineItemVoids</th>\n",
       "      <th>scansWithoutRegistration</th>\n",
       "      <th>quantityModifications</th>\n",
       "      <th>scannedLineItemsPerSecond</th>\n",
       "      <th>valuePerSecond</th>\n",
       "      <th>lineItemVoidsPerPosition</th>\n",
       "      <th>totalScannedLineItems</th>\n",
       "    </tr>\n",
       "  </thead>\n",
       "  <tbody>\n",
       "    <tr>\n",
       "      <th>0</th>\n",
       "      <td>0.935189</td>\n",
       "      <td>0.229898</td>\n",
       "      <td>0.132567</td>\n",
       "      <td>0.443466</td>\n",
       "      <td>-1.562415</td>\n",
       "      <td>0.280068</td>\n",
       "      <td>-0.109983</td>\n",
       "      <td>-0.120670</td>\n",
       "      <td>-0.379855</td>\n",
       "      <td>1.564236</td>\n",
       "    </tr>\n",
       "    <tr>\n",
       "      <th>1</th>\n",
       "      <td>-0.235121</td>\n",
       "      <td>-1.554996</td>\n",
       "      <td>-0.812391</td>\n",
       "      <td>-0.136202</td>\n",
       "      <td>-0.925241</td>\n",
       "      <td>0.870031</td>\n",
       "      <td>0.256761</td>\n",
       "      <td>0.041543</td>\n",
       "      <td>-0.292611</td>\n",
       "      <td>-0.158893</td>\n",
       "    </tr>\n",
       "    <tr>\n",
       "      <th>2</th>\n",
       "      <td>-0.235121</td>\n",
       "      <td>1.101590</td>\n",
       "      <td>0.390409</td>\n",
       "      <td>-0.715870</td>\n",
       "      <td>1.623453</td>\n",
       "      <td>1.459994</td>\n",
       "      <td>-0.178001</td>\n",
       "      <td>-0.129443</td>\n",
       "      <td>-0.387851</td>\n",
       "      <td>-0.273769</td>\n",
       "    </tr>\n",
       "    <tr>\n",
       "      <th>3</th>\n",
       "      <td>1.520344</td>\n",
       "      <td>1.620455</td>\n",
       "      <td>1.432490</td>\n",
       "      <td>0.733300</td>\n",
       "      <td>-0.288068</td>\n",
       "      <td>0.870031</td>\n",
       "      <td>-0.150646</td>\n",
       "      <td>-0.120957</td>\n",
       "      <td>-0.353867</td>\n",
       "      <td>1.564236</td>\n",
       "    </tr>\n",
       "    <tr>\n",
       "      <th>4</th>\n",
       "      <td>0.935189</td>\n",
       "      <td>-0.947453</td>\n",
       "      <td>1.059898</td>\n",
       "      <td>-0.715870</td>\n",
       "      <td>0.667693</td>\n",
       "      <td>-0.309895</td>\n",
       "      <td>0.016712</td>\n",
       "      <td>-0.009777</td>\n",
       "      <td>-0.478031</td>\n",
       "      <td>1.334485</td>\n",
       "    </tr>\n",
       "  </tbody>\n",
       "</table>\n",
       "</div>"
      ],
      "text/plain": [
       "   trustLevel  totalScanTimeInSeconds  grandTotal  lineItemVoids  \\\n",
       "0    0.935189                0.229898    0.132567       0.443466   \n",
       "1   -0.235121               -1.554996   -0.812391      -0.136202   \n",
       "2   -0.235121                1.101590    0.390409      -0.715870   \n",
       "3    1.520344                1.620455    1.432490       0.733300   \n",
       "4    0.935189               -0.947453    1.059898      -0.715870   \n",
       "\n",
       "   scansWithoutRegistration  quantityModifications  scannedLineItemsPerSecond  \\\n",
       "0                 -1.562415               0.280068                  -0.109983   \n",
       "1                 -0.925241               0.870031                   0.256761   \n",
       "2                  1.623453               1.459994                  -0.178001   \n",
       "3                 -0.288068               0.870031                  -0.150646   \n",
       "4                  0.667693              -0.309895                   0.016712   \n",
       "\n",
       "   valuePerSecond  lineItemVoidsPerPosition  totalScannedLineItems  \n",
       "0       -0.120670                 -0.379855               1.564236  \n",
       "1        0.041543                 -0.292611              -0.158893  \n",
       "2       -0.129443                 -0.387851              -0.273769  \n",
       "3       -0.120957                 -0.353867               1.564236  \n",
       "4       -0.009777                 -0.478031               1.334485  "
      ]
     },
     "execution_count": 5,
     "metadata": {},
     "output_type": "execute_result"
    }
   ],
   "source": [
    "X.head()"
   ]
  },
  {
   "cell_type": "code",
   "execution_count": 6,
   "metadata": {},
   "outputs": [
    {
     "data": {
      "text/plain": [
       "0    0\n",
       "1    0\n",
       "2    0\n",
       "3    0\n",
       "4    0\n",
       "Name: fraud, dtype: int64"
      ]
     },
     "execution_count": 6,
     "metadata": {},
     "output_type": "execute_result"
    }
   ],
   "source": [
    "y.head()"
   ]
  },
  {
   "cell_type": "code",
   "execution_count": 7,
   "metadata": {
    "pycharm": {
     "is_executing": false,
     "metadata": false,
     "name": "#%%\n"
    }
   },
   "outputs": [],
   "source": [
    "xgb_model2 = xgb.XGBClassifier(nthread=8, objective=\"binary:logistic\", random_state=42,eval_metric=\"auc\")\n",
    "params = {\n",
    "    \"eta\": uniform(0.1, 0.7),\n",
    "    \"gamma\": uniform(0, 1),\n",
    "    \"learning_rate\": uniform(0.03, 0.3),  # default 0.1\n",
    "    \"max_depth\": randint(2, 8),  # default 3\n",
    "    \"n_estimators\": randint(100, 400),  # default 100\n",
    "    \"subsample\": uniform(0.6, 0.4),\n",
    "    \"lambda\" : uniform(1e-3, 1),\n",
    "\"colsample_bytree\" : uniform(0.1,0.9)\n",
    "}"
   ]
  },
  {
   "cell_type": "code",
   "execution_count": 8,
   "metadata": {
    "pycharm": {
     "is_executing": false,
     "metadata": false,
     "name": "#%%\n"
    }
   },
   "outputs": [],
   "source": [
    "def display_scores(scores):\n",
    "    print(\"Scores: {0}\\nMean: {1:.3f}\\nStd: {2:.3f}\".format(scores, np.mean(scores), np.std(scores)))\n",
    "\n",
    "\n",
    "\n",
    "def report_best_scores(results, n_top=3):\n",
    "    for i in range(1, n_top + 1):\n",
    "        candidates = np.flatnonzero(results['rank_test_score'] == i)\n",
    "        for candidate in candidates:\n",
    "            print(\"Model with rank: {0}\".format(i))\n",
    "            print(\"Mean validation score: {0:.3f} (std: {1:.3f})\".format(\n",
    "                  results['mean_test_score'][candidate],\n",
    "                  results['std_test_score'][candidate]))\n",
    "            print(\"Parameters: {0}\".format(results['params'][candidate]))\n",
    "            print(\"\")\n"
   ]
  },
  {
   "cell_type": "code",
   "execution_count": 9,
   "metadata": {
    "pycharm": {
     "is_executing": false
    }
   },
   "outputs": [
    {
     "name": "stdout",
     "output_type": "stream",
     "text": [
      "Fitting 3 folds for each of 200 candidates, totalling 600 fits\n"
     ]
    },
    {
     "name": "stderr",
     "output_type": "stream",
     "text": [
      "[Parallel(n_jobs=12)]: Using backend LokyBackend with 12 concurrent workers.\n",
      "[Parallel(n_jobs=12)]: Done  26 tasks      | elapsed:  1.3min\n",
      "[Parallel(n_jobs=12)]: Done 176 tasks      | elapsed:  7.0min\n",
      "[Parallel(n_jobs=12)]: Done 426 tasks      | elapsed: 16.3min\n"
     ]
    },
    {
     "name": "stdout",
     "output_type": "stream",
     "text": [
      "Model with rank: 1\n",
      "Mean validation score: 0.871 (std: 0.064)\n",
      "Parameters: {'learning_rate': 0.18176660366533978, 'subsample': 0.8904382344249603, 'gamma': 0.1533514031160802, 'max_depth': 2, 'eta': 0.7630983377282706, 'colsample_bytree': 0.5158052232797194, 'lambda': 0.5872298320167972, 'n_estimators': 210}\n",
      "\n",
      "Model with rank: 1\n",
      "Mean validation score: 0.871 (std: 0.064)\n",
      "Parameters: {'learning_rate': 0.10446793282714556, 'subsample': 0.7675701798018192, 'gamma': 0.03284667024343835, 'max_depth': 2, 'eta': 0.510947756895597, 'colsample_bytree': 0.9266092524453711, 'lambda': 0.9137494628791288, 'n_estimators': 279}\n",
      "\n",
      "Model with rank: 3\n",
      "Mean validation score: 0.870 (std: 0.042)\n",
      "Parameters: {'learning_rate': 0.17543351014510383, 'subsample': 0.8966747776914662, 'gamma': 0.4710654526938144, 'max_depth': 2, 'eta': 0.7897571185692143, 'colsample_bytree': 0.6091989579699044, 'lambda': 0.18310713882158325, 'n_estimators': 113}\n",
      "\n"
     ]
    },
    {
     "name": "stderr",
     "output_type": "stream",
     "text": [
      "[Parallel(n_jobs=12)]: Done 600 out of 600 | elapsed: 22.7min finished\n",
      "/home/lukas/Projects/dmc2019/venv/lib/python3.5/site-packages/sklearn/model_selection/_search.py:841: DeprecationWarning: The default of the `iid` parameter will change from True to False in version 0.22 and will be removed in 0.24. This will change numeric results when test-set sizes are unequal.\n",
      "  DeprecationWarning)\n"
     ]
    }
   ],
   "source": [
    "ftwo_scorer = metrics.make_scorer(metrics.fbeta_score, beta=3)\n",
    "search = RandomizedSearchCV(xgb_model2, scoring=ftwo_scorer, param_distributions=params, random_state=42, n_iter=200,\n",
    "                            cv=3, verbose=1, n_jobs=12, return_train_score=True)\n",
    "search.fit(X, y)\n",
    "\n",
    "report_best_scores(search.cv_results_, 3)"
   ]
  },
  {
   "cell_type": "code",
   "execution_count": 10,
   "metadata": {
    "pycharm": {
     "metadata": false,
     "name": "#%%\n"
    }
   },
   "outputs": [
    {
     "name": "stdout",
     "output_type": "stream",
     "text": [
      "Fitting 3 folds for each of 200 candidates, totalling 600 fits\n"
     ]
    },
    {
     "name": "stderr",
     "output_type": "stream",
     "text": [
      "[Parallel(n_jobs=12)]: Using backend LokyBackend with 12 concurrent workers.\n",
      "[Parallel(n_jobs=12)]: Done  26 tasks      | elapsed:  1.2min\n",
      "[Parallel(n_jobs=12)]: Done 176 tasks      | elapsed:  7.0min\n",
      "[Parallel(n_jobs=12)]: Done 426 tasks      | elapsed: 16.3min\n"
     ]
    },
    {
     "name": "stdout",
     "output_type": "stream",
     "text": [
      "Model with rank: 1\n",
      "Mean validation score: 0.877 (std: 0.054)\n",
      "Parameters: {'learning_rate': 0.18176660366533978, 'subsample': 0.8904382344249603, 'gamma': 0.1533514031160802, 'max_depth': 2, 'eta': 0.7630983377282706, 'colsample_bytree': 0.5158052232797194, 'lambda': 0.5872298320167972, 'n_estimators': 210}\n",
      "\n",
      "Model with rank: 1\n",
      "Mean validation score: 0.877 (std: 0.054)\n",
      "Parameters: {'learning_rate': 0.10446793282714556, 'subsample': 0.7675701798018192, 'gamma': 0.03284667024343835, 'max_depth': 2, 'eta': 0.510947756895597, 'colsample_bytree': 0.9266092524453711, 'lambda': 0.9137494628791288, 'n_estimators': 279}\n",
      "\n",
      "Model with rank: 3\n",
      "Mean validation score: 0.876 (std: 0.034)\n",
      "Parameters: {'learning_rate': 0.17543351014510383, 'subsample': 0.8966747776914662, 'gamma': 0.4710654526938144, 'max_depth': 2, 'eta': 0.7897571185692143, 'colsample_bytree': 0.6091989579699044, 'lambda': 0.18310713882158325, 'n_estimators': 113}\n",
      "\n"
     ]
    },
    {
     "name": "stderr",
     "output_type": "stream",
     "text": [
      "[Parallel(n_jobs=12)]: Done 600 out of 600 | elapsed: 22.8min finished\n",
      "/home/lukas/Projects/dmc2019/venv/lib/python3.5/site-packages/sklearn/model_selection/_search.py:841: DeprecationWarning: The default of the `iid` parameter will change from True to False in version 0.22 and will be removed in 0.24. This will change numeric results when test-set sizes are unequal.\n",
      "  DeprecationWarning)\n"
     ]
    }
   ],
   "source": [
    "ftwo_scorer = metrics.make_scorer(metrics.fbeta_score, beta=2)\n",
    "search = RandomizedSearchCV(xgb_model2, scoring=ftwo_scorer, param_distributions=params, random_state=42, n_iter=200,\n",
    "                            cv=3, verbose=1, n_jobs=12, return_train_score=True)\n",
    "search.fit(X, y)\n",
    "\n",
    "report_best_scores(search.cv_results_, 3)\n"
   ]
  },
  {
   "cell_type": "code",
   "execution_count": null,
   "metadata": {},
   "outputs": [],
   "source": []
  }
 ],
 "metadata": {
  "kernelspec": {
   "display_name": "Python 3",
   "language": "python",
   "name": "python3"
  },
  "language_info": {
   "codemirror_mode": {
    "name": "ipython",
    "version": 3
   },
   "file_extension": ".py",
   "mimetype": "text/x-python",
   "name": "python",
   "nbconvert_exporter": "python",
   "pygments_lexer": "ipython3",
   "version": "3.5.2"
  },
  "stem_cell": {
   "cell_type": "raw",
   "metadata": {
    "pycharm": {
     "metadata": false
    }
   },
   "source": ""
  }
 },
 "nbformat": 4,
 "nbformat_minor": 1
}
