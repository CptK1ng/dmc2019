{
  "nbformat": 4,
  "nbformat_minor": 0,
  "metadata": {
    "colab": {
      "name": "EDA.ipynb",
      "version": "0.3.2",
      "provenance": [],
      "toc_visible": true,
      "include_colab_link": true
    },
    "language_info": {
      "codemirror_mode": {
        "name": "ipython",
        "version": 3
      },
      "file_extension": ".py",
      "mimetype": "text/x-python",
      "name": "python",
      "nbconvert_exporter": "python",
      "pygments_lexer": "ipython3",
      "version": "3.7.3"
    },
    "kernelspec": {
      "display_name": "Python 3",
      "language": "python",
      "name": "python3"
    },
    "accelerator": "GPU"
  },
  "cells": [
    {
      "cell_type": "markdown",
      "metadata": {
        "id": "view-in-github",
        "colab_type": "text"
      },
      "source": [
        "<a href=\"https://colab.research.google.com/github/CptK1ng/dmc2019/blob/alexander_dev/notebooks/semisupervised_learning_hard_cut.ipynb\" target=\"_parent\"><img src=\"https://colab.research.google.com/assets/colab-badge.svg\" alt=\"Open In Colab\"/></a>"
      ]
    },
    {
      "metadata": {
        "colab_type": "text",
        "id": "hZdo8Tl0fXb2"
      },
      "cell_type": "markdown",
      "source": [
        "# Semi Supervised Learning using the hard cut\n",
        "by Alexander\n",
        "\n",
        "we will say all trustLevel >2 are no frauds."
      ]
    },
    {
      "metadata": {
        "colab_type": "code",
        "id": "BwIvIe_ffXEE",
        "colab": {}
      },
      "cell_type": "code",
      "source": [
        "import pandas as pd\n",
        "import numpy as np\n",
        "from sklearn import metrics\n",
        "from sklearn.ensemble import AdaBoostClassifier\n",
        "from sklearn.tree import DecisionTreeClassifier\n",
        "import matplotlib.pyplot as plt\n",
        "import time as time\n",
        "%matplotlib inline"
      ],
      "execution_count": 0,
      "outputs": []
    },
    {
      "metadata": {
        "colab_type": "text",
        "id": "8ZkZjgCzjjiZ"
      },
      "cell_type": "markdown",
      "source": [
        "Download our custom Dataset splits and the unlabeled Test Set:"
      ]
    },
    {
      "metadata": {
        "colab_type": "code",
        "id": "8RCQLJMdgWbO",
        "colab": {}
      },
      "cell_type": "code",
      "source": [
        "!wget -nc -q --show-progress https://www.dropbox.com/s/6m8iq9ogpzmu7vx/train_new.csv?dl=1 -O train_new.csv\n",
        "!wget -nc -q --show-progress https://www.dropbox.com/s/tjpkc45oqn3uv8s/val_new.csv?dl=1 -O val_new.csv\n",
        "!wget -nc -q --show-progress https://www.dropbox.com/s/hbd6nzgwlnevu4x/test.csv?dl=1 -O test.csv"
      ],
      "execution_count": 0,
      "outputs": []
    },
    {
      "metadata": {
        "colab_type": "text",
        "id": "cAb2HKAIgU61"
      },
      "cell_type": "markdown",
      "source": [
        "Import Data:"
      ]
    },
    {
      "metadata": {
        "colab_type": "code",
        "id": "J1FZN5BKjfSU",
        "outputId": "a443965f-4b92-448c-a5b1-dcdd46844333",
        "colab": {
          "base_uri": "https://localhost:8080/",
          "height": 110
        }
      },
      "cell_type": "code",
      "source": [
        "df_train_original = pd.read_csv(\"train_new.csv\", sep=\"|\")\n",
        "df_val_original = pd.read_csv(\"val_new.csv\", sep=\"|\")\n",
        "df_test_original = pd.read_csv(\"test.csv\", sep=\"|\")\n",
        "df_train_original.head(2)"
      ],
      "execution_count": 35,
      "outputs": [
        {
          "output_type": "execute_result",
          "data": {
            "text/html": [
              "<div>\n",
              "<style scoped>\n",
              "    .dataframe tbody tr th:only-of-type {\n",
              "        vertical-align: middle;\n",
              "    }\n",
              "\n",
              "    .dataframe tbody tr th {\n",
              "        vertical-align: top;\n",
              "    }\n",
              "\n",
              "    .dataframe thead th {\n",
              "        text-align: right;\n",
              "    }\n",
              "</style>\n",
              "<table border=\"1\" class=\"dataframe\">\n",
              "  <thead>\n",
              "    <tr style=\"text-align: right;\">\n",
              "      <th></th>\n",
              "      <th>trustLevel</th>\n",
              "      <th>totalScanTimeInSeconds</th>\n",
              "      <th>grandTotal</th>\n",
              "      <th>lineItemVoids</th>\n",
              "      <th>scansWithoutRegistration</th>\n",
              "      <th>quantityModifications</th>\n",
              "      <th>scannedLineItemsPerSecond</th>\n",
              "      <th>valuePerSecond</th>\n",
              "      <th>lineItemVoidsPerPosition</th>\n",
              "      <th>fraud</th>\n",
              "    </tr>\n",
              "  </thead>\n",
              "  <tbody>\n",
              "    <tr>\n",
              "      <th>0</th>\n",
              "      <td>4</td>\n",
              "      <td>828</td>\n",
              "      <td>66.56</td>\n",
              "      <td>7</td>\n",
              "      <td>4</td>\n",
              "      <td>3</td>\n",
              "      <td>0.007246</td>\n",
              "      <td>0.080386</td>\n",
              "      <td>1.166667</td>\n",
              "      <td>0</td>\n",
              "    </tr>\n",
              "    <tr>\n",
              "      <th>1</th>\n",
              "      <td>1</td>\n",
              "      <td>1612</td>\n",
              "      <td>31.34</td>\n",
              "      <td>2</td>\n",
              "      <td>4</td>\n",
              "      <td>3</td>\n",
              "      <td>0.008685</td>\n",
              "      <td>0.019442</td>\n",
              "      <td>0.142857</td>\n",
              "      <td>0</td>\n",
              "    </tr>\n",
              "  </tbody>\n",
              "</table>\n",
              "</div>"
            ],
            "text/plain": [
              "   trustLevel  totalScanTimeInSeconds  grandTotal  lineItemVoids  \\\n",
              "0           4                     828       66.56              7   \n",
              "1           1                    1612       31.34              2   \n",
              "\n",
              "   scansWithoutRegistration  quantityModifications  scannedLineItemsPerSecond  \\\n",
              "0                         4                      3                   0.007246   \n",
              "1                         4                      3                   0.008685   \n",
              "\n",
              "   valuePerSecond  lineItemVoidsPerPosition  fraud  \n",
              "0        0.080386                  1.166667      0  \n",
              "1        0.019442                  0.142857      0  "
            ]
          },
          "metadata": {
            "tags": []
          },
          "execution_count": 35
        }
      ]
    },
    {
      "metadata": {
        "colab_type": "text",
        "id": "Zg4C1iL9QCQE"
      },
      "cell_type": "markdown",
      "source": [
        "## Feature Engineering"
      ]
    },
    {
      "metadata": {
        "colab_type": "code",
        "id": "IxXhVitoQFTe",
        "outputId": "ccce754c-3020-46d2-bc14-986961f0e7cf",
        "colab": {
          "base_uri": "https://localhost:8080/",
          "height": 203
        }
      },
      "cell_type": "code",
      "source": [
        "def prepareData(df):\n",
        "  df = df.copy()\n",
        "  df['totalLineItems'] = df['scannedLineItemsPerSecond'] * df['totalScanTimeInSeconds'] #nur of scanned products\n",
        "  return df\n",
        "\n",
        "df_train = prepareData(df_train_original)\n",
        "df_val = prepareData(df_val_original)\n",
        "df_test = prepareData(df_test_original)\n",
        "\n",
        "df_train.head()"
      ],
      "execution_count": 36,
      "outputs": [
        {
          "output_type": "execute_result",
          "data": {
            "text/html": [
              "<div>\n",
              "<style scoped>\n",
              "    .dataframe tbody tr th:only-of-type {\n",
              "        vertical-align: middle;\n",
              "    }\n",
              "\n",
              "    .dataframe tbody tr th {\n",
              "        vertical-align: top;\n",
              "    }\n",
              "\n",
              "    .dataframe thead th {\n",
              "        text-align: right;\n",
              "    }\n",
              "</style>\n",
              "<table border=\"1\" class=\"dataframe\">\n",
              "  <thead>\n",
              "    <tr style=\"text-align: right;\">\n",
              "      <th></th>\n",
              "      <th>trustLevel</th>\n",
              "      <th>totalScanTimeInSeconds</th>\n",
              "      <th>grandTotal</th>\n",
              "      <th>lineItemVoids</th>\n",
              "      <th>scansWithoutRegistration</th>\n",
              "      <th>quantityModifications</th>\n",
              "      <th>scannedLineItemsPerSecond</th>\n",
              "      <th>valuePerSecond</th>\n",
              "      <th>lineItemVoidsPerPosition</th>\n",
              "      <th>fraud</th>\n",
              "      <th>totalLineItems</th>\n",
              "    </tr>\n",
              "  </thead>\n",
              "  <tbody>\n",
              "    <tr>\n",
              "      <th>0</th>\n",
              "      <td>4</td>\n",
              "      <td>828</td>\n",
              "      <td>66.56</td>\n",
              "      <td>7</td>\n",
              "      <td>4</td>\n",
              "      <td>3</td>\n",
              "      <td>0.007246</td>\n",
              "      <td>0.080386</td>\n",
              "      <td>1.166667</td>\n",
              "      <td>0</td>\n",
              "      <td>6.0</td>\n",
              "    </tr>\n",
              "    <tr>\n",
              "      <th>1</th>\n",
              "      <td>1</td>\n",
              "      <td>1612</td>\n",
              "      <td>31.34</td>\n",
              "      <td>2</td>\n",
              "      <td>4</td>\n",
              "      <td>3</td>\n",
              "      <td>0.008685</td>\n",
              "      <td>0.019442</td>\n",
              "      <td>0.142857</td>\n",
              "      <td>0</td>\n",
              "      <td>14.0</td>\n",
              "    </tr>\n",
              "    <tr>\n",
              "      <th>2</th>\n",
              "      <td>3</td>\n",
              "      <td>848</td>\n",
              "      <td>52.37</td>\n",
              "      <td>2</td>\n",
              "      <td>4</td>\n",
              "      <td>0</td>\n",
              "      <td>0.022406</td>\n",
              "      <td>0.061757</td>\n",
              "      <td>0.105263</td>\n",
              "      <td>0</td>\n",
              "      <td>19.0</td>\n",
              "    </tr>\n",
              "    <tr>\n",
              "      <th>3</th>\n",
              "      <td>1</td>\n",
              "      <td>321</td>\n",
              "      <td>76.03</td>\n",
              "      <td>8</td>\n",
              "      <td>7</td>\n",
              "      <td>2</td>\n",
              "      <td>0.071651</td>\n",
              "      <td>0.236854</td>\n",
              "      <td>0.347826</td>\n",
              "      <td>0</td>\n",
              "      <td>23.0</td>\n",
              "    </tr>\n",
              "    <tr>\n",
              "      <th>4</th>\n",
              "      <td>1</td>\n",
              "      <td>660</td>\n",
              "      <td>6.06</td>\n",
              "      <td>3</td>\n",
              "      <td>7</td>\n",
              "      <td>1</td>\n",
              "      <td>0.027273</td>\n",
              "      <td>0.009182</td>\n",
              "      <td>0.166667</td>\n",
              "      <td>0</td>\n",
              "      <td>18.0</td>\n",
              "    </tr>\n",
              "  </tbody>\n",
              "</table>\n",
              "</div>"
            ],
            "text/plain": [
              "   trustLevel  totalScanTimeInSeconds  grandTotal  lineItemVoids  \\\n",
              "0           4                     828       66.56              7   \n",
              "1           1                    1612       31.34              2   \n",
              "2           3                     848       52.37              2   \n",
              "3           1                     321       76.03              8   \n",
              "4           1                     660        6.06              3   \n",
              "\n",
              "   scansWithoutRegistration  quantityModifications  scannedLineItemsPerSecond  \\\n",
              "0                         4                      3                   0.007246   \n",
              "1                         4                      3                   0.008685   \n",
              "2                         4                      0                   0.022406   \n",
              "3                         7                      2                   0.071651   \n",
              "4                         7                      1                   0.027273   \n",
              "\n",
              "   valuePerSecond  lineItemVoidsPerPosition  fraud  totalLineItems  \n",
              "0        0.080386                  1.166667      0             6.0  \n",
              "1        0.019442                  0.142857      0            14.0  \n",
              "2        0.061757                  0.105263      0            19.0  \n",
              "3        0.236854                  0.347826      0            23.0  \n",
              "4        0.009182                  0.166667      0            18.0  "
            ]
          },
          "metadata": {
            "tags": []
          },
          "execution_count": 36
        }
      ]
    },
    {
      "metadata": {
        "colab_type": "text",
        "id": "kJ3RS4y8P69r"
      },
      "cell_type": "markdown",
      "source": [
        "## Add rows to train and split X and Y"
      ]
    },
    {
      "metadata": {
        "colab_type": "code",
        "id": "W8Zx4xDCpn9n",
        "outputId": "b79b33e0-454c-455a-c2ee-a0ca212dbd39",
        "colab": {
          "base_uri": "https://localhost:8080/",
          "height": 34
        }
      },
      "cell_type": "code",
      "source": [
        "# Extract High Trust Level Entries and set their fraud level to 0\n",
        "df_test_extract = df_test[df_test_X.trustLevel > 2].copy()\n",
        "df_test_extract[\"fraud\"] = 0\n",
        "df_train_new = pd.concat([df_train, df_test_extract], sort=False)\n",
        "\n",
        "# Splitting the final dataset into internal training and testing datasets\n",
        "df_train_X = df_train.drop('fraud', axis=1)\n",
        "df_train_y = df_train['fraud']\n",
        "df_train_new_X = df_train_new.drop('fraud', axis=1)\n",
        "df_train_new_y = df_train_new['fraud']\n",
        "df_val_X = df_val.drop('fraud', axis=1)\n",
        "df_val_y = df_val['fraud']\n",
        "\n",
        "X_train, X_val, X_train_new, y_train, y_val, y_train_new = df_train_X.values, df_val_X.values, df_train_new_X.values, df_train_y.values, df_val_y.values, df_train_new_y.values\n",
        "print(\"Shapes\",X_train.shape, X_val.shape, X_train_new.shape, y_train.shape, y_val.shape, y_train_new.shape)"
      ],
      "execution_count": 37,
      "outputs": [
        {
          "output_type": "stream",
          "text": [
            "Shapes (1503, 10) (376, 10) (333998, 10) (1503,) (376,) (333998,)\n"
          ],
          "name": "stdout"
        }
      ]
    },
    {
      "metadata": {
        "colab_type": "text",
        "id": "g_24sukxplja"
      },
      "cell_type": "markdown",
      "source": [
        "## Simple Classificator\n"
      ]
    },
    {
      "metadata": {
        "colab_type": "code",
        "id": "VxK__sj3p7MS",
        "colab": {}
      },
      "cell_type": "code",
      "source": [
        "def score_function(y_true, y_pred):\n",
        "  dmc = np.sum(metrics.confusion_matrix(y_true, y_pred)*np.array([[0, -25],[ -5, 5]])) #sklearn gives [[tn,fp],[fn,tp]]\n",
        "  return (0 if all(y_pred == 0) else metrics.fbeta_score(y_true, y_pred, beta=2),\n",
        "          dmc, \n",
        "          dmc/len(y_pred), #comparable relative score, the higher the better.\n",
        "          metrics.confusion_matrix(y_true, y_pred).tolist())"
      ],
      "execution_count": 0,
      "outputs": []
    },
    {
      "metadata": {
        "colab_type": "text",
        "id": "eKG66tvLPzhh"
      },
      "cell_type": "markdown",
      "source": [
        "##  Classify labels for validation set on original training set"
      ]
    },
    {
      "metadata": {
        "colab_type": "code",
        "id": "z68iBle7P2q5",
        "outputId": "aba0e1a7-fe0a-49a7-9849-8f7fc5ebf984",
        "colab": {
          "base_uri": "https://localhost:8080/",
          "height": 34
        }
      },
      "cell_type": "code",
      "source": [
        "classifier_adb = AdaBoostClassifier(base_estimator=DecisionTreeClassifier(max_depth=3), n_estimators=500, algorithm='SAMME', random_state=1)\n",
        "\n",
        "# Fitting the model and printing the accuracy score\n",
        "classifier_adb.fit(X_train, y_train)\n",
        "print(\"AdaBoost\", \"\\t\", score_function(y_val, classifier_adb.predict(X_val)) )"
      ],
      "execution_count": 39,
      "outputs": [
        {
          "output_type": "stream",
          "text": [
            "AdaBoost \t (0.8771929824561403, 35, 0.09308510638297872, [[351, 2], [3, 20]])\n"
          ],
          "name": "stdout"
        }
      ]
    },
    {
      "metadata": {
        "colab_type": "text",
        "id": "48vwHF3ZtMJ8"
      },
      "cell_type": "markdown",
      "source": [
        "##  Classify labels for validation set on new training set"
      ]
    },
    {
      "metadata": {
        "colab_type": "code",
        "id": "SusiRpJBtP2m",
        "outputId": "0b73e4fb-5e7c-4b87-aefc-db7b50f1f300",
        "colab": {
          "base_uri": "https://localhost:8080/",
          "height": 34
        }
      },
      "cell_type": "code",
      "source": [
        "classifier_adb = AdaBoostClassifier(base_estimator=DecisionTreeClassifier(max_depth=3), n_estimators=500, algorithm='SAMME', random_state=1)\n",
        "\n",
        "# Fitting the model and printing the accuracy score\n",
        "classifier_adb.fit(X_train_new, y_train_new)\n",
        "print(\"AdaBoost\", \"\\t\", score_function(y_val, classifier_adb.predict(X_val)) )"
      ],
      "execution_count": 40,
      "outputs": [
        {
          "output_type": "stream",
          "text": [
            "AdaBoost \t (0.8482142857142857, 50, 0.13297872340425532, [[352, 1], [4, 19]])\n"
          ],
          "name": "stdout"
        }
      ]
    },
    {
      "metadata": {
        "id": "Y1GHJrLxYcDg",
        "colab_type": "text"
      },
      "cell_type": "markdown",
      "source": [
        "As we can see, this helped the prediction to improve from 9.3% to 13% DMC Score."
      ]
    }
  ]
}