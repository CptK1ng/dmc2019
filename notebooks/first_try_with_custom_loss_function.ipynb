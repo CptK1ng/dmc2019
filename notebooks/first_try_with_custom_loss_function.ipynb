{
 "cells": [
  {
   "cell_type": "code",
   "execution_count": 42,
   "metadata": {},
   "outputs": [],
   "source": [
    "import numpy as np\n",
    "import pandas as pd\n",
    "from sklearn.model_selection import train_test_split\n",
    "import sklearn.metrics as metrics\n",
    "import matplotlib.pyplot as plt"
   ]
  },
  {
   "cell_type": "code",
   "execution_count": 8,
   "metadata": {},
   "outputs": [
    {
     "data": {
      "text/html": [
       "<div>\n",
       "<style scoped>\n",
       "    .dataframe tbody tr th:only-of-type {\n",
       "        vertical-align: middle;\n",
       "    }\n",
       "\n",
       "    .dataframe tbody tr th {\n",
       "        vertical-align: top;\n",
       "    }\n",
       "\n",
       "    .dataframe thead th {\n",
       "        text-align: right;\n",
       "    }\n",
       "</style>\n",
       "<table border=\"1\" class=\"dataframe\">\n",
       "  <thead>\n",
       "    <tr style=\"text-align: right;\">\n",
       "      <th></th>\n",
       "      <th>trustLevel</th>\n",
       "      <th>totalScanTimeInSeconds</th>\n",
       "      <th>grandTotal</th>\n",
       "      <th>lineItemVoids</th>\n",
       "      <th>scansWithoutRegistration</th>\n",
       "      <th>quantityModifications</th>\n",
       "      <th>scannedLineItemsPerSecond</th>\n",
       "      <th>valuePerSecond</th>\n",
       "      <th>lineItemVoidsPerPosition</th>\n",
       "      <th>fraud</th>\n",
       "    </tr>\n",
       "  </thead>\n",
       "  <tbody>\n",
       "    <tr>\n",
       "      <th>0</th>\n",
       "      <td>4</td>\n",
       "      <td>828</td>\n",
       "      <td>66.56</td>\n",
       "      <td>7</td>\n",
       "      <td>4</td>\n",
       "      <td>3</td>\n",
       "      <td>0.007246</td>\n",
       "      <td>0.080386</td>\n",
       "      <td>1.166667</td>\n",
       "      <td>0</td>\n",
       "    </tr>\n",
       "    <tr>\n",
       "      <th>1</th>\n",
       "      <td>1</td>\n",
       "      <td>1612</td>\n",
       "      <td>31.34</td>\n",
       "      <td>2</td>\n",
       "      <td>4</td>\n",
       "      <td>3</td>\n",
       "      <td>0.008685</td>\n",
       "      <td>0.019442</td>\n",
       "      <td>0.142857</td>\n",
       "      <td>0</td>\n",
       "    </tr>\n",
       "    <tr>\n",
       "      <th>2</th>\n",
       "      <td>3</td>\n",
       "      <td>848</td>\n",
       "      <td>52.37</td>\n",
       "      <td>2</td>\n",
       "      <td>4</td>\n",
       "      <td>0</td>\n",
       "      <td>0.022406</td>\n",
       "      <td>0.061757</td>\n",
       "      <td>0.105263</td>\n",
       "      <td>0</td>\n",
       "    </tr>\n",
       "    <tr>\n",
       "      <th>3</th>\n",
       "      <td>1</td>\n",
       "      <td>321</td>\n",
       "      <td>76.03</td>\n",
       "      <td>8</td>\n",
       "      <td>7</td>\n",
       "      <td>2</td>\n",
       "      <td>0.071651</td>\n",
       "      <td>0.236854</td>\n",
       "      <td>0.347826</td>\n",
       "      <td>0</td>\n",
       "    </tr>\n",
       "    <tr>\n",
       "      <th>4</th>\n",
       "      <td>1</td>\n",
       "      <td>660</td>\n",
       "      <td>6.06</td>\n",
       "      <td>3</td>\n",
       "      <td>7</td>\n",
       "      <td>1</td>\n",
       "      <td>0.027273</td>\n",
       "      <td>0.009182</td>\n",
       "      <td>0.166667</td>\n",
       "      <td>0</td>\n",
       "    </tr>\n",
       "  </tbody>\n",
       "</table>\n",
       "</div>"
      ],
      "text/plain": [
       "   trustLevel  totalScanTimeInSeconds  grandTotal  lineItemVoids  \\\n",
       "0           4                     828       66.56              7   \n",
       "1           1                    1612       31.34              2   \n",
       "2           3                     848       52.37              2   \n",
       "3           1                     321       76.03              8   \n",
       "4           1                     660        6.06              3   \n",
       "\n",
       "   scansWithoutRegistration  quantityModifications  scannedLineItemsPerSecond  \\\n",
       "0                         4                      3                   0.007246   \n",
       "1                         4                      3                   0.008685   \n",
       "2                         4                      0                   0.022406   \n",
       "3                         7                      2                   0.071651   \n",
       "4                         7                      1                   0.027273   \n",
       "\n",
       "   valuePerSecond  lineItemVoidsPerPosition  fraud  \n",
       "0        0.080386                  1.166667      0  \n",
       "1        0.019442                  0.142857      0  \n",
       "2        0.061757                  0.105263      0  \n",
       "3        0.236854                  0.347826      0  \n",
       "4        0.009182                  0.166667      0  "
      ]
     },
     "execution_count": 8,
     "metadata": {},
     "output_type": "execute_result"
    }
   ],
   "source": [
    "df_train = pd.read_csv(\"../data/train_new.csv\", sep=\"|\")\n",
    "df_train_val = pd.read_csv(\"../data/val_new.csv\", sep=\"|\")\n",
    "df_train_complete = pd.read_csv(\"../data/train.csv\", sep=\"|\")\n",
    "df_test = pd.read_csv(\"../data/test.csv\", sep=\"|\")\n",
    "df_train.head()"
   ]
  },
  {
   "cell_type": "code",
   "execution_count": 9,
   "metadata": {},
   "outputs": [
    {
     "name": "stdout",
     "output_type": "stream",
     "text": [
      "Train_new size: 15030\n",
      "Train_val size: 3760\n",
      "Train_complete size: 18790\n",
      "Test size: 4483089\n"
     ]
    }
   ],
   "source": [
    "print(\"Train_new size:\", df_train.size)\n",
    "print(\"Train_val size:\", df_train_val.size)\n",
    "print(\"Train_complete size:\", df_train_complete.size)\n",
    "print(\"Test size:\", df_test.size)"
   ]
  },
  {
   "cell_type": "markdown",
   "metadata": {},
   "source": [
    "### The following cell defines our loss function, based on the table shown in the accompagning pdf"
   ]
  },
  {
   "cell_type": "code",
   "execution_count": 47,
   "metadata": {},
   "outputs": [],
   "source": [
    "def my_custom_score_function(y, y_pred):\n",
    "    loss = 0.0\n",
    "    for index, item in enumerate(y):\n",
    "        if y[index] == 0: \n",
    "            if y_pred[index] == 0:\n",
    "                loss += 0.0\n",
    "            else:\n",
    "                loss -= 25.0\n",
    "        else:\n",
    "            if y_pred[index] == 0:\n",
    "                loss -= 5.0\n",
    "            else:\n",
    "                loss += 5.0\n",
    "    return loss"
   ]
  },
  {
   "cell_type": "code",
   "execution_count": 60,
   "metadata": {},
   "outputs": [],
   "source": [
    "def custom_score_function(y, y_pred):\n",
    "    return metrics.fbeta_score(y, y_pred, beta=2)"
   ]
  },
  {
   "cell_type": "markdown",
   "metadata": {},
   "source": [
    "### Try some training below"
   ]
  },
  {
   "cell_type": "code",
   "execution_count": 61,
   "metadata": {},
   "outputs": [],
   "source": [
    "df_train_labels = df_train[\"fraud\"]\n",
    "df_train_values = df_train.drop(columns=[\"fraud\"])\n",
    "df_train_val_labels = df_train_val[\"fraud\"]\n",
    "df_train_val_values = df_train_val.drop(columns=[\"fraud\"])"
   ]
  },
  {
   "cell_type": "code",
   "execution_count": 62,
   "metadata": {},
   "outputs": [],
   "source": [
    "scorer = metrics.make_scorer(my_custom_loss_function)"
   ]
  },
  {
   "cell_type": "markdown",
   "metadata": {},
   "source": [
    "#### AdaBoostClassifier"
   ]
  },
  {
   "cell_type": "code",
   "execution_count": 69,
   "metadata": {},
   "outputs": [
    {
     "name": "stdout",
     "output_type": "stream",
     "text": [
      "DMC Score:  -140.0\n",
      "FBeta2 Score:  0.6578947368421053\n"
     ]
    }
   ],
   "source": [
    "import sklearn.ensemble as ensemble\n",
    "abc = ensemble.AdaBoostClassifier() \n",
    "abc.fit(df_train_values, df_train_labels)\n",
    "y_pred = abc.predict(df_train_val_values)\n",
    "score_dmc = my_custom_score_function(df_train_val_labels, y_pred)\n",
    "score_fbeta2 = custom_score_function(df_train_val_labels, y_pred)\n",
    "print(\"DMC Score: \", score_dmc)\n",
    "print(\"FBeta2 Score: \", score_fbeta2)"
   ]
  },
  {
   "cell_type": "markdown",
   "metadata": {},
   "source": [
    "#### Naive Bayes"
   ]
  },
  {
   "cell_type": "code",
   "execution_count": 71,
   "metadata": {},
   "outputs": [
    {
     "name": "stdout",
     "output_type": "stream",
     "text": [
      "DMC Score:  -140.0\n",
      "FBeta2 Score:  0.5833333333333333\n"
     ]
    }
   ],
   "source": [
    "import sklearn.naive_bayes as nb\n",
    "gnb = nb.GaussianNB()\n",
    "gnb.fit(df_train_values, df_train_labels)\n",
    "y_pred_gnb = gnb.predict(df_train_val_values)\n",
    "score_dmc_gnb = my_custom_score_function(df_train_val_labels, y_pred_gnb)\n",
    "score_fbeta2 = custom_score_function(df_train_val_labels, y_pred_gnb)\n",
    "print(\"DMC Score: \", score_dmc)\n",
    "print(\"FBeta2 Score: \", score_fbeta2)"
   ]
  },
  {
   "cell_type": "code",
   "execution_count": null,
   "metadata": {},
   "outputs": [],
   "source": []
  }
 ],
 "metadata": {
  "kernelspec": {
   "display_name": "Python 3",
   "language": "python",
   "name": "python3"
  },
  "language_info": {
   "codemirror_mode": {
    "name": "ipython",
    "version": 3
   },
   "file_extension": ".py",
   "mimetype": "text/x-python",
   "name": "python",
   "nbconvert_exporter": "python",
   "pygments_lexer": "ipython3",
   "version": "3.7.2"
  }
 },
 "nbformat": 4,
 "nbformat_minor": 2
}
